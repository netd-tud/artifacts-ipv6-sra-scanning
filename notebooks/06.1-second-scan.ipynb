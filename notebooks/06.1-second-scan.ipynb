{
 "cells": [
  {
   "cell_type": "code",
   "execution_count": 1,
   "id": "88767f98-7e64-4aa5-88e8-12437fe442a6",
   "metadata": {},
   "outputs": [
    {
     "name": "stderr",
     "output_type": "stream",
     "text": [
      "\u001b[32m2025-09-28 15:21:50.985\u001b[0m | \u001b[1mINFO    \u001b[0m | \u001b[36martifacts_ipv6_sra_scanning.config\u001b[0m:\u001b[36m<module>\u001b[0m:\u001b[36m22\u001b[0m - \u001b[1mPROJ_ROOT path is: /home/service/artifacts-ipv6-sra-scanning\u001b[0m\n"
     ]
    }
   ],
   "source": [
    "from artifacts_ipv6_sra_scanning.config import *\n",
    "import pickle\n",
    "import os\n",
    "import ipaddress\n",
    "import glob\n",
    "from tqdm.auto import tqdm\n",
    "import country_converter as coco\n",
    "from parallel_pandas import ParallelPandas\n",
    "ParallelPandas.initialize(n_cpu=24, split_factor=1, disable_pr_bar=False)"
   ]
  },
  {
   "cell_type": "code",
   "execution_count": 2,
   "id": "95152829-6a66-4965-9fba-5d38504e722b",
   "metadata": {},
   "outputs": [],
   "source": [
    "def load_and_join(files):\n",
    "    df = pl.DataFrame()\n",
    "    for i in tqdm(range(len(files))):\n",
    "        if df.is_empty():\n",
    "            df = pl.read_csv(files[i],columns=['saddr']).unique()\n",
    "            df = df.with_columns(inscan=True)\n",
    "        else:\n",
    "            tmp = pl.read_csv(files[i],columns=['saddr']).unique()\n",
    "            tmp = tmp.with_columns(inscan=True)\n",
    "            df = df.join(tmp,on='saddr',how='full', suffix=f'_s{i}',coalesce=True)\n",
    "    return df"
   ]
  },
  {
   "cell_type": "code",
   "execution_count": 3,
   "id": "8cbca227-f7e1-4570-b93d-ccca5135a47d",
   "metadata": {},
   "outputs": [],
   "source": [
    "file1 = '/home/service/ipv6-measurements-mkoch/backup_2024/sra-analysis/data/bgp48_sra_checks/zmap_icmp_bgp_48_sra_1728075185.log.zst'"
   ]
  },
  {
   "cell_type": "code",
   "execution_count": 4,
   "id": "02ebce63-aec5-4b26-9638-10272c9e4e2f",
   "metadata": {},
   "outputs": [],
   "source": [
    "file2 = '/home/service/ipv6-measurements-mkoch/backup_2024/sra-analysis/data/ripe90-rescan/zmap_icmp_bgp_48_sra_1740416512.log.zst'"
   ]
  },
  {
   "cell_type": "code",
   "execution_count": 5,
   "id": "0561fc6c-9ae6-44be-be9a-196c6c5d9564",
   "metadata": {},
   "outputs": [],
   "source": [
    "files = [file1,file2]"
   ]
  },
  {
   "cell_type": "code",
   "execution_count": 6,
   "id": "ac976d22-b8e1-40bf-a567-15ac79ae8205",
   "metadata": {},
   "outputs": [
    {
     "data": {
      "application/vnd.jupyter.widget-view+json": {
       "model_id": "92c6cb7986674730a368239888b99943",
       "version_major": 2,
       "version_minor": 0
      },
      "text/plain": [
       "  0%|          | 0/2 [00:00<?, ?it/s]"
      ]
     },
     "metadata": {},
     "output_type": "display_data"
    }
   ],
   "source": [
    "df = load_and_join(files)"
   ]
  },
  {
   "cell_type": "code",
   "execution_count": 7,
   "id": "a1cac664-756c-43a0-93f3-24c80e72100a",
   "metadata": {},
   "outputs": [
    {
     "data": {
      "text/html": [
       "<div><style>\n",
       ".dataframe > thead > tr,\n",
       ".dataframe > tbody > tr {\n",
       "  text-align: right;\n",
       "  white-space: pre-wrap;\n",
       "}\n",
       "</style>\n",
       "<small>shape: (6_893_680, 3)</small><table border=\"1\" class=\"dataframe\"><thead><tr><th>saddr</th><th>inscan</th><th>inscan_s1</th></tr><tr><td>str</td><td>bool</td><td>bool</td></tr></thead><tbody><tr><td>&quot;2a0a:5586:776:0:4eba:7dff:feb5…</td><td>null</td><td>true</td></tr><tr><td>&quot;240f:48:5a46:1:4eab:f8ff:fec8:…</td><td>true</td><td>true</td></tr><tr><td>&quot;2a0d:ce80:0:2:bee0:1ff:fe98:78…</td><td>null</td><td>true</td></tr><tr><td>&quot;2a02:a451:b158:0:ae64:62ff:fe6…</td><td>null</td><td>true</td></tr><tr><td>&quot;2001:4dd0:af0a:8b9d:e72:74ff:f…</td><td>null</td><td>true</td></tr><tr><td>&hellip;</td><td>&hellip;</td><td>&hellip;</td></tr><tr><td>&quot;2a00:f3b:ffa1:788f:fdc9:b805:b…</td><td>true</td><td>null</td></tr><tr><td>&quot;240e:368:140a:d8ef:ae6:3bff:fe…</td><td>true</td><td>null</td></tr><tr><td>&quot;fc00:1::24:4d01&quot;</td><td>true</td><td>null</td></tr><tr><td>&quot;2001:4dd0:af1a:ed9f:2e91:abff:…</td><td>true</td><td>null</td></tr><tr><td>&quot;2a02:a44a:1533:0:9e6f:52ff:fe3…</td><td>true</td><td>null</td></tr></tbody></table></div>"
      ],
      "text/plain": [
       "shape: (6_893_680, 3)\n",
       "┌─────────────────────────────────┬────────┬───────────┐\n",
       "│ saddr                           ┆ inscan ┆ inscan_s1 │\n",
       "│ ---                             ┆ ---    ┆ ---       │\n",
       "│ str                             ┆ bool   ┆ bool      │\n",
       "╞═════════════════════════════════╪════════╪═══════════╡\n",
       "│ 2a0a:5586:776:0:4eba:7dff:feb5… ┆ null   ┆ true      │\n",
       "│ 240f:48:5a46:1:4eab:f8ff:fec8:… ┆ true   ┆ true      │\n",
       "│ 2a0d:ce80:0:2:bee0:1ff:fe98:78… ┆ null   ┆ true      │\n",
       "│ 2a02:a451:b158:0:ae64:62ff:fe6… ┆ null   ┆ true      │\n",
       "│ 2001:4dd0:af0a:8b9d:e72:74ff:f… ┆ null   ┆ true      │\n",
       "│ …                               ┆ …      ┆ …         │\n",
       "│ 2a00:f3b:ffa1:788f:fdc9:b805:b… ┆ true   ┆ null      │\n",
       "│ 240e:368:140a:d8ef:ae6:3bff:fe… ┆ true   ┆ null      │\n",
       "│ fc00:1::24:4d01                 ┆ true   ┆ null      │\n",
       "│ 2001:4dd0:af1a:ed9f:2e91:abff:… ┆ true   ┆ null      │\n",
       "│ 2a02:a44a:1533:0:9e6f:52ff:fe3… ┆ true   ┆ null      │\n",
       "└─────────────────────────────────┴────────┴───────────┘"
      ]
     },
     "execution_count": 7,
     "metadata": {},
     "output_type": "execute_result"
    }
   ],
   "source": [
    "df"
   ]
  },
  {
   "cell_type": "code",
   "execution_count": 8,
   "id": "270412d6-ac63-4c44-a48d-9695bed57350",
   "metadata": {},
   "outputs": [
    {
     "data": {
      "text/html": [
       "<div><style>\n",
       ".dataframe > thead > tr,\n",
       ".dataframe > tbody > tr {\n",
       "  text-align: right;\n",
       "  white-space: pre-wrap;\n",
       "}\n",
       "</style>\n",
       "<small>shape: (2_293_801, 3)</small><table border=\"1\" class=\"dataframe\"><thead><tr><th>saddr</th><th>inscan</th><th>inscan_s1</th></tr><tr><td>str</td><td>bool</td><td>bool</td></tr></thead><tbody><tr><td>&quot;240f:48:5a46:1:4eab:f8ff:fec8:…</td><td>true</td><td>true</td></tr><tr><td>&quot;2a02:a446:e7be:0:8efd:deff:fe1…</td><td>true</td><td>true</td></tr><tr><td>&quot;2600:1700:41d0::1&quot;</td><td>true</td><td>true</td></tr><tr><td>&quot;2a03:7846:d7c6:100:185:12:88:1…</td><td>true</td><td>true</td></tr><tr><td>&quot;2a02:a45e:e9db:0:7e16:89ff:fef…</td><td>true</td><td>true</td></tr><tr><td>&hellip;</td><td>&hellip;</td><td>&hellip;</td></tr><tr><td>&quot;2001:4dd0:af8f:4::1497&quot;</td><td>true</td><td>true</td></tr><tr><td>&quot;240f:a9:4270:1:fe12:63ff:fe08:…</td><td>true</td><td>true</td></tr><tr><td>&quot;240f:7f:1a99:1:fe12:63ff:feb7:…</td><td>true</td><td>true</td></tr><tr><td>&quot;240f:9b:8076:1:fe12:63ff:feb2:…</td><td>true</td><td>true</td></tr><tr><td>&quot;2a02:121e:179c:1::1&quot;</td><td>true</td><td>true</td></tr></tbody></table></div>"
      ],
      "text/plain": [
       "shape: (2_293_801, 3)\n",
       "┌─────────────────────────────────┬────────┬───────────┐\n",
       "│ saddr                           ┆ inscan ┆ inscan_s1 │\n",
       "│ ---                             ┆ ---    ┆ ---       │\n",
       "│ str                             ┆ bool   ┆ bool      │\n",
       "╞═════════════════════════════════╪════════╪═══════════╡\n",
       "│ 240f:48:5a46:1:4eab:f8ff:fec8:… ┆ true   ┆ true      │\n",
       "│ 2a02:a446:e7be:0:8efd:deff:fe1… ┆ true   ┆ true      │\n",
       "│ 2600:1700:41d0::1               ┆ true   ┆ true      │\n",
       "│ 2a03:7846:d7c6:100:185:12:88:1… ┆ true   ┆ true      │\n",
       "│ 2a02:a45e:e9db:0:7e16:89ff:fef… ┆ true   ┆ true      │\n",
       "│ …                               ┆ …      ┆ …         │\n",
       "│ 2001:4dd0:af8f:4::1497          ┆ true   ┆ true      │\n",
       "│ 240f:a9:4270:1:fe12:63ff:fe08:… ┆ true   ┆ true      │\n",
       "│ 240f:7f:1a99:1:fe12:63ff:feb7:… ┆ true   ┆ true      │\n",
       "│ 240f:9b:8076:1:fe12:63ff:feb2:… ┆ true   ┆ true      │\n",
       "│ 2a02:121e:179c:1::1             ┆ true   ┆ true      │\n",
       "└─────────────────────────────────┴────────┴───────────┘"
      ]
     },
     "execution_count": 8,
     "metadata": {},
     "output_type": "execute_result"
    }
   ],
   "source": [
    "df.filter(pl.col('inscan') & pl.col('inscan_s1'))"
   ]
  },
  {
   "cell_type": "code",
   "execution_count": 9,
   "id": "5efea180-10dd-41b9-aae1-9d2dcf82d647",
   "metadata": {},
   "outputs": [
    {
     "data": {
      "text/html": [
       "<div><style>\n",
       ".dataframe > thead > tr,\n",
       ".dataframe > tbody > tr {\n",
       "  text-align: right;\n",
       "  white-space: pre-wrap;\n",
       "}\n",
       "</style>\n",
       "<small>shape: (4_061_630, 3)</small><table border=\"1\" class=\"dataframe\"><thead><tr><th>saddr</th><th>inscan</th><th>inscan_s1</th></tr><tr><td>str</td><td>bool</td><td>bool</td></tr></thead><tbody><tr><td>&quot;240f:48:5a46:1:4eab:f8ff:fec8:…</td><td>true</td><td>true</td></tr><tr><td>&quot;2a02:a446:e7be:0:8efd:deff:fe1…</td><td>true</td><td>true</td></tr><tr><td>&quot;2600:1700:41d0::1&quot;</td><td>true</td><td>true</td></tr><tr><td>&quot;2a03:7846:d7c6:100:185:12:88:1…</td><td>true</td><td>true</td></tr><tr><td>&quot;2a02:a45e:e9db:0:7e16:89ff:fef…</td><td>true</td><td>true</td></tr><tr><td>&hellip;</td><td>&hellip;</td><td>&hellip;</td></tr><tr><td>&quot;2a00:f3b:ffa1:788f:fdc9:b805:b…</td><td>true</td><td>null</td></tr><tr><td>&quot;240e:368:140a:d8ef:ae6:3bff:fe…</td><td>true</td><td>null</td></tr><tr><td>&quot;fc00:1::24:4d01&quot;</td><td>true</td><td>null</td></tr><tr><td>&quot;2001:4dd0:af1a:ed9f:2e91:abff:…</td><td>true</td><td>null</td></tr><tr><td>&quot;2a02:a44a:1533:0:9e6f:52ff:fe3…</td><td>true</td><td>null</td></tr></tbody></table></div>"
      ],
      "text/plain": [
       "shape: (4_061_630, 3)\n",
       "┌─────────────────────────────────┬────────┬───────────┐\n",
       "│ saddr                           ┆ inscan ┆ inscan_s1 │\n",
       "│ ---                             ┆ ---    ┆ ---       │\n",
       "│ str                             ┆ bool   ┆ bool      │\n",
       "╞═════════════════════════════════╪════════╪═══════════╡\n",
       "│ 240f:48:5a46:1:4eab:f8ff:fec8:… ┆ true   ┆ true      │\n",
       "│ 2a02:a446:e7be:0:8efd:deff:fe1… ┆ true   ┆ true      │\n",
       "│ 2600:1700:41d0::1               ┆ true   ┆ true      │\n",
       "│ 2a03:7846:d7c6:100:185:12:88:1… ┆ true   ┆ true      │\n",
       "│ 2a02:a45e:e9db:0:7e16:89ff:fef… ┆ true   ┆ true      │\n",
       "│ …                               ┆ …      ┆ …         │\n",
       "│ 2a00:f3b:ffa1:788f:fdc9:b805:b… ┆ true   ┆ null      │\n",
       "│ 240e:368:140a:d8ef:ae6:3bff:fe… ┆ true   ┆ null      │\n",
       "│ fc00:1::24:4d01                 ┆ true   ┆ null      │\n",
       "│ 2001:4dd0:af1a:ed9f:2e91:abff:… ┆ true   ┆ null      │\n",
       "│ 2a02:a44a:1533:0:9e6f:52ff:fe3… ┆ true   ┆ null      │\n",
       "└─────────────────────────────────┴────────┴───────────┘"
      ]
     },
     "execution_count": 9,
     "metadata": {},
     "output_type": "execute_result"
    }
   ],
   "source": [
    "df.filter(pl.col('inscan'))"
   ]
  },
  {
   "cell_type": "code",
   "execution_count": 10,
   "id": "25d63ca1-83c9-4e9d-89ed-6c901614d835",
   "metadata": {},
   "outputs": [
    {
     "data": {
      "text/plain": [
       "56.47488816066456"
      ]
     },
     "execution_count": 10,
     "metadata": {},
     "output_type": "execute_result"
    }
   ],
   "source": [
    "len(df.filter(pl.col('inscan') & pl.col('inscan_s1')))/len(df.filter(pl.col('inscan'))) *100"
   ]
  },
  {
   "cell_type": "code",
   "execution_count": null,
   "id": "b32206df-f2a5-40ee-bfac-080dfc39e0c0",
   "metadata": {},
   "outputs": [],
   "source": []
  }
 ],
 "metadata": {
  "kernelspec": {
   "display_name": "Python 3 (ipykernel)",
   "language": "python",
   "name": "python3"
  },
  "language_info": {
   "codemirror_mode": {
    "name": "ipython",
    "version": 3
   },
   "file_extension": ".py",
   "mimetype": "text/x-python",
   "name": "python",
   "nbconvert_exporter": "python",
   "pygments_lexer": "ipython3",
   "version": "3.12.11"
  }
 },
 "nbformat": 4,
 "nbformat_minor": 5
}
