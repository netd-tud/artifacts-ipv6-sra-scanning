{
 "cells": [
  {
   "cell_type": "code",
   "execution_count": 5,
   "id": "722175e0-2a5f-4166-ab34-f345234cb4b4",
   "metadata": {},
   "outputs": [],
   "source": [
    "from artifacts_ipv6_sra_scanning.config import *\n",
    "import pickle\n",
    "import os\n",
    "import ipaddress\n",
    "import glob\n",
    "from tqdm.auto import tqdm\n",
    "import country_converter as coco\n",
    "from parallel_pandas import ParallelPandas\n",
    "ParallelPandas.initialize(n_cpu=24, split_factor=1, disable_pr_bar=False)"
   ]
  },
  {
   "cell_type": "code",
   "execution_count": 6,
   "id": "e5ce2aba-786f-46f5-bd0a-cc3b4dfa3ed5",
   "metadata": {},
   "outputs": [],
   "source": [
    "files = glob.glob(f'{PROCESSED_DATA_DIR}/*-sra-AS-comparison.parquet')"
   ]
  },
  {
   "cell_type": "code",
   "execution_count": 7,
   "id": "8afddd3e-f070-4773-8832-50b43a19113d",
   "metadata": {},
   "outputs": [],
   "source": [
    "df = pl.concat([pl.scan_parquet(file) for file in files])"
   ]
  },
  {
   "cell_type": "code",
   "execution_count": 11,
   "id": "4369f92e-86ec-42cd-9238-df24b28726cd",
   "metadata": {},
   "outputs": [
    {
     "data": {
      "text/html": [
       "<div><style>\n",
       ".dataframe > thead > tr,\n",
       ".dataframe > tbody > tr {\n",
       "  text-align: right;\n",
       "  white-space: pre-wrap;\n",
       "}\n",
       "</style>\n",
       "<small>shape: (20_551, 1)</small><table border=\"1\" class=\"dataframe\"><thead><tr><th>AS-Number</th></tr><tr><td>f64</td></tr></thead><tbody><tr><td>396101.0</td></tr><tr><td>52580.0</td></tr><tr><td>197540.0</td></tr><tr><td>266951.0</td></tr><tr><td>267439.0</td></tr><tr><td>&hellip;</td></tr><tr><td>138179.0</td></tr><tr><td>52737.0</td></tr><tr><td>52907.0</td></tr><tr><td>58273.0</td></tr><tr><td>267283.0</td></tr></tbody></table></div>"
      ],
      "text/plain": [
       "shape: (20_551, 1)\n",
       "┌───────────┐\n",
       "│ AS-Number │\n",
       "│ ---       │\n",
       "│ f64       │\n",
       "╞═══════════╡\n",
       "│ 396101.0  │\n",
       "│ 52580.0   │\n",
       "│ 197540.0  │\n",
       "│ 266951.0  │\n",
       "│ 267439.0  │\n",
       "│ …         │\n",
       "│ 138179.0  │\n",
       "│ 52737.0   │\n",
       "│ 52907.0   │\n",
       "│ 58273.0   │\n",
       "│ 267283.0  │\n",
       "└───────────┘"
      ]
     },
     "execution_count": 11,
     "metadata": {},
     "output_type": "execute_result"
    }
   ],
   "source": [
    "df.select('AS-Number').unique().collect()"
   ]
  },
  {
   "cell_type": "code",
   "execution_count": 12,
   "id": "b7b0cdb6-958d-4062-a059-71d0fd6975a6",
   "metadata": {},
   "outputs": [
    {
     "data": {
      "text/html": [
       "<div><style>\n",
       ".dataframe > thead > tr,\n",
       ".dataframe > tbody > tr {\n",
       "  text-align: right;\n",
       "  white-space: pre-wrap;\n",
       "}\n",
       "</style>\n",
       "<small>shape: (15_550, 1)</small><table border=\"1\" class=\"dataframe\"><thead><tr><th>AS-Number_saddr</th></tr><tr><td>f64</td></tr></thead><tbody><tr><td>28458.0</td></tr><tr><td>268782.0</td></tr><tr><td>37356.0</td></tr><tr><td>262313.0</td></tr><tr><td>9607.0</td></tr><tr><td>&hellip;</td></tr><tr><td>47347.0</td></tr><tr><td>31371.0</td></tr><tr><td>146313.0</td></tr><tr><td>270823.0</td></tr><tr><td>269131.0</td></tr></tbody></table></div>"
      ],
      "text/plain": [
       "shape: (15_550, 1)\n",
       "┌─────────────────┐\n",
       "│ AS-Number_saddr │\n",
       "│ ---             │\n",
       "│ f64             │\n",
       "╞═════════════════╡\n",
       "│ 28458.0         │\n",
       "│ 268782.0        │\n",
       "│ 37356.0         │\n",
       "│ 262313.0        │\n",
       "│ 9607.0          │\n",
       "│ …               │\n",
       "│ 47347.0         │\n",
       "│ 31371.0         │\n",
       "│ 146313.0        │\n",
       "│ 270823.0        │\n",
       "│ 269131.0        │\n",
       "└─────────────────┘"
      ]
     },
     "execution_count": 12,
     "metadata": {},
     "output_type": "execute_result"
    }
   ],
   "source": [
    "df.select('AS-Number_saddr').unique().collect()"
   ]
  },
  {
   "cell_type": "code",
   "execution_count": null,
   "id": "ca885345-4761-411c-b9cd-f4d59d8c0c51",
   "metadata": {},
   "outputs": [],
   "source": []
  }
 ],
 "metadata": {
  "kernelspec": {
   "display_name": "Python 3 (ipykernel)",
   "language": "python",
   "name": "python3"
  },
  "language_info": {
   "codemirror_mode": {
    "name": "ipython",
    "version": 3
   },
   "file_extension": ".py",
   "mimetype": "text/x-python",
   "name": "python",
   "nbconvert_exporter": "python",
   "pygments_lexer": "ipython3",
   "version": "3.12.11"
  }
 },
 "nbformat": 4,
 "nbformat_minor": 5
}
