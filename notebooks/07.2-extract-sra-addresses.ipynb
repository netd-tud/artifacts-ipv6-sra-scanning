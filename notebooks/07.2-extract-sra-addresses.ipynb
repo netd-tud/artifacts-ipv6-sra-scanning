{
 "cells": [
  {
   "cell_type": "code",
   "execution_count": 1,
   "id": "722175e0-2a5f-4166-ab34-f345234cb4b4",
   "metadata": {},
   "outputs": [
    {
     "name": "stderr",
     "output_type": "stream",
     "text": [
      "\u001b[32m2025-10-06 14:25:07.336\u001b[0m | \u001b[1mINFO    \u001b[0m | \u001b[36martifacts_ipv6_sra_scanning.config\u001b[0m:\u001b[36m<module>\u001b[0m:\u001b[36m22\u001b[0m - \u001b[1mPROJ_ROOT path is: /home/service/artifacts-ipv6-sra-scanning\u001b[0m\n"
     ]
    }
   ],
   "source": [
    "from artifacts_ipv6_sra_scanning.config import *\n",
    "import pickle\n",
    "import os\n",
    "import ipaddress\n",
    "import glob\n",
    "from tqdm.auto import tqdm\n",
    "import country_converter as coco\n",
    "from parallel_pandas import ParallelPandas\n",
    "ParallelPandas.initialize(n_cpu=24, split_factor=1, disable_pr_bar=False)"
   ]
  },
  {
   "cell_type": "code",
   "execution_count": 2,
   "id": "5c72e194-1031-4c81-b020-2e06788f69aa",
   "metadata": {},
   "outputs": [],
   "source": [
    "df_bgp_sra_as = pl.read_csv(f'{INTERIM_DATA_DIR}/init-ips-sra-bgp48-scan.csv')"
   ]
  },
  {
   "cell_type": "code",
   "execution_count": 3,
   "id": "fc85b9d2-d172-4656-b510-3f41da451240",
   "metadata": {},
   "outputs": [],
   "source": [
    "def load_and_join(files):\n",
    "    df = pl.DataFrame()\n",
    "    for i in tqdm(range(len(files))):\n",
    "        if df.is_empty():\n",
    "            df = pl.read_csv(files[i],columns=['initial-ip','saddr']).unique(subset=['initial-ip'])\n",
    "        else:\n",
    "            tmp = pl.read_csv(files[i],columns=['initial-ip','saddr']).unique(subset=['initial-ip'])\n",
    "            df = df.join(tmp,on='initial-ip',how='left', suffix=f'_s{i}')\n",
    "    return df"
   ]
  },
  {
   "cell_type": "code",
   "execution_count": 4,
   "id": "9b85fbd2-c05a-4fa9-b7a7-a3a87887829f",
   "metadata": {},
   "outputs": [],
   "source": [
    "file1 = '/home/service/ipv6-measurements-mkoch/backup_2024/sra-analysis/data/bgp48_sra_checks/zmap_icmp_bgp_48_sra_1728075185.log.zst'"
   ]
  },
  {
   "cell_type": "code",
   "execution_count": 5,
   "id": "51769951-45a6-463d-b5e7-0764d7403755",
   "metadata": {},
   "outputs": [
    {
     "data": {
      "application/vnd.jupyter.widget-view+json": {
       "model_id": "435022707bde488d91d1e5dc23e00242",
       "version_major": 2,
       "version_minor": 0
      },
      "text/plain": [
       "  0%|          | 0/1 [00:00<?, ?it/s]"
      ]
     },
     "metadata": {},
     "output_type": "display_data"
    }
   ],
   "source": [
    "df_bgp_reply = load_and_join([file1])"
   ]
  },
  {
   "cell_type": "code",
   "execution_count": 6,
   "id": "1b72fbbc-036e-43e2-b893-59b5ef850585",
   "metadata": {},
   "outputs": [
    {
     "data": {
      "text/html": [
       "<div><style>\n",
       ".dataframe > thead > tr,\n",
       ".dataframe > tbody > tr {\n",
       "  text-align: right;\n",
       "  white-space: pre-wrap;\n",
       "}\n",
       "</style>\n",
       "<small>shape: (5, 2)</small><table border=\"1\" class=\"dataframe\"><thead><tr><th>initial-ip</th><th>saddr</th></tr><tr><td>str</td><td>str</td></tr></thead><tbody><tr><td>&quot;2a0c:ea47:ec7e::&quot;</td><td>&quot;2a0c:ea40::1&quot;</td></tr><tr><td>&quot;2a03:7f24:25fd::&quot;</td><td>&quot;2a02:7e00:5:e::2&quot;</td></tr><tr><td>&quot;2a13:3c07:6286::&quot;</td><td>&quot;2a00:6340:2040:3422::2&quot;</td></tr><tr><td>&quot;2a03:3cc0:4537::&quot;</td><td>&quot;2a02:28:1:2::6c:22&quot;</td></tr><tr><td>&quot;2a13:d9c0:b5e7::&quot;</td><td>&quot;2001:1a98:6677::9d9d:3961&quot;</td></tr></tbody></table></div>"
      ],
      "text/plain": [
       "shape: (5, 2)\n",
       "┌──────────────────┬───────────────────────────┐\n",
       "│ initial-ip       ┆ saddr                     │\n",
       "│ ---              ┆ ---                       │\n",
       "│ str              ┆ str                       │\n",
       "╞══════════════════╪═══════════════════════════╡\n",
       "│ 2a0c:ea47:ec7e:: ┆ 2a0c:ea40::1              │\n",
       "│ 2a03:7f24:25fd:: ┆ 2a02:7e00:5:e::2          │\n",
       "│ 2a13:3c07:6286:: ┆ 2a00:6340:2040:3422::2    │\n",
       "│ 2a03:3cc0:4537:: ┆ 2a02:28:1:2::6c:22        │\n",
       "│ 2a13:d9c0:b5e7:: ┆ 2001:1a98:6677::9d9d:3961 │\n",
       "└──────────────────┴───────────────────────────┘"
      ]
     },
     "execution_count": 6,
     "metadata": {},
     "output_type": "execute_result"
    }
   ],
   "source": [
    "df_bgp_reply.head()"
   ]
  },
  {
   "cell_type": "code",
   "execution_count": 7,
   "id": "c92db817-d8a1-4fdb-a00e-be41004f2025",
   "metadata": {},
   "outputs": [],
   "source": [
    "df_router_ips = pl.read_csv(f'{INTERIM_DATA_DIR}/router-ips.csv')"
   ]
  },
  {
   "cell_type": "code",
   "execution_count": 8,
   "id": "2b0babbb-c5d2-4cdb-96bf-aa5ed127d199",
   "metadata": {},
   "outputs": [
    {
     "data": {
      "text/html": [
       "<div><style>\n",
       ".dataframe > thead > tr,\n",
       ".dataframe > tbody > tr {\n",
       "  text-align: right;\n",
       "  white-space: pre-wrap;\n",
       "}\n",
       "</style>\n",
       "<small>shape: (5, 5)</small><table border=\"1\" class=\"dataframe\"><thead><tr><th>ip-addr</th><th>Geo</th><th>AS-Number</th><th>BGP-Prefix</th><th>Org</th></tr><tr><td>str</td><td>str</td><td>f64</td><td>str</td><td>str</td></tr></thead><tbody><tr><td>&quot;2402:b400:4440:53ef:c822:8bff:…</td><td>&quot;MYS&quot;</td><td>45960.0</td><td>&quot;2402:b400:4440::/46&quot;</td><td>&quot;YTLCOMMS-AS-AP YTL COMMUNICATI…</td></tr><tr><td>&quot;2003:e6:37ff:3ab2:3ea6:2fff:fe…</td><td>&quot;DEU&quot;</td><td>3320.0</td><td>&quot;2003::/19&quot;</td><td>&quot;DTAG Internet service provider…</td></tr><tr><td>&quot;2405:8d40:4081:579:1807:c46a:e…</td><td>&quot;PHL&quot;</td><td>139831.0</td><td>&quot;2405:8d40:4080::/42&quot;</td><td>&quot;DTC-AS-AP DITO TELECOMMUNITY C…</td></tr><tr><td>&quot;240e:358:9c0a:13ec:ae64:62ff:f…</td><td>&quot;CHN&quot;</td><td>4134.0</td><td>&quot;240e:358::/29&quot;</td><td>&quot;CHINANET-BACKBONE No.31,Jin-ro…</td></tr><tr><td>&quot;2408:8441:5808:10fa:1807:f6b5:…</td><td>&quot;CHN&quot;</td><td>4837.0</td><td>&quot;2408:8441::/32&quot;</td><td>&quot;CHINA169-BACKBONE CHINA UNICOM…</td></tr></tbody></table></div>"
      ],
      "text/plain": [
       "shape: (5, 5)\n",
       "┌────────────────────────────────┬─────┬───────────┬─────────────────────┬─────────────────────────┐\n",
       "│ ip-addr                        ┆ Geo ┆ AS-Number ┆ BGP-Prefix          ┆ Org                     │\n",
       "│ ---                            ┆ --- ┆ ---       ┆ ---                 ┆ ---                     │\n",
       "│ str                            ┆ str ┆ f64       ┆ str                 ┆ str                     │\n",
       "╞════════════════════════════════╪═════╪═══════════╪═════════════════════╪═════════════════════════╡\n",
       "│ 2402:b400:4440:53ef:c822:8bff: ┆ MYS ┆ 45960.0   ┆ 2402:b400:4440::/46 ┆ YTLCOMMS-AS-AP YTL      │\n",
       "│ …                              ┆     ┆           ┆                     ┆ COMMUNICATI…            │\n",
       "│ 2003:e6:37ff:3ab2:3ea6:2fff:fe ┆ DEU ┆ 3320.0    ┆ 2003::/19           ┆ DTAG Internet service   │\n",
       "│ …                              ┆     ┆           ┆                     ┆ provider…               │\n",
       "│ 2405:8d40:4081:579:1807:c46a:e ┆ PHL ┆ 139831.0  ┆ 2405:8d40:4080::/42 ┆ DTC-AS-AP DITO          │\n",
       "│ …                              ┆     ┆           ┆                     ┆ TELECOMMUNITY C…        │\n",
       "│ 240e:358:9c0a:13ec:ae64:62ff:f ┆ CHN ┆ 4134.0    ┆ 240e:358::/29       ┆ CHINANET-BACKBONE       │\n",
       "│ …                              ┆     ┆           ┆                     ┆ No.31,Jin-ro…           │\n",
       "│ 2408:8441:5808:10fa:1807:f6b5: ┆ CHN ┆ 4837.0    ┆ 2408:8441::/32      ┆ CHINA169-BACKBONE CHINA │\n",
       "│ …                              ┆     ┆           ┆                     ┆ UNICOM…                 │\n",
       "└────────────────────────────────┴─────┴───────────┴─────────────────────┴─────────────────────────┘"
      ]
     },
     "execution_count": 8,
     "metadata": {},
     "output_type": "execute_result"
    }
   ],
   "source": [
    "df_router_ips.head()"
   ]
  },
  {
   "cell_type": "code",
   "execution_count": 9,
   "id": "c5e645f6-5214-415d-acaa-4124fdfa74fc",
   "metadata": {},
   "outputs": [
    {
     "data": {
      "text/html": [
       "<div><style>\n",
       ".dataframe > thead > tr,\n",
       ".dataframe > tbody > tr {\n",
       "  text-align: right;\n",
       "  white-space: pre-wrap;\n",
       "}\n",
       "</style>\n",
       "<small>shape: (337_274_845, 5)</small><table border=\"1\" class=\"dataframe\"><thead><tr><th>initial-ip</th><th>Geo</th><th>AS-Number</th><th>BGP-Prefix</th><th>Org</th></tr><tr><td>str</td><td>str</td><td>f64</td><td>str</td><td>str</td></tr></thead><tbody><tr><td>&quot;2a0c:885:7d93::&quot;</td><td>&quot;UKR&quot;</td><td>200000.0</td><td>&quot;2a0c:880::/29&quot;</td><td>&quot;UKRAINE-AS&quot;</td></tr><tr><td>&quot;2804:7b68:7d35::&quot;</td><td>&quot;BRA&quot;</td><td>271430.0</td><td>&quot;2804:7b68::/32&quot;</td><td>&quot;SINAL NET FIBRA&quot;</td></tr><tr><td>&quot;2a14:0:469d::&quot;</td><td>&quot;DEU&quot;</td><td>216176.0</td><td>&quot;2a14::/32&quot;</td><td>&quot;AS216176&quot;</td></tr><tr><td>&quot;2804:6e4:7402::&quot;</td><td>&quot;BRA&quot;</td><td>262612.0</td><td>&quot;2804:6e4::/33&quot;</td><td>&quot;Piotr Piwowar&quot;</td></tr><tr><td>&quot;2604:14c0:7603::&quot;</td><td>&quot;USA&quot;</td><td>22121.0</td><td>&quot;2604:14c0::/32&quot;</td><td>&quot;TOPSHAM-COMMUNICATIONS&quot;</td></tr><tr><td>&hellip;</td><td>&hellip;</td><td>&hellip;</td><td>&hellip;</td><td>&hellip;</td></tr><tr><td>&quot;2804:7c74:b906::&quot;</td><td>&quot;BRA&quot;</td><td>271497.0</td><td>&quot;2804:7c74::/32&quot;</td><td>&quot;Confiber Telcomunicacoes ltda&quot;</td></tr><tr><td>&quot;2407:a080:1f4e::&quot;</td><td>&quot;AUS&quot;</td><td>133480.0</td><td>&quot;2407:a080::/32&quot;</td><td>&quot;INT-5GN-AS-AP 5G NETWORK OPERA…</td></tr><tr><td>&quot;2a02:d5f:d896::&quot;</td><td>&quot;CHE&quot;</td><td>44919.0</td><td>&quot;2a02:d58::/29&quot;</td><td>&quot;EQIPE&quot;</td></tr><tr><td>&quot;2a0d:c044:c422::&quot;</td><td>&quot;POL&quot;</td><td>210081.0</td><td>&quot;2a0d:c040::/29&quot;</td><td>&quot;WISNIOWSKI-&quot;</td></tr><tr><td>&quot;2a13:ccc1:e08e::&quot;</td><td>&quot;DEU&quot;</td><td>47526.0</td><td>&quot;2a13:ccc1::/32&quot;</td><td>&quot;HANDILY-NETWORKS handily netwo…</td></tr></tbody></table></div>"
      ],
      "text/plain": [
       "shape: (337_274_845, 5)\n",
       "┌──────────────────┬─────┬───────────┬────────────────┬─────────────────────────────────┐\n",
       "│ initial-ip       ┆ Geo ┆ AS-Number ┆ BGP-Prefix     ┆ Org                             │\n",
       "│ ---              ┆ --- ┆ ---       ┆ ---            ┆ ---                             │\n",
       "│ str              ┆ str ┆ f64       ┆ str            ┆ str                             │\n",
       "╞══════════════════╪═════╪═══════════╪════════════════╪═════════════════════════════════╡\n",
       "│ 2a0c:885:7d93::  ┆ UKR ┆ 200000.0  ┆ 2a0c:880::/29  ┆ UKRAINE-AS                      │\n",
       "│ 2804:7b68:7d35:: ┆ BRA ┆ 271430.0  ┆ 2804:7b68::/32 ┆ SINAL NET FIBRA                 │\n",
       "│ 2a14:0:469d::    ┆ DEU ┆ 216176.0  ┆ 2a14::/32      ┆ AS216176                        │\n",
       "│ 2804:6e4:7402::  ┆ BRA ┆ 262612.0  ┆ 2804:6e4::/33  ┆ Piotr Piwowar                   │\n",
       "│ 2604:14c0:7603:: ┆ USA ┆ 22121.0   ┆ 2604:14c0::/32 ┆ TOPSHAM-COMMUNICATIONS          │\n",
       "│ …                ┆ …   ┆ …         ┆ …              ┆ …                               │\n",
       "│ 2804:7c74:b906:: ┆ BRA ┆ 271497.0  ┆ 2804:7c74::/32 ┆ Confiber Telcomunicacoes ltda   │\n",
       "│ 2407:a080:1f4e:: ┆ AUS ┆ 133480.0  ┆ 2407:a080::/32 ┆ INT-5GN-AS-AP 5G NETWORK OPERA… │\n",
       "│ 2a02:d5f:d896::  ┆ CHE ┆ 44919.0   ┆ 2a02:d58::/29  ┆ EQIPE                           │\n",
       "│ 2a0d:c044:c422:: ┆ POL ┆ 210081.0  ┆ 2a0d:c040::/29 ┆ WISNIOWSKI-                     │\n",
       "│ 2a13:ccc1:e08e:: ┆ DEU ┆ 47526.0   ┆ 2a13:ccc1::/32 ┆ HANDILY-NETWORKS handily netwo… │\n",
       "└──────────────────┴─────┴───────────┴────────────────┴─────────────────────────────────┘"
      ]
     },
     "execution_count": 9,
     "metadata": {},
     "output_type": "execute_result"
    }
   ],
   "source": [
    "df_bgp_sra_as"
   ]
  },
  {
   "cell_type": "code",
   "execution_count": 10,
   "id": "800cd8f4-d8e0-4ec2-b1dd-596f902eb3cc",
   "metadata": {},
   "outputs": [],
   "source": [
    "tmp = df_bgp_sra_as.join(df_bgp_reply,how='left',on='initial-ip')"
   ]
  },
  {
   "cell_type": "code",
   "execution_count": 11,
   "id": "cbd87e78-e8a4-4546-bc78-a484601fcddb",
   "metadata": {},
   "outputs": [
    {
     "data": {
      "text/html": [
       "<div><style>\n",
       ".dataframe > thead > tr,\n",
       ".dataframe > tbody > tr {\n",
       "  text-align: right;\n",
       "  white-space: pre-wrap;\n",
       "}\n",
       "</style>\n",
       "<small>shape: (337_274_845, 6)</small><table border=\"1\" class=\"dataframe\"><thead><tr><th>initial-ip</th><th>Geo</th><th>AS-Number</th><th>BGP-Prefix</th><th>Org</th><th>saddr</th></tr><tr><td>str</td><td>str</td><td>f64</td><td>str</td><td>str</td><td>str</td></tr></thead><tbody><tr><td>&quot;2a0c:885:7d93::&quot;</td><td>&quot;UKR&quot;</td><td>200000.0</td><td>&quot;2a0c:880::/29&quot;</td><td>&quot;UKRAINE-AS&quot;</td><td>&quot;2001:67c:2070:b901::b&quot;</td></tr><tr><td>&quot;2804:7b68:7d35::&quot;</td><td>&quot;BRA&quot;</td><td>271430.0</td><td>&quot;2804:7b68::/32&quot;</td><td>&quot;SINAL NET FIBRA&quot;</td><td>&quot;2804:c84:10:101::2e&quot;</td></tr><tr><td>&quot;2a14:0:469d::&quot;</td><td>&quot;DEU&quot;</td><td>216176.0</td><td>&quot;2a14::/32&quot;</td><td>&quot;AS216176&quot;</td><td>&quot;2001:19f0:6c00:18b2:5400:4ff:f…</td></tr><tr><td>&quot;2804:6e4:7402::&quot;</td><td>&quot;BRA&quot;</td><td>262612.0</td><td>&quot;2804:6e4::/33&quot;</td><td>&quot;Piotr Piwowar&quot;</td><td>&quot;2804:6e4:1::5&quot;</td></tr><tr><td>&quot;2604:14c0:7603::&quot;</td><td>&quot;USA&quot;</td><td>22121.0</td><td>&quot;2604:14c0::/32&quot;</td><td>&quot;TOPSHAM-COMMUNICATIONS&quot;</td><td>&quot;2607:ffc8:0:6::10&quot;</td></tr><tr><td>&hellip;</td><td>&hellip;</td><td>&hellip;</td><td>&hellip;</td><td>&hellip;</td><td>&hellip;</td></tr><tr><td>&quot;2804:7c74:b906::&quot;</td><td>&quot;BRA&quot;</td><td>271497.0</td><td>&quot;2804:7c74::/32&quot;</td><td>&quot;Confiber Telcomunicacoes ltda&quot;</td><td>&quot;2804:40b0:7::67d&quot;</td></tr><tr><td>&quot;2407:a080:1f4e::&quot;</td><td>&quot;AUS&quot;</td><td>133480.0</td><td>&quot;2407:a080::/32&quot;</td><td>&quot;INT-5GN-AS-AP 5G NETWORK OPERA…</td><td>&quot;2407:a080::1a&quot;</td></tr><tr><td>&quot;2a02:d5f:d896::&quot;</td><td>&quot;CHE&quot;</td><td>44919.0</td><td>&quot;2a02:d58::/29&quot;</td><td>&quot;EQIPE&quot;</td><td>&quot;2a02:d58:1:58::2&quot;</td></tr><tr><td>&quot;2a0d:c044:c422::&quot;</td><td>&quot;POL&quot;</td><td>210081.0</td><td>&quot;2a0d:c040::/29&quot;</td><td>&quot;WISNIOWSKI-&quot;</td><td>&quot;2001:41b0:3ff:3f4::2&quot;</td></tr><tr><td>&quot;2a13:ccc1:e08e::&quot;</td><td>&quot;DEU&quot;</td><td>47526.0</td><td>&quot;2a13:ccc1::/32&quot;</td><td>&quot;HANDILY-NETWORKS handily netwo…</td><td>&quot;2a13:ccc0:ff01:1::2&quot;</td></tr></tbody></table></div>"
      ],
      "text/plain": [
       "shape: (337_274_845, 6)\n",
       "┌──────────────────┬─────┬───────────┬────────────────┬──────────────────────┬─────────────────────┐\n",
       "│ initial-ip       ┆ Geo ┆ AS-Number ┆ BGP-Prefix     ┆ Org                  ┆ saddr               │\n",
       "│ ---              ┆ --- ┆ ---       ┆ ---            ┆ ---                  ┆ ---                 │\n",
       "│ str              ┆ str ┆ f64       ┆ str            ┆ str                  ┆ str                 │\n",
       "╞══════════════════╪═════╪═══════════╪════════════════╪══════════════════════╪═════════════════════╡\n",
       "│ 2a0c:885:7d93::  ┆ UKR ┆ 200000.0  ┆ 2a0c:880::/29  ┆ UKRAINE-AS           ┆ 2001:67c:2070:b901: │\n",
       "│                  ┆     ┆           ┆                ┆                      ┆ :b                  │\n",
       "│ 2804:7b68:7d35:: ┆ BRA ┆ 271430.0  ┆ 2804:7b68::/32 ┆ SINAL NET FIBRA      ┆ 2804:c84:10:101::2e │\n",
       "│ 2a14:0:469d::    ┆ DEU ┆ 216176.0  ┆ 2a14::/32      ┆ AS216176             ┆ 2001:19f0:6c00:18b2 │\n",
       "│                  ┆     ┆           ┆                ┆                      ┆ :5400:4ff:f…        │\n",
       "│ 2804:6e4:7402::  ┆ BRA ┆ 262612.0  ┆ 2804:6e4::/33  ┆ Piotr Piwowar        ┆ 2804:6e4:1::5       │\n",
       "│ 2604:14c0:7603:: ┆ USA ┆ 22121.0   ┆ 2604:14c0::/32 ┆ TOPSHAM-COMMUNICATIO ┆ 2607:ffc8:0:6::10   │\n",
       "│                  ┆     ┆           ┆                ┆ NS                   ┆                     │\n",
       "│ …                ┆ …   ┆ …         ┆ …              ┆ …                    ┆ …                   │\n",
       "│ 2804:7c74:b906:: ┆ BRA ┆ 271497.0  ┆ 2804:7c74::/32 ┆ Confiber             ┆ 2804:40b0:7::67d    │\n",
       "│                  ┆     ┆           ┆                ┆ Telcomunicacoes ltda ┆                     │\n",
       "│ 2407:a080:1f4e:: ┆ AUS ┆ 133480.0  ┆ 2407:a080::/32 ┆ INT-5GN-AS-AP 5G     ┆ 2407:a080::1a       │\n",
       "│                  ┆     ┆           ┆                ┆ NETWORK OPERA…       ┆                     │\n",
       "│ 2a02:d5f:d896::  ┆ CHE ┆ 44919.0   ┆ 2a02:d58::/29  ┆ EQIPE                ┆ 2a02:d58:1:58::2    │\n",
       "│ 2a0d:c044:c422:: ┆ POL ┆ 210081.0  ┆ 2a0d:c040::/29 ┆ WISNIOWSKI-          ┆ 2001:41b0:3ff:3f4:: │\n",
       "│                  ┆     ┆           ┆                ┆                      ┆ 2                   │\n",
       "│ 2a13:ccc1:e08e:: ┆ DEU ┆ 47526.0   ┆ 2a13:ccc1::/32 ┆ HANDILY-NETWORKS     ┆ 2a13:ccc0:ff01:1::2 │\n",
       "│                  ┆     ┆           ┆                ┆ handily netwo…       ┆                     │\n",
       "└──────────────────┴─────┴───────────┴────────────────┴──────────────────────┴─────────────────────┘"
      ]
     },
     "execution_count": 11,
     "metadata": {},
     "output_type": "execute_result"
    }
   ],
   "source": [
    "tmp"
   ]
  },
  {
   "cell_type": "code",
   "execution_count": 12,
   "id": "6367e064-2c9c-45a4-b948-8e8bdaba6b29",
   "metadata": {},
   "outputs": [],
   "source": [
    "tmp = tmp.join(df_router_ips,how='left',left_on='saddr',right_on='ip-addr',suffix='_saddr')"
   ]
  },
  {
   "cell_type": "code",
   "execution_count": 13,
   "id": "fa894bac-59b9-44f0-bc09-c728102d2d43",
   "metadata": {},
   "outputs": [
    {
     "data": {
      "text/html": [
       "<div><style>\n",
       ".dataframe > thead > tr,\n",
       ".dataframe > tbody > tr {\n",
       "  text-align: right;\n",
       "  white-space: pre-wrap;\n",
       "}\n",
       "</style>\n",
       "<small>shape: (337_274_845, 10)</small><table border=\"1\" class=\"dataframe\"><thead><tr><th>initial-ip</th><th>Geo</th><th>AS-Number</th><th>BGP-Prefix</th><th>Org</th><th>saddr</th><th>Geo_saddr</th><th>AS-Number_saddr</th><th>BGP-Prefix_saddr</th><th>Org_saddr</th></tr><tr><td>str</td><td>str</td><td>f64</td><td>str</td><td>str</td><td>str</td><td>str</td><td>f64</td><td>str</td><td>str</td></tr></thead><tbody><tr><td>&quot;2a0c:885:7d93::&quot;</td><td>&quot;UKR&quot;</td><td>200000.0</td><td>&quot;2a0c:880::/29&quot;</td><td>&quot;UKRAINE-AS&quot;</td><td>&quot;2001:67c:2070:b901::b&quot;</td><td>&quot;UKR&quot;</td><td>200000.0</td><td>&quot;2001:67c:2070::/48&quot;</td><td>&quot;UKRAINE-AS&quot;</td></tr><tr><td>&quot;2804:7b68:7d35::&quot;</td><td>&quot;BRA&quot;</td><td>271430.0</td><td>&quot;2804:7b68::/32&quot;</td><td>&quot;SINAL NET FIBRA&quot;</td><td>&quot;2804:c84:10:101::2e&quot;</td><td>&quot;BRA&quot;</td><td>52720.0</td><td>&quot;2804:c84::/32&quot;</td><td>&quot;WEBFOCO TELECOMUNICACOES LTDA&quot;</td></tr><tr><td>&quot;2a14:0:469d::&quot;</td><td>&quot;DEU&quot;</td><td>216176.0</td><td>&quot;2a14::/32&quot;</td><td>&quot;AS216176&quot;</td><td>&quot;2001:19f0:6c00:18b2:5400:4ff:f…</td><td>&quot;DEU&quot;</td><td>20473.0</td><td>&quot;2001:19f0:6c00::/38&quot;</td><td>&quot;AS-VULTR&quot;</td></tr><tr><td>&quot;2804:6e4:7402::&quot;</td><td>&quot;BRA&quot;</td><td>262612.0</td><td>&quot;2804:6e4::/33&quot;</td><td>&quot;Piotr Piwowar&quot;</td><td>&quot;2804:6e4:1::5&quot;</td><td>&quot;BRA&quot;</td><td>262612.0</td><td>&quot;2804:6e4::/33&quot;</td><td>&quot;Piotr Piwowar&quot;</td></tr><tr><td>&quot;2604:14c0:7603::&quot;</td><td>&quot;USA&quot;</td><td>22121.0</td><td>&quot;2604:14c0::/32&quot;</td><td>&quot;TOPSHAM-COMMUNICATIONS&quot;</td><td>&quot;2607:ffc8:0:6::10&quot;</td><td>&quot;USA&quot;</td><td>17356.0</td><td>&quot;2607:ffc8::/32&quot;</td><td>&quot;VERMONT-TELE&quot;</td></tr><tr><td>&hellip;</td><td>&hellip;</td><td>&hellip;</td><td>&hellip;</td><td>&hellip;</td><td>&hellip;</td><td>&hellip;</td><td>&hellip;</td><td>&hellip;</td><td>&hellip;</td></tr><tr><td>&quot;2804:7c74:b906::&quot;</td><td>&quot;BRA&quot;</td><td>271497.0</td><td>&quot;2804:7c74::/32&quot;</td><td>&quot;Confiber Telcomunicacoes ltda&quot;</td><td>&quot;2804:40b0:7::67d&quot;</td><td>&quot;BRA&quot;</td><td>265975.0</td><td>&quot;2804:40b0::/32&quot;</td><td>&quot;INTEREDE TELECOM&quot;</td></tr><tr><td>&quot;2407:a080:1f4e::&quot;</td><td>&quot;AUS&quot;</td><td>133480.0</td><td>&quot;2407:a080::/32&quot;</td><td>&quot;INT-5GN-AS-AP 5G NETWORK OPERA…</td><td>&quot;2407:a080::1a&quot;</td><td>&quot;AUS&quot;</td><td>133480.0</td><td>&quot;2407:a080::/48&quot;</td><td>&quot;INT-5GN-AS-AP 5G NETWORK OPERA…</td></tr><tr><td>&quot;2a02:d5f:d896::&quot;</td><td>&quot;CHE&quot;</td><td>44919.0</td><td>&quot;2a02:d58::/29&quot;</td><td>&quot;EQIPE&quot;</td><td>&quot;2a02:d58:1:58::2&quot;</td><td>&quot;CHE&quot;</td><td>44919.0</td><td>&quot;2a02:d58::/29&quot;</td><td>&quot;EQIPE&quot;</td></tr><tr><td>&quot;2a0d:c044:c422::&quot;</td><td>&quot;POL&quot;</td><td>210081.0</td><td>&quot;2a0d:c040::/29&quot;</td><td>&quot;WISNIOWSKI-&quot;</td><td>&quot;2001:41b0:3ff:3f4::2&quot;</td><td>&quot;POL&quot;</td><td>12741.0</td><td>&quot;2001:41b0::/32&quot;</td><td>&quot;AS-NETIA Warszawa 02-822&quot;</td></tr><tr><td>&quot;2a13:ccc1:e08e::&quot;</td><td>&quot;DEU&quot;</td><td>47526.0</td><td>&quot;2a13:ccc1::/32&quot;</td><td>&quot;HANDILY-NETWORKS handily netwo…</td><td>&quot;2a13:ccc0:ff01:1::2&quot;</td><td>&quot;DEU&quot;</td><td>47526.0</td><td>&quot;2a13:ccc0::/32&quot;</td><td>&quot;NORIS-ITK Noris-ITK GmbH&quot;</td></tr></tbody></table></div>"
      ],
      "text/plain": [
       "shape: (337_274_845, 10)\n",
       "┌────────────┬─────┬───────────┬────────────┬───┬───────────┬────────────┬────────────┬────────────┐\n",
       "│ initial-ip ┆ Geo ┆ AS-Number ┆ BGP-Prefix ┆ … ┆ Geo_saddr ┆ AS-Number_ ┆ BGP-Prefix ┆ Org_saddr  │\n",
       "│ ---        ┆ --- ┆ ---       ┆ ---        ┆   ┆ ---       ┆ saddr      ┆ _saddr     ┆ ---        │\n",
       "│ str        ┆ str ┆ f64       ┆ str        ┆   ┆ str       ┆ ---        ┆ ---        ┆ str        │\n",
       "│            ┆     ┆           ┆            ┆   ┆           ┆ f64        ┆ str        ┆            │\n",
       "╞════════════╪═════╪═══════════╪════════════╪═══╪═══════════╪════════════╪════════════╪════════════╡\n",
       "│ 2a0c:885:7 ┆ UKR ┆ 200000.0  ┆ 2a0c:880:: ┆ … ┆ UKR       ┆ 200000.0   ┆ 2001:67c:2 ┆ UKRAINE-AS │\n",
       "│ d93::      ┆     ┆           ┆ /29        ┆   ┆           ┆            ┆ 070::/48   ┆            │\n",
       "│ 2804:7b68: ┆ BRA ┆ 271430.0  ┆ 2804:7b68: ┆ … ┆ BRA       ┆ 52720.0    ┆ 2804:c84:: ┆ WEBFOCO    │\n",
       "│ 7d35::     ┆     ┆           ┆ :/32       ┆   ┆           ┆            ┆ /32        ┆ TELECOMUNI │\n",
       "│            ┆     ┆           ┆            ┆   ┆           ┆            ┆            ┆ CACOES     │\n",
       "│            ┆     ┆           ┆            ┆   ┆           ┆            ┆            ┆ LTDA       │\n",
       "│ 2a14:0:469 ┆ DEU ┆ 216176.0  ┆ 2a14::/32  ┆ … ┆ DEU       ┆ 20473.0    ┆ 2001:19f0: ┆ AS-VULTR   │\n",
       "│ d::        ┆     ┆           ┆            ┆   ┆           ┆            ┆ 6c00::/38  ┆            │\n",
       "│ 2804:6e4:7 ┆ BRA ┆ 262612.0  ┆ 2804:6e4:: ┆ … ┆ BRA       ┆ 262612.0   ┆ 2804:6e4:: ┆ Piotr      │\n",
       "│ 402::      ┆     ┆           ┆ /33        ┆   ┆           ┆            ┆ /33        ┆ Piwowar    │\n",
       "│ 2604:14c0: ┆ USA ┆ 22121.0   ┆ 2604:14c0: ┆ … ┆ USA       ┆ 17356.0    ┆ 2607:ffc8: ┆ VERMONT-TE │\n",
       "│ 7603::     ┆     ┆           ┆ :/32       ┆   ┆           ┆            ┆ :/32       ┆ LE         │\n",
       "│ …          ┆ …   ┆ …         ┆ …          ┆ … ┆ …         ┆ …          ┆ …          ┆ …          │\n",
       "│ 2804:7c74: ┆ BRA ┆ 271497.0  ┆ 2804:7c74: ┆ … ┆ BRA       ┆ 265975.0   ┆ 2804:40b0: ┆ INTEREDE   │\n",
       "│ b906::     ┆     ┆           ┆ :/32       ┆   ┆           ┆            ┆ :/32       ┆ TELECOM    │\n",
       "│ 2407:a080: ┆ AUS ┆ 133480.0  ┆ 2407:a080: ┆ … ┆ AUS       ┆ 133480.0   ┆ 2407:a080: ┆ INT-5GN-AS │\n",
       "│ 1f4e::     ┆     ┆           ┆ :/32       ┆   ┆           ┆            ┆ :/48       ┆ -AP 5G     │\n",
       "│            ┆     ┆           ┆            ┆   ┆           ┆            ┆            ┆ NETWORK    │\n",
       "│            ┆     ┆           ┆            ┆   ┆           ┆            ┆            ┆ OPERA…     │\n",
       "│ 2a02:d5f:d ┆ CHE ┆ 44919.0   ┆ 2a02:d58:: ┆ … ┆ CHE       ┆ 44919.0    ┆ 2a02:d58:: ┆ EQIPE      │\n",
       "│ 896::      ┆     ┆           ┆ /29        ┆   ┆           ┆            ┆ /29        ┆            │\n",
       "│ 2a0d:c044: ┆ POL ┆ 210081.0  ┆ 2a0d:c040: ┆ … ┆ POL       ┆ 12741.0    ┆ 2001:41b0: ┆ AS-NETIA   │\n",
       "│ c422::     ┆     ┆           ┆ :/29       ┆   ┆           ┆            ┆ :/32       ┆ Warszawa   │\n",
       "│            ┆     ┆           ┆            ┆   ┆           ┆            ┆            ┆ 02-822     │\n",
       "│ 2a13:ccc1: ┆ DEU ┆ 47526.0   ┆ 2a13:ccc1: ┆ … ┆ DEU       ┆ 47526.0    ┆ 2a13:ccc0: ┆ NORIS-ITK  │\n",
       "│ e08e::     ┆     ┆           ┆ :/32       ┆   ┆           ┆            ┆ :/32       ┆ Noris-ITK  │\n",
       "│            ┆     ┆           ┆            ┆   ┆           ┆            ┆            ┆ GmbH       │\n",
       "└────────────┴─────┴───────────┴────────────┴───┴───────────┴────────────┴────────────┴────────────┘"
      ]
     },
     "execution_count": 13,
     "metadata": {},
     "output_type": "execute_result"
    }
   ],
   "source": [
    "tmp"
   ]
  },
  {
   "cell_type": "code",
   "execution_count": 14,
   "id": "311d7fa4-b4f9-4ff3-9499-cd09ebeb88cf",
   "metadata": {},
   "outputs": [
    {
     "data": {
      "text/plain": [
       "17652"
      ]
     },
     "execution_count": 14,
     "metadata": {},
     "output_type": "execute_result"
    }
   ],
   "source": [
    "tmp.select('AS-Number').n_unique()"
   ]
  },
  {
   "cell_type": "code",
   "execution_count": 15,
   "id": "ba0a004a-19b3-4d76-a336-032b870f8aee",
   "metadata": {},
   "outputs": [
    {
     "data": {
      "text/plain": [
       "12284"
      ]
     },
     "execution_count": 15,
     "metadata": {},
     "output_type": "execute_result"
    }
   ],
   "source": [
    "tmp.select('AS-Number_saddr').n_unique()"
   ]
  },
  {
   "cell_type": "code",
   "execution_count": 16,
   "id": "16cd4e28-59e1-4455-9f9f-24b530e7849b",
   "metadata": {},
   "outputs": [
    {
     "data": {
      "text/html": [
       "<div><style>\n",
       ".dataframe > thead > tr,\n",
       ".dataframe > tbody > tr {\n",
       "  text-align: right;\n",
       "  white-space: pre-wrap;\n",
       "}\n",
       "</style>\n",
       "<small>shape: (174_516_561, 10)</small><table border=\"1\" class=\"dataframe\"><thead><tr><th>initial-ip</th><th>Geo</th><th>AS-Number</th><th>BGP-Prefix</th><th>Org</th><th>saddr</th><th>Geo_saddr</th><th>AS-Number_saddr</th><th>BGP-Prefix_saddr</th><th>Org_saddr</th></tr><tr><td>str</td><td>str</td><td>f64</td><td>str</td><td>str</td><td>str</td><td>str</td><td>f64</td><td>str</td><td>str</td></tr></thead><tbody><tr><td>&quot;2804:7b68:7d35::&quot;</td><td>&quot;BRA&quot;</td><td>271430.0</td><td>&quot;2804:7b68::/32&quot;</td><td>&quot;SINAL NET FIBRA&quot;</td><td>&quot;2804:c84:10:101::2e&quot;</td><td>&quot;BRA&quot;</td><td>52720.0</td><td>&quot;2804:c84::/32&quot;</td><td>&quot;WEBFOCO TELECOMUNICACOES LTDA&quot;</td></tr><tr><td>&quot;2a14:0:469d::&quot;</td><td>&quot;DEU&quot;</td><td>216176.0</td><td>&quot;2a14::/32&quot;</td><td>&quot;AS216176&quot;</td><td>&quot;2001:19f0:6c00:18b2:5400:4ff:f…</td><td>&quot;DEU&quot;</td><td>20473.0</td><td>&quot;2001:19f0:6c00::/38&quot;</td><td>&quot;AS-VULTR&quot;</td></tr><tr><td>&quot;2604:14c0:7603::&quot;</td><td>&quot;USA&quot;</td><td>22121.0</td><td>&quot;2604:14c0::/32&quot;</td><td>&quot;TOPSHAM-COMMUNICATIONS&quot;</td><td>&quot;2607:ffc8:0:6::10&quot;</td><td>&quot;USA&quot;</td><td>17356.0</td><td>&quot;2607:ffc8::/32&quot;</td><td>&quot;VERMONT-TELE&quot;</td></tr><tr><td>&quot;2a04:1600:a3ab::&quot;</td><td>&quot;DEU&quot;</td><td>61967.0</td><td>&quot;2a04:1600::/29&quot;</td><td>&quot;AS-TELEMATIS *** SkyLink  XSSe…</td><td>&quot;2001:4d50:f016::c:1a&quot;</td><td>&quot;DEU&quot;</td><td>34309.0</td><td>&quot;2001:4d50::/32&quot;</td><td>&quot;LINK11 Link11 GmbH&quot;</td></tr><tr><td>&quot;2a01:5900:7e55::&quot;</td><td>&quot;DEU&quot;</td><td>29239.0</td><td>&quot;2a01:5900::/29&quot;</td><td>&quot;I-NETPARTNER-AS&quot;</td><td>&quot;2a00::ffc:0:e00:2:12&quot;</td><td>&quot;DEU&quot;</td><td>3209.0</td><td>&quot;2a00::/22&quot;</td><td>&quot;VODANET International IP-Backb…</td></tr><tr><td>&hellip;</td><td>&hellip;</td><td>&hellip;</td><td>&hellip;</td><td>&hellip;</td><td>&hellip;</td><td>&hellip;</td><td>&hellip;</td><td>&hellip;</td><td>&hellip;</td></tr><tr><td>&quot;2a06:d984:a988::&quot;</td><td>&quot;IRQ&quot;</td><td>51539.0</td><td>&quot;2a06:d980::/29&quot;</td><td>&quot;ASN-AUIS-NET&quot;</td><td>&quot;2a02:b60:1ffe:0:c953::2&quot;</td><td>&quot;IRQ&quot;</td><td>44217.0</td><td>&quot;2a02:b60::/32&quot;</td><td>&quot;IQNETWORKS&quot;</td></tr><tr><td>&quot;2804:3054:6990::&quot;</td><td>&quot;BRA&quot;</td><td>264944.0</td><td>&quot;2804:3054::/32&quot;</td><td>&quot;enzo servicos e comercio de te…</td><td>&quot;2804:2480:0:1::6&quot;</td><td>&quot;BRA&quot;</td><td>264227.0</td><td>&quot;2804:2480::/32&quot;</td><td>&quot;INOVE COMERCIO E SERVICOS DE T…</td></tr><tr><td>&quot;2a0c:502:3127::&quot;</td><td>&quot;DEU&quot;</td><td>205103.0</td><td>&quot;2a0c:500::/30&quot;</td><td>&quot;TELEGRAPH-AS&quot;</td><td>&quot;2001:7f8::3:212f:0:1&quot;</td><td>&quot;DEU&quot;</td><td>29632.0</td><td>&quot;2001:7f8::/64&quot;</td><td>&quot;NASSIST-AS&quot;</td></tr><tr><td>&quot;2804:7c74:b906::&quot;</td><td>&quot;BRA&quot;</td><td>271497.0</td><td>&quot;2804:7c74::/32&quot;</td><td>&quot;Confiber Telcomunicacoes ltda&quot;</td><td>&quot;2804:40b0:7::67d&quot;</td><td>&quot;BRA&quot;</td><td>265975.0</td><td>&quot;2804:40b0::/32&quot;</td><td>&quot;INTEREDE TELECOM&quot;</td></tr><tr><td>&quot;2a0d:c044:c422::&quot;</td><td>&quot;POL&quot;</td><td>210081.0</td><td>&quot;2a0d:c040::/29&quot;</td><td>&quot;WISNIOWSKI-&quot;</td><td>&quot;2001:41b0:3ff:3f4::2&quot;</td><td>&quot;POL&quot;</td><td>12741.0</td><td>&quot;2001:41b0::/32&quot;</td><td>&quot;AS-NETIA Warszawa 02-822&quot;</td></tr></tbody></table></div>"
      ],
      "text/plain": [
       "shape: (174_516_561, 10)\n",
       "┌────────────┬─────┬───────────┬────────────┬───┬───────────┬────────────┬────────────┬────────────┐\n",
       "│ initial-ip ┆ Geo ┆ AS-Number ┆ BGP-Prefix ┆ … ┆ Geo_saddr ┆ AS-Number_ ┆ BGP-Prefix ┆ Org_saddr  │\n",
       "│ ---        ┆ --- ┆ ---       ┆ ---        ┆   ┆ ---       ┆ saddr      ┆ _saddr     ┆ ---        │\n",
       "│ str        ┆ str ┆ f64       ┆ str        ┆   ┆ str       ┆ ---        ┆ ---        ┆ str        │\n",
       "│            ┆     ┆           ┆            ┆   ┆           ┆ f64        ┆ str        ┆            │\n",
       "╞════════════╪═════╪═══════════╪════════════╪═══╪═══════════╪════════════╪════════════╪════════════╡\n",
       "│ 2804:7b68: ┆ BRA ┆ 271430.0  ┆ 2804:7b68: ┆ … ┆ BRA       ┆ 52720.0    ┆ 2804:c84:: ┆ WEBFOCO    │\n",
       "│ 7d35::     ┆     ┆           ┆ :/32       ┆   ┆           ┆            ┆ /32        ┆ TELECOMUNI │\n",
       "│            ┆     ┆           ┆            ┆   ┆           ┆            ┆            ┆ CACOES     │\n",
       "│            ┆     ┆           ┆            ┆   ┆           ┆            ┆            ┆ LTDA       │\n",
       "│ 2a14:0:469 ┆ DEU ┆ 216176.0  ┆ 2a14::/32  ┆ … ┆ DEU       ┆ 20473.0    ┆ 2001:19f0: ┆ AS-VULTR   │\n",
       "│ d::        ┆     ┆           ┆            ┆   ┆           ┆            ┆ 6c00::/38  ┆            │\n",
       "│ 2604:14c0: ┆ USA ┆ 22121.0   ┆ 2604:14c0: ┆ … ┆ USA       ┆ 17356.0    ┆ 2607:ffc8: ┆ VERMONT-TE │\n",
       "│ 7603::     ┆     ┆           ┆ :/32       ┆   ┆           ┆            ┆ :/32       ┆ LE         │\n",
       "│ 2a04:1600: ┆ DEU ┆ 61967.0   ┆ 2a04:1600: ┆ … ┆ DEU       ┆ 34309.0    ┆ 2001:4d50: ┆ LINK11     │\n",
       "│ a3ab::     ┆     ┆           ┆ :/29       ┆   ┆           ┆            ┆ :/32       ┆ Link11     │\n",
       "│            ┆     ┆           ┆            ┆   ┆           ┆            ┆            ┆ GmbH       │\n",
       "│ 2a01:5900: ┆ DEU ┆ 29239.0   ┆ 2a01:5900: ┆ … ┆ DEU       ┆ 3209.0     ┆ 2a00::/22  ┆ VODANET    │\n",
       "│ 7e55::     ┆     ┆           ┆ :/29       ┆   ┆           ┆            ┆            ┆ Internatio │\n",
       "│            ┆     ┆           ┆            ┆   ┆           ┆            ┆            ┆ nal        │\n",
       "│            ┆     ┆           ┆            ┆   ┆           ┆            ┆            ┆ IP-Backb…  │\n",
       "│ …          ┆ …   ┆ …         ┆ …          ┆ … ┆ …         ┆ …          ┆ …          ┆ …          │\n",
       "│ 2a06:d984: ┆ IRQ ┆ 51539.0   ┆ 2a06:d980: ┆ … ┆ IRQ       ┆ 44217.0    ┆ 2a02:b60:: ┆ IQNETWORKS │\n",
       "│ a988::     ┆     ┆           ┆ :/29       ┆   ┆           ┆            ┆ /32        ┆            │\n",
       "│ 2804:3054: ┆ BRA ┆ 264944.0  ┆ 2804:3054: ┆ … ┆ BRA       ┆ 264227.0   ┆ 2804:2480: ┆ INOVE      │\n",
       "│ 6990::     ┆     ┆           ┆ :/32       ┆   ┆           ┆            ┆ :/32       ┆ COMERCIO E │\n",
       "│            ┆     ┆           ┆            ┆   ┆           ┆            ┆            ┆ SERVICOS   │\n",
       "│            ┆     ┆           ┆            ┆   ┆           ┆            ┆            ┆ DE T…      │\n",
       "│ 2a0c:502:3 ┆ DEU ┆ 205103.0  ┆ 2a0c:500:: ┆ … ┆ DEU       ┆ 29632.0    ┆ 2001:7f8:: ┆ NASSIST-AS │\n",
       "│ 127::      ┆     ┆           ┆ /30        ┆   ┆           ┆            ┆ /64        ┆            │\n",
       "│ 2804:7c74: ┆ BRA ┆ 271497.0  ┆ 2804:7c74: ┆ … ┆ BRA       ┆ 265975.0   ┆ 2804:40b0: ┆ INTEREDE   │\n",
       "│ b906::     ┆     ┆           ┆ :/32       ┆   ┆           ┆            ┆ :/32       ┆ TELECOM    │\n",
       "│ 2a0d:c044: ┆ POL ┆ 210081.0  ┆ 2a0d:c040: ┆ … ┆ POL       ┆ 12741.0    ┆ 2001:41b0: ┆ AS-NETIA   │\n",
       "│ c422::     ┆     ┆           ┆ :/29       ┆   ┆           ┆            ┆ :/32       ┆ Warszawa   │\n",
       "│            ┆     ┆           ┆            ┆   ┆           ┆            ┆            ┆ 02-822     │\n",
       "└────────────┴─────┴───────────┴────────────┴───┴───────────┴────────────┴────────────┴────────────┘"
      ]
     },
     "execution_count": 16,
     "metadata": {},
     "output_type": "execute_result"
    }
   ],
   "source": [
    "tmp.filter(pl.col('AS-Number')!=pl.col('AS-Number_saddr'))"
   ]
  },
  {
   "cell_type": "code",
   "execution_count": 17,
   "id": "e5ce2aba-786f-46f5-bd0a-cc3b4dfa3ed5",
   "metadata": {},
   "outputs": [],
   "source": [
    "tmp.write_parquet(f'{PROCESSED_DATA_DIR}/bgp-sra-AS-comparison.parquet')"
   ]
  },
  {
   "cell_type": "code",
   "execution_count": null,
   "id": "8afddd3e-f070-4773-8832-50b43a19113d",
   "metadata": {},
   "outputs": [],
   "source": []
  }
 ],
 "metadata": {
  "kernelspec": {
   "display_name": "Python 3 (ipykernel)",
   "language": "python",
   "name": "python3"
  },
  "language_info": {
   "codemirror_mode": {
    "name": "ipython",
    "version": 3
   },
   "file_extension": ".py",
   "mimetype": "text/x-python",
   "name": "python",
   "nbconvert_exporter": "python",
   "pygments_lexer": "ipython3",
   "version": "3.12.11"
  }
 },
 "nbformat": 4,
 "nbformat_minor": 5
}
