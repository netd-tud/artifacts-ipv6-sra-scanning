{
 "cells": [
  {
   "cell_type": "code",
   "execution_count": 1,
   "id": "ce29fa4e-d977-4dc2-a39e-2dbf3be538d0",
   "metadata": {},
   "outputs": [
    {
     "name": "stderr",
     "output_type": "stream",
     "text": [
      "\u001b[32m2025-10-08 20:15:32.988\u001b[0m | \u001b[1mINFO    \u001b[0m | \u001b[36martifacts_ipv6_sra_scanning.config\u001b[0m:\u001b[36m<module>\u001b[0m:\u001b[36m22\u001b[0m - \u001b[1mPROJ_ROOT path is: /home/service/artifacts-ipv6-sra-scanning\u001b[0m\n"
     ]
    }
   ],
   "source": [
    "from artifacts_ipv6_sra_scanning.config import *\n",
    "import pickle\n",
    "import os\n",
    "import ipaddress\n",
    "import glob\n",
    "from tqdm.auto import tqdm\n",
    "import country_converter as coco\n",
    "from parallel_pandas import ParallelPandas\n",
    "ParallelPandas.initialize(n_cpu=24, split_factor=1, disable_pr_bar=False)"
   ]
  },
  {
   "cell_type": "code",
   "execution_count": 2,
   "id": "7fd591e4-762c-4fe5-97b2-82b80949a105",
   "metadata": {},
   "outputs": [],
   "source": [
    "import polars as pl\n",
    "import glob\n",
    "import pandas as pd\n",
    "import geopandas as gpd\n",
    "import matplotlib.pyplot as plt\n",
    "import pycountry\n",
    "from IPython.display import HTML\n",
    "from mpl_toolkits.axes_grid1 import make_axes_locatable\n",
    "import matplotlib.colors as colors"
   ]
  },
  {
   "cell_type": "code",
   "execution_count": 3,
   "id": "3b70d0a6-f6a3-47de-b01e-0de34ab98609",
   "metadata": {},
   "outputs": [],
   "source": [
    "def side_by_side(*dfs,to_pandas=True):\n",
    "    html = '<div style=\"display:flex\">'\n",
    "    for df in dfs:\n",
    "        html += '<div style=\"margin-right: 2em\">'\n",
    "        if to_pandas:\n",
    "            html += df.to_pandas().to_html()\n",
    "        else:\n",
    "            html += df.to_html()\n",
    "        html += '</div>'\n",
    "    html += '</div>'\n",
    "    display(HTML(html))"
   ]
  },
  {
   "cell_type": "code",
   "execution_count": 4,
   "id": "4d3d3fef-1e75-421b-b1b5-ae3f7ac04ca7",
   "metadata": {},
   "outputs": [],
   "source": [
    "figsize_small = (8 * 0.7, 4 * 0.5)\n",
    "figsize_small_with_legend_on_top = (8 * 0.7, 5 * 0.5)\n",
    "figsize_medium = (8 * 0.7, 5.5 * 0.5)\n",
    "figsize_wide = (14 * 0.7, 5 * 0.5)"
   ]
  },
  {
   "cell_type": "code",
   "execution_count": 5,
   "id": "de0dee52-d9e4-4b57-ae96-8e221eea047d",
   "metadata": {},
   "outputs": [],
   "source": [
    "df_scan01 = pl.read_csv(f'{RAW_DATA_DIR}/bgp48_1728075185_routerIP_stats.csv',separator=';')\n",
    "df_scan01 = df_scan01.rename({\"ASN\": \"AS-Number\",'numamplsubnets_48':'numamplsubnets','numsubnets_48':'numsubnets','Prefix':'BGP-Prefix','routerip':'saddr'})"
   ]
  },
  {
   "cell_type": "code",
   "execution_count": 6,
   "id": "54c39cce-0b19-409e-acf2-b3ebf2678958",
   "metadata": {},
   "outputs": [],
   "source": [
    "df_scan02 = pl.read_parquet(f'{PROCESSED_DATA_DIR}/icmp-bgp48-all/zmap_log_2025-04-02T09_17_15+00_00.log_processed_withInfo')"
   ]
  },
  {
   "cell_type": "code",
   "execution_count": 7,
   "id": "0fc4227e-3713-435c-b763-caf23f2b8f2f",
   "metadata": {},
   "outputs": [],
   "source": [
    "# new bgp data\n",
    "df_scan03 = pl.read_parquet(f'{PROCESSED_DATA_DIR}/icmp-bgp48-all/zmap_log_2025-04-02T21_19_41+00_00.log_processed_withInfo')"
   ]
  },
  {
   "cell_type": "code",
   "execution_count": 8,
   "id": "3780925d-67d8-4f1d-9ae6-108637f3cf9f",
   "metadata": {},
   "outputs": [],
   "source": [
    "# filter any data that has no ASN and no country code\n",
    "# edit: removes 6-7M routing loops, so we leave it as is for now\n",
    "#df_scan01 = df_scan01.filter((~pl.col('Geo').is_null()) & (~pl.col('AS-Number').is_null()))\n",
    "#df_scan02 = df_scan02.filter((~pl.col('Geo').is_null()) & (~pl.col('AS-Number').is_null()))\n",
    "#df_scan03 = df_scan03.filter((~pl.col('Geo').is_null()) & (~pl.col('AS-Number').is_null()))"
   ]
  },
  {
   "cell_type": "code",
   "execution_count": 9,
   "id": "d79c971a-4c9d-44e3-972c-fe88fe1f03c9",
   "metadata": {},
   "outputs": [],
   "source": [
    "pd_df = df_scan01.filter((pl.col('numamplsubnets')>0) & (pl.col('classification')=='timxceed')).sort('maxampl',descending=True).to_pandas()\n",
    "loop_df = df_scan01.filter((pl.col('classification')=='timxceed')).sort('numsubnets',descending=True).to_pandas()"
   ]
  },
  {
   "cell_type": "code",
   "execution_count": 10,
   "id": "80ca970b-d82e-4c87-8ea4-39879ab8abfe",
   "metadata": {},
   "outputs": [
    {
     "data": {
      "text/html": [
       "<div>\n",
       "<style scoped>\n",
       "    .dataframe tbody tr th:only-of-type {\n",
       "        vertical-align: middle;\n",
       "    }\n",
       "\n",
       "    .dataframe tbody tr th {\n",
       "        vertical-align: top;\n",
       "    }\n",
       "\n",
       "    .dataframe thead th {\n",
       "        text-align: right;\n",
       "    }\n",
       "</style>\n",
       "<table border=\"1\" class=\"dataframe\">\n",
       "  <thead>\n",
       "    <tr style=\"text-align: right;\">\n",
       "      <th></th>\n",
       "      <th>Geo</th>\n",
       "      <th>routingloops</th>\n",
       "      <th>relative</th>\n",
       "      <th>routerips</th>\n",
       "    </tr>\n",
       "  </thead>\n",
       "  <tbody>\n",
       "    <tr>\n",
       "      <th>0</th>\n",
       "      <td>BRA</td>\n",
       "      <td>37081970</td>\n",
       "      <td>26.222086</td>\n",
       "      <td>9329</td>\n",
       "    </tr>\n",
       "    <tr>\n",
       "      <th>1</th>\n",
       "      <td>DEU</td>\n",
       "      <td>13273666</td>\n",
       "      <td>9.386319</td>\n",
       "      <td>1192</td>\n",
       "    </tr>\n",
       "    <tr>\n",
       "      <th>2</th>\n",
       "      <td>CZE</td>\n",
       "      <td>10444197</td>\n",
       "      <td>7.385493</td>\n",
       "      <td>881</td>\n",
       "    </tr>\n",
       "    <tr>\n",
       "      <th>3</th>\n",
       "      <td>USA</td>\n",
       "      <td>7613551</td>\n",
       "      <td>5.383835</td>\n",
       "      <td>4150</td>\n",
       "    </tr>\n",
       "    <tr>\n",
       "      <th>4</th>\n",
       "      <td>NLD</td>\n",
       "      <td>7241713</td>\n",
       "      <td>5.120894</td>\n",
       "      <td>388</td>\n",
       "    </tr>\n",
       "  </tbody>\n",
       "</table>\n",
       "</div>"
      ],
      "text/plain": [
       "   Geo  routingloops   relative  routerips\n",
       "0  BRA      37081970  26.222086       9329\n",
       "1  DEU      13273666   9.386319       1192\n",
       "2  CZE      10444197   7.385493        881\n",
       "3  USA       7613551   5.383835       4150\n",
       "4  NLD       7241713   5.120894        388"
      ]
     },
     "execution_count": 10,
     "metadata": {},
     "output_type": "execute_result"
    }
   ],
   "source": [
    "totalloops = df_scan01.filter((pl.col('classification')=='timxceed'))['numsubnets'].sum()\n",
    "#print(\n",
    "df_scan01.filter((pl.col('classification')=='timxceed') & (pl.col('Geo').is_not_null())).group_by(['Geo']).agg(\n",
    "    pl.col('numsubnets').sum().alias('routingloops'),\n",
    "    (pl.col('numsubnets').sum()/totalloops).mul(100).alias('relative'),\n",
    "    pl.col('saddr').n_unique().alias('routerips'),\n",
    ").top_k(5,by='routingloops').to_pandas()#.to_latex(index=False,float_format=\"%.2f\"))"
   ]
  },
  {
   "cell_type": "code",
   "execution_count": 11,
   "id": "cda5385f-bd44-48cf-8522-cb23823aa1f8",
   "metadata": {},
   "outputs": [
    {
     "data": {
      "text/plain": [
       "53.49862680080404"
      ]
     },
     "execution_count": 11,
     "metadata": {},
     "output_type": "execute_result"
    }
   ],
   "source": [
    "totalloops = df_scan01.filter((pl.col('classification')=='timxceed'))['numsubnets'].sum()\n",
    "df_scan01.filter((pl.col('classification')=='timxceed') & (pl.col('Geo').is_not_null())).group_by(['Geo']).agg(\n",
    "    pl.col('numsubnets').sum().alias('routingloops'),\n",
    "    (pl.col('numsubnets').sum()/totalloops).mul(100).alias('relative'),\n",
    "    pl.col('saddr').n_unique().alias('routerips'),\n",
    ").top_k(5,by='routingloops')['relative'].sum()"
   ]
  },
  {
   "cell_type": "code",
   "execution_count": 12,
   "id": "c1485489-06af-4a1e-82d2-7e2989ee2f28",
   "metadata": {},
   "outputs": [
    {
     "data": {
      "text/html": [
       "<div>\n",
       "<style scoped>\n",
       "    .dataframe tbody tr th:only-of-type {\n",
       "        vertical-align: middle;\n",
       "    }\n",
       "\n",
       "    .dataframe tbody tr th {\n",
       "        vertical-align: top;\n",
       "    }\n",
       "\n",
       "    .dataframe thead th {\n",
       "        text-align: right;\n",
       "    }\n",
       "</style>\n",
       "<table border=\"1\" class=\"dataframe\">\n",
       "  <thead>\n",
       "    <tr style=\"text-align: right;\">\n",
       "      <th></th>\n",
       "      <th>Geo</th>\n",
       "      <th>amplification</th>\n",
       "      <th>relative</th>\n",
       "      <th>routerips</th>\n",
       "      <th>maxamplification</th>\n",
       "    </tr>\n",
       "  </thead>\n",
       "  <tbody>\n",
       "    <tr>\n",
       "      <th>0</th>\n",
       "      <td>BRA</td>\n",
       "      <td>4674687</td>\n",
       "      <td>23.351353</td>\n",
       "      <td>2765</td>\n",
       "      <td>51</td>\n",
       "    </tr>\n",
       "    <tr>\n",
       "      <th>1</th>\n",
       "      <td>DEU</td>\n",
       "      <td>477046</td>\n",
       "      <td>2.382977</td>\n",
       "      <td>78</td>\n",
       "      <td>258399</td>\n",
       "    </tr>\n",
       "    <tr>\n",
       "      <th>2</th>\n",
       "      <td>USA</td>\n",
       "      <td>247736</td>\n",
       "      <td>1.237510</td>\n",
       "      <td>577</td>\n",
       "      <td>109385</td>\n",
       "    </tr>\n",
       "    <tr>\n",
       "      <th>3</th>\n",
       "      <td>CHN</td>\n",
       "      <td>245546</td>\n",
       "      <td>1.226570</td>\n",
       "      <td>4141</td>\n",
       "      <td>52</td>\n",
       "    </tr>\n",
       "    <tr>\n",
       "      <th>4</th>\n",
       "      <td>CZE</td>\n",
       "      <td>212547</td>\n",
       "      <td>1.061731</td>\n",
       "      <td>17</td>\n",
       "      <td>37</td>\n",
       "    </tr>\n",
       "  </tbody>\n",
       "</table>\n",
       "</div>"
      ],
      "text/plain": [
       "   Geo  amplification   relative  routerips  maxamplification\n",
       "0  BRA        4674687  23.351353       2765                51\n",
       "1  DEU         477046   2.382977         78            258399\n",
       "2  USA         247736   1.237510        577            109385\n",
       "3  CHN         245546   1.226570       4141                52\n",
       "4  CZE         212547   1.061731         17                37"
      ]
     },
     "execution_count": 12,
     "metadata": {},
     "output_type": "execute_result"
    }
   ],
   "source": [
    "totalamp = df_scan01.filter((pl.col('classification')=='timxceed') & (pl.col('numamplsubnets')>0))['numsubnets'].sum()\n",
    "#print(\n",
    "df_scan01.filter((pl.col('classification')=='timxceed') & (pl.col('Geo').is_not_null()) & (pl.col('numamplsubnets')>0)).group_by(['Geo']).agg(\n",
    "    pl.col('numamplsubnets').sum().alias('amplification'),\n",
    "    (pl.col('numamplsubnets').sum()/totalamp).mul(100).alias('relative'),\n",
    "    pl.col('saddr').n_unique().alias('routerips'),\n",
    "    pl.col('maxampl').max().alias('maxamplification'),\n",
    ").top_k(5,by='amplification').to_pandas()#.to_latex(index=False,float_format=\"%.2f\"))"
   ]
  },
  {
   "cell_type": "code",
   "execution_count": 13,
   "id": "19b8f43c-2630-4849-a718-d18b40e3fb93",
   "metadata": {},
   "outputs": [],
   "source": [
    "plt.rc(\"font\", size=12)"
   ]
  },
  {
   "cell_type": "code",
   "execution_count": 24,
   "id": "6866a2d5-9ed0-4541-9efa-b12d0f296d3e",
   "metadata": {},
   "outputs": [
    {
     "name": "stderr",
     "output_type": "stream",
     "text": [
      "<>:13: SyntaxWarning: invalid escape sequence '\\g'\n",
      "<>:13: SyntaxWarning: invalid escape sequence '\\g'\n",
      "/tmp/ipykernel_953793/2630728702.py:13: SyntaxWarning: invalid escape sequence '\\g'\n",
      "  ax.text(2000,0.1*10**4,\"Amplification\\n$\\geq$10 (0.2%)\",color='grey',horizontalalignment='center')\n"
     ]
    },
    {
     "name": "stdout",
     "output_type": "stream",
     "text": [
      "/home/service/artifacts-ipv6-sra-scanning/reports/figures/amplification-routingloops.png\n"
     ]
    },
    {
     "data": {
      "image/png": "[encoded data removed]",
      "text/plain": [
       "<Figure size 560x140 with 1 Axes>"
      ]
     },
     "metadata": {},
     "output_type": "display_data"
    }
   ],
   "source": [
    "fig,ax = vh.fig_ax(figsize=(8*0.7,2*0.7))\n",
    "pd_df.plot(y='maxampl',ax=ax,legend=False)\n",
    "ax.set_yscale('log')\n",
    "ax.set_ylim(1,10**6)\n",
    "ax.set_xlim(-500,12000)\n",
    "ax.grid(axis='y')\n",
    "ax.set_ylabel('Amplification\\n[# ICMP Repl.]')\n",
    "ax.set_xlabel('Router IP Address [Rank]')\n",
    "\n",
    "ax.set_xticks([0,2500,5000,7500,10000],['0','2.5k','5k','7.5k','10k'])\n",
    "\n",
    "ax.axvspan(-500,300,facecolor='red',alpha=0.3)\n",
    "ax.text(2000,0.1*10**4,\"Amplification\\n$\\geq$10 (0.2%)\",color='grey',horizontalalignment='center')\n",
    "vh.save_plot(fig,'amplification-routingloops')"
   ]
  },
  {
   "cell_type": "code",
   "execution_count": 15,
   "id": "3ff5917e-0788-4ae1-bbf6-fe4edb5f6a95",
   "metadata": {},
   "outputs": [
    {
     "data": {
      "text/plain": [
       "5531"
      ]
     },
     "execution_count": 15,
     "metadata": {},
     "output_type": "execute_result"
    }
   ],
   "source": [
    "loop_df['AS-Number'].nunique()"
   ]
  },
  {
   "cell_type": "code",
   "execution_count": 16,
   "id": "df1aa2eb-cdc5-4ce6-a1f6-cbece5ffcae9",
   "metadata": {},
   "outputs": [
    {
     "data": {
      "text/plain": [
       "0.604160816250117"
      ]
     },
     "execution_count": 16,
     "metadata": {},
     "output_type": "execute_result"
    }
   ],
   "source": [
    "len(loop_df[loop_df.numsubnets==1])/len(loop_df)"
   ]
  },
  {
   "cell_type": "code",
   "execution_count": 18,
   "id": "62a65776-7d9e-4ddd-b020-9be0d59006d7",
   "metadata": {},
   "outputs": [
    {
     "name": "stdout",
     "output_type": "stream",
     "text": [
      "/home/service/artifacts-ipv6-sra-scanning/reports/figures/looping-subnets-per-router-rank.png\n"
     ]
    },
    {
     "data": {
      "image/png": "[encoded data removed]",
      "text/plain": [
       "<Figure size 560x140 with 1 Axes>"
      ]
     },
     "metadata": {},
     "output_type": "display_data"
    }
   ],
   "source": [
    "fig,ax = vh.fig_ax(figsize=(8*0.7,2*0.7))\n",
    "loop_df.plot(y='numsubnets',ax=ax,legend=False)\n",
    "ax.set_yscale('log')\n",
    "#ax.set_ylim(0,10**7.2)\n",
    "#ax.set_ylim(0.15,10**6.4)\n",
    "ax.set_xlim(-1000,45000)\n",
    "ax.grid(axis='y')\n",
    "ax.set_ylabel('Looping /48\\nsubnets [#]')\n",
    "ax.set_xlabel('Router IP Address [Rank]')\n",
    "\n",
    "ax.set_xticks([0,10000,20000,30000,40000],['0','10k','20k','30k','40k'])\n",
    "\n",
    "#ax.set_yticks([])\n",
    "#ax.set_yticks([0,10**1,10**3,10**5,10**7])\n",
    "\n",
    "#ax.axvspan(-100,166,facecolor='red',alpha=0.3)\n",
    "#ax.text(1000,3*10**4,\"Amplification\\n$\\geq$10 (2.3%)\",color='grey',horizontalalignment='center')\n",
    "vh.save_plot(fig,'looping-subnets-per-router-rank')"
   ]
  },
  {
   "cell_type": "code",
   "execution_count": null,
   "id": "14c82773-4053-4fcc-bf75-4615a9d22844",
   "metadata": {},
   "outputs": [],
   "source": []
  }
 ],
 "metadata": {
  "kernelspec": {
   "display_name": "Python 3 (ipykernel)",
   "language": "python",
   "name": "python3"
  },
  "language_info": {
   "codemirror_mode": {
    "name": "ipython",
    "version": 3
   },
   "file_extension": ".py",
   "mimetype": "text/x-python",
   "name": "python",
   "nbconvert_exporter": "python",
   "pygments_lexer": "ipython3",
   "version": "3.12.3"
  }
 },
 "nbformat": 4,
 "nbformat_minor": 5
}
