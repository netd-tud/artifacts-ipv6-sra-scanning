{
 "cells": [
  {
   "cell_type": "code",
   "execution_count": 1,
   "id": "d6fbbb3f-b637-4c3d-9070-0cad0f79039f",
   "metadata": {},
   "outputs": [
    {
     "name": "stderr",
     "output_type": "stream",
     "text": [
      "\u001b[32m2025-10-08 19:12:00.968\u001b[0m | \u001b[1mINFO    \u001b[0m | \u001b[36martifacts_ipv6_sra_scanning.config\u001b[0m:\u001b[36m<module>\u001b[0m:\u001b[36m22\u001b[0m - \u001b[1mPROJ_ROOT path is: /home/service/artifacts-ipv6-sra-scanning\u001b[0m\n"
     ]
    }
   ],
   "source": [
    "from artifacts_ipv6_sra_scanning.config import *\n",
    "import pickle\n",
    "import os\n",
    "import ipaddress\n",
    "import geopandas as gpd\n",
    "\n",
    "import pycountry\n",
    "from IPython.display import HTML\n",
    "from mpl_toolkits.axes_grid1 import make_axes_locatable\n",
    "import matplotlib.colors as colors\n",
    "from parallel_pandas import ParallelPandas\n",
    "ParallelPandas.initialize(n_cpu=24, split_factor=1, disable_pr_bar=False)"
   ]
  },
  {
   "cell_type": "code",
   "execution_count": 2,
   "id": "5a0ee8ac-f3be-42bd-b35c-7524d577ddb7",
   "metadata": {},
   "outputs": [],
   "source": [
    "import polars as pl\n",
    "import pandas as pd\n",
    "import matplotlib.pyplot as plt\n",
    "from tqdm.notebook import tqdm\n",
    "import datetime\n",
    "import matplotlib.pyplot as plt"
   ]
  },
  {
   "cell_type": "code",
   "execution_count": 3,
   "id": "d10d5dca-0ab8-475a-995e-a3d5b133df5b",
   "metadata": {},
   "outputs": [],
   "source": [
    "import glob"
   ]
  },
  {
   "cell_type": "code",
   "execution_count": 4,
   "id": "028d3870-1202-404d-b449-dc7dfacd029b",
   "metadata": {},
   "outputs": [],
   "source": [
    "data_dir = \"/home/service/ipv6-measurements-mkoch/backup_2024/sra-analysis\""
   ]
  },
  {
   "cell_type": "code",
   "execution_count": 5,
   "id": "f527cbc1-137d-4b8b-9b0b-768a9b260083",
   "metadata": {},
   "outputs": [],
   "source": [
    "files = glob.glob(f'{DATA_DIR}/stability_scans/*.log.zst')"
   ]
  },
  {
   "cell_type": "code",
   "execution_count": 6,
   "id": "3c1a35f7-f929-4588-a891-790aecd949d0",
   "metadata": {},
   "outputs": [],
   "source": [
    "files.sort()"
   ]
  },
  {
   "cell_type": "code",
   "execution_count": 7,
   "id": "d15ca40d-cda8-4681-9511-1e40b93d5b45",
   "metadata": {},
   "outputs": [
    {
     "data": {
      "text/plain": [
       "['/home/service/artifacts-ipv6-sra-scanning/data/stability_scans/zmap_icmp_routerstability_1730764801.log.zst',\n",
       " '/home/service/artifacts-ipv6-sra-scanning/data/stability_scans/zmap_icmp_routerstability_1730786401.log.zst',\n",
       " '/home/service/artifacts-ipv6-sra-scanning/data/stability_scans/zmap_icmp_routerstability_1730808001.log.zst',\n",
       " '/home/service/artifacts-ipv6-sra-scanning/data/stability_scans/zmap_icmp_routerstability_1730829601.log.zst',\n",
       " '/home/service/artifacts-ipv6-sra-scanning/data/stability_scans/zmap_icmp_routerstability_1730851201.log.zst',\n",
       " '/home/service/artifacts-ipv6-sra-scanning/data/stability_scans/zmap_icmp_routerstability_1730872801.log.zst',\n",
       " '/home/service/artifacts-ipv6-sra-scanning/data/stability_scans/zmap_icmp_routerstability_1730894401.log.zst',\n",
       " '/home/service/artifacts-ipv6-sra-scanning/data/stability_scans/zmap_icmp_routerstability_1730916001.log.zst',\n",
       " '/home/service/artifacts-ipv6-sra-scanning/data/stability_scans/zmap_icmp_routerstability_1730937601.log.zst',\n",
       " '/home/service/artifacts-ipv6-sra-scanning/data/stability_scans/zmap_icmp_routerstability_1730959201.log.zst',\n",
       " '/home/service/artifacts-ipv6-sra-scanning/data/stability_scans/zmap_icmp_routerstability_1730980801.log.zst',\n",
       " '/home/service/artifacts-ipv6-sra-scanning/data/stability_scans/zmap_icmp_routerstability_1731002401.log.zst',\n",
       " '/home/service/artifacts-ipv6-sra-scanning/data/stability_scans/zmap_icmp_routerstability_1731024001.log.zst',\n",
       " '/home/service/artifacts-ipv6-sra-scanning/data/stability_scans/zmap_icmp_routerstability_1731456001.log.zst']"
      ]
     },
     "execution_count": 7,
     "metadata": {},
     "output_type": "execute_result"
    }
   ],
   "source": [
    "files"
   ]
  },
  {
   "cell_type": "code",
   "execution_count": 8,
   "id": "cf67bdd6-32a4-49b7-b964-6bacebe8c985",
   "metadata": {},
   "outputs": [],
   "source": [
    "def load_and_join(files):\n",
    "    df = pl.DataFrame()\n",
    "    for i in tqdm(range(len(files))):\n",
    "        if df.is_empty():\n",
    "            df = pl.read_csv(files[i],columns=['saddr','classification'])\n",
    "            df = df.filter(pl.col('classification')=='echoreply').select('saddr').unique()\n",
    "            df = df.with_columns(inscan=True)\n",
    "        else:\n",
    "            tmp = pl.read_csv(files[i],columns=['saddr','classification'])\n",
    "            tmp = tmp.filter(pl.col('classification')=='echoreply').select('saddr').unique()\n",
    "            tmp = tmp.with_columns(inscan=True)\n",
    "            df = df.join(tmp,on=['saddr'],how='full', suffix=f'_s{i}',coalesce=True)\n",
    "            \n",
    "    return df"
   ]
  },
  {
   "cell_type": "code",
   "execution_count": 9,
   "id": "7e95d3a7-692b-4d74-954f-cf18cab8f2dd",
   "metadata": {},
   "outputs": [
    {
     "data": {
      "application/vnd.jupyter.widget-view+json": {
       "model_id": "4721b278b9e94d75b4ed21322e7e48cf",
       "version_major": 2,
       "version_minor": 0
      },
      "text/plain": [
       "  0%|          | 0/14 [00:00<?, ?it/s]"
      ]
     },
     "metadata": {},
     "output_type": "display_data"
    }
   ],
   "source": [
    "df = load_and_join(files)"
   ]
  },
  {
   "cell_type": "code",
   "execution_count": 10,
   "id": "69a4806a-da64-43f8-ad46-830d9c6689b6",
   "metadata": {},
   "outputs": [
    {
     "name": "stdout",
     "output_type": "stream",
     "text": [
      "2024-11-05 00:00:01\n",
      "2024-11-05 06:00:01\n",
      "2024-11-05 12:00:01\n",
      "2024-11-05 18:00:01\n",
      "2024-11-06 00:00:01\n",
      "2024-11-06 06:00:01\n",
      "2024-11-06 12:00:01\n",
      "2024-11-06 18:00:01\n",
      "2024-11-07 00:00:01\n",
      "2024-11-07 06:00:01\n",
      "2024-11-07 12:00:01\n",
      "2024-11-07 18:00:01\n",
      "2024-11-08 00:00:01\n",
      "2024-11-13 00:00:01\n"
     ]
    }
   ],
   "source": [
    "for ts in [1730764801,\n",
    "           1730786401,\n",
    "           1730808001,\n",
    "           1730829601,\n",
    "           1730851201,\n",
    "           1730872801,\n",
    "           1730894401,\n",
    "           1730916001,\n",
    "           1730937601,\n",
    "           1730959201,\n",
    "           1730980801,\n",
    "           1731002401,\n",
    "           1731024001,\n",
    "           1731456001]:\n",
    "    value = datetime.datetime.fromtimestamp(ts)\n",
    "    print(value.strftime('%Y-%m-%d %H:%M:%S'))"
   ]
  },
  {
   "cell_type": "code",
   "execution_count": 11,
   "id": "344afe58-5fc3-4d54-bab0-e70daf6ea17d",
   "metadata": {},
   "outputs": [],
   "source": [
    "columns = ['inscan','inscan_s2','inscan_s6','inscan_s8','inscan_s10','inscan_s11','inscan_s12']"
   ]
  },
  {
   "cell_type": "code",
   "execution_count": 12,
   "id": "1abb378c-f6b1-40db-85c1-a7c2e36a42dd",
   "metadata": {},
   "outputs": [],
   "source": [
    "colors = [\"#375E97\", \"#FB6542\", \"#c1195c\", \"#37975e\"]\n",
    "linestyles = ['--','solid','-.',':']"
   ]
  },
  {
   "cell_type": "code",
   "execution_count": 13,
   "id": "4eadc8d0-0192-44c8-84e2-d02370ff4c2c",
   "metadata": {},
   "outputs": [],
   "source": [
    "df = df.with_columns(sumscans=pl.sum_horizontal(['inscan','inscan_s2','inscan_s6','inscan_s8','inscan_s10','inscan_s11','inscan_s12']))"
   ]
  },
  {
   "cell_type": "code",
   "execution_count": 14,
   "id": "02378b05-d169-43bb-8fa8-b974281f89b7",
   "metadata": {},
   "outputs": [],
   "source": [
    "x = [i for i in range(1,8)]\n",
    "y1 = []\n",
    "y2 = []\n",
    "y3 = []\n",
    "for column in ['inscan','inscan_s2','inscan_s6','inscan_s8','inscan_s10','inscan_s11','inscan_s12']:\n",
    "    yv1 = df.filter(pl.col(column)).select('saddr').n_unique()\n",
    "    y1.append(yv1)\n",
    "    yv2 = df.filter((pl.col(column)) & \n",
    "                   (pl.col('sumscans')==7)).select('saddr').n_unique()\n",
    "    y2.append(yv2)"
   ]
  },
  {
   "cell_type": "code",
   "execution_count": 21,
   "id": "79b648e1-ba3f-4fc7-86b6-e42dfca99ae9",
   "metadata": {},
   "outputs": [],
   "source": [
    "df.write_parquet(f'{INTERIM_DATA_DIR}/visibility-df.parquet')"
   ]
  },
  {
   "cell_type": "code",
   "execution_count": 17,
   "id": "86f4c41a-30b9-4411-9675-e49afd257704",
   "metadata": {},
   "outputs": [
    {
     "data": {
      "text/html": [
       "<div><style>\n",
       ".dataframe > thead > tr,\n",
       ".dataframe > tbody > tr {\n",
       "  text-align: right;\n",
       "  white-space: pre-wrap;\n",
       "}\n",
       "</style>\n",
       "<small>shape: (43_812_069, 16)</small><table border=\"1\" class=\"dataframe\"><thead><tr><th>saddr</th><th>inscan</th><th>inscan_s1</th><th>inscan_s2</th><th>inscan_s3</th><th>inscan_s4</th><th>inscan_s5</th><th>inscan_s6</th><th>inscan_s7</th><th>inscan_s8</th><th>inscan_s9</th><th>inscan_s10</th><th>inscan_s11</th><th>inscan_s12</th><th>inscan_s13</th><th>sumscans</th></tr><tr><td>str</td><td>bool</td><td>bool</td><td>bool</td><td>bool</td><td>bool</td><td>bool</td><td>bool</td><td>bool</td><td>bool</td><td>bool</td><td>bool</td><td>bool</td><td>bool</td><td>bool</td><td>u32</td></tr></thead><tbody><tr><td>&quot;2800:190:4000:33:d020:36dd:d95…</td><td>true</td><td>true</td><td>true</td><td>true</td><td>true</td><td>true</td><td>true</td><td>true</td><td>true</td><td>true</td><td>true</td><td>true</td><td>true</td><td>true</td><td>7</td></tr><tr><td>&quot;2806:290:a80a:59:fa6e:eeff:fe1…</td><td>true</td><td>true</td><td>true</td><td>true</td><td>true</td><td>true</td><td>true</td><td>true</td><td>true</td><td>true</td><td>true</td><td>true</td><td>null</td><td>null</td><td>6</td></tr><tr><td>&quot;2402:800:63ad:2cfa:c4f2:3a27:2…</td><td>true</td><td>true</td><td>true</td><td>true</td><td>true</td><td>true</td><td>true</td><td>true</td><td>true</td><td>true</td><td>true</td><td>true</td><td>true</td><td>true</td><td>7</td></tr><tr><td>&quot;2409:8a1e:80a:d71a:9247:3cff:f…</td><td>true</td><td>true</td><td>true</td><td>true</td><td>true</td><td>true</td><td>true</td><td>true</td><td>true</td><td>true</td><td>true</td><td>true</td><td>true</td><td>true</td><td>7</td></tr><tr><td>&quot;2800:190:4000:2600:54a2:d33d:a…</td><td>true</td><td>true</td><td>true</td><td>true</td><td>true</td><td>true</td><td>true</td><td>true</td><td>true</td><td>true</td><td>true</td><td>true</td><td>true</td><td>true</td><td>7</td></tr><tr><td>&hellip;</td><td>&hellip;</td><td>&hellip;</td><td>&hellip;</td><td>&hellip;</td><td>&hellip;</td><td>&hellip;</td><td>&hellip;</td><td>&hellip;</td><td>&hellip;</td><td>&hellip;</td><td>&hellip;</td><td>&hellip;</td><td>&hellip;</td><td>&hellip;</td><td>&hellip;</td></tr><tr><td>&quot;2406:7400:109:9a95::1&quot;</td><td>null</td><td>null</td><td>null</td><td>null</td><td>null</td><td>null</td><td>null</td><td>null</td><td>null</td><td>null</td><td>null</td><td>null</td><td>null</td><td>true</td><td>0</td></tr><tr><td>&quot;2406:7400:9b:7b01::1&quot;</td><td>null</td><td>null</td><td>null</td><td>null</td><td>null</td><td>null</td><td>null</td><td>null</td><td>null</td><td>null</td><td>null</td><td>null</td><td>null</td><td>true</td><td>0</td></tr><tr><td>&quot;2804:3d28:44:4077::1&quot;</td><td>null</td><td>null</td><td>null</td><td>null</td><td>null</td><td>null</td><td>null</td><td>null</td><td>null</td><td>null</td><td>null</td><td>null</td><td>null</td><td>true</td><td>0</td></tr><tr><td>&quot;2001:fb1:fd0:d4:8ee1:17ff:fe8f…</td><td>null</td><td>null</td><td>null</td><td>null</td><td>null</td><td>null</td><td>null</td><td>null</td><td>null</td><td>null</td><td>null</td><td>null</td><td>null</td><td>true</td><td>0</td></tr><tr><td>&quot;2402:8100:396b:e0c1::1&quot;</td><td>null</td><td>null</td><td>null</td><td>null</td><td>null</td><td>null</td><td>null</td><td>null</td><td>null</td><td>null</td><td>null</td><td>null</td><td>null</td><td>true</td><td>0</td></tr></tbody></table></div>"
      ],
      "text/plain": [
       "shape: (43_812_069, 16)\n",
       "┌────────────┬────────┬───────────┬───────────┬───┬────────────┬────────────┬───────────┬──────────┐\n",
       "│ saddr      ┆ inscan ┆ inscan_s1 ┆ inscan_s2 ┆ … ┆ inscan_s11 ┆ inscan_s12 ┆ inscan_s1 ┆ sumscans │\n",
       "│ ---        ┆ ---    ┆ ---       ┆ ---       ┆   ┆ ---        ┆ ---        ┆ 3         ┆ ---      │\n",
       "│ str        ┆ bool   ┆ bool      ┆ bool      ┆   ┆ bool       ┆ bool       ┆ ---       ┆ u32      │\n",
       "│            ┆        ┆           ┆           ┆   ┆            ┆            ┆ bool      ┆          │\n",
       "╞════════════╪════════╪═══════════╪═══════════╪═══╪════════════╪════════════╪═══════════╪══════════╡\n",
       "│ 2800:190:4 ┆ true   ┆ true      ┆ true      ┆ … ┆ true       ┆ true       ┆ true      ┆ 7        │\n",
       "│ 000:33:d02 ┆        ┆           ┆           ┆   ┆            ┆            ┆           ┆          │\n",
       "│ 0:36dd:d95 ┆        ┆           ┆           ┆   ┆            ┆            ┆           ┆          │\n",
       "│ …          ┆        ┆           ┆           ┆   ┆            ┆            ┆           ┆          │\n",
       "│ 2806:290:a ┆ true   ┆ true      ┆ true      ┆ … ┆ true       ┆ null       ┆ null      ┆ 6        │\n",
       "│ 80a:59:fa6 ┆        ┆           ┆           ┆   ┆            ┆            ┆           ┆          │\n",
       "│ e:eeff:fe1 ┆        ┆           ┆           ┆   ┆            ┆            ┆           ┆          │\n",
       "│ …          ┆        ┆           ┆           ┆   ┆            ┆            ┆           ┆          │\n",
       "│ 2402:800:6 ┆ true   ┆ true      ┆ true      ┆ … ┆ true       ┆ true       ┆ true      ┆ 7        │\n",
       "│ 3ad:2cfa:c ┆        ┆           ┆           ┆   ┆            ┆            ┆           ┆          │\n",
       "│ 4f2:3a27:2 ┆        ┆           ┆           ┆   ┆            ┆            ┆           ┆          │\n",
       "│ …          ┆        ┆           ┆           ┆   ┆            ┆            ┆           ┆          │\n",
       "│ 2409:8a1e: ┆ true   ┆ true      ┆ true      ┆ … ┆ true       ┆ true       ┆ true      ┆ 7        │\n",
       "│ 80a:d71a:9 ┆        ┆           ┆           ┆   ┆            ┆            ┆           ┆          │\n",
       "│ 247:3cff:f ┆        ┆           ┆           ┆   ┆            ┆            ┆           ┆          │\n",
       "│ …          ┆        ┆           ┆           ┆   ┆            ┆            ┆           ┆          │\n",
       "│ 2800:190:4 ┆ true   ┆ true      ┆ true      ┆ … ┆ true       ┆ true       ┆ true      ┆ 7        │\n",
       "│ 000:2600:5 ┆        ┆           ┆           ┆   ┆            ┆            ┆           ┆          │\n",
       "│ 4a2:d33d:a ┆        ┆           ┆           ┆   ┆            ┆            ┆           ┆          │\n",
       "│ …          ┆        ┆           ┆           ┆   ┆            ┆            ┆           ┆          │\n",
       "│ …          ┆ …      ┆ …         ┆ …         ┆ … ┆ …          ┆ …          ┆ …         ┆ …        │\n",
       "│ 2406:7400: ┆ null   ┆ null      ┆ null      ┆ … ┆ null       ┆ null       ┆ true      ┆ 0        │\n",
       "│ 109:9a95:: ┆        ┆           ┆           ┆   ┆            ┆            ┆           ┆          │\n",
       "│ 1          ┆        ┆           ┆           ┆   ┆            ┆            ┆           ┆          │\n",
       "│ 2406:7400: ┆ null   ┆ null      ┆ null      ┆ … ┆ null       ┆ null       ┆ true      ┆ 0        │\n",
       "│ 9b:7b01::1 ┆        ┆           ┆           ┆   ┆            ┆            ┆           ┆          │\n",
       "│ 2804:3d28: ┆ null   ┆ null      ┆ null      ┆ … ┆ null       ┆ null       ┆ true      ┆ 0        │\n",
       "│ 44:4077::1 ┆        ┆           ┆           ┆   ┆            ┆            ┆           ┆          │\n",
       "│ 2001:fb1:f ┆ null   ┆ null      ┆ null      ┆ … ┆ null       ┆ null       ┆ true      ┆ 0        │\n",
       "│ d0:d4:8ee1 ┆        ┆           ┆           ┆   ┆            ┆            ┆           ┆          │\n",
       "│ :17ff:fe8f ┆        ┆           ┆           ┆   ┆            ┆            ┆           ┆          │\n",
       "│ …          ┆        ┆           ┆           ┆   ┆            ┆            ┆           ┆          │\n",
       "│ 2402:8100: ┆ null   ┆ null      ┆ null      ┆ … ┆ null       ┆ null       ┆ true      ┆ 0        │\n",
       "│ 396b:e0c1: ┆        ┆           ┆           ┆   ┆            ┆            ┆           ┆          │\n",
       "│ :1         ┆        ┆           ┆           ┆   ┆            ┆            ┆           ┆          │\n",
       "└────────────┴────────┴───────────┴───────────┴───┴────────────┴────────────┴───────────┴──────────┘"
      ]
     },
     "execution_count": 17,
     "metadata": {},
     "output_type": "execute_result"
    }
   ],
   "source": [
    "df"
   ]
  },
  {
   "cell_type": "code",
   "execution_count": 15,
   "id": "e3a07145-9987-4ef7-8b5b-68ca012d31c2",
   "metadata": {},
   "outputs": [],
   "source": [
    "plt.rc(\"font\", size=12)"
   ]
  },
  {
   "cell_type": "code",
   "execution_count": 24,
   "id": "c9d4a78f-4f50-4379-86b0-d040b9f4d507",
   "metadata": {},
   "outputs": [
    {
     "data": {
      "image/png": "[encoded data removed]",
      "text/plain": [
       "<Figure size 560x210 with 2 Axes>"
      ]
     },
     "metadata": {},
     "output_type": "display_data"
    }
   ],
   "source": [
    "# If we were to simply plot pts, we'd lose most of the interesting\n",
    "# details due to the outliers. So let's 'break' or 'cut-out' the y-axis\n",
    "# into two portions - use the top (ax) for the outliers, and the bottom\n",
    "# (ax2) for the details of the majority of our data\n",
    "f, (ax, ax2) = plt.subplots(2, 1, sharex=True,figsize=(8*0.7,3*0.7),gridspec_kw={'height_ratios':[0.3,0.7]})\n",
    "\n",
    "# plot the same data on both axes\n",
    "ax.axhline(132571352,linestyle='--',color=colors[2],label='Scanned')\n",
    "ax2.plot(x,y1,marker='s',label='Responsive per Scan',color=colors[3])\n",
    "\n",
    "# zoom-in / limit the view to different portions of the data\n",
    "ax.set_ylim(129*10**6, 135*10**6)  # outliers only\n",
    "ax2.set_ylim(2*10**7,5*10**7)\n",
    "\n",
    "ax.set_xlim(1,7)\n",
    "ax.set_yticks([13*10**7,13.5*10**7])\n",
    "ax.set_yticklabels(['130M','135M'])\n",
    "\n",
    "ax.set_xticks([])\n",
    "ax2.set_xticks([1,2,3,4,5,6,7])\n",
    "# hide the spines between ax and ax2\n",
    "ax.spines['bottom'].set_visible(False)\n",
    "ax2.spines['top'].set_visible(False)\n",
    "#ax.xaxis.tick_top()\n",
    "ax.tick_params(labeltop=False)  # don't put tick labels at the top\n",
    "ax2.xaxis.tick_bottom()\n",
    "\n",
    "ax2.set_yticks([2*10**7,3*10**7,4*10**7,5*10**7])\n",
    "ax2.set_yticklabels(['20M','30M','40M','50M'])\n",
    "ax2.set_xlabel('Subsequent Scan [ID]')\n",
    "ax2.set_ylabel('Router IP Addresses [#]')\n",
    "h1,l1 = ax.get_legend_handles_labels()\n",
    "h2,l2 = ax2.get_legend_handles_labels()\n",
    "ax2.legend(h1+h2,l1+l2,loc='upper center',ncol=2,bbox_to_anchor=(0.5,2),framealpha=1)\n",
    "#ax2.grid(axis='y')\n",
    "\n",
    "ax2.yaxis.set_label_coords(-0.135, 0.8)\n",
    "\n",
    "#ax2.axhline(y2[0],linestyle='--',color=colors[3])\n",
    "ax2.axhspan(0,y2[0],0,8,color=colors[3], alpha=0.2)\n",
    "ax2.text(2.7,2.35*10**7,'Always responsive (21.8%)',color='grey')\n",
    "d = .015  # how big to make the diagonal lines in axes coordinates\n",
    "# arguments to pass to plot, just so we don't keep repeating them\n",
    "kwargs = dict(transform=ax.transAxes, color='k', clip_on=False)\n",
    "ax.plot((-d, +d), (-d, +d), **kwargs)        # top-left diagonal\n",
    "ax.plot((1 - d, 1 + d), (-d, +d), **kwargs)  # top-right diagonal\n",
    "\n",
    "ax2.text(2.9,4.3*10**7,'Unresponsive (70-76%)',color='grey')\n",
    "\n",
    "ax2.fill_between(\n",
    "    x,y1, [132571352]*7, \n",
    "    interpolate=True, color=\"red\", alpha=0.2\n",
    ")\n",
    "ax.fill_between(\n",
    "    x,y1, [132571352]*7, \n",
    "    interpolate=True, color=\"red\", alpha=0.2\n",
    ")\n",
    "\n",
    "#f.subplots_adjust(hspace=0.01)\n",
    "kwargs.update(transform=ax2.transAxes)  # switch to the bottom axes\n",
    "ax2.plot((-d, +d), (1 - d, 1 + d), **kwargs)  # bottom-left diagonal\n",
    "ax2.plot((1 - d, 1 + d), (1 - d, 1 + d), **kwargs)  # bottom-right diagonal\n",
    "\n",
    "plt.savefig('../reports/figures/routerstability.pdf',bbox_inches='tight')\n",
    "\n",
    "plt.show()\n",
    "plt.close()"
   ]
  },
  {
   "cell_type": "code",
   "execution_count": null,
   "id": "afaad67b-127b-4055-a37e-1ae71702fb5a",
   "metadata": {},
   "outputs": [],
   "source": [
    "y2[0]/132571352*100"
   ]
  },
  {
   "cell_type": "code",
   "execution_count": null,
   "id": "22ac574c-2559-407a-8a1c-84711cdb211b",
   "metadata": {},
   "outputs": [],
   "source": [
    "(1-(y1[0]/132571352))*100"
   ]
  },
  {
   "cell_type": "code",
   "execution_count": null,
   "id": "96f3a812-e450-4953-bf2a-17070c1190b9",
   "metadata": {},
   "outputs": [],
   "source": [
    "(1-y1[-1]/132571352)*100"
   ]
  },
  {
   "cell_type": "code",
   "execution_count": null,
   "id": "542e5267-3686-4fba-ad7c-145f7f4482dd",
   "metadata": {},
   "outputs": [],
   "source": [
    "y1 #[40149181, 38854671, 35885420, 33779016, 33105186, 32481363, 31612755]"
   ]
  },
  {
   "cell_type": "code",
   "execution_count": null,
   "id": "d158df30-09fe-4fca-a8c8-c1841e694ccf",
   "metadata": {},
   "outputs": [],
   "source": [
    "y2 #[28843348, 28843348, 28843348, 28843348, 28843348, 28843348, 28843348]"
   ]
  },
  {
   "cell_type": "code",
   "execution_count": null,
   "id": "aa665c4c-0de7-40ef-89f6-1b3ce6c2218a",
   "metadata": {},
   "outputs": [],
   "source": []
  }
 ],
 "metadata": {
  "kernelspec": {
   "display_name": "Python 3 (ipykernel)",
   "language": "python",
   "name": "python3"
  },
  "language_info": {
   "codemirror_mode": {
    "name": "ipython",
    "version": 3
   },
   "file_extension": ".py",
   "mimetype": "text/x-python",
   "name": "python",
   "nbconvert_exporter": "python",
   "pygments_lexer": "ipython3",
   "version": "3.12.11"
  }
 },
 "nbformat": 4,
 "nbformat_minor": 5
}
