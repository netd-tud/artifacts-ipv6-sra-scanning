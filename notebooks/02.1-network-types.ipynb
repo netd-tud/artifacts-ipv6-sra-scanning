{
 "cells": [
  {
   "cell_type": "code",
   "execution_count": 1,
   "id": "7e73e847-9966-404f-9cf1-9598ffc19c50",
   "metadata": {},
   "outputs": [
    {
     "name": "stderr",
     "output_type": "stream",
     "text": [
      "\u001b[32m2025-10-08 21:30:18.254\u001b[0m | \u001b[1mINFO    \u001b[0m | \u001b[36martifacts_ipv6_sra_scanning.config\u001b[0m:\u001b[36m<module>\u001b[0m:\u001b[36m22\u001b[0m - \u001b[1mPROJ_ROOT path is: /home/service/artifacts-ipv6-sra-scanning\u001b[0m\n"
     ]
    }
   ],
   "source": [
    "from artifacts_ipv6_sra_scanning.config import *\n",
    "import pickle\n",
    "import os\n",
    "import ipaddress\n",
    "import glob\n",
    "import pycountry_convert as pycc\n",
    "import country_converter as coco\n",
    "from parallel_pandas import ParallelPandas\n",
    "ParallelPandas.initialize(n_cpu=24, split_factor=1, disable_pr_bar=False)"
   ]
  },
  {
   "cell_type": "code",
   "execution_count": 2,
   "id": "563efe8c-eb4c-45c9-be20-90d06e2876c9",
   "metadata": {},
   "outputs": [],
   "source": [
    "files = glob.glob(f'{INTERIM_DATA_DIR}/*.csv')"
   ]
  },
  {
   "cell_type": "code",
   "execution_count": 3,
   "id": "0337aad5-bf86-40c0-bdab-8dc5029c46f0",
   "metadata": {},
   "outputs": [],
   "source": [
    "files = [file for file in files if 'ixp-ips' not in file]"
   ]
  },
  {
   "cell_type": "code",
   "execution_count": 4,
   "id": "c33e848a-0d83-435d-bf91-f5d20c3fb8ee",
   "metadata": {},
   "outputs": [
    {
     "data": {
      "text/plain": [
       "['/home/service/artifacts-ipv6-sra-scanning/data/interim/router-ips.csv',\n",
       " '/home/service/artifacts-ipv6-sra-scanning/data/interim/hitlist-ips.csv',\n",
       " '/home/service/artifacts-ipv6-sra-scanning/data/interim/itdk-ips.csv',\n",
       " '/home/service/artifacts-ipv6-sra-scanning/data/interim/ripe-ips.csv',\n",
       " '/home/service/artifacts-ipv6-sra-scanning/data/interim/init-ips-sra-tum-scan.csv',\n",
       " '/home/service/artifacts-ipv6-sra-scanning/data/interim/init-ips-sra-bgp48-scan.csv']"
      ]
     },
     "execution_count": 4,
     "metadata": {},
     "output_type": "execute_result"
    }
   ],
   "source": [
    "files"
   ]
  },
  {
   "cell_type": "code",
   "execution_count": 5,
   "id": "4b10d150-38d9-4616-92a4-f24d61958e94",
   "metadata": {},
   "outputs": [],
   "source": [
    "info_columns = ['Geo','AS-Number','BGP-Prefix','Org']"
   ]
  },
  {
   "cell_type": "code",
   "execution_count": 6,
   "id": "13ee950f-3121-400c-9276-f2232c6fd62e",
   "metadata": {},
   "outputs": [],
   "source": [
    "ipinfo_asn = pl.read_parquet('/home/service/ipinfos/ipinfo_asn.parquet')"
   ]
  },
  {
   "cell_type": "code",
   "execution_count": 7,
   "id": "8ca2beb6-a027-484e-8067-4cb66319ee69",
   "metadata": {},
   "outputs": [],
   "source": [
    "ipinfo_asn = ipinfo_asn.with_columns(pl.col('asn').str.replace('AS','').cast(pl.Float64))"
   ]
  },
  {
   "cell_type": "code",
   "execution_count": 8,
   "id": "5348af4c-439b-492d-96fb-05ca686bb9e5",
   "metadata": {},
   "outputs": [
    {
     "data": {
      "text/html": [
       "<div><style>\n",
       ".dataframe > thead > tr,\n",
       ".dataframe > tbody > tr {\n",
       "  text-align: right;\n",
       "  white-space: pre-wrap;\n",
       "}\n",
       "</style>\n",
       "<small>shape: (1_606_555, 6)</small><table border=\"1\" class=\"dataframe\"><thead><tr><th>network</th><th>asn</th><th>domain</th><th>name</th><th>type</th><th>country</th></tr><tr><td>str</td><td>f64</td><td>str</td><td>str</td><td>str</td><td>str</td></tr></thead><tbody><tr><td>&quot;1.0.0.0/24&quot;</td><td>13335.0</td><td>&quot;cloudflare.com&quot;</td><td>&quot;Cloudflare, Inc.&quot;</td><td>&quot;hosting&quot;</td><td>&quot;US&quot;</td></tr><tr><td>&quot;1.0.4.0/24&quot;</td><td>38803.0</td><td>&quot;gtelecom.com.au&quot;</td><td>&quot;Gtelecom Pty Ltd&quot;</td><td>&quot;isp&quot;</td><td>&quot;AU&quot;</td></tr><tr><td>&quot;1.0.5.0/24&quot;</td><td>38803.0</td><td>&quot;gtelecom.com.au&quot;</td><td>&quot;Gtelecom Pty Ltd&quot;</td><td>&quot;isp&quot;</td><td>&quot;AU&quot;</td></tr><tr><td>&quot;1.0.6.0/24&quot;</td><td>38803.0</td><td>&quot;gtelecom.com.au&quot;</td><td>&quot;Gtelecom Pty Ltd&quot;</td><td>&quot;isp&quot;</td><td>&quot;AU&quot;</td></tr><tr><td>&quot;1.0.7.0/24&quot;</td><td>38803.0</td><td>&quot;gtelecom.com.au&quot;</td><td>&quot;Gtelecom Pty Ltd&quot;</td><td>&quot;isp&quot;</td><td>&quot;AU&quot;</td></tr><tr><td>&hellip;</td><td>&hellip;</td><td>&hellip;</td><td>&hellip;</td><td>&hellip;</td><td>&hellip;</td></tr><tr><td>&quot;2c0f:ffa8::/32&quot;</td><td>37057.0</td><td>&quot;vodacom.co.ls&quot;</td><td>&quot;Vodacom Lesotho (Pty) Ltd&quot;</td><td>&quot;isp&quot;</td><td>&quot;LS&quot;</td></tr><tr><td>&quot;2c0f:ffc8::/32&quot;</td><td>22355.0</td><td>&quot;frogfoot.com&quot;</td><td>&quot;Frogfoot Networks&quot;</td><td>&quot;isp&quot;</td><td>&quot;ZA&quot;</td></tr><tr><td>&quot;2c0f:ffd0::/32&quot;</td><td>36968.0</td><td>&quot;ecn.co.za&quot;</td><td>&quot;Electronic Communications Netw…</td><td>&quot;isp&quot;</td><td>&quot;ZA&quot;</td></tr><tr><td>&quot;2c0f:ffd8::/32&quot;</td><td>37105.0</td><td>&quot;rain.co.za&quot;</td><td>&quot;RAIN GROUP HOLDINGS (PTY) LTD&quot;</td><td>&quot;isp&quot;</td><td>&quot;ZA&quot;</td></tr><tr><td>&quot;2c0f:fff0::/32&quot;</td><td>37125.0</td><td>&quot;layer3.ng&quot;</td><td>&quot;Layer3 Limited&quot;</td><td>&quot;hosting&quot;</td><td>&quot;NG&quot;</td></tr></tbody></table></div>"
      ],
      "text/plain": [
       "shape: (1_606_555, 6)\n",
       "┌────────────────┬─────────┬─────────────────┬─────────────────────────────────┬─────────┬─────────┐\n",
       "│ network        ┆ asn     ┆ domain          ┆ name                            ┆ type    ┆ country │\n",
       "│ ---            ┆ ---     ┆ ---             ┆ ---                             ┆ ---     ┆ ---     │\n",
       "│ str            ┆ f64     ┆ str             ┆ str                             ┆ str     ┆ str     │\n",
       "╞════════════════╪═════════╪═════════════════╪═════════════════════════════════╪═════════╪═════════╡\n",
       "│ 1.0.0.0/24     ┆ 13335.0 ┆ cloudflare.com  ┆ Cloudflare, Inc.                ┆ hosting ┆ US      │\n",
       "│ 1.0.4.0/24     ┆ 38803.0 ┆ gtelecom.com.au ┆ Gtelecom Pty Ltd                ┆ isp     ┆ AU      │\n",
       "│ 1.0.5.0/24     ┆ 38803.0 ┆ gtelecom.com.au ┆ Gtelecom Pty Ltd                ┆ isp     ┆ AU      │\n",
       "│ 1.0.6.0/24     ┆ 38803.0 ┆ gtelecom.com.au ┆ Gtelecom Pty Ltd                ┆ isp     ┆ AU      │\n",
       "│ 1.0.7.0/24     ┆ 38803.0 ┆ gtelecom.com.au ┆ Gtelecom Pty Ltd                ┆ isp     ┆ AU      │\n",
       "│ …              ┆ …       ┆ …               ┆ …                               ┆ …       ┆ …       │\n",
       "│ 2c0f:ffa8::/32 ┆ 37057.0 ┆ vodacom.co.ls   ┆ Vodacom Lesotho (Pty) Ltd       ┆ isp     ┆ LS      │\n",
       "│ 2c0f:ffc8::/32 ┆ 22355.0 ┆ frogfoot.com    ┆ Frogfoot Networks               ┆ isp     ┆ ZA      │\n",
       "│ 2c0f:ffd0::/32 ┆ 36968.0 ┆ ecn.co.za       ┆ Electronic Communications Netw… ┆ isp     ┆ ZA      │\n",
       "│ 2c0f:ffd8::/32 ┆ 37105.0 ┆ rain.co.za      ┆ RAIN GROUP HOLDINGS (PTY) LTD   ┆ isp     ┆ ZA      │\n",
       "│ 2c0f:fff0::/32 ┆ 37125.0 ┆ layer3.ng       ┆ Layer3 Limited                  ┆ hosting ┆ NG      │\n",
       "└────────────────┴─────────┴─────────────────┴─────────────────────────────────┴─────────┴─────────┘"
      ]
     },
     "execution_count": 8,
     "metadata": {},
     "output_type": "execute_result"
    }
   ],
   "source": [
    "ipinfo_asn"
   ]
  },
  {
   "cell_type": "code",
   "execution_count": 9,
   "id": "32ed92b4-2bb2-4e21-a3f7-dc5d04c6f95c",
   "metadata": {},
   "outputs": [],
   "source": [
    "router_ips = pl.read_csv(files[0])"
   ]
  },
  {
   "cell_type": "code",
   "execution_count": 10,
   "id": "341d242d-1d7e-49e9-ad25-6ba113bbb937",
   "metadata": {},
   "outputs": [],
   "source": [
    "router_ips = router_ips.filter(pl.col('ip-addr')!='saddr')"
   ]
  },
  {
   "cell_type": "code",
   "execution_count": 11,
   "id": "d1e1b0a1-6156-42bd-92ef-dde733054321",
   "metadata": {},
   "outputs": [
    {
     "data": {
      "text/html": [
       "<div><style>\n",
       ".dataframe > thead > tr,\n",
       ".dataframe > tbody > tr {\n",
       "  text-align: right;\n",
       "  white-space: pre-wrap;\n",
       "}\n",
       "</style>\n",
       "<small>shape: (132_572_621, 5)</small><table border=\"1\" class=\"dataframe\"><thead><tr><th>ip-addr</th><th>Geo</th><th>AS-Number</th><th>BGP-Prefix</th><th>Org</th></tr><tr><td>str</td><td>str</td><td>f64</td><td>str</td><td>str</td></tr></thead><tbody><tr><td>&quot;2402:b400:4440:53ef:c822:8bff:…</td><td>&quot;MYS&quot;</td><td>45960.0</td><td>&quot;2402:b400:4440::/46&quot;</td><td>&quot;YTLCOMMS-AS-AP YTL COMMUNICATI…</td></tr><tr><td>&quot;2003:e6:37ff:3ab2:3ea6:2fff:fe…</td><td>&quot;DEU&quot;</td><td>3320.0</td><td>&quot;2003::/19&quot;</td><td>&quot;DTAG Internet service provider…</td></tr><tr><td>&quot;2405:8d40:4081:579:1807:c46a:e…</td><td>&quot;PHL&quot;</td><td>139831.0</td><td>&quot;2405:8d40:4080::/42&quot;</td><td>&quot;DTC-AS-AP DITO TELECOMMUNITY C…</td></tr><tr><td>&quot;240e:358:9c0a:13ec:ae64:62ff:f…</td><td>&quot;CHN&quot;</td><td>4134.0</td><td>&quot;240e:358::/29&quot;</td><td>&quot;CHINANET-BACKBONE No.31,Jin-ro…</td></tr><tr><td>&quot;2408:8441:5808:10fa:1807:f6b5:…</td><td>&quot;CHN&quot;</td><td>4837.0</td><td>&quot;2408:8441::/32&quot;</td><td>&quot;CHINA169-BACKBONE CHINA UNICOM…</td></tr><tr><td>&hellip;</td><td>&hellip;</td><td>&hellip;</td><td>&hellip;</td><td>&hellip;</td></tr><tr><td>&quot;2409:8a20:680b:c2c:be9e:2cff:f…</td><td>&quot;CHN&quot;</td><td>56046.0</td><td>&quot;2409:8a20:6800::/40&quot;</td><td>&quot;CMNET-JIANGSU-AP China Mobile …</td></tr><tr><td>&quot;2402:8100:3927:19b:b9dd:7976:1…</td><td>&quot;IND&quot;</td><td>45271.0</td><td>&quot;2402:8100:3927::/48&quot;</td><td>&quot;ICLNET-AS-AP Idea Cellular Lim…</td></tr><tr><td>&quot;2402:800:620a:485f:a816:567b:4…</td><td>&quot;VNM&quot;</td><td>7552.0</td><td>&quot;2402:800:620a::/48&quot;</td><td>&quot;VIETEL-AS-AP Viettel Group&quot;</td></tr><tr><td>&quot;240f:142:6255:1:a33:edff:fe40:…</td><td>&quot;JPN&quot;</td><td>2516.0</td><td>&quot;240f:100::/24&quot;</td><td>&quot;KDDI KDDI CORPORATION&quot;</td></tr><tr><td>&quot;2401:4900:5035:fc46:1:0:9382:f…</td><td>&quot;IND&quot;</td><td>45609.0</td><td>&quot;2401:4900:5035::/48&quot;</td><td>&quot;BHARTI-MOBILITY-AS-AP Bharti A…</td></tr></tbody></table></div>"
      ],
      "text/plain": [
       "shape: (132_572_621, 5)\n",
       "┌─────────────────────────────┬─────┬───────────┬─────────────────────┬────────────────────────────┐\n",
       "│ ip-addr                     ┆ Geo ┆ AS-Number ┆ BGP-Prefix          ┆ Org                        │\n",
       "│ ---                         ┆ --- ┆ ---       ┆ ---                 ┆ ---                        │\n",
       "│ str                         ┆ str ┆ f64       ┆ str                 ┆ str                        │\n",
       "╞═════════════════════════════╪═════╪═══════════╪═════════════════════╪════════════════════════════╡\n",
       "│ 2402:b400:4440:53ef:c822:8b ┆ MYS ┆ 45960.0   ┆ 2402:b400:4440::/46 ┆ YTLCOMMS-AS-AP YTL         │\n",
       "│ ff:…                        ┆     ┆           ┆                     ┆ COMMUNICATI…               │\n",
       "│ 2003:e6:37ff:3ab2:3ea6:2fff ┆ DEU ┆ 3320.0    ┆ 2003::/19           ┆ DTAG Internet service      │\n",
       "│ :fe…                        ┆     ┆           ┆                     ┆ provider…                  │\n",
       "│ 2405:8d40:4081:579:1807:c46 ┆ PHL ┆ 139831.0  ┆ 2405:8d40:4080::/42 ┆ DTC-AS-AP DITO             │\n",
       "│ a:e…                        ┆     ┆           ┆                     ┆ TELECOMMUNITY C…           │\n",
       "│ 240e:358:9c0a:13ec:ae64:62f ┆ CHN ┆ 4134.0    ┆ 240e:358::/29       ┆ CHINANET-BACKBONE          │\n",
       "│ f:f…                        ┆     ┆           ┆                     ┆ No.31,Jin-ro…              │\n",
       "│ 2408:8441:5808:10fa:1807:f6 ┆ CHN ┆ 4837.0    ┆ 2408:8441::/32      ┆ CHINA169-BACKBONE CHINA    │\n",
       "│ b5:…                        ┆     ┆           ┆                     ┆ UNICOM…                    │\n",
       "│ …                           ┆ …   ┆ …         ┆ …                   ┆ …                          │\n",
       "│ 2409:8a20:680b:c2c:be9e:2cf ┆ CHN ┆ 56046.0   ┆ 2409:8a20:6800::/40 ┆ CMNET-JIANGSU-AP China     │\n",
       "│ f:f…                        ┆     ┆           ┆                     ┆ Mobile …                   │\n",
       "│ 2402:8100:3927:19b:b9dd:797 ┆ IND ┆ 45271.0   ┆ 2402:8100:3927::/48 ┆ ICLNET-AS-AP Idea Cellular │\n",
       "│ 6:1…                        ┆     ┆           ┆                     ┆ Lim…                       │\n",
       "│ 2402:800:620a:485f:a816:567 ┆ VNM ┆ 7552.0    ┆ 2402:800:620a::/48  ┆ VIETEL-AS-AP Viettel Group │\n",
       "│ b:4…                        ┆     ┆           ┆                     ┆                            │\n",
       "│ 240f:142:6255:1:a33:edff:fe ┆ JPN ┆ 2516.0    ┆ 240f:100::/24       ┆ KDDI KDDI CORPORATION      │\n",
       "│ 40:…                        ┆     ┆           ┆                     ┆                            │\n",
       "│ 2401:4900:5035:fc46:1:0:938 ┆ IND ┆ 45609.0   ┆ 2401:4900:5035::/48 ┆ BHARTI-MOBILITY-AS-AP      │\n",
       "│ 2:f…                        ┆     ┆           ┆                     ┆ Bharti A…                  │\n",
       "└─────────────────────────────┴─────┴───────────┴─────────────────────┴────────────────────────────┘"
      ]
     },
     "execution_count": 11,
     "metadata": {},
     "output_type": "execute_result"
    }
   ],
   "source": [
    "router_ips"
   ]
  },
  {
   "cell_type": "code",
   "execution_count": 12,
   "id": "d77ef3bb-7410-4a95-ad4c-cf2bf7747729",
   "metadata": {},
   "outputs": [],
   "source": [
    "router_asn = router_ips.select(['Geo','AS-Number','ip-addr']).unique()"
   ]
  },
  {
   "cell_type": "code",
   "execution_count": 13,
   "id": "5c824f01-4122-415e-aab2-b2afe33b2746",
   "metadata": {},
   "outputs": [],
   "source": [
    "router_asn = router_asn.join(ipinfo_asn.select(['asn','type']).unique(),how='left',left_on='AS-Number',right_on='asn')"
   ]
  },
  {
   "cell_type": "code",
   "execution_count": 14,
   "id": "12e15752-b5f7-45e8-8395-b29cfa324900",
   "metadata": {},
   "outputs": [
    {
     "data": {
      "text/html": [
       "<div><style>\n",
       ".dataframe > thead > tr,\n",
       ".dataframe > tbody > tr {\n",
       "  text-align: right;\n",
       "  white-space: pre-wrap;\n",
       "}\n",
       "</style>\n",
       "<small>shape: (7, 2)</small><table border=\"1\" class=\"dataframe\"><thead><tr><th>type</th><th>proportion</th></tr><tr><td>str</td><td>f64</td></tr></thead><tbody><tr><td>&quot;inactive&quot;</td><td>1.5086e-8</td></tr><tr><td>&quot;government&quot;</td><td>0.000048</td></tr><tr><td>&quot;education&quot;</td><td>0.00018</td></tr><tr><td>&quot;hosting&quot;</td><td>0.005616</td></tr><tr><td>&quot;business&quot;</td><td>0.009512</td></tr><tr><td>null</td><td>0.020297</td></tr><tr><td>&quot;isp&quot;</td><td>0.964346</td></tr></tbody></table></div>"
      ],
      "text/plain": [
       "shape: (7, 2)\n",
       "┌────────────┬────────────┐\n",
       "│ type       ┆ proportion │\n",
       "│ ---        ┆ ---        │\n",
       "│ str        ┆ f64        │\n",
       "╞════════════╪════════════╡\n",
       "│ inactive   ┆ 1.5086e-8  │\n",
       "│ government ┆ 0.000048   │\n",
       "│ education  ┆ 0.00018    │\n",
       "│ hosting    ┆ 0.005616   │\n",
       "│ business   ┆ 0.009512   │\n",
       "│ null       ┆ 0.020297   │\n",
       "│ isp        ┆ 0.964346   │\n",
       "└────────────┴────────────┘"
      ]
     },
     "execution_count": 14,
     "metadata": {},
     "output_type": "execute_result"
    }
   ],
   "source": [
    "router_asn['type'].value_counts(normalize=True).sort('proportion')"
   ]
  },
  {
   "cell_type": "code",
   "execution_count": 15,
   "id": "2e75261c-9eb7-4aab-97df-4a61dbe7f217",
   "metadata": {},
   "outputs": [
    {
     "data": {
      "text/html": [
       "<div><style>\n",
       ".dataframe > thead > tr,\n",
       ".dataframe > tbody > tr {\n",
       "  text-align: right;\n",
       "  white-space: pre-wrap;\n",
       "}\n",
       "</style>\n",
       "<small>shape: (132_572_621, 4)</small><table border=\"1\" class=\"dataframe\"><thead><tr><th>Geo</th><th>AS-Number</th><th>ip-addr</th><th>type</th></tr><tr><td>str</td><td>f64</td><td>str</td><td>str</td></tr></thead><tbody><tr><td>&quot;IND&quot;</td><td>38266.0</td><td>&quot;2402:3a80:1e13:a619:0:36:8b41:…</td><td>&quot;isp&quot;</td></tr><tr><td>&quot;CHN&quot;</td><td>134774.0</td><td>&quot;240e:3b0:320a:2a03:a210:77ff:f…</td><td>&quot;hosting&quot;</td></tr><tr><td>&quot;CHN&quot;</td><td>56046.0</td><td>&quot;2409:8a20:9c08:29ed:8e2:cdff:f…</td><td>&quot;isp&quot;</td></tr><tr><td>&quot;DEU&quot;</td><td>3209.0</td><td>&quot;2a02:810d:8000:6d:b0cb:637b:76…</td><td>&quot;isp&quot;</td></tr><tr><td>&quot;PER&quot;</td><td>12252.0</td><td>&quot;2800:200:e598:517:97e:d5a4:99e…</td><td>&quot;isp&quot;</td></tr><tr><td>&hellip;</td><td>&hellip;</td><td>&hellip;</td><td>&hellip;</td></tr><tr><td>&quot;IND&quot;</td><td>38266.0</td><td>&quot;2402:3a80:4428:c47a:edc3:6b1f:…</td><td>&quot;isp&quot;</td></tr><tr><td>&quot;CHN&quot;</td><td>4134.0</td><td>&quot;240e:348:7e04:279a:7626:ffff:f…</td><td>&quot;isp&quot;</td></tr><tr><td>&quot;CHN&quot;</td><td>4837.0</td><td>&quot;2408:823c:5400:5c5d:46a3:c7ff:…</td><td>&quot;isp&quot;</td></tr><tr><td>&quot;CHN&quot;</td><td>4134.0</td><td>&quot;240e:398:ad03:af3e:a04c:c74:d2…</td><td>&quot;isp&quot;</td></tr><tr><td>&quot;LKA&quot;</td><td>18001.0</td><td>&quot;2402:4000:124e:d7d0:1:0:c653:8…</td><td>&quot;isp&quot;</td></tr></tbody></table></div>"
      ],
      "text/plain": [
       "shape: (132_572_621, 4)\n",
       "┌─────┬───────────┬─────────────────────────────────┬─────────┐\n",
       "│ Geo ┆ AS-Number ┆ ip-addr                         ┆ type    │\n",
       "│ --- ┆ ---       ┆ ---                             ┆ ---     │\n",
       "│ str ┆ f64       ┆ str                             ┆ str     │\n",
       "╞═════╪═══════════╪═════════════════════════════════╪═════════╡\n",
       "│ IND ┆ 38266.0   ┆ 2402:3a80:1e13:a619:0:36:8b41:… ┆ isp     │\n",
       "│ CHN ┆ 134774.0  ┆ 240e:3b0:320a:2a03:a210:77ff:f… ┆ hosting │\n",
       "│ CHN ┆ 56046.0   ┆ 2409:8a20:9c08:29ed:8e2:cdff:f… ┆ isp     │\n",
       "│ DEU ┆ 3209.0    ┆ 2a02:810d:8000:6d:b0cb:637b:76… ┆ isp     │\n",
       "│ PER ┆ 12252.0   ┆ 2800:200:e598:517:97e:d5a4:99e… ┆ isp     │\n",
       "│ …   ┆ …         ┆ …                               ┆ …       │\n",
       "│ IND ┆ 38266.0   ┆ 2402:3a80:4428:c47a:edc3:6b1f:… ┆ isp     │\n",
       "│ CHN ┆ 4134.0    ┆ 240e:348:7e04:279a:7626:ffff:f… ┆ isp     │\n",
       "│ CHN ┆ 4837.0    ┆ 2408:823c:5400:5c5d:46a3:c7ff:… ┆ isp     │\n",
       "│ CHN ┆ 4134.0    ┆ 240e:398:ad03:af3e:a04c:c74:d2… ┆ isp     │\n",
       "│ LKA ┆ 18001.0   ┆ 2402:4000:124e:d7d0:1:0:c653:8… ┆ isp     │\n",
       "└─────┴───────────┴─────────────────────────────────┴─────────┘"
      ]
     },
     "execution_count": 15,
     "metadata": {},
     "output_type": "execute_result"
    }
   ],
   "source": [
    "router_asn"
   ]
  },
  {
   "cell_type": "code",
   "execution_count": 16,
   "id": "6754039a-69b8-44e0-9205-c130ea111e77",
   "metadata": {},
   "outputs": [],
   "source": [
    "router_asn = router_asn.group_by(['Geo','type']).agg(pl.len().alias('count')).sort('count',descending=True)"
   ]
  },
  {
   "cell_type": "code",
   "execution_count": 17,
   "id": "7d9a51d4-b4cf-4785-bf52-708d0a5b9fad",
   "metadata": {},
   "outputs": [
    {
     "data": {
      "text/html": [
       "<div><style>\n",
       ".dataframe > thead > tr,\n",
       ".dataframe > tbody > tr {\n",
       "  text-align: right;\n",
       "  white-space: pre-wrap;\n",
       "}\n",
       "</style>\n",
       "<small>shape: (684, 3)</small><table border=\"1\" class=\"dataframe\"><thead><tr><th>Geo</th><th>type</th><th>count</th></tr><tr><td>str</td><td>str</td><td>u32</td></tr></thead><tbody><tr><td>&quot;IND&quot;</td><td>&quot;isp&quot;</td><td>35553054</td></tr><tr><td>&quot;CHN&quot;</td><td>&quot;isp&quot;</td><td>24708845</td></tr><tr><td>&quot;DEU&quot;</td><td>&quot;isp&quot;</td><td>9246294</td></tr><tr><td>&quot;VNM&quot;</td><td>&quot;isp&quot;</td><td>8113903</td></tr><tr><td>&quot;USA&quot;</td><td>&quot;isp&quot;</td><td>6288837</td></tr><tr><td>&hellip;</td><td>&hellip;</td><td>&hellip;</td></tr><tr><td>&quot;JOR&quot;</td><td>&quot;business&quot;</td><td>1</td></tr><tr><td>&quot;VNM&quot;</td><td>&quot;education&quot;</td><td>1</td></tr><tr><td>&quot;GMB&quot;</td><td>&quot;isp&quot;</td><td>1</td></tr><tr><td>&quot;POL&quot;</td><td>&quot;government&quot;</td><td>1</td></tr><tr><td>&quot;IRQ&quot;</td><td>&quot;business&quot;</td><td>1</td></tr></tbody></table></div>"
      ],
      "text/plain": [
       "shape: (684, 3)\n",
       "┌─────┬────────────┬──────────┐\n",
       "│ Geo ┆ type       ┆ count    │\n",
       "│ --- ┆ ---        ┆ ---      │\n",
       "│ str ┆ str        ┆ u32      │\n",
       "╞═════╪════════════╪══════════╡\n",
       "│ IND ┆ isp        ┆ 35553054 │\n",
       "│ CHN ┆ isp        ┆ 24708845 │\n",
       "│ DEU ┆ isp        ┆ 9246294  │\n",
       "│ VNM ┆ isp        ┆ 8113903  │\n",
       "│ USA ┆ isp        ┆ 6288837  │\n",
       "│ …   ┆ …          ┆ …        │\n",
       "│ JOR ┆ business   ┆ 1        │\n",
       "│ VNM ┆ education  ┆ 1        │\n",
       "│ GMB ┆ isp        ┆ 1        │\n",
       "│ POL ┆ government ┆ 1        │\n",
       "│ IRQ ┆ business   ┆ 1        │\n",
       "└─────┴────────────┴──────────┘"
      ]
     },
     "execution_count": 17,
     "metadata": {},
     "output_type": "execute_result"
    }
   ],
   "source": [
    "router_asn"
   ]
  },
  {
   "cell_type": "code",
   "execution_count": 18,
   "id": "cfd3f1bf-7274-45d1-a4d6-1c73833c412d",
   "metadata": {},
   "outputs": [],
   "source": [
    "def map_iso3_to_continent(cc):\n",
    "    if cc=='XK' or cc=='SXM':\n",
    "        # kosovo is EU state, count saint marten as EU state (netherland territory)\n",
    "        return 'EU'\n",
    "    if cc=='UMI':\n",
    "        #count umi states as US territory --> NA\n",
    "        return 'NA'\n",
    "    if cc=='TLS':\n",
    "        # timor leste is asian state\n",
    "        return 'AS'    \n",
    "    alpha2 = pycc.country_alpha3_to_country_alpha2(cc)\n",
    "    return pycc.country_alpha2_to_continent_code(alpha2) "
   ]
  },
  {
   "cell_type": "code",
   "execution_count": 19,
   "id": "93e6be25-1a67-4e00-b698-b34afd6123d8",
   "metadata": {},
   "outputs": [],
   "source": [
    "router_asn = router_asn.with_columns(\n",
    "    pl.col(\"Geo\").map_elements(map_iso3_to_continent, return_dtype=pl.Utf8).alias(\"Continent\")\n",
    ").filter((pl.col('Geo').is_not_null()) & (pl.col('Geo')!='ATA'))\n",
    "#filter antarctica values (ATA) --> only 5, not of interest and not very trustworthy imo"
   ]
  },
  {
   "cell_type": "code",
   "execution_count": 20,
   "id": "d3d964fd-26d3-4987-95bc-0e1066b09a40",
   "metadata": {},
   "outputs": [],
   "source": [
    "router_asn = router_asn.with_columns(pl.col('type').fill_null('Unknown'))"
   ]
  },
  {
   "cell_type": "code",
   "execution_count": 21,
   "id": "aa6565e3-dffd-4459-8741-5be72bce3e4c",
   "metadata": {},
   "outputs": [
    {
     "name": "stderr",
     "output_type": "stream",
     "text": [
      "/tmp/ipykernel_954628/3030775714.py:14: DeprecationWarning: The argument `columns` for `DataFrame.pivot` is deprecated. It has been renamed to `on`.\n",
      "  rel_freq.pivot(\n"
     ]
    }
   ],
   "source": [
    "#remove inactive network type as their frequency is negligible with <0.001%\n",
    "counts = (\n",
    "    router_asn.filter(pl.col('type')!='inactive').group_by([\"Continent\", \"type\"])\n",
    "      .agg(pl.col('count').sum().alias(\"continent_count\"))\n",
    ")\n",
    "\n",
    "rel_freq = (\n",
    "    counts.with_columns(\n",
    "        ((pl.col(\"continent_count\") / pl.col(\"continent_count\").sum()).mul(100).round(2).over(\"Continent\")).alias(\"rel_freq\")\n",
    "    )\n",
    ")\n",
    "\n",
    "table = (\n",
    "    rel_freq.pivot(\n",
    "        values=\"rel_freq\",\n",
    "        index=\"type\",\n",
    "        columns=\"Continent\"\n",
    "    )\n",
    "    .fill_null(0.0)  # if some combos are missing\n",
    ")"
   ]
  },
  {
   "cell_type": "code",
   "execution_count": 22,
   "id": "68fbd6cd-2593-46f8-8ab0-de21afb03755",
   "metadata": {},
   "outputs": [
    {
     "data": {
      "text/html": [
       "<div><style>\n",
       ".dataframe > thead > tr,\n",
       ".dataframe > tbody > tr {\n",
       "  text-align: right;\n",
       "  white-space: pre-wrap;\n",
       "}\n",
       "</style>\n",
       "<small>shape: (36, 3)</small><table border=\"1\" class=\"dataframe\"><thead><tr><th>Continent</th><th>type</th><th>continent_count</th></tr><tr><td>str</td><td>str</td><td>u32</td></tr></thead><tbody><tr><td>&quot;EU&quot;</td><td>&quot;Unknown&quot;</td><td>21023</td></tr><tr><td>&quot;EU&quot;</td><td>&quot;government&quot;</td><td>2170</td></tr><tr><td>&quot;SA&quot;</td><td>&quot;education&quot;</td><td>1685</td></tr><tr><td>&quot;SA&quot;</td><td>&quot;Unknown&quot;</td><td>63213</td></tr><tr><td>&quot;NA&quot;</td><td>&quot;isp&quot;</td><td>10004613</td></tr><tr><td>&hellip;</td><td>&hellip;</td><td>&hellip;</td></tr><tr><td>&quot;AF&quot;</td><td>&quot;business&quot;</td><td>123</td></tr><tr><td>&quot;AS&quot;</td><td>&quot;hosting&quot;</td><td>442107</td></tr><tr><td>&quot;EU&quot;</td><td>&quot;education&quot;</td><td>3907</td></tr><tr><td>&quot;OC&quot;</td><td>&quot;hosting&quot;</td><td>2774</td></tr><tr><td>&quot;OC&quot;</td><td>&quot;Unknown&quot;</td><td>136</td></tr></tbody></table></div>"
      ],
      "text/plain": [
       "shape: (36, 3)\n",
       "┌───────────┬────────────┬─────────────────┐\n",
       "│ Continent ┆ type       ┆ continent_count │\n",
       "│ ---       ┆ ---        ┆ ---             │\n",
       "│ str       ┆ str        ┆ u32             │\n",
       "╞═══════════╪════════════╪═════════════════╡\n",
       "│ EU        ┆ Unknown    ┆ 21023           │\n",
       "│ EU        ┆ government ┆ 2170            │\n",
       "│ SA        ┆ education  ┆ 1685            │\n",
       "│ SA        ┆ Unknown    ┆ 63213           │\n",
       "│ NA        ┆ isp        ┆ 10004613        │\n",
       "│ …         ┆ …          ┆ …               │\n",
       "│ AF        ┆ business   ┆ 123             │\n",
       "│ AS        ┆ hosting    ┆ 442107          │\n",
       "│ EU        ┆ education  ┆ 3907            │\n",
       "│ OC        ┆ hosting    ┆ 2774            │\n",
       "│ OC        ┆ Unknown    ┆ 136             │\n",
       "└───────────┴────────────┴─────────────────┘"
      ]
     },
     "execution_count": 22,
     "metadata": {},
     "output_type": "execute_result"
    }
   ],
   "source": [
    "counts"
   ]
  },
  {
   "cell_type": "code",
   "execution_count": 23,
   "id": "c92e5034-76b5-4a8c-ba1b-0a97113e16a4",
   "metadata": {},
   "outputs": [
    {
     "data": {
      "text/html": [
       "<div><style>\n",
       ".dataframe > thead > tr,\n",
       ".dataframe > tbody > tr {\n",
       "  text-align: right;\n",
       "  white-space: pre-wrap;\n",
       "}\n",
       "</style>\n",
       "<small>shape: (6, 2)</small><table border=\"1\" class=\"dataframe\"><thead><tr><th>Continent</th><th>continent_count</th></tr><tr><td>str</td><td>u32</td></tr></thead><tbody><tr><td>&quot;AS&quot;</td><td>87913040</td></tr><tr><td>&quot;EU&quot;</td><td>19493180</td></tr><tr><td>&quot;NA&quot;</td><td>12486846</td></tr><tr><td>&quot;SA&quot;</td><td>12231937</td></tr><tr><td>&quot;OC&quot;</td><td>226068</td></tr><tr><td>&quot;AF&quot;</td><td>118893</td></tr></tbody></table></div>"
      ],
      "text/plain": [
       "shape: (6, 2)\n",
       "┌───────────┬─────────────────┐\n",
       "│ Continent ┆ continent_count │\n",
       "│ ---       ┆ ---             │\n",
       "│ str       ┆ u32             │\n",
       "╞═══════════╪═════════════════╡\n",
       "│ AS        ┆ 87913040        │\n",
       "│ EU        ┆ 19493180        │\n",
       "│ NA        ┆ 12486846        │\n",
       "│ SA        ┆ 12231937        │\n",
       "│ OC        ┆ 226068          │\n",
       "│ AF        ┆ 118893          │\n",
       "└───────────┴─────────────────┘"
      ]
     },
     "execution_count": 23,
     "metadata": {},
     "output_type": "execute_result"
    }
   ],
   "source": [
    "counts.group_by('Continent').agg(pl.col('continent_count').sum()).sort('continent_count',descending=True)"
   ]
  },
  {
   "cell_type": "code",
   "execution_count": 24,
   "id": "7903894d-19dc-4cf9-87be-12aa04855138",
   "metadata": {},
   "outputs": [],
   "source": [
    "order = counts.group_by('Continent').agg(pl.col('continent_count').sum()).sort('continent_count',descending=True).select('Continent').to_series().to_list()"
   ]
  },
  {
   "cell_type": "code",
   "execution_count": 25,
   "id": "6930454c-35af-4b4e-88be-2ff2f7fd2401",
   "metadata": {},
   "outputs": [],
   "source": [
    "#order_types = [\"ISP\", \"Hosting\", \"Business\", \"Education\", \"Government\", \"Inactive\", \"Unknown\"]\n",
    "#remove inactive network type as their frequency is negligible with <0.001%\n",
    "order_types = [\"ISP\", \"Hosting\", \"Business\", \"Education\", \"Government\", \"Unknown\"]"
   ]
  },
  {
   "cell_type": "code",
   "execution_count": 26,
   "id": "4caf540c-f8cd-4aba-854f-f851b3db4eef",
   "metadata": {},
   "outputs": [],
   "source": [
    "table = table.fill_null('Unknown').with_columns(\n",
    "    pl.when(pl.col(\"type\") == \"isp\")\n",
    "      .then(pl.lit(\"ISP\"))  # special case\n",
    "      .otherwise(\n",
    "          pl.col(\"type\").str.slice(0,1).str.to_uppercase() + pl.col(\"type\").str.slice(1).str.to_lowercase()\n",
    "      )\n",
    "      .alias(\"type\")\n",
    ").select(['type']+order).with_columns(\n",
    "    pl.col(\"type\").map_elements(lambda x: order_types.index(x), return_dtype=pl.Int32).alias(\"_sort_key\")\n",
    ").sort('_sort_key').drop('_sort_key').to_pandas().set_index('type')"
   ]
  },
  {
   "cell_type": "code",
   "execution_count": 27,
   "id": "0ac0a0da-4353-44de-90aa-6a5bae662fd9",
   "metadata": {},
   "outputs": [
    {
     "data": {
      "text/html": [
       "<div>\n",
       "<style scoped>\n",
       "    .dataframe tbody tr th:only-of-type {\n",
       "        vertical-align: middle;\n",
       "    }\n",
       "\n",
       "    .dataframe tbody tr th {\n",
       "        vertical-align: top;\n",
       "    }\n",
       "\n",
       "    .dataframe thead th {\n",
       "        text-align: right;\n",
       "    }\n",
       "</style>\n",
       "<table border=\"1\" class=\"dataframe\">\n",
       "  <thead>\n",
       "    <tr style=\"text-align: right;\">\n",
       "      <th></th>\n",
       "      <th>AS</th>\n",
       "      <th>EU</th>\n",
       "      <th>NA</th>\n",
       "      <th>SA</th>\n",
       "      <th>OC</th>\n",
       "      <th>AF</th>\n",
       "    </tr>\n",
       "    <tr>\n",
       "      <th>type</th>\n",
       "      <th></th>\n",
       "      <th></th>\n",
       "      <th></th>\n",
       "      <th></th>\n",
       "      <th></th>\n",
       "      <th></th>\n",
       "    </tr>\n",
       "  </thead>\n",
       "  <tbody>\n",
       "    <tr>\n",
       "      <th>ISP</th>\n",
       "      <td>97.99</td>\n",
       "      <td>99.02</td>\n",
       "      <td>80.12</td>\n",
       "      <td>98.55</td>\n",
       "      <td>98.58</td>\n",
       "      <td>97.18</td>\n",
       "    </tr>\n",
       "    <tr>\n",
       "      <th>Hosting</th>\n",
       "      <td>0.50</td>\n",
       "      <td>0.79</td>\n",
       "      <td>0.28</td>\n",
       "      <td>0.88</td>\n",
       "      <td>1.23</td>\n",
       "      <td>2.17</td>\n",
       "    </tr>\n",
       "    <tr>\n",
       "      <th>Business</th>\n",
       "      <td>1.40</td>\n",
       "      <td>0.05</td>\n",
       "      <td>0.11</td>\n",
       "      <td>0.03</td>\n",
       "      <td>0.09</td>\n",
       "      <td>0.10</td>\n",
       "    </tr>\n",
       "    <tr>\n",
       "      <th>Education</th>\n",
       "      <td>0.02</td>\n",
       "      <td>0.02</td>\n",
       "      <td>0.02</td>\n",
       "      <td>0.01</td>\n",
       "      <td>0.04</td>\n",
       "      <td>0.44</td>\n",
       "    </tr>\n",
       "    <tr>\n",
       "      <th>Government</th>\n",
       "      <td>0.00</td>\n",
       "      <td>0.01</td>\n",
       "      <td>0.00</td>\n",
       "      <td>0.00</td>\n",
       "      <td>0.00</td>\n",
       "      <td>0.00</td>\n",
       "    </tr>\n",
       "    <tr>\n",
       "      <th>Unknown</th>\n",
       "      <td>0.08</td>\n",
       "      <td>0.11</td>\n",
       "      <td>19.46</td>\n",
       "      <td>0.52</td>\n",
       "      <td>0.06</td>\n",
       "      <td>0.11</td>\n",
       "    </tr>\n",
       "  </tbody>\n",
       "</table>\n",
       "</div>"
      ],
      "text/plain": [
       "               AS     EU     NA     SA     OC     AF\n",
       "type                                                \n",
       "ISP         97.99  99.02  80.12  98.55  98.58  97.18\n",
       "Hosting      0.50   0.79   0.28   0.88   1.23   2.17\n",
       "Business     1.40   0.05   0.11   0.03   0.09   0.10\n",
       "Education    0.02   0.02   0.02   0.01   0.04   0.44\n",
       "Government   0.00   0.01   0.00   0.00   0.00   0.00\n",
       "Unknown      0.08   0.11  19.46   0.52   0.06   0.11"
      ]
     },
     "execution_count": 27,
     "metadata": {},
     "output_type": "execute_result"
    }
   ],
   "source": [
    "table"
   ]
  },
  {
   "cell_type": "code",
   "execution_count": 28,
   "id": "fb691567-e39e-41f1-81d9-3620a24d64d6",
   "metadata": {},
   "outputs": [
    {
     "name": "stdout",
     "output_type": "stream",
     "text": [
      "/home/service/artifacts-ipv6-sra-scanning/reports/figures/heatmap-network-types-sra-total.png\n"
     ]
    },
    {
     "data": {
      "image/png": "[encoded data removed]",
      "text/plain": [
       "<Figure size 560x280 with 2 Axes>"
      ]
     },
     "metadata": {},
     "output_type": "display_data"
    }
   ],
   "source": [
    "import seaborn as sns\n",
    "import matplotlib.colors as mpc\n",
    "\n",
    "figsize = (8*0.7,4*0.7)\n",
    "fig,ax = vh.fig_ax(figsize)\n",
    "\n",
    "annot_labels = table.map(lambda x: f\"{x:.2f}%\")\n",
    "sns.heatmap(table,fmt=\"\",\n",
    "            linecolor='white',\n",
    "            cmap='YlGn',\n",
    "            annot=annot_labels,\n",
    "            vmin=0,\n",
    "            vmax=100,\n",
    "            ax=ax,\n",
    "            cbar_kws={'label': 'Frequency [%]',\"orientation\": \"vertical\",\"shrink\":1,'location':'right'})\n",
    "ax.xaxis.tick_top()\n",
    "ax.set_ylabel('Network Type')\n",
    "ax.set_xlabel('Continent')\n",
    "ax.xaxis.set_label_position('top')\n",
    "\n",
    "vh.save_plot(fig,'heatmap-network-types-sra-total')"
   ]
  },
  {
   "cell_type": "code",
   "execution_count": 29,
   "id": "e9a4a08e-e31b-4fd7-830c-de57913ac8a8",
   "metadata": {},
   "outputs": [
    {
     "name": "stdout",
     "output_type": "stream",
     "text": [
      "\\begin{tabular}{lrrrrrr}\n",
      "\\toprule\n",
      " & AS & EU & NA & SA & OC & AF \\\\\n",
      "type &  &  &  &  &  &  \\\\\n",
      "\\midrule\n",
      "ISP & 97.99 & 99.02 & 80.12 & 98.55 & 98.58 & 97.18 \\\\\n",
      "Hosting & 0.50 & 0.79 & 0.28 & 0.88 & 1.23 & 2.17 \\\\\n",
      "Business & 1.40 & 0.05 & 0.11 & 0.03 & 0.09 & 0.10 \\\\\n",
      "Education & 0.02 & 0.02 & 0.02 & 0.01 & 0.04 & 0.44 \\\\\n",
      "Government & 0.00 & 0.01 & 0.00 & 0.00 & 0.00 & 0.00 \\\\\n",
      "Unknown & 0.08 & 0.11 & 19.46 & 0.52 & 0.06 & 0.11 \\\\\n",
      "\\bottomrule\n",
      "\\end{tabular}\n",
      "\n"
     ]
    }
   ],
   "source": [
    "print(table.to_latex(float_format=\"{:.2f}\".format))"
   ]
  },
  {
   "cell_type": "code",
   "execution_count": null,
   "id": "098d32bb-453a-4c20-a254-5cb09526cab3",
   "metadata": {},
   "outputs": [],
   "source": []
  },
  {
   "cell_type": "code",
   "execution_count": null,
   "id": "22d14a4a-ff9f-4381-ace4-5687740fbd23",
   "metadata": {},
   "outputs": [],
   "source": []
  }
 ],
 "metadata": {
  "kernelspec": {
   "display_name": "Python 3 (ipykernel)",
   "language": "python",
   "name": "python3"
  },
  "language_info": {
   "codemirror_mode": {
    "name": "ipython",
    "version": 3
   },
   "file_extension": ".py",
   "mimetype": "text/x-python",
   "name": "python",
   "nbconvert_exporter": "python",
   "pygments_lexer": "ipython3",
   "version": "3.12.11"
  }
 },
 "nbformat": 4,
 "nbformat_minor": 5
}
