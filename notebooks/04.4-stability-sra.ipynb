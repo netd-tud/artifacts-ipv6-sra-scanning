{
 "cells": [
  {
   "cell_type": "code",
   "execution_count": 48,
   "id": "39ba195f-8802-4190-8f2f-dbb5782d46de",
   "metadata": {},
   "outputs": [],
   "source": [
    "from artifacts_ipv6_sra_scanning.config import *\n",
    "import pickle\n",
    "import os\n",
    "import ipaddress\n",
    "import geopandas as gpd\n",
    "import seaborn as sns\n",
    "import glob\n",
    "import pycountry\n",
    "from IPython.display import HTML\n",
    "from mpl_toolkits.axes_grid1 import make_axes_locatable\n",
    "import matplotlib.colors as colors\n",
    "from parallel_pandas import ParallelPandas\n",
    "ParallelPandas.initialize(n_cpu=24, split_factor=1, disable_pr_bar=False)"
   ]
  },
  {
   "cell_type": "code",
   "execution_count": 2,
   "id": "a5428f47-5c93-4d88-99e4-6e82de6db7a1",
   "metadata": {},
   "outputs": [],
   "source": [
    "def load_and_join(files,column):\n",
    "    df_metadata = pl.read_csv(f'{INTERIM_DATA_DIR}/router-ips.csv')\n",
    "    df = pl.DataFrame()\n",
    "    for i in tqdm(range(len(files))):\n",
    "        if df.is_empty():\n",
    "            df = pl.read_csv(files[i],columns=['initial-ip','saddr']).unique(subset=['initial-ip'])\n",
    "            df = df.join(df_metadata.select(['ip-addr',column]),how='left',left_on='saddr',right_on='ip-addr')\n",
    "            df = df.select(column).unique()\n",
    "            df = df.with_columns(inscan=True)\n",
    "        else:\n",
    "            tmp = pl.read_csv(files[i],columns=['initial-ip','saddr']).unique(subset=['initial-ip'])\n",
    "            tmp = tmp.join(df_metadata.select(['ip-addr',column]),how='left',left_on='saddr',right_on='ip-addr')\n",
    "            tmp = tmp.select(column).unique()\n",
    "            tmp = tmp.with_columns(inscan=True)\n",
    "            df = df.join(tmp,on=column,how='full', suffix=f'_s{i}',coalesce=True)\n",
    "    return df"
   ]
  },
  {
   "cell_type": "code",
   "execution_count": 3,
   "id": "577b71bd-7728-47b9-bc83-01e3d7e4b548",
   "metadata": {},
   "outputs": [],
   "source": [
    "datadir = '/home/service/ipv6-measurements-mkoch/backup_2024/sra-analysis/data/tuminput_sra_checks'"
   ]
  },
  {
   "cell_type": "code",
   "execution_count": 4,
   "id": "819490aa-570f-4652-8b17-a7e834a09a7b",
   "metadata": {},
   "outputs": [],
   "source": [
    "files = glob.glob(f'{datadir}/zmap_icmp_tum_64_sra_*.log.zst')"
   ]
  },
  {
   "cell_type": "code",
   "execution_count": 5,
   "id": "f583ff6e-64a0-4d72-8b34-ad2bca3a7268",
   "metadata": {},
   "outputs": [
    {
     "data": {
      "text/plain": [
       "['/home/service/ipv6-measurements-mkoch/backup_2024/sra-analysis/data/tuminput_sra_checks/zmap_icmp_tum_64_sra_1731694726.log.zst',\n",
       " '/home/service/ipv6-measurements-mkoch/backup_2024/sra-analysis/data/tuminput_sra_checks/zmap_icmp_tum_64_sra_1731701324.log.zst',\n",
       " '/home/service/ipv6-measurements-mkoch/backup_2024/sra-analysis/data/tuminput_sra_checks/zmap_icmp_tum_64_sra_1731710705.log.zst',\n",
       " '/home/service/ipv6-measurements-mkoch/backup_2024/sra-analysis/data/tuminput_sra_checks/zmap_icmp_tum_64_sra_1731755399.log.zst',\n",
       " '/home/service/ipv6-measurements-mkoch/backup_2024/sra-analysis/data/tuminput_sra_checks/zmap_icmp_tum_64_sra_1731762017.log.zst',\n",
       " '/home/service/ipv6-measurements-mkoch/backup_2024/sra-analysis/data/tuminput_sra_checks/zmap_icmp_tum_64_sra_1731765056.log.zst']"
      ]
     },
     "execution_count": 5,
     "metadata": {},
     "output_type": "execute_result"
    }
   ],
   "source": [
    "files"
   ]
  },
  {
   "cell_type": "code",
   "execution_count": 6,
   "id": "daf5d944-7852-45e2-9acb-9ddc2227c194",
   "metadata": {},
   "outputs": [
    {
     "name": "stderr",
     "output_type": "stream",
     "text": [
      "100%|███████████████████████████████████████████████████████████████████████████████████████████████████████████████████████████████████████████████████████████████████████████████████████████████████████████████████████████| 6/6 [05:48<00:00, 58.11s/it]\n"
     ]
    }
   ],
   "source": [
    "df = load_and_join(files,'AS-Number')"
   ]
  },
  {
   "cell_type": "code",
   "execution_count": 7,
   "id": "655bcf39-57cf-49b9-8ae1-c437fc68857a",
   "metadata": {},
   "outputs": [
    {
     "data": {
      "text/html": [
       "<div><style>\n",
       ".dataframe > thead > tr,\n",
       ".dataframe > tbody > tr {\n",
       "  text-align: right;\n",
       "  white-space: pre-wrap;\n",
       "}\n",
       "</style>\n",
       "<small>shape: (14_105, 7)</small><table border=\"1\" class=\"dataframe\"><thead><tr><th>AS-Number</th><th>inscan</th><th>inscan_s1</th><th>inscan_s2</th><th>inscan_s3</th><th>inscan_s4</th><th>inscan_s5</th></tr><tr><td>f64</td><td>bool</td><td>bool</td><td>bool</td><td>bool</td><td>bool</td><td>bool</td></tr></thead><tbody><tr><td>46231.0</td><td>true</td><td>true</td><td>true</td><td>true</td><td>true</td><td>true</td></tr><tr><td>212518.0</td><td>true</td><td>true</td><td>true</td><td>true</td><td>true</td><td>true</td></tr><tr><td>31080.0</td><td>true</td><td>true</td><td>true</td><td>true</td><td>true</td><td>true</td></tr><tr><td>265434.0</td><td>true</td><td>true</td><td>true</td><td>true</td><td>true</td><td>true</td></tr><tr><td>31590.0</td><td>true</td><td>true</td><td>true</td><td>true</td><td>true</td><td>true</td></tr><tr><td>&hellip;</td><td>&hellip;</td><td>&hellip;</td><td>&hellip;</td><td>&hellip;</td><td>&hellip;</td><td>&hellip;</td></tr><tr><td>31017.0</td><td>null</td><td>null</td><td>null</td><td>null</td><td>null</td><td>true</td></tr><tr><td>null</td><td>null</td><td>null</td><td>null</td><td>null</td><td>null</td><td>true</td></tr><tr><td>212882.0</td><td>null</td><td>null</td><td>null</td><td>null</td><td>null</td><td>true</td></tr><tr><td>210767.0</td><td>null</td><td>null</td><td>null</td><td>null</td><td>null</td><td>true</td></tr><tr><td>135921.0</td><td>null</td><td>null</td><td>null</td><td>null</td><td>null</td><td>true</td></tr></tbody></table></div>"
      ],
      "text/plain": [
       "shape: (14_105, 7)\n",
       "┌───────────┬────────┬───────────┬───────────┬───────────┬───────────┬───────────┐\n",
       "│ AS-Number ┆ inscan ┆ inscan_s1 ┆ inscan_s2 ┆ inscan_s3 ┆ inscan_s4 ┆ inscan_s5 │\n",
       "│ ---       ┆ ---    ┆ ---       ┆ ---       ┆ ---       ┆ ---       ┆ ---       │\n",
       "│ f64       ┆ bool   ┆ bool      ┆ bool      ┆ bool      ┆ bool      ┆ bool      │\n",
       "╞═══════════╪════════╪═══════════╪═══════════╪═══════════╪═══════════╪═══════════╡\n",
       "│ 46231.0   ┆ true   ┆ true      ┆ true      ┆ true      ┆ true      ┆ true      │\n",
       "│ 212518.0  ┆ true   ┆ true      ┆ true      ┆ true      ┆ true      ┆ true      │\n",
       "│ 31080.0   ┆ true   ┆ true      ┆ true      ┆ true      ┆ true      ┆ true      │\n",
       "│ 265434.0  ┆ true   ┆ true      ┆ true      ┆ true      ┆ true      ┆ true      │\n",
       "│ 31590.0   ┆ true   ┆ true      ┆ true      ┆ true      ┆ true      ┆ true      │\n",
       "│ …         ┆ …      ┆ …         ┆ …         ┆ …         ┆ …         ┆ …         │\n",
       "│ 31017.0   ┆ null   ┆ null      ┆ null      ┆ null      ┆ null      ┆ true      │\n",
       "│ null      ┆ null   ┆ null      ┆ null      ┆ null      ┆ null      ┆ true      │\n",
       "│ 212882.0  ┆ null   ┆ null      ┆ null      ┆ null      ┆ null      ┆ true      │\n",
       "│ 210767.0  ┆ null   ┆ null      ┆ null      ┆ null      ┆ null      ┆ true      │\n",
       "│ 135921.0  ┆ null   ┆ null      ┆ null      ┆ null      ┆ null      ┆ true      │\n",
       "└───────────┴────────┴───────────┴───────────┴───────────┴───────────┴───────────┘"
      ]
     },
     "execution_count": 7,
     "metadata": {},
     "output_type": "execute_result"
    }
   ],
   "source": [
    "df"
   ]
  },
  {
   "cell_type": "code",
   "execution_count": 8,
   "id": "b7bddda6-2fe7-42b3-86a6-e0b7861d5a82",
   "metadata": {},
   "outputs": [],
   "source": [
    "df = df.with_columns(\n",
    "    df.select(pl.exclude(\"AS-Number\"))\n",
    "      .cast(pl.Int8)  # convert True->1, null->0\n",
    "      .sum_horizontal()\n",
    "      .alias(\"seen_count\")\n",
    ")"
   ]
  },
  {
   "cell_type": "code",
   "execution_count": 14,
   "id": "63b29d7d-cd41-4138-a7ef-7c57ab60ad62",
   "metadata": {},
   "outputs": [],
   "source": [
    "n_scans = df.select(pl.exclude([\"AS-Number\",\"seen_count\"])).width\n",
    "df = df.with_columns(\n",
    "    (pl.col(\"seen_count\") / n_scans).alias(\"seen_ratio\")\n",
    ")"
   ]
  },
  {
   "cell_type": "code",
   "execution_count": 16,
   "id": "33276176-7cf8-4dfa-b44d-b5d7d02b264b",
   "metadata": {},
   "outputs": [
    {
     "name": "stderr",
     "output_type": "stream",
     "text": [
      "/tmp/ipykernel_855788/168000208.py:5: MapWithoutReturnDtypeWarning: Calling `map_elements` without specifying `return_dtype` can lead to unpredictable results. Specify `return_dtype` to silence this warning.\n",
      "  df = df.with_columns(\n"
     ]
    }
   ],
   "source": [
    "def count_flips(series: pl.Series) -> int:\n",
    "    vals = [bool(v) for v in series if v is not None]\n",
    "    return sum(1 for a, b in zip(vals, vals[1:]) if a != b)\n",
    "\n",
    "df = df.with_columns(\n",
    "    pl.struct(pl.exclude([\"AS-Number\",'seen_count','seen_ratio']))\n",
    "      .map_elements(lambda s: count_flips(list(s.values())))\n",
    "      .alias(\"flip_count\")\n",
    ")"
   ]
  },
  {
   "cell_type": "code",
   "execution_count": 18,
   "id": "eeff8bb0-e05b-487a-99f4-d6281e1caf25",
   "metadata": {},
   "outputs": [
    {
     "data": {
      "text/html": [
       "<div><style>\n",
       ".dataframe > thead > tr,\n",
       ".dataframe > tbody > tr {\n",
       "  text-align: right;\n",
       "  white-space: pre-wrap;\n",
       "}\n",
       "</style>\n",
       "<small>shape: (14_105, 10)</small><table border=\"1\" class=\"dataframe\"><thead><tr><th>AS-Number</th><th>inscan</th><th>inscan_s1</th><th>inscan_s2</th><th>inscan_s3</th><th>inscan_s4</th><th>inscan_s5</th><th>seen_count</th><th>seen_ratio</th><th>flip_count</th></tr><tr><td>f64</td><td>bool</td><td>bool</td><td>bool</td><td>bool</td><td>bool</td><td>bool</td><td>i8</td><td>f64</td><td>i64</td></tr></thead><tbody><tr><td>46231.0</td><td>true</td><td>true</td><td>true</td><td>true</td><td>true</td><td>true</td><td>6</td><td>1.0</td><td>0</td></tr><tr><td>212518.0</td><td>true</td><td>true</td><td>true</td><td>true</td><td>true</td><td>true</td><td>6</td><td>1.0</td><td>0</td></tr><tr><td>31080.0</td><td>true</td><td>true</td><td>true</td><td>true</td><td>true</td><td>true</td><td>6</td><td>1.0</td><td>0</td></tr><tr><td>265434.0</td><td>true</td><td>true</td><td>true</td><td>true</td><td>true</td><td>true</td><td>6</td><td>1.0</td><td>0</td></tr><tr><td>31590.0</td><td>true</td><td>true</td><td>true</td><td>true</td><td>true</td><td>true</td><td>6</td><td>1.0</td><td>0</td></tr><tr><td>&hellip;</td><td>&hellip;</td><td>&hellip;</td><td>&hellip;</td><td>&hellip;</td><td>&hellip;</td><td>&hellip;</td><td>&hellip;</td><td>&hellip;</td><td>&hellip;</td></tr><tr><td>31017.0</td><td>null</td><td>null</td><td>null</td><td>null</td><td>null</td><td>true</td><td>1</td><td>0.166667</td><td>0</td></tr><tr><td>null</td><td>null</td><td>null</td><td>null</td><td>null</td><td>null</td><td>true</td><td>1</td><td>0.166667</td><td>0</td></tr><tr><td>212882.0</td><td>null</td><td>null</td><td>null</td><td>null</td><td>null</td><td>true</td><td>1</td><td>0.166667</td><td>0</td></tr><tr><td>210767.0</td><td>null</td><td>null</td><td>null</td><td>null</td><td>null</td><td>true</td><td>1</td><td>0.166667</td><td>0</td></tr><tr><td>135921.0</td><td>null</td><td>null</td><td>null</td><td>null</td><td>null</td><td>true</td><td>1</td><td>0.166667</td><td>0</td></tr></tbody></table></div>"
      ],
      "text/plain": [
       "shape: (14_105, 10)\n",
       "┌───────────┬────────┬───────────┬───────────┬───┬───────────┬────────────┬────────────┬───────────┐\n",
       "│ AS-Number ┆ inscan ┆ inscan_s1 ┆ inscan_s2 ┆ … ┆ inscan_s5 ┆ seen_count ┆ seen_ratio ┆ flip_coun │\n",
       "│ ---       ┆ ---    ┆ ---       ┆ ---       ┆   ┆ ---       ┆ ---        ┆ ---        ┆ t         │\n",
       "│ f64       ┆ bool   ┆ bool      ┆ bool      ┆   ┆ bool      ┆ i8         ┆ f64        ┆ ---       │\n",
       "│           ┆        ┆           ┆           ┆   ┆           ┆            ┆            ┆ i64       │\n",
       "╞═══════════╪════════╪═══════════╪═══════════╪═══╪═══════════╪════════════╪════════════╪═══════════╡\n",
       "│ 46231.0   ┆ true   ┆ true      ┆ true      ┆ … ┆ true      ┆ 6          ┆ 1.0        ┆ 0         │\n",
       "│ 212518.0  ┆ true   ┆ true      ┆ true      ┆ … ┆ true      ┆ 6          ┆ 1.0        ┆ 0         │\n",
       "│ 31080.0   ┆ true   ┆ true      ┆ true      ┆ … ┆ true      ┆ 6          ┆ 1.0        ┆ 0         │\n",
       "│ 265434.0  ┆ true   ┆ true      ┆ true      ┆ … ┆ true      ┆ 6          ┆ 1.0        ┆ 0         │\n",
       "│ 31590.0   ┆ true   ┆ true      ┆ true      ┆ … ┆ true      ┆ 6          ┆ 1.0        ┆ 0         │\n",
       "│ …         ┆ …      ┆ …         ┆ …         ┆ … ┆ …         ┆ …          ┆ …          ┆ …         │\n",
       "│ 31017.0   ┆ null   ┆ null      ┆ null      ┆ … ┆ true      ┆ 1          ┆ 0.166667   ┆ 0         │\n",
       "│ null      ┆ null   ┆ null      ┆ null      ┆ … ┆ true      ┆ 1          ┆ 0.166667   ┆ 0         │\n",
       "│ 212882.0  ┆ null   ┆ null      ┆ null      ┆ … ┆ true      ┆ 1          ┆ 0.166667   ┆ 0         │\n",
       "│ 210767.0  ┆ null   ┆ null      ┆ null      ┆ … ┆ true      ┆ 1          ┆ 0.166667   ┆ 0         │\n",
       "│ 135921.0  ┆ null   ┆ null      ┆ null      ┆ … ┆ true      ┆ 1          ┆ 0.166667   ┆ 0         │\n",
       "└───────────┴────────┴───────────┴───────────┴───┴───────────┴────────────┴────────────┴───────────┘"
      ]
     },
     "execution_count": 18,
     "metadata": {},
     "output_type": "execute_result"
    }
   ],
   "source": [
    "df"
   ]
  },
  {
   "cell_type": "code",
   "execution_count": 38,
   "id": "0b538df1-78ca-4805-b308-3803fca5f95b",
   "metadata": {},
   "outputs": [],
   "source": [
    "total = len(df)\n",
    "seen_ratio = df.group_by(\"seen_count\").agg(\n",
    "    pl.len().alias('count'),\n",
    "    (pl.len()/total).mul(100).alias('relative')\n",
    ").sort('seen_count')"
   ]
  },
  {
   "cell_type": "code",
   "execution_count": 39,
   "id": "527efd99-46ec-43ce-9cd8-b33230390a7b",
   "metadata": {},
   "outputs": [
    {
     "data": {
      "text/html": [
       "<div><style>\n",
       ".dataframe > thead > tr,\n",
       ".dataframe > tbody > tr {\n",
       "  text-align: right;\n",
       "  white-space: pre-wrap;\n",
       "}\n",
       "</style>\n",
       "<small>shape: (6, 3)</small><table border=\"1\" class=\"dataframe\"><thead><tr><th>seen_count</th><th>count</th><th>relative</th></tr><tr><td>i8</td><td>u32</td><td>f64</td></tr></thead><tbody><tr><td>1</td><td>79</td><td>0.560085</td></tr><tr><td>2</td><td>101</td><td>0.716058</td></tr><tr><td>3</td><td>163</td><td>1.155619</td></tr><tr><td>4</td><td>87</td><td>0.616803</td></tr><tr><td>5</td><td>193</td><td>1.368309</td></tr><tr><td>6</td><td>13482</td><td>95.583127</td></tr></tbody></table></div>"
      ],
      "text/plain": [
       "shape: (6, 3)\n",
       "┌────────────┬───────┬───────────┐\n",
       "│ seen_count ┆ count ┆ relative  │\n",
       "│ ---        ┆ ---   ┆ ---       │\n",
       "│ i8         ┆ u32   ┆ f64       │\n",
       "╞════════════╪═══════╪═══════════╡\n",
       "│ 1          ┆ 79    ┆ 0.560085  │\n",
       "│ 2          ┆ 101   ┆ 0.716058  │\n",
       "│ 3          ┆ 163   ┆ 1.155619  │\n",
       "│ 4          ┆ 87    ┆ 0.616803  │\n",
       "│ 5          ┆ 193   ┆ 1.368309  │\n",
       "│ 6          ┆ 13482 ┆ 95.583127 │\n",
       "└────────────┴───────┴───────────┘"
      ]
     },
     "execution_count": 39,
     "metadata": {},
     "output_type": "execute_result"
    }
   ],
   "source": [
    "seen_ratio"
   ]
  },
  {
   "cell_type": "code",
   "execution_count": 74,
   "id": "c6159098-a829-4aa5-8271-686ad3f784ac",
   "metadata": {},
   "outputs": [],
   "source": [
    "heatmap_data = seen_ratio.select(['seen_count','relative']).to_pandas().set_index('seen_count').T#.transpose(column_names='seen_count')"
   ]
  },
  {
   "cell_type": "code",
   "execution_count": 40,
   "id": "e3a07145-9987-4ef7-8b5b-68ca012d31c2",
   "metadata": {},
   "outputs": [],
   "source": [
    "plt.rc(\"font\", size=12)"
   ]
  },
  {
   "cell_type": "code",
   "execution_count": 109,
   "id": "f1b24489-c2be-4391-a903-18158d2635f9",
   "metadata": {},
   "outputs": [
    {
     "name": "stdout",
     "output_type": "stream",
     "text": [
      "/home/service/artifacts-ipv6-sra-scanning/reports/figures/sra-asn-stability.png\n"
     ]
    },
    {
     "data": {
      "image/png": "[encoded data removed]",
      "text/plain": [
       "<Figure size 630x105 with 2 Axes>"
      ]
     },
     "metadata": {},
     "output_type": "display_data"
    }
   ],
   "source": [
    "figsize = (9*0.7,1.5*0.7)\n",
    "fig,ax = vh.fig_ax(figsize)\n",
    "\n",
    "annot_labels = heatmap_data.map(lambda x: f\"{x:.2f}%\")\n",
    "\n",
    "sns.heatmap(heatmap_data,\n",
    "            ax=ax,\n",
    "            fmt=\"\",\n",
    "            linecolor='white',\n",
    "            cmap=\"YlGn\",\n",
    "            annot=annot_labels,\n",
    "            cbar_kws={'label': 'Share[%]',\"orientation\": \"vertical\",\"shrink\":1,'location':'right'})\n",
    "\n",
    "ax.set_xlabel('ASN Recurrence [#]')\n",
    "ax.set_yticks([])\n",
    "\n",
    "vh.save_plot(fig,'sra-asn-stability')"
   ]
  },
  {
   "cell_type": "code",
   "execution_count": null,
   "id": "ecf1efd5-3a16-4952-a342-084edeb3bb92",
   "metadata": {},
   "outputs": [],
   "source": []
  }
 ],
 "metadata": {
  "kernelspec": {
   "display_name": "Python 3 (ipykernel)",
   "language": "python",
   "name": "python3"
  },
  "language_info": {
   "codemirror_mode": {
    "name": "ipython",
    "version": 3
   },
   "file_extension": ".py",
   "mimetype": "text/x-python",
   "name": "python",
   "nbconvert_exporter": "python",
   "pygments_lexer": "ipython3",
   "version": "3.12.11"
  }
 },
 "nbformat": 4,
 "nbformat_minor": 5
}
