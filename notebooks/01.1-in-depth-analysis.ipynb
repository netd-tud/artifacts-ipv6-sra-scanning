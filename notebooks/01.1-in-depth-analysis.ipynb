{
 "cells": [
  {
   "cell_type": "code",
   "execution_count": 21,
   "id": "0bf846c5-c5e5-4d2e-8f94-f014342423f4",
   "metadata": {},
   "outputs": [],
   "source": [
    "from artifacts_ipv6_sra_scanning.config import *\n",
    "import pickle\n",
    "import os\n",
    "import ipaddress\n",
    "from parallel_pandas import ParallelPandas\n",
    "ParallelPandas.initialize(n_cpu=24, split_factor=1, disable_pr_bar=False)"
   ]
  },
  {
   "cell_type": "code",
   "execution_count": 3,
   "id": "799c56e3-d18d-425a-9d19-f508d4acb4e5",
   "metadata": {},
   "outputs": [],
   "source": [
    "basedir = '/home/service/ipv6-measurements-mkoch/backup_2024/sra-analysis'\n",
    "file_list = [f'{basedir}/data/scans/zmap_icmp_bgp_netaddr_1728140292_p0',\n",
    "     f'{basedir}/data/bgp48_sra_checks/zmap_icmp_bgp_48_sra_1728075185_p0',\n",
    "    f'{basedir}/data/bgp48_64s_sra_checks/zmap_icmp_bgp_48only_64s_sra_1730213648_processed',\n",
    "    f'{basedir}/data/scans/zmap_icmp_route6_64_1728147418_p0',\n",
    "    f'{basedir}/data/tuminput_sra_checks/zmap_icmp_tum_64_sra_1731694726_p0',\n",
    "    ]\n",
    "pickle_path = os.path.join(INTERIM_DATA_DIR, f\"all_scans_joined_cached2.pkl\")"
   ]
  },
  {
   "cell_type": "code",
   "execution_count": 4,
   "id": "0af21017-e37f-4ab9-8b02-596f32905669",
   "metadata": {},
   "outputs": [
    {
     "name": "stderr",
     "output_type": "stream",
     "text": [
      "100%|███████████████████████████████████████████████████████████████████████████████████████████████████████████████████████████████████████████████████████████████████████████████████████████████████████████████████████████| 5/5 [03:52<00:00, 46.59s/it]\n"
     ]
    }
   ],
   "source": [
    "df = cv.join_sra_scans(file_list)"
   ]
  },
  {
   "cell_type": "code",
   "execution_count": 5,
   "id": "b63425f3-65d6-4798-aceb-c25bbc3ef804",
   "metadata": {},
   "outputs": [
    {
     "data": {
      "text/html": [
       "<div><style>\n",
       ".dataframe > thead > tr,\n",
       ".dataframe > tbody > tr {\n",
       "  text-align: right;\n",
       "  white-space: pre-wrap;\n",
       "}\n",
       "</style>\n",
       "<small>shape: (5, 16)</small><table border=\"1\" class=\"dataframe\"><thead><tr><th>saddr</th><th>sumreplies</th><th>code</th><th>inscan</th><th>sumreplies_s1</th><th>code_s1</th><th>inscan_s1</th><th>sumreplies_s2</th><th>code_s2</th><th>inscan_s2</th><th>sumreplies_s3</th><th>code_s3</th><th>inscan_s3</th><th>sumreplies_s4</th><th>code_s4</th><th>inscan_s4</th></tr><tr><td>str</td><td>u32</td><td>str</td><td>bool</td><td>u32</td><td>str</td><td>bool</td><td>u32</td><td>str</td><td>bool</td><td>u32</td><td>str</td><td>bool</td><td>u32</td><td>str</td><td>bool</td></tr></thead><tbody><tr><td>&quot;2402:b400:4440:53ef:c822:8bff:…</td><td>null</td><td>null</td><td>null</td><td>null</td><td>null</td><td>null</td><td>null</td><td>null</td><td>null</td><td>null</td><td>null</td><td>null</td><td>1</td><td>&quot;other&quot;</td><td>true</td></tr><tr><td>&quot;2003:e6:37ff:3ab2:3ea6:2fff:fe…</td><td>null</td><td>null</td><td>null</td><td>null</td><td>null</td><td>null</td><td>null</td><td>null</td><td>null</td><td>null</td><td>null</td><td>null</td><td>1</td><td>&quot;other&quot;</td><td>true</td></tr><tr><td>&quot;2405:8d40:4081:579:1807:c46a:e…</td><td>null</td><td>null</td><td>null</td><td>null</td><td>null</td><td>null</td><td>null</td><td>null</td><td>null</td><td>null</td><td>null</td><td>null</td><td>1</td><td>&quot;echoreply&quot;</td><td>true</td></tr><tr><td>&quot;240e:358:9c0a:13ec:ae64:62ff:f…</td><td>null</td><td>null</td><td>null</td><td>null</td><td>null</td><td>null</td><td>null</td><td>null</td><td>null</td><td>null</td><td>null</td><td>null</td><td>1</td><td>&quot;other&quot;</td><td>true</td></tr><tr><td>&quot;2408:8441:5808:10fa:1807:f6b5:…</td><td>null</td><td>null</td><td>null</td><td>null</td><td>null</td><td>null</td><td>null</td><td>null</td><td>null</td><td>null</td><td>null</td><td>null</td><td>1</td><td>&quot;other&quot;</td><td>true</td></tr></tbody></table></div>"
      ],
      "text/plain": [
       "shape: (5, 16)\n",
       "┌──────────────┬────────────┬──────┬────────┬───┬───────────┬──────────────┬───────────┬───────────┐\n",
       "│ saddr        ┆ sumreplies ┆ code ┆ inscan ┆ … ┆ inscan_s3 ┆ sumreplies_s ┆ code_s4   ┆ inscan_s4 │\n",
       "│ ---          ┆ ---        ┆ ---  ┆ ---    ┆   ┆ ---       ┆ 4            ┆ ---       ┆ ---       │\n",
       "│ str          ┆ u32        ┆ str  ┆ bool   ┆   ┆ bool      ┆ ---          ┆ str       ┆ bool      │\n",
       "│              ┆            ┆      ┆        ┆   ┆           ┆ u32          ┆           ┆           │\n",
       "╞══════════════╪════════════╪══════╪════════╪═══╪═══════════╪══════════════╪═══════════╪═══════════╡\n",
       "│ 2402:b400:44 ┆ null       ┆ null ┆ null   ┆ … ┆ null      ┆ 1            ┆ other     ┆ true      │\n",
       "│ 40:53ef:c822 ┆            ┆      ┆        ┆   ┆           ┆              ┆           ┆           │\n",
       "│ :8bff:…      ┆            ┆      ┆        ┆   ┆           ┆              ┆           ┆           │\n",
       "│ 2003:e6:37ff ┆ null       ┆ null ┆ null   ┆ … ┆ null      ┆ 1            ┆ other     ┆ true      │\n",
       "│ :3ab2:3ea6:2 ┆            ┆      ┆        ┆   ┆           ┆              ┆           ┆           │\n",
       "│ fff:fe…      ┆            ┆      ┆        ┆   ┆           ┆              ┆           ┆           │\n",
       "│ 2405:8d40:40 ┆ null       ┆ null ┆ null   ┆ … ┆ null      ┆ 1            ┆ echoreply ┆ true      │\n",
       "│ 81:579:1807: ┆            ┆      ┆        ┆   ┆           ┆              ┆           ┆           │\n",
       "│ c46a:e…      ┆            ┆      ┆        ┆   ┆           ┆              ┆           ┆           │\n",
       "│ 240e:358:9c0 ┆ null       ┆ null ┆ null   ┆ … ┆ null      ┆ 1            ┆ other     ┆ true      │\n",
       "│ a:13ec:ae64: ┆            ┆      ┆        ┆   ┆           ┆              ┆           ┆           │\n",
       "│ 62ff:f…      ┆            ┆      ┆        ┆   ┆           ┆              ┆           ┆           │\n",
       "│ 2408:8441:58 ┆ null       ┆ null ┆ null   ┆ … ┆ null      ┆ 1            ┆ other     ┆ true      │\n",
       "│ 08:10fa:1807 ┆            ┆      ┆        ┆   ┆           ┆              ┆           ┆           │\n",
       "│ :f6b5:…      ┆            ┆      ┆        ┆   ┆           ┆              ┆           ┆           │\n",
       "└──────────────┴────────────┴──────┴────────┴───┴───────────┴──────────────┴───────────┴───────────┘"
      ]
     },
     "execution_count": 5,
     "metadata": {},
     "output_type": "execute_result"
    }
   ],
   "source": [
    "df.head()"
   ]
  },
  {
   "cell_type": "code",
   "execution_count": 6,
   "id": "22fe575a-7d96-4115-b503-5e7db4854f66",
   "metadata": {},
   "outputs": [
    {
     "data": {
      "text/plain": [
       "132572621"
      ]
     },
     "execution_count": 6,
     "metadata": {},
     "output_type": "execute_result"
    }
   ],
   "source": [
    "len(df)"
   ]
  },
  {
   "cell_type": "code",
   "execution_count": 8,
   "id": "4b555d5f-5b0f-4b49-8b91-47c1dbe4c524",
   "metadata": {},
   "outputs": [],
   "source": [
    "df.select('saddr').write_csv(f'{INTERIM_DATA_DIR}/router-ips.csv')"
   ]
  },
  {
   "cell_type": "code",
   "execution_count": 9,
   "id": "a8e96d44-4b8f-4d1d-8731-dc2902b12b34",
   "metadata": {},
   "outputs": [],
   "source": [
    "df_tum = pl.read_csv(f'{basedir}/data/hitlists/responsive-addresses-20240921.txt',has_header=False,new_columns=['ipaddr'],comment_prefix='#')"
   ]
  },
  {
   "cell_type": "code",
   "execution_count": 11,
   "id": "530c0150-8996-482e-ae67-fa2508edf285",
   "metadata": {},
   "outputs": [],
   "source": [
    "df_tum.write_csv(f'{INTERIM_DATA_DIR}/hitlist-ips.csv')"
   ]
  },
  {
   "cell_type": "code",
   "execution_count": 16,
   "id": "6a9fddb2-bb77-44fd-888b-1682ded1fe8c",
   "metadata": {},
   "outputs": [],
   "source": [
    "itdk_dir = '/home/service/caida-itdk/ITDK-2024-08'"
   ]
  },
  {
   "cell_type": "code",
   "execution_count": 22,
   "id": "0bfcb3d7-dac3-4a7b-95a2-ddc5289b80f3",
   "metadata": {},
   "outputs": [
    {
     "data": {
      "application/vnd.jupyter.widget-view+json": {
       "model_id": "29d980e4bfb749d48f8f49dcac784c11",
       "version_major": 2,
       "version_minor": 0
      },
      "text/plain": [
       "<LAMBDA> DONE:   0%|          | 0/8954365 [00:00<?, ?it/s]"
      ]
     },
     "metadata": {},
     "output_type": "display_data"
    }
   ],
   "source": [
    "df_itdk01 = pl.read_csv(f'{itdk_dir}/speedtrap.nodes.addr',has_header=True)\n",
    "df_itdk01 = df_itdk01.to_pandas()\n",
    "df_itdk01['ipaddr_exploded'] = df_itdk01['ipaddr'].p_apply(lambda ip: ipaddress.IPv6Address(ip).exploded)\n",
    "df_itdk01 = pl.from_pandas(df_itdk01)"
   ]
  },
  {
   "cell_type": "code",
   "execution_count": 23,
   "id": "c5606048-7533-430b-977c-04033de76846",
   "metadata": {},
   "outputs": [
    {
     "data": {
      "application/vnd.jupyter.widget-view+json": {
       "model_id": "17e06df10a5f44d3b54e9fc52a8b240d",
       "version_major": 2,
       "version_minor": 0
      },
      "text/plain": [
       "<LAMBDA> DONE:   0%|          | 0/8949238 [00:00<?, ?it/s]"
      ]
     },
     "metadata": {},
     "output_type": "display_data"
    }
   ],
   "source": [
    "df_itdk02 = pl.read_csv(f'{itdk_dir}/speedtrap-snmp.nodes.addr',has_header=True).to_pandas()\n",
    "df_itdk02['ipaddr_exploded'] = df_itdk02['ipaddr'].p_apply(lambda ip: ipaddress.IPv6Address(ip).exploded)\n",
    "df_itdk02 = pl.from_pandas(df_itdk02)"
   ]
  },
  {
   "cell_type": "code",
   "execution_count": 24,
   "id": "6f56352a-8e79-4ac9-abd5-99a7f6369893",
   "metadata": {},
   "outputs": [
    {
     "data": {
      "application/vnd.jupyter.widget-view+json": {
       "model_id": "f1776546b1054290928728ee192f201f",
       "version_major": 2,
       "version_minor": 0
      },
      "text/plain": [
       "<LAMBDA> DONE:   0%|          | 0/912865 [00:00<?, ?it/s]"
      ]
     },
     "metadata": {},
     "output_type": "display_data"
    }
   ],
   "source": [
    "df_itdk03 = pl.read_csv(f'{itdk_dir}/itdk-run-20240829.addrs',has_header=False,new_columns=['ipaddr']).to_pandas()\n",
    "df_itdk03['ipaddr_exploded'] = df_itdk03['ipaddr'].p_apply(lambda ip: ipaddress.IPv6Address(ip).exploded)\n",
    "df_itdk03 = pl.from_pandas(df_itdk03)"
   ]
  },
  {
   "cell_type": "code",
   "execution_count": 25,
   "id": "d3cdad70-9ed2-4d41-ad00-2d7d391072c8",
   "metadata": {},
   "outputs": [],
   "source": [
    "df_itdk01 = df_itdk01.unique(subset=['ipaddr_exploded'])"
   ]
  },
  {
   "cell_type": "code",
   "execution_count": 26,
   "id": "f45b989a-e647-4a49-9dbe-2900742bf9e2",
   "metadata": {},
   "outputs": [],
   "source": [
    "df_itdk02 = df_itdk02.unique(subset=['ipaddr_exploded'])"
   ]
  },
  {
   "cell_type": "code",
   "execution_count": 27,
   "id": "be3c795e-1af2-41bf-b795-c8347ff45585",
   "metadata": {},
   "outputs": [],
   "source": [
    "df_itdk03 = df_itdk03.unique(subset=['ipaddr_exploded'])"
   ]
  },
  {
   "cell_type": "code",
   "execution_count": 28,
   "id": "1a69f36d-6ed4-4574-ad7c-664ea1d0a4e2",
   "metadata": {},
   "outputs": [],
   "source": [
    "df_itdk_joined = pl.concat([df_itdk01,df_itdk02,df_itdk03])\n",
    "df_itdk_joined = df_itdk_joined.unique(subset=['ipaddr_exploded'])"
   ]
  },
  {
   "cell_type": "code",
   "execution_count": 29,
   "id": "fbc0fb49-2720-47fe-a5a7-bff43578bc9e",
   "metadata": {},
   "outputs": [],
   "source": [
    "df_itdk_joined = df_itdk_joined.filter(~pl.col('ipaddr').str.starts_with('ff00'))"
   ]
  },
  {
   "cell_type": "code",
   "execution_count": 30,
   "id": "45f6215d-cfaf-42a9-8192-0101b4e1481d",
   "metadata": {},
   "outputs": [
    {
     "data": {
      "text/html": [
       "<div><style>\n",
       ".dataframe > thead > tr,\n",
       ".dataframe > tbody > tr {\n",
       "  text-align: right;\n",
       "  white-space: pre-wrap;\n",
       "}\n",
       "</style>\n",
       "<small>shape: (3_126_420, 2)</small><table border=\"1\" class=\"dataframe\"><thead><tr><th>ipaddr</th><th>ipaddr_exploded</th></tr><tr><td>str</td><td>str</td></tr></thead><tbody><tr><td>&quot;2a12:5240:1:5ae9:6e22:c616:a6a…</td><td>&quot;2a12:5240:0001:5ae9:6e22:c616:…</td></tr><tr><td>&quot;2600:9000:254a:d24d:a1f5:aa5f:…</td><td>&quot;2600:9000:254a:d24d:a1f5:aa5f:…</td></tr><tr><td>&quot;2600:9000:26bc:dd7c:162e:4b0e:…</td><td>&quot;2600:9000:26bc:dd7c:162e:4b0e:…</td></tr><tr><td>&quot;2a06:98c1:3108:2fa7:a331:e83b:…</td><td>&quot;2a06:98c1:3108:2fa7:a331:e83b:…</td></tr><tr><td>&quot;2001:268:92bb:98c3:0:1d:64a:a6…</td><td>&quot;2001:0268:92bb:98c3:0000:001d:…</td></tr><tr><td>&hellip;</td><td>&hellip;</td></tr><tr><td>&quot;2a05:4140:26aa:fa1f:c98b:85c:a…</td><td>&quot;2a05:4140:26aa:fa1f:c98b:085c:…</td></tr><tr><td>&quot;2a11:fb42:7db:a045:1902:7655:4…</td><td>&quot;2a11:fb42:07db:a045:1902:7655:…</td></tr><tr><td>&quot;2404:e801:1003::86b&quot;</td><td>&quot;2404:e801:1003:0000:0000:0000:…</td></tr><tr><td>&quot;2a12:ac43:11:30cc:bebb:eb74:69…</td><td>&quot;2a12:ac43:0011:30cc:bebb:eb74:…</td></tr><tr><td>&quot;2401:a660:212:1abf:bb6d:181b:9…</td><td>&quot;2401:a660:0212:1abf:bb6d:181b:…</td></tr></tbody></table></div>"
      ],
      "text/plain": [
       "shape: (3_126_420, 2)\n",
       "┌─────────────────────────────────┬─────────────────────────────────┐\n",
       "│ ipaddr                          ┆ ipaddr_exploded                 │\n",
       "│ ---                             ┆ ---                             │\n",
       "│ str                             ┆ str                             │\n",
       "╞═════════════════════════════════╪═════════════════════════════════╡\n",
       "│ 2a12:5240:1:5ae9:6e22:c616:a6a… ┆ 2a12:5240:0001:5ae9:6e22:c616:… │\n",
       "│ 2600:9000:254a:d24d:a1f5:aa5f:… ┆ 2600:9000:254a:d24d:a1f5:aa5f:… │\n",
       "│ 2600:9000:26bc:dd7c:162e:4b0e:… ┆ 2600:9000:26bc:dd7c:162e:4b0e:… │\n",
       "│ 2a06:98c1:3108:2fa7:a331:e83b:… ┆ 2a06:98c1:3108:2fa7:a331:e83b:… │\n",
       "│ 2001:268:92bb:98c3:0:1d:64a:a6… ┆ 2001:0268:92bb:98c3:0000:001d:… │\n",
       "│ …                               ┆ …                               │\n",
       "│ 2a05:4140:26aa:fa1f:c98b:85c:a… ┆ 2a05:4140:26aa:fa1f:c98b:085c:… │\n",
       "│ 2a11:fb42:7db:a045:1902:7655:4… ┆ 2a11:fb42:07db:a045:1902:7655:… │\n",
       "│ 2404:e801:1003::86b             ┆ 2404:e801:1003:0000:0000:0000:… │\n",
       "│ 2a12:ac43:11:30cc:bebb:eb74:69… ┆ 2a12:ac43:0011:30cc:bebb:eb74:… │\n",
       "│ 2401:a660:212:1abf:bb6d:181b:9… ┆ 2401:a660:0212:1abf:bb6d:181b:… │\n",
       "└─────────────────────────────────┴─────────────────────────────────┘"
      ]
     },
     "execution_count": 30,
     "metadata": {},
     "output_type": "execute_result"
    }
   ],
   "source": [
    "df_itdk_joined"
   ]
  },
  {
   "cell_type": "code",
   "execution_count": 31,
   "id": "88a1418e-ea07-4f55-b87c-b4f6bd7caa0f",
   "metadata": {},
   "outputs": [],
   "source": [
    "df_itdk_joined.select('ipaddr').write_csv(f'{INTERIM_DATA_DIR}/itdk-ips.csv')"
   ]
  },
  {
   "cell_type": "code",
   "execution_count": 32,
   "id": "10e1df3a-f186-4c96-8f2b-48cf87013475",
   "metadata": {},
   "outputs": [],
   "source": [
    "ripe_dir = '/home/service/ripe-atlas-ipv6-traceroute'"
   ]
  },
  {
   "cell_type": "code",
   "execution_count": 33,
   "id": "1d656934-0a3a-4cc4-8bda-ad65d2c17a0f",
   "metadata": {},
   "outputs": [],
   "source": [
    "df_topov6_1004 = pl.read_parquet(f'{ripe_dir}/ripe-topology-processed.parquet')"
   ]
  },
  {
   "cell_type": "code",
   "execution_count": 34,
   "id": "9a8176d8-ce33-4434-8144-9bd1486423eb",
   "metadata": {},
   "outputs": [
    {
     "data": {
      "text/html": [
       "<div><style>\n",
       ".dataframe > thead > tr,\n",
       ".dataframe > tbody > tr {\n",
       "  text-align: right;\n",
       "  white-space: pre-wrap;\n",
       "}\n",
       "</style>\n",
       "<small>shape: (407_755, 4)</small><table border=\"1\" class=\"dataframe\"><thead><tr><th>ipaddr</th><th>is_src</th><th>is_dst</th><th>is_transit</th></tr><tr><td>str</td><td>i32</td><td>i32</td><td>i32</td></tr></thead><tbody><tr><td>&quot;2a0f:9400:611f::1&quot;</td><td>0</td><td>5</td><td>4</td></tr><tr><td>&quot;2a02:8071:51c2:71a1:e72:74ff:f…</td><td>0</td><td>0</td><td>108</td></tr><tr><td>&quot;2408:8957:1e30::1&quot;</td><td>0</td><td>5</td><td>0</td></tr><tr><td>&quot;2001:610::1&quot;</td><td>0</td><td>5</td><td>0</td></tr><tr><td>&quot;2001:fb1:fd0:107:b49b:2e16:d69…</td><td>0</td><td>0</td><td>3</td></tr><tr><td>&hellip;</td><td>&hellip;</td><td>&hellip;</td><td>&hellip;</td></tr><tr><td>&quot;2001:418:0:2000::55&quot;</td><td>0</td><td>0</td><td>1</td></tr><tr><td>&quot;2a01:80a0:1000::1&quot;</td><td>0</td><td>5</td><td>0</td></tr><tr><td>&quot;240e:2:8010:2:0:31:93:5203&quot;</td><td>0</td><td>0</td><td>3</td></tr><tr><td>&quot;2001:7b8:4:1000::&quot;</td><td>0</td><td>0</td><td>2</td></tr><tr><td>&quot;2001:4488:0:2::d&quot;</td><td>0</td><td>0</td><td>2</td></tr></tbody></table></div>"
      ],
      "text/plain": [
       "shape: (407_755, 4)\n",
       "┌─────────────────────────────────┬────────┬────────┬────────────┐\n",
       "│ ipaddr                          ┆ is_src ┆ is_dst ┆ is_transit │\n",
       "│ ---                             ┆ ---    ┆ ---    ┆ ---        │\n",
       "│ str                             ┆ i32    ┆ i32    ┆ i32        │\n",
       "╞═════════════════════════════════╪════════╪════════╪════════════╡\n",
       "│ 2a0f:9400:611f::1               ┆ 0      ┆ 5      ┆ 4          │\n",
       "│ 2a02:8071:51c2:71a1:e72:74ff:f… ┆ 0      ┆ 0      ┆ 108        │\n",
       "│ 2408:8957:1e30::1               ┆ 0      ┆ 5      ┆ 0          │\n",
       "│ 2001:610::1                     ┆ 0      ┆ 5      ┆ 0          │\n",
       "│ 2001:fb1:fd0:107:b49b:2e16:d69… ┆ 0      ┆ 0      ┆ 3          │\n",
       "│ …                               ┆ …      ┆ …      ┆ …          │\n",
       "│ 2001:418:0:2000::55             ┆ 0      ┆ 0      ┆ 1          │\n",
       "│ 2a01:80a0:1000::1               ┆ 0      ┆ 5      ┆ 0          │\n",
       "│ 240e:2:8010:2:0:31:93:5203      ┆ 0      ┆ 0      ┆ 3          │\n",
       "│ 2001:7b8:4:1000::               ┆ 0      ┆ 0      ┆ 2          │\n",
       "│ 2001:4488:0:2::d                ┆ 0      ┆ 0      ┆ 2          │\n",
       "└─────────────────────────────────┴────────┴────────┴────────────┘"
      ]
     },
     "execution_count": 34,
     "metadata": {},
     "output_type": "execute_result"
    }
   ],
   "source": [
    "df_topov6_1004"
   ]
  },
  {
   "cell_type": "code",
   "execution_count": 35,
   "id": "cfbbc873-daf7-41f1-81b7-e8125283da39",
   "metadata": {},
   "outputs": [],
   "source": [
    "df_topov6_1004.select('ipaddr').write_csv(f'{INTERIM_DATA_DIR}/ripe-ips.csv')"
   ]
  },
  {
   "cell_type": "code",
   "execution_count": 36,
   "id": "2dd27c98-0be3-418c-9321-a838b009d7e2",
   "metadata": {},
   "outputs": [],
   "source": [
    "ixp_dir = '/home/service/ixp-analysis/data'"
   ]
  },
  {
   "cell_type": "code",
   "execution_count": 37,
   "id": "d4463296-1ae5-4bc6-9dda-879880d5c390",
   "metadata": {},
   "outputs": [],
   "source": [
    "df_ixp_src = pl.read_parquet(f'{ixp_dir}/sources_ixp')"
   ]
  },
  {
   "cell_type": "code",
   "execution_count": 38,
   "id": "90e4e07d-f609-43a7-aae3-22cd8cee4623",
   "metadata": {},
   "outputs": [
    {
     "data": {
      "text/html": [
       "<div><style>\n",
       ".dataframe > thead > tr,\n",
       ".dataframe > tbody > tr {\n",
       "  text-align: right;\n",
       "  white-space: pre-wrap;\n",
       "}\n",
       "</style>\n",
       "<small>shape: (5, 2)</small><table border=\"1\" class=\"dataframe\"><thead><tr><th>ipaddr</th><th>observed</th></tr><tr><td>str</td><td>i64</td></tr></thead><tbody><tr><td>&quot;2a01:c22:914c:2200:1926:2619:3…</td><td>1</td></tr><tr><td>&quot;2a02:3031:20a:9010:81e2:2682:6…</td><td>1</td></tr><tr><td>&quot;2a02:8109:86a5:1a00:34d6:3066:…</td><td>1</td></tr><tr><td>&quot;2a00:20:604b:80ef:481b:1dec:9c…</td><td>1</td></tr><tr><td>&quot;2a02:2454:9bd8:200:5c25:6d0a:d…</td><td>2</td></tr></tbody></table></div>"
      ],
      "text/plain": [
       "shape: (5, 2)\n",
       "┌─────────────────────────────────┬──────────┐\n",
       "│ ipaddr                          ┆ observed │\n",
       "│ ---                             ┆ ---      │\n",
       "│ str                             ┆ i64      │\n",
       "╞═════════════════════════════════╪══════════╡\n",
       "│ 2a01:c22:914c:2200:1926:2619:3… ┆ 1        │\n",
       "│ 2a02:3031:20a:9010:81e2:2682:6… ┆ 1        │\n",
       "│ 2a02:8109:86a5:1a00:34d6:3066:… ┆ 1        │\n",
       "│ 2a00:20:604b:80ef:481b:1dec:9c… ┆ 1        │\n",
       "│ 2a02:2454:9bd8:200:5c25:6d0a:d… ┆ 2        │\n",
       "└─────────────────────────────────┴──────────┘"
      ]
     },
     "execution_count": 38,
     "metadata": {},
     "output_type": "execute_result"
    }
   ],
   "source": [
    "df_ixp_src.head()"
   ]
  },
  {
   "cell_type": "code",
   "execution_count": 39,
   "id": "e1360d58-c877-4f25-be0b-cbefbca75d65",
   "metadata": {},
   "outputs": [],
   "source": [
    "df_ixp_dst = pl.read_parquet(f'{ixp_dir}/destinations_ixp')"
   ]
  },
  {
   "cell_type": "code",
   "execution_count": 40,
   "id": "fe83008d-8ddb-45ce-8d95-0f83ae63cfe4",
   "metadata": {},
   "outputs": [],
   "source": [
    "df_ixp_all = pl.concat([df_ixp_src,df_ixp_dst])\n",
    "df_ixp_all = df_ixp_all.group_by('ipaddr').agg(pl.col('observed').sum().alias('observed'))"
   ]
  },
  {
   "cell_type": "code",
   "execution_count": 42,
   "id": "42c1de9d-f1d1-454a-9b66-5a4c37338c52",
   "metadata": {},
   "outputs": [],
   "source": [
    "df_ixp_all.select('ipaddr').write_csv(f'{INTERIM_DATA_DIR}/ixp-ips.csv')"
   ]
  },
  {
   "cell_type": "code",
   "execution_count": null,
   "id": "ee165c33-f0e1-4c17-bc6c-af24dcafadfa",
   "metadata": {},
   "outputs": [],
   "source": []
  }
 ],
 "metadata": {
  "kernelspec": {
   "display_name": "Python 3 (ipykernel)",
   "language": "python",
   "name": "python3"
  },
  "language_info": {
   "codemirror_mode": {
    "name": "ipython",
    "version": 3
   },
   "file_extension": ".py",
   "mimetype": "text/x-python",
   "name": "python",
   "nbconvert_exporter": "python",
   "pygments_lexer": "ipython3",
   "version": "3.12.11"
  }
 },
 "nbformat": 4,
 "nbformat_minor": 5
}
