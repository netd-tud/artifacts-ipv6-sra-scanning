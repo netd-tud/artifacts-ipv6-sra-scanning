{
 "cells": [
  {
   "cell_type": "code",
   "execution_count": 1,
   "id": "ce29fa4e-d977-4dc2-a39e-2dbf3be538d0",
   "metadata": {},
   "outputs": [
    {
     "name": "stderr",
     "output_type": "stream",
     "text": [
      "\u001b[32m2025-10-28 22:58:39.504\u001b[0m | \u001b[1mINFO    \u001b[0m | \u001b[36martifacts_ipv6_sra_scanning.config\u001b[0m:\u001b[36m<module>\u001b[0m:\u001b[36m22\u001b[0m - \u001b[1mPROJ_ROOT path is: /home/service/artifacts-ipv6-sra-scanning\u001b[0m\n"
     ]
    }
   ],
   "source": [
    "from artifacts_ipv6_sra_scanning.config import *"
   ]
  },
  {
   "cell_type": "code",
   "execution_count": 2,
   "id": "de0dee52-d9e4-4b57-ae96-8e221eea047d",
   "metadata": {},
   "outputs": [],
   "source": [
    "df_scan01 = pl.read_csv(f'{RAW_DATA_DIR}/bgp48_1728075185_routerIP_stats.csv',separator=';')\n",
    "df_scan01 = df_scan01.rename({\"ASN\": \"AS-Number\",'numamplsubnets_48':'numamplsubnets','numsubnets_48':'numsubnets','Prefix':'BGP-Prefix','routerip':'saddr'})"
   ]
  },
  {
   "cell_type": "code",
   "execution_count": 3,
   "id": "d79c971a-4c9d-44e3-972c-fe88fe1f03c9",
   "metadata": {},
   "outputs": [],
   "source": [
    "pd_df = df_scan01.filter((pl.col('numamplsubnets')>0) & (pl.col('classification')=='timxceed')).sort('maxampl',descending=True).to_pandas()\n",
    "loop_df = df_scan01.filter((pl.col('classification')=='timxceed')).sort('numsubnets',descending=True).to_pandas()"
   ]
  },
  {
   "cell_type": "markdown",
   "id": "1c313eec-fece-41f3-8a26-6593c71b1ef7",
   "metadata": {},
   "source": [
    "# Table 4a"
   ]
  },
  {
   "cell_type": "code",
   "execution_count": 4,
   "id": "80ca970b-d82e-4c87-8ea4-39879ab8abfe",
   "metadata": {},
   "outputs": [
    {
     "data": {
      "text/html": [
       "<div>\n",
       "<style scoped>\n",
       "    .dataframe tbody tr th:only-of-type {\n",
       "        vertical-align: middle;\n",
       "    }\n",
       "\n",
       "    .dataframe tbody tr th {\n",
       "        vertical-align: top;\n",
       "    }\n",
       "\n",
       "    .dataframe thead th {\n",
       "        text-align: right;\n",
       "    }\n",
       "</style>\n",
       "<table border=\"1\" class=\"dataframe\">\n",
       "  <thead>\n",
       "    <tr style=\"text-align: right;\">\n",
       "      <th></th>\n",
       "      <th>Geo</th>\n",
       "      <th>routingloops</th>\n",
       "      <th>relative</th>\n",
       "      <th>routerips</th>\n",
       "    </tr>\n",
       "  </thead>\n",
       "  <tbody>\n",
       "    <tr>\n",
       "      <th>0</th>\n",
       "      <td>BRA</td>\n",
       "      <td>37081970</td>\n",
       "      <td>26.222086</td>\n",
       "      <td>9329</td>\n",
       "    </tr>\n",
       "    <tr>\n",
       "      <th>1</th>\n",
       "      <td>DEU</td>\n",
       "      <td>13273666</td>\n",
       "      <td>9.386319</td>\n",
       "      <td>1192</td>\n",
       "    </tr>\n",
       "    <tr>\n",
       "      <th>2</th>\n",
       "      <td>CZE</td>\n",
       "      <td>10444197</td>\n",
       "      <td>7.385493</td>\n",
       "      <td>881</td>\n",
       "    </tr>\n",
       "    <tr>\n",
       "      <th>3</th>\n",
       "      <td>USA</td>\n",
       "      <td>7613551</td>\n",
       "      <td>5.383835</td>\n",
       "      <td>4150</td>\n",
       "    </tr>\n",
       "    <tr>\n",
       "      <th>4</th>\n",
       "      <td>NLD</td>\n",
       "      <td>7241713</td>\n",
       "      <td>5.120894</td>\n",
       "      <td>388</td>\n",
       "    </tr>\n",
       "  </tbody>\n",
       "</table>\n",
       "</div>"
      ],
      "text/plain": [
       "   Geo  routingloops   relative  routerips\n",
       "0  BRA      37081970  26.222086       9329\n",
       "1  DEU      13273666   9.386319       1192\n",
       "2  CZE      10444197   7.385493        881\n",
       "3  USA       7613551   5.383835       4150\n",
       "4  NLD       7241713   5.120894        388"
      ]
     },
     "execution_count": 4,
     "metadata": {},
     "output_type": "execute_result"
    }
   ],
   "source": [
    "totalloops = df_scan01.filter((pl.col('classification')=='timxceed'))['numsubnets'].sum()\n",
    "#print(\n",
    "df_scan01.filter((pl.col('classification')=='timxceed') & (pl.col('Geo').is_not_null())).group_by(['Geo']).agg(\n",
    "    pl.col('numsubnets').sum().alias('routingloops'),\n",
    "    (pl.col('numsubnets').sum()/totalloops).mul(100).alias('relative'),\n",
    "    pl.col('saddr').n_unique().alias('routerips'),\n",
    ").top_k(5,by='routingloops').to_pandas()#.to_latex(index=False,float_format=\"%.2f\"))"
   ]
  },
  {
   "cell_type": "code",
   "execution_count": 5,
   "id": "cda5385f-bd44-48cf-8522-cb23823aa1f8",
   "metadata": {},
   "outputs": [
    {
     "data": {
      "text/plain": [
       "53.49862680080404"
      ]
     },
     "execution_count": 5,
     "metadata": {},
     "output_type": "execute_result"
    }
   ],
   "source": [
    "totalloops = df_scan01.filter((pl.col('classification')=='timxceed'))['numsubnets'].sum()\n",
    "df_scan01.filter((pl.col('classification')=='timxceed') & (pl.col('Geo').is_not_null())).group_by(['Geo']).agg(\n",
    "    pl.col('numsubnets').sum().alias('routingloops'),\n",
    "    (pl.col('numsubnets').sum()/totalloops).mul(100).alias('relative'),\n",
    "    pl.col('saddr').n_unique().alias('routerips'),\n",
    ").top_k(5,by='routingloops')['relative'].sum()"
   ]
  },
  {
   "cell_type": "markdown",
   "id": "9618c88e-ef48-4600-8547-e95ff455d36f",
   "metadata": {},
   "source": [
    "# Table 4b"
   ]
  },
  {
   "cell_type": "code",
   "execution_count": 6,
   "id": "c1485489-06af-4a1e-82d2-7e2989ee2f28",
   "metadata": {},
   "outputs": [
    {
     "data": {
      "text/html": [
       "<div>\n",
       "<style scoped>\n",
       "    .dataframe tbody tr th:only-of-type {\n",
       "        vertical-align: middle;\n",
       "    }\n",
       "\n",
       "    .dataframe tbody tr th {\n",
       "        vertical-align: top;\n",
       "    }\n",
       "\n",
       "    .dataframe thead th {\n",
       "        text-align: right;\n",
       "    }\n",
       "</style>\n",
       "<table border=\"1\" class=\"dataframe\">\n",
       "  <thead>\n",
       "    <tr style=\"text-align: right;\">\n",
       "      <th></th>\n",
       "      <th>Geo</th>\n",
       "      <th>amplification</th>\n",
       "      <th>relative</th>\n",
       "      <th>routerips</th>\n",
       "      <th>maxamplification</th>\n",
       "    </tr>\n",
       "  </thead>\n",
       "  <tbody>\n",
       "    <tr>\n",
       "      <th>0</th>\n",
       "      <td>BRA</td>\n",
       "      <td>4674687</td>\n",
       "      <td>23.351353</td>\n",
       "      <td>2765</td>\n",
       "      <td>51</td>\n",
       "    </tr>\n",
       "    <tr>\n",
       "      <th>1</th>\n",
       "      <td>DEU</td>\n",
       "      <td>477046</td>\n",
       "      <td>2.382977</td>\n",
       "      <td>78</td>\n",
       "      <td>258399</td>\n",
       "    </tr>\n",
       "    <tr>\n",
       "      <th>2</th>\n",
       "      <td>USA</td>\n",
       "      <td>247736</td>\n",
       "      <td>1.237510</td>\n",
       "      <td>577</td>\n",
       "      <td>109385</td>\n",
       "    </tr>\n",
       "    <tr>\n",
       "      <th>3</th>\n",
       "      <td>CHN</td>\n",
       "      <td>245546</td>\n",
       "      <td>1.226570</td>\n",
       "      <td>4141</td>\n",
       "      <td>52</td>\n",
       "    </tr>\n",
       "    <tr>\n",
       "      <th>4</th>\n",
       "      <td>CZE</td>\n",
       "      <td>212547</td>\n",
       "      <td>1.061731</td>\n",
       "      <td>17</td>\n",
       "      <td>37</td>\n",
       "    </tr>\n",
       "  </tbody>\n",
       "</table>\n",
       "</div>"
      ],
      "text/plain": [
       "   Geo  amplification   relative  routerips  maxamplification\n",
       "0  BRA        4674687  23.351353       2765                51\n",
       "1  DEU         477046   2.382977         78            258399\n",
       "2  USA         247736   1.237510        577            109385\n",
       "3  CHN         245546   1.226570       4141                52\n",
       "4  CZE         212547   1.061731         17                37"
      ]
     },
     "execution_count": 6,
     "metadata": {},
     "output_type": "execute_result"
    }
   ],
   "source": [
    "totalamp = df_scan01.filter((pl.col('classification')=='timxceed') & (pl.col('numamplsubnets')>0))['numsubnets'].sum()\n",
    "#print(\n",
    "df_scan01.filter((pl.col('classification')=='timxceed') & (pl.col('Geo').is_not_null()) & (pl.col('numamplsubnets')>0)).group_by(['Geo']).agg(\n",
    "    pl.col('numamplsubnets').sum().alias('amplification'),\n",
    "    (pl.col('numamplsubnets').sum()/totalamp).mul(100).alias('relative'),\n",
    "    pl.col('saddr').n_unique().alias('routerips'),\n",
    "    pl.col('maxampl').max().alias('maxamplification'),\n",
    ").top_k(5,by='amplification').to_pandas()#.to_latex(index=False,float_format=\"%.2f\"))"
   ]
  },
  {
   "cell_type": "code",
   "execution_count": 7,
   "id": "3ff5917e-0788-4ae1-bbf6-fe4edb5f6a95",
   "metadata": {},
   "outputs": [
    {
     "data": {
      "text/plain": [
       "5531"
      ]
     },
     "execution_count": 7,
     "metadata": {},
     "output_type": "execute_result"
    }
   ],
   "source": [
    "loop_df['AS-Number'].nunique()"
   ]
  },
  {
   "cell_type": "code",
   "execution_count": 8,
   "id": "df1aa2eb-cdc5-4ce6-a1f6-cbece5ffcae9",
   "metadata": {},
   "outputs": [
    {
     "data": {
      "text/plain": [
       "0.604160816250117"
      ]
     },
     "execution_count": 8,
     "metadata": {},
     "output_type": "execute_result"
    }
   ],
   "source": [
    "len(loop_df[loop_df.numsubnets==1])/len(loop_df)"
   ]
  },
  {
   "cell_type": "code",
   "execution_count": null,
   "id": "14c82773-4053-4fcc-bf75-4615a9d22844",
   "metadata": {},
   "outputs": [],
   "source": []
  }
 ],
 "metadata": {
  "kernelspec": {
   "display_name": "Python 3 (ipykernel)",
   "language": "python",
   "name": "python3"
  },
  "language_info": {
   "codemirror_mode": {
    "name": "ipython",
    "version": 3
   },
   "file_extension": ".py",
   "mimetype": "text/x-python",
   "name": "python",
   "nbconvert_exporter": "python",
   "pygments_lexer": "ipython3",
   "version": "3.12.11"
  }
 },
 "nbformat": 4,
 "nbformat_minor": 5
}
