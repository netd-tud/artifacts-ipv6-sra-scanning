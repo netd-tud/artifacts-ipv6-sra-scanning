{
 "cells": [
  {
   "cell_type": "code",
   "execution_count": 1,
   "id": "39ba195f-8802-4190-8f2f-dbb5782d46de",
   "metadata": {},
   "outputs": [
    {
     "name": "stderr",
     "output_type": "stream",
     "text": [
      "\u001b[32m2025-09-27 07:39:29.136\u001b[0m | \u001b[1mINFO    \u001b[0m | \u001b[36martifacts_ipv6_sra_scanning.config\u001b[0m:\u001b[36m<module>\u001b[0m:\u001b[36m22\u001b[0m - \u001b[1mPROJ_ROOT path is: /home/service/artifacts-ipv6-sra-scanning\u001b[0m\n"
     ]
    }
   ],
   "source": [
    "from artifacts_ipv6_sra_scanning.config import *\n",
    "import pickle\n",
    "import os\n",
    "import ipaddress\n",
    "import geopandas as gpd\n",
    "import glob\n",
    "import pycountry\n",
    "from IPython.display import HTML\n",
    "from mpl_toolkits.axes_grid1 import make_axes_locatable\n",
    "import matplotlib.colors as colors\n",
    "from parallel_pandas import ParallelPandas\n",
    "ParallelPandas.initialize(n_cpu=24, split_factor=1, disable_pr_bar=False)"
   ]
  },
  {
   "cell_type": "code",
   "execution_count": 2,
   "id": "28ef3fd7-7851-41ec-b2f4-f6c48c11384a",
   "metadata": {},
   "outputs": [],
   "source": [
    "df = pl.read_parquet(f'{PROCESSED_DATA_DIR}/sra_tum_scans_stability.parquet')\n",
    "df_metadata = pl.read_csv(f'{INTERIM_DATA_DIR}/router-ips.csv')"
   ]
  },
  {
   "cell_type": "code",
   "execution_count": 3,
   "id": "655bcf39-57cf-49b9-8ae1-c437fc68857a",
   "metadata": {},
   "outputs": [
    {
     "data": {
      "text/html": [
       "<div><style>\n",
       ".dataframe > thead > tr,\n",
       ".dataframe > tbody > tr {\n",
       "  text-align: right;\n",
       "  white-space: pre-wrap;\n",
       "}\n",
       "</style>\n",
       "<small>shape: (5, 13)</small><table border=\"1\" class=\"dataframe\"><thead><tr><th>initial-ip</th><th>saddr</th><th>classification</th><th>saddr_s1</th><th>classification_s1</th><th>saddr_s2</th><th>classification_s2</th><th>saddr_s3</th><th>classification_s3</th><th>saddr_s4</th><th>classification_s4</th><th>saddr_s5</th><th>classification_s5</th></tr><tr><td>str</td><td>str</td><td>str</td><td>str</td><td>str</td><td>str</td><td>str</td><td>str</td><td>str</td><td>str</td><td>str</td><td>str</td><td>str</td></tr></thead><tbody><tr><td>&quot;240e:358:e00:6b54::&quot;</td><td>&quot;240e:358:e00:6b54:7869:e171:7f…</td><td>&quot;echoreply&quot;</td><td>&quot;240e:358:e00:6b54:7869:e171:7f…</td><td>&quot;echoreply&quot;</td><td>&quot;240e:358:e00:6b54:7869:e171:7f…</td><td>&quot;echoreply&quot;</td><td>null</td><td>null</td><td>null</td><td>null</td><td>null</td><td>null</td></tr><tr><td>&quot;2409:40e4:8:7db2::&quot;</td><td>&quot;2409:40e4:8:7db2:5e2f:65c5:7b5…</td><td>&quot;unreach_noroute&quot;</td><td>&quot;2409:40e4:8:7db2:5e2f:65c5:7b5…</td><td>&quot;unreach_noroute&quot;</td><td>&quot;2409:40e4:8:7db2:5e2f:65c5:7b5…</td><td>&quot;unreach_noroute&quot;</td><td>null</td><td>null</td><td>null</td><td>null</td><td>null</td><td>null</td></tr><tr><td>&quot;2001:1670:10:6362::&quot;</td><td>&quot;2001:1670:10:6362:1008:d0df:88…</td><td>&quot;echoreply&quot;</td><td>&quot;2001:1670:10:6362:1008:d0df:88…</td><td>&quot;echoreply&quot;</td><td>&quot;2001:1670:10:6362:1008:d0df:88…</td><td>&quot;echoreply&quot;</td><td>&quot;2001:1670:14:0:40a4:5e47:67f0:…</td><td>&quot;unreach_addr&quot;</td><td>&quot;2001:1670:10:6362:4dbb:9498:1d…</td><td>&quot;echoreply&quot;</td><td>&quot;2001:1670:10:6362:4dbb:9498:1d…</td><td>&quot;echoreply&quot;</td></tr><tr><td>&quot;2003:e3:3719:2e00::&quot;</td><td>&quot;2003:e3:37ff:19a5:e228:6dff:fe…</td><td>&quot;unreach_admin&quot;</td><td>&quot;2003:e3:37ff:19a5:e228:6dff:fe…</td><td>&quot;unreach_admin&quot;</td><td>&quot;2003:e3:37ff:19a5:e228:6dff:fe…</td><td>&quot;unreach_admin&quot;</td><td>&quot;2003:e3:37ff:19a5:e228:6dff:fe…</td><td>&quot;unreach_admin&quot;</td><td>&quot;2003:e3:37ff:19a5:e228:6dff:fe…</td><td>&quot;unreach_admin&quot;</td><td>&quot;2003:e3:37ff:19a5:e228:6dff:fe…</td><td>&quot;unreach_admin&quot;</td></tr><tr><td>&quot;2400:2412:4761:b600::&quot;</td><td>&quot;2400:2412:4761:b601:3ae0:8eff:…</td><td>&quot;echoreply&quot;</td><td>&quot;2400:2412:4761:b601:3ae0:8eff:…</td><td>&quot;echoreply&quot;</td><td>&quot;2400:2412:4761:b601:3ae0:8eff:…</td><td>&quot;echoreply&quot;</td><td>&quot;2400:2412:4761:b601:3ae0:8eff:…</td><td>&quot;echoreply&quot;</td><td>&quot;2400:2412:4761:b601:3ae0:8eff:…</td><td>&quot;echoreply&quot;</td><td>&quot;2400:2412:4761:b601:3ae0:8eff:…</td><td>&quot;echoreply&quot;</td></tr></tbody></table></div>"
      ],
      "text/plain": [
       "shape: (5, 13)\n",
       "┌───────────┬───────────┬───────────┬───────────┬───┬───────────┬───────────┬───────────┬──────────┐\n",
       "│ initial-i ┆ saddr     ┆ classific ┆ saddr_s1  ┆ … ┆ saddr_s4  ┆ classific ┆ saddr_s5  ┆ classifi │\n",
       "│ p         ┆ ---       ┆ ation     ┆ ---       ┆   ┆ ---       ┆ ation_s4  ┆ ---       ┆ cation_s │\n",
       "│ ---       ┆ str       ┆ ---       ┆ str       ┆   ┆ str       ┆ ---       ┆ str       ┆ 5        │\n",
       "│ str       ┆           ┆ str       ┆           ┆   ┆           ┆ str       ┆           ┆ ---      │\n",
       "│           ┆           ┆           ┆           ┆   ┆           ┆           ┆           ┆ str      │\n",
       "╞═══════════╪═══════════╪═══════════╪═══════════╪═══╪═══════════╪═══════════╪═══════════╪══════════╡\n",
       "│ 240e:358: ┆ 240e:358: ┆ echoreply ┆ 240e:358: ┆ … ┆ null      ┆ null      ┆ null      ┆ null     │\n",
       "│ e00:6b54: ┆ e00:6b54: ┆           ┆ e00:6b54: ┆   ┆           ┆           ┆           ┆          │\n",
       "│ :         ┆ 7869:e171 ┆           ┆ 7869:e171 ┆   ┆           ┆           ┆           ┆          │\n",
       "│           ┆ :7f…      ┆           ┆ :7f…      ┆   ┆           ┆           ┆           ┆          │\n",
       "│ 2409:40e4 ┆ 2409:40e4 ┆ unreach_n ┆ 2409:40e4 ┆ … ┆ null      ┆ null      ┆ null      ┆ null     │\n",
       "│ :8:7db2:: ┆ :8:7db2:5 ┆ oroute    ┆ :8:7db2:5 ┆   ┆           ┆           ┆           ┆          │\n",
       "│           ┆ e2f:65c5: ┆           ┆ e2f:65c5: ┆   ┆           ┆           ┆           ┆          │\n",
       "│           ┆ 7b5…      ┆           ┆ 7b5…      ┆   ┆           ┆           ┆           ┆          │\n",
       "│ 2001:1670 ┆ 2001:1670 ┆ echoreply ┆ 2001:1670 ┆ … ┆ 2001:1670 ┆ echoreply ┆ 2001:1670 ┆ echorepl │\n",
       "│ :10:6362: ┆ :10:6362: ┆           ┆ :10:6362: ┆   ┆ :10:6362: ┆           ┆ :10:6362: ┆ y        │\n",
       "│ :         ┆ 1008:d0df ┆           ┆ 1008:d0df ┆   ┆ 4dbb:9498 ┆           ┆ 4dbb:9498 ┆          │\n",
       "│           ┆ :88…      ┆           ┆ :88…      ┆   ┆ :1d…      ┆           ┆ :1d…      ┆          │\n",
       "│ 2003:e3:3 ┆ 2003:e3:3 ┆ unreach_a ┆ 2003:e3:3 ┆ … ┆ 2003:e3:3 ┆ unreach_a ┆ 2003:e3:3 ┆ unreach_ │\n",
       "│ 719:2e00: ┆ 7ff:19a5: ┆ dmin      ┆ 7ff:19a5: ┆   ┆ 7ff:19a5: ┆ dmin      ┆ 7ff:19a5: ┆ admin    │\n",
       "│ :         ┆ e228:6dff ┆           ┆ e228:6dff ┆   ┆ e228:6dff ┆           ┆ e228:6dff ┆          │\n",
       "│           ┆ :fe…      ┆           ┆ :fe…      ┆   ┆ :fe…      ┆           ┆ :fe…      ┆          │\n",
       "│ 2400:2412 ┆ 2400:2412 ┆ echoreply ┆ 2400:2412 ┆ … ┆ 2400:2412 ┆ echoreply ┆ 2400:2412 ┆ echorepl │\n",
       "│ :4761:b60 ┆ :4761:b60 ┆           ┆ :4761:b60 ┆   ┆ :4761:b60 ┆           ┆ :4761:b60 ┆ y        │\n",
       "│ 0::       ┆ 1:3ae0:8e ┆           ┆ 1:3ae0:8e ┆   ┆ 1:3ae0:8e ┆           ┆ 1:3ae0:8e ┆          │\n",
       "│           ┆ ff:…      ┆           ┆ ff:…      ┆   ┆ ff:…      ┆           ┆ ff:…      ┆          │\n",
       "└───────────┴───────────┴───────────┴───────────┴───┴───────────┴───────────┴───────────┴──────────┘"
      ]
     },
     "execution_count": 3,
     "metadata": {},
     "output_type": "execute_result"
    }
   ],
   "source": [
    "df.head()"
   ]
  },
  {
   "cell_type": "code",
   "execution_count": 4,
   "id": "76c12feb-8c49-4d40-8409-1b4f1e950b1d",
   "metadata": {},
   "outputs": [
    {
     "data": {
      "text/html": [
       "<div><style>\n",
       ".dataframe > thead > tr,\n",
       ".dataframe > tbody > tr {\n",
       "  text-align: right;\n",
       "  white-space: pre-wrap;\n",
       "}\n",
       "</style>\n",
       "<small>shape: (5, 5)</small><table border=\"1\" class=\"dataframe\"><thead><tr><th>ip-addr</th><th>Geo</th><th>AS-Number</th><th>BGP-Prefix</th><th>Org</th></tr><tr><td>str</td><td>str</td><td>f64</td><td>str</td><td>str</td></tr></thead><tbody><tr><td>&quot;2402:b400:4440:53ef:c822:8bff:…</td><td>&quot;MYS&quot;</td><td>45960.0</td><td>&quot;2402:b400:4440::/46&quot;</td><td>&quot;YTLCOMMS-AS-AP YTL COMMUNICATI…</td></tr><tr><td>&quot;2003:e6:37ff:3ab2:3ea6:2fff:fe…</td><td>&quot;DEU&quot;</td><td>3320.0</td><td>&quot;2003::/19&quot;</td><td>&quot;DTAG Internet service provider…</td></tr><tr><td>&quot;2405:8d40:4081:579:1807:c46a:e…</td><td>&quot;PHL&quot;</td><td>139831.0</td><td>&quot;2405:8d40:4080::/42&quot;</td><td>&quot;DTC-AS-AP DITO TELECOMMUNITY C…</td></tr><tr><td>&quot;240e:358:9c0a:13ec:ae64:62ff:f…</td><td>&quot;CHN&quot;</td><td>4134.0</td><td>&quot;240e:358::/29&quot;</td><td>&quot;CHINANET-BACKBONE No.31,Jin-ro…</td></tr><tr><td>&quot;2408:8441:5808:10fa:1807:f6b5:…</td><td>&quot;CHN&quot;</td><td>4837.0</td><td>&quot;2408:8441::/32&quot;</td><td>&quot;CHINA169-BACKBONE CHINA UNICOM…</td></tr></tbody></table></div>"
      ],
      "text/plain": [
       "shape: (5, 5)\n",
       "┌────────────────────────────────┬─────┬───────────┬─────────────────────┬─────────────────────────┐\n",
       "│ ip-addr                        ┆ Geo ┆ AS-Number ┆ BGP-Prefix          ┆ Org                     │\n",
       "│ ---                            ┆ --- ┆ ---       ┆ ---                 ┆ ---                     │\n",
       "│ str                            ┆ str ┆ f64       ┆ str                 ┆ str                     │\n",
       "╞════════════════════════════════╪═════╪═══════════╪═════════════════════╪═════════════════════════╡\n",
       "│ 2402:b400:4440:53ef:c822:8bff: ┆ MYS ┆ 45960.0   ┆ 2402:b400:4440::/46 ┆ YTLCOMMS-AS-AP YTL      │\n",
       "│ …                              ┆     ┆           ┆                     ┆ COMMUNICATI…            │\n",
       "│ 2003:e6:37ff:3ab2:3ea6:2fff:fe ┆ DEU ┆ 3320.0    ┆ 2003::/19           ┆ DTAG Internet service   │\n",
       "│ …                              ┆     ┆           ┆                     ┆ provider…               │\n",
       "│ 2405:8d40:4081:579:1807:c46a:e ┆ PHL ┆ 139831.0  ┆ 2405:8d40:4080::/42 ┆ DTC-AS-AP DITO          │\n",
       "│ …                              ┆     ┆           ┆                     ┆ TELECOMMUNITY C…        │\n",
       "│ 240e:358:9c0a:13ec:ae64:62ff:f ┆ CHN ┆ 4134.0    ┆ 240e:358::/29       ┆ CHINANET-BACKBONE       │\n",
       "│ …                              ┆     ┆           ┆                     ┆ No.31,Jin-ro…           │\n",
       "│ 2408:8441:5808:10fa:1807:f6b5: ┆ CHN ┆ 4837.0    ┆ 2408:8441::/32      ┆ CHINA169-BACKBONE CHINA │\n",
       "│ …                              ┆     ┆           ┆                     ┆ UNICOM…                 │\n",
       "└────────────────────────────────┴─────┴───────────┴─────────────────────┴─────────────────────────┘"
      ]
     },
     "execution_count": 4,
     "metadata": {},
     "output_type": "execute_result"
    }
   ],
   "source": [
    "df_metadata.head()"
   ]
  },
  {
   "cell_type": "code",
   "execution_count": 5,
   "id": "9d6f9372-27a6-473f-9107-4e27455f2f9e",
   "metadata": {},
   "outputs": [],
   "source": [
    "df = df.join(df_metadata.select(['ip-addr','AS-Number']),how='left',left_on='saddr',right_on='ip-addr')"
   ]
  },
  {
   "cell_type": "code",
   "execution_count": 6,
   "id": "bc0de87e-bf1e-4c3b-b539-aea441f3a93f",
   "metadata": {},
   "outputs": [],
   "source": [
    "df = df.join(df_metadata.select(['ip-addr','AS-Number']),how='left',left_on='saddr_s1',right_on='ip-addr',suffix='_s1')"
   ]
  },
  {
   "cell_type": "code",
   "execution_count": 7,
   "id": "657aa3a0-8e91-4d56-a6e4-92948ff82a02",
   "metadata": {},
   "outputs": [],
   "source": [
    "df = df.join(df_metadata.select(['ip-addr','AS-Number']),how='left',left_on='saddr_s2',right_on='ip-addr',suffix='_s2')"
   ]
  },
  {
   "cell_type": "code",
   "execution_count": 8,
   "id": "04ec3ade-de40-41ff-b764-e3111640fc2b",
   "metadata": {},
   "outputs": [],
   "source": [
    "df = df.join(df_metadata.select(['ip-addr','AS-Number']),how='left',left_on='saddr_s3',right_on='ip-addr',suffix='_s3')"
   ]
  },
  {
   "cell_type": "code",
   "execution_count": 9,
   "id": "18d46ab1-e25c-4ed4-974b-1f6891f3e3d8",
   "metadata": {},
   "outputs": [],
   "source": [
    "df = df.join(df_metadata.select(['ip-addr','AS-Number']),how='left',left_on='saddr_s4',right_on='ip-addr',suffix='_s4')"
   ]
  },
  {
   "cell_type": "code",
   "execution_count": 10,
   "id": "b26b91ed-6d2a-4f58-9997-138ff89872a4",
   "metadata": {},
   "outputs": [],
   "source": [
    "df = df.join(df_metadata.select(['ip-addr','AS-Number']),how='left',left_on='saddr_s5',right_on='ip-addr',suffix='_s5')"
   ]
  },
  {
   "cell_type": "code",
   "execution_count": 11,
   "id": "6cdc31fd-beb2-4e7d-8938-c8ba81551f22",
   "metadata": {},
   "outputs": [
    {
     "data": {
      "text/html": [
       "<div><style>\n",
       ".dataframe > thead > tr,\n",
       ".dataframe > tbody > tr {\n",
       "  text-align: right;\n",
       "  white-space: pre-wrap;\n",
       "}\n",
       "</style>\n",
       "<small>shape: (5, 19)</small><table border=\"1\" class=\"dataframe\"><thead><tr><th>initial-ip</th><th>saddr</th><th>classification</th><th>saddr_s1</th><th>classification_s1</th><th>saddr_s2</th><th>classification_s2</th><th>saddr_s3</th><th>classification_s3</th><th>saddr_s4</th><th>classification_s4</th><th>saddr_s5</th><th>classification_s5</th><th>AS-Number</th><th>AS-Number_s1</th><th>AS-Number_s2</th><th>AS-Number_s3</th><th>AS-Number_s4</th><th>AS-Number_s5</th></tr><tr><td>str</td><td>str</td><td>str</td><td>str</td><td>str</td><td>str</td><td>str</td><td>str</td><td>str</td><td>str</td><td>str</td><td>str</td><td>str</td><td>f64</td><td>f64</td><td>f64</td><td>f64</td><td>f64</td><td>f64</td></tr></thead><tbody><tr><td>&quot;240e:358:e00:6b54::&quot;</td><td>&quot;240e:358:e00:6b54:7869:e171:7f…</td><td>&quot;echoreply&quot;</td><td>&quot;240e:358:e00:6b54:7869:e171:7f…</td><td>&quot;echoreply&quot;</td><td>&quot;240e:358:e00:6b54:7869:e171:7f…</td><td>&quot;echoreply&quot;</td><td>null</td><td>null</td><td>null</td><td>null</td><td>null</td><td>null</td><td>4134.0</td><td>4134.0</td><td>4134.0</td><td>null</td><td>null</td><td>null</td></tr><tr><td>&quot;2409:40e4:8:7db2::&quot;</td><td>&quot;2409:40e4:8:7db2:5e2f:65c5:7b5…</td><td>&quot;unreach_noroute&quot;</td><td>&quot;2409:40e4:8:7db2:5e2f:65c5:7b5…</td><td>&quot;unreach_noroute&quot;</td><td>&quot;2409:40e4:8:7db2:5e2f:65c5:7b5…</td><td>&quot;unreach_noroute&quot;</td><td>null</td><td>null</td><td>null</td><td>null</td><td>null</td><td>null</td><td>55836.0</td><td>55836.0</td><td>55836.0</td><td>null</td><td>null</td><td>null</td></tr><tr><td>&quot;2001:1670:10:6362::&quot;</td><td>&quot;2001:1670:10:6362:1008:d0df:88…</td><td>&quot;echoreply&quot;</td><td>&quot;2001:1670:10:6362:1008:d0df:88…</td><td>&quot;echoreply&quot;</td><td>&quot;2001:1670:10:6362:1008:d0df:88…</td><td>&quot;echoreply&quot;</td><td>&quot;2001:1670:14:0:40a4:5e47:67f0:…</td><td>&quot;unreach_addr&quot;</td><td>&quot;2001:1670:10:6362:4dbb:9498:1d…</td><td>&quot;echoreply&quot;</td><td>&quot;2001:1670:10:6362:4dbb:9498:1d…</td><td>&quot;echoreply&quot;</td><td>28885.0</td><td>28885.0</td><td>28885.0</td><td>null</td><td>null</td><td>null</td></tr><tr><td>&quot;2003:e3:3719:2e00::&quot;</td><td>&quot;2003:e3:37ff:19a5:e228:6dff:fe…</td><td>&quot;unreach_admin&quot;</td><td>&quot;2003:e3:37ff:19a5:e228:6dff:fe…</td><td>&quot;unreach_admin&quot;</td><td>&quot;2003:e3:37ff:19a5:e228:6dff:fe…</td><td>&quot;unreach_admin&quot;</td><td>&quot;2003:e3:37ff:19a5:e228:6dff:fe…</td><td>&quot;unreach_admin&quot;</td><td>&quot;2003:e3:37ff:19a5:e228:6dff:fe…</td><td>&quot;unreach_admin&quot;</td><td>&quot;2003:e3:37ff:19a5:e228:6dff:fe…</td><td>&quot;unreach_admin&quot;</td><td>3320.0</td><td>3320.0</td><td>3320.0</td><td>3320.0</td><td>3320.0</td><td>3320.0</td></tr><tr><td>&quot;2400:2412:4761:b600::&quot;</td><td>&quot;2400:2412:4761:b601:3ae0:8eff:…</td><td>&quot;echoreply&quot;</td><td>&quot;2400:2412:4761:b601:3ae0:8eff:…</td><td>&quot;echoreply&quot;</td><td>&quot;2400:2412:4761:b601:3ae0:8eff:…</td><td>&quot;echoreply&quot;</td><td>&quot;2400:2412:4761:b601:3ae0:8eff:…</td><td>&quot;echoreply&quot;</td><td>&quot;2400:2412:4761:b601:3ae0:8eff:…</td><td>&quot;echoreply&quot;</td><td>&quot;2400:2412:4761:b601:3ae0:8eff:…</td><td>&quot;echoreply&quot;</td><td>17676.0</td><td>17676.0</td><td>17676.0</td><td>17676.0</td><td>17676.0</td><td>17676.0</td></tr></tbody></table></div>"
      ],
      "text/plain": [
       "shape: (5, 19)\n",
       "┌───────────┬───────────┬───────────┬───────────┬───┬───────────┬───────────┬───────────┬──────────┐\n",
       "│ initial-i ┆ saddr     ┆ classific ┆ saddr_s1  ┆ … ┆ AS-Number ┆ AS-Number ┆ AS-Number ┆ AS-Numbe │\n",
       "│ p         ┆ ---       ┆ ation     ┆ ---       ┆   ┆ _s2       ┆ _s3       ┆ _s4       ┆ r_s5     │\n",
       "│ ---       ┆ str       ┆ ---       ┆ str       ┆   ┆ ---       ┆ ---       ┆ ---       ┆ ---      │\n",
       "│ str       ┆           ┆ str       ┆           ┆   ┆ f64       ┆ f64       ┆ f64       ┆ f64      │\n",
       "╞═══════════╪═══════════╪═══════════╪═══════════╪═══╪═══════════╪═══════════╪═══════════╪══════════╡\n",
       "│ 240e:358: ┆ 240e:358: ┆ echoreply ┆ 240e:358: ┆ … ┆ 4134.0    ┆ null      ┆ null      ┆ null     │\n",
       "│ e00:6b54: ┆ e00:6b54: ┆           ┆ e00:6b54: ┆   ┆           ┆           ┆           ┆          │\n",
       "│ :         ┆ 7869:e171 ┆           ┆ 7869:e171 ┆   ┆           ┆           ┆           ┆          │\n",
       "│           ┆ :7f…      ┆           ┆ :7f…      ┆   ┆           ┆           ┆           ┆          │\n",
       "│ 2409:40e4 ┆ 2409:40e4 ┆ unreach_n ┆ 2409:40e4 ┆ … ┆ 55836.0   ┆ null      ┆ null      ┆ null     │\n",
       "│ :8:7db2:: ┆ :8:7db2:5 ┆ oroute    ┆ :8:7db2:5 ┆   ┆           ┆           ┆           ┆          │\n",
       "│           ┆ e2f:65c5: ┆           ┆ e2f:65c5: ┆   ┆           ┆           ┆           ┆          │\n",
       "│           ┆ 7b5…      ┆           ┆ 7b5…      ┆   ┆           ┆           ┆           ┆          │\n",
       "│ 2001:1670 ┆ 2001:1670 ┆ echoreply ┆ 2001:1670 ┆ … ┆ 28885.0   ┆ null      ┆ null      ┆ null     │\n",
       "│ :10:6362: ┆ :10:6362: ┆           ┆ :10:6362: ┆   ┆           ┆           ┆           ┆          │\n",
       "│ :         ┆ 1008:d0df ┆           ┆ 1008:d0df ┆   ┆           ┆           ┆           ┆          │\n",
       "│           ┆ :88…      ┆           ┆ :88…      ┆   ┆           ┆           ┆           ┆          │\n",
       "│ 2003:e3:3 ┆ 2003:e3:3 ┆ unreach_a ┆ 2003:e3:3 ┆ … ┆ 3320.0    ┆ 3320.0    ┆ 3320.0    ┆ 3320.0   │\n",
       "│ 719:2e00: ┆ 7ff:19a5: ┆ dmin      ┆ 7ff:19a5: ┆   ┆           ┆           ┆           ┆          │\n",
       "│ :         ┆ e228:6dff ┆           ┆ e228:6dff ┆   ┆           ┆           ┆           ┆          │\n",
       "│           ┆ :fe…      ┆           ┆ :fe…      ┆   ┆           ┆           ┆           ┆          │\n",
       "│ 2400:2412 ┆ 2400:2412 ┆ echoreply ┆ 2400:2412 ┆ … ┆ 17676.0   ┆ 17676.0   ┆ 17676.0   ┆ 17676.0  │\n",
       "│ :4761:b60 ┆ :4761:b60 ┆           ┆ :4761:b60 ┆   ┆           ┆           ┆           ┆          │\n",
       "│ 0::       ┆ 1:3ae0:8e ┆           ┆ 1:3ae0:8e ┆   ┆           ┆           ┆           ┆          │\n",
       "│           ┆ ff:…      ┆           ┆ ff:…      ┆   ┆           ┆           ┆           ┆          │\n",
       "└───────────┴───────────┴───────────┴───────────┴───┴───────────┴───────────┴───────────┴──────────┘"
      ]
     },
     "execution_count": 11,
     "metadata": {},
     "output_type": "execute_result"
    }
   ],
   "source": [
    "df.head()"
   ]
  },
  {
   "cell_type": "code",
   "execution_count": 12,
   "id": "e3a07145-9987-4ef7-8b5b-68ca012d31c2",
   "metadata": {},
   "outputs": [],
   "source": [
    "plt.rc(\"font\", size=12)"
   ]
  },
  {
   "cell_type": "code",
   "execution_count": 13,
   "id": "d5e061a5-f332-40d4-962c-7ab83081c4a7",
   "metadata": {},
   "outputs": [],
   "source": [
    "for i in range(1, 6):\n",
    "    col = f\"AS-Number_s{i}\"\n",
    "    df = df.with_columns(\n",
    "        pl.when(pl.col(col).is_null())\n",
    "          .then(pl.lit(\"Not seen\"))\n",
    "          .when(pl.col(col) == pl.col(\"AS-Number\"))\n",
    "          .then(pl.lit(\"Unchanged\"))\n",
    "          .otherwise(pl.lit(\"Changed\"))\n",
    "          .alias(f\"{col}_status\")\n",
    "    )"
   ]
  },
  {
   "cell_type": "code",
   "execution_count": 20,
   "id": "ba6b7888-62fb-4052-927f-d009d07220f7",
   "metadata": {},
   "outputs": [],
   "source": [
    "df = df.filter(pl.col('AS-Number').is_not_null())"
   ]
  },
  {
   "cell_type": "code",
   "execution_count": 21,
   "id": "a1b2d405-5450-4583-b3e6-83648b9b3475",
   "metadata": {},
   "outputs": [],
   "source": [
    "status_cols = [f\"AS-Number_s{i}_status\" for i in range(1, 6)]\n",
    "\n",
    "# Melt the dataframe to long format\n",
    "df_long = df.unpivot(\n",
    "    index=[],           # no id vars needed, just counts\n",
    "    on=status_cols,\n",
    "    variable_name=\"stage\",\n",
    "    value_name=\"status\"\n",
    ")\n",
    "\n",
    "# Group by stage and status to get counts\n",
    "df_plot = df_long.group_by([\"stage\", \"status\"]).agg(\n",
    "    pl.len().alias(\"count\")\n",
    ").sort([\"stage\", \"count\"])"
   ]
  },
  {
   "cell_type": "code",
   "execution_count": 22,
   "id": "9776a371-659d-4a9c-acfe-8c424c1a3477",
   "metadata": {},
   "outputs": [],
   "source": [
    "df_wide = df_plot.to_pandas().pivot(index='stage', columns='status', values='count')\n",
    "\n",
    "df_pct = df_wide.div(df_wide.sum(axis=1), axis=0) * 100\n",
    "df_pct = df_pct[['Unchanged','Not seen','Changed']]"
   ]
  },
  {
   "cell_type": "code",
   "execution_count": 23,
   "id": "1a66dc22-5e51-414d-95f6-3601c88230b2",
   "metadata": {},
   "outputs": [
    {
     "data": {
      "image/png": "[encoded data removed]",
      "text/plain": [
       "<Figure size 560x210 with 1 Axes>"
      ]
     },
     "metadata": {},
     "output_type": "display_data"
    },
    {
     "name": "stdout",
     "output_type": "stream",
     "text": [
      "/home/service/artifacts-ipv6-sra-scanning/reports/figures/sra_stability_asn.png\n"
     ]
    }
   ],
   "source": [
    "figsize = (8*0.7,3*0.7)\n",
    "fig,ax = vh.fig_ax(figsize)\n",
    "\n",
    "df_pct.plot(\n",
    "    kind='bar', \n",
    "    stacked=True,\n",
    "    color=[\"green\",\"gray\",\"orange\"],\n",
    "    ax=ax)\n",
    "ax.set_xlabel('Scan [ID]')\n",
    "ax.set_ylabel('Status of ASN per Scan [%]')\n",
    "ax.set_xticks([i for i in range(0,5)],[i for i in range(1,6)],rotation=0)\n",
    "ax.set_yticks([0,25,50,75,100])\n",
    "plt.legend(ncols=3,bbox_to_anchor=(-0.08,1.3),loc='upper left')\n",
    "plt.show()\n",
    "vh.save_plot(fig,'sra_stability_asn',autoclose=True)"
   ]
  },
  {
   "cell_type": "code",
   "execution_count": 24,
   "id": "03c14798-0d99-4c28-be2d-dfb0b0fe3ee5",
   "metadata": {
    "scrolled": true
   },
   "outputs": [
    {
     "data": {
      "text/html": [
       "<div>\n",
       "<style scoped>\n",
       "    .dataframe tbody tr th:only-of-type {\n",
       "        vertical-align: middle;\n",
       "    }\n",
       "\n",
       "    .dataframe tbody tr th {\n",
       "        vertical-align: top;\n",
       "    }\n",
       "\n",
       "    .dataframe thead th {\n",
       "        text-align: right;\n",
       "    }\n",
       "</style>\n",
       "<table border=\"1\" class=\"dataframe\">\n",
       "  <thead>\n",
       "    <tr style=\"text-align: right;\">\n",
       "      <th>status</th>\n",
       "      <th>Unchanged</th>\n",
       "      <th>Not seen</th>\n",
       "      <th>Changed</th>\n",
       "    </tr>\n",
       "    <tr>\n",
       "      <th>stage</th>\n",
       "      <th></th>\n",
       "      <th></th>\n",
       "      <th></th>\n",
       "    </tr>\n",
       "  </thead>\n",
       "  <tbody>\n",
       "    <tr>\n",
       "      <th>AS-Number_s1_status</th>\n",
       "      <td>89.029696</td>\n",
       "      <td>10.967226</td>\n",
       "      <td>0.003079</td>\n",
       "    </tr>\n",
       "    <tr>\n",
       "      <th>AS-Number_s2_status</th>\n",
       "      <td>84.278620</td>\n",
       "      <td>15.717329</td>\n",
       "      <td>0.004051</td>\n",
       "    </tr>\n",
       "    <tr>\n",
       "      <th>AS-Number_s3_status</th>\n",
       "      <td>68.180223</td>\n",
       "      <td>31.814505</td>\n",
       "      <td>0.005272</td>\n",
       "    </tr>\n",
       "    <tr>\n",
       "      <th>AS-Number_s4_status</th>\n",
       "      <td>66.545388</td>\n",
       "      <td>33.449662</td>\n",
       "      <td>0.004949</td>\n",
       "    </tr>\n",
       "    <tr>\n",
       "      <th>AS-Number_s5_status</th>\n",
       "      <td>66.023514</td>\n",
       "      <td>33.971288</td>\n",
       "      <td>0.005198</td>\n",
       "    </tr>\n",
       "  </tbody>\n",
       "</table>\n",
       "</div>"
      ],
      "text/plain": [
       "status               Unchanged   Not seen   Changed\n",
       "stage                                              \n",
       "AS-Number_s1_status  89.029696  10.967226  0.003079\n",
       "AS-Number_s2_status  84.278620  15.717329  0.004051\n",
       "AS-Number_s3_status  68.180223  31.814505  0.005272\n",
       "AS-Number_s4_status  66.545388  33.449662  0.004949\n",
       "AS-Number_s5_status  66.023514  33.971288  0.005198"
      ]
     },
     "execution_count": 24,
     "metadata": {},
     "output_type": "execute_result"
    }
   ],
   "source": [
    "df_pct"
   ]
  }
 ],
 "metadata": {
  "kernelspec": {
   "display_name": "Python 3 (ipykernel)",
   "language": "python",
   "name": "python3"
  },
  "language_info": {
   "codemirror_mode": {
    "name": "ipython",
    "version": 3
   },
   "file_extension": ".py",
   "mimetype": "text/x-python",
   "name": "python",
   "nbconvert_exporter": "python",
   "pygments_lexer": "ipython3",
   "version": "3.12.11"
  }
 },
 "nbformat": 4,
 "nbformat_minor": 5
}
