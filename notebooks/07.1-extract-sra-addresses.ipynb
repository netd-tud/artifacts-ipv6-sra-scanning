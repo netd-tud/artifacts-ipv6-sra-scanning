{
 "cells": [
  {
   "cell_type": "code",
   "execution_count": 1,
   "id": "722175e0-2a5f-4166-ab34-f345234cb4b4",
   "metadata": {},
   "outputs": [
    {
     "name": "stderr",
     "output_type": "stream",
     "text": [
      "\u001b[32m2025-10-06 12:39:19.464\u001b[0m | \u001b[1mINFO    \u001b[0m | \u001b[36martifacts_ipv6_sra_scanning.config\u001b[0m:\u001b[36m<module>\u001b[0m:\u001b[36m22\u001b[0m - \u001b[1mPROJ_ROOT path is: /home/service/artifacts-ipv6-sra-scanning\u001b[0m\n"
     ]
    }
   ],
   "source": [
    "from artifacts_ipv6_sra_scanning.config import *\n",
    "import pickle\n",
    "import os\n",
    "import ipaddress\n",
    "import glob\n",
    "from tqdm.auto import tqdm\n",
    "import country_converter as coco\n",
    "from parallel_pandas import ParallelPandas\n",
    "ParallelPandas.initialize(n_cpu=24, split_factor=1, disable_pr_bar=False)"
   ]
  },
  {
   "cell_type": "code",
   "execution_count": 2,
   "id": "5c72e194-1031-4c81-b020-2e06788f69aa",
   "metadata": {},
   "outputs": [],
   "source": [
    "df_tum_sra_as = pl.read_csv(f'{INTERIM_DATA_DIR}/init-ips-sra-tum-scan.csv')"
   ]
  },
  {
   "cell_type": "code",
   "execution_count": 3,
   "id": "cbee51f7-b043-4e5d-88d3-1c07ad1592bf",
   "metadata": {},
   "outputs": [],
   "source": [
    "df_tum_reply_as = pl.read_parquet(f'{PROCESSED_DATA_DIR}/sra_tum_scans_stability.parquet')"
   ]
  },
  {
   "cell_type": "code",
   "execution_count": 6,
   "id": "c92db817-d8a1-4fdb-a00e-be41004f2025",
   "metadata": {},
   "outputs": [],
   "source": [
    "df_router_ips = pl.read_csv(f'{INTERIM_DATA_DIR}/router-ips.csv')"
   ]
  },
  {
   "cell_type": "code",
   "execution_count": 7,
   "id": "2b0babbb-c5d2-4cdb-96bf-aa5ed127d199",
   "metadata": {},
   "outputs": [
    {
     "data": {
      "text/html": [
       "<div><style>\n",
       ".dataframe > thead > tr,\n",
       ".dataframe > tbody > tr {\n",
       "  text-align: right;\n",
       "  white-space: pre-wrap;\n",
       "}\n",
       "</style>\n",
       "<small>shape: (5, 5)</small><table border=\"1\" class=\"dataframe\"><thead><tr><th>ip-addr</th><th>Geo</th><th>AS-Number</th><th>BGP-Prefix</th><th>Org</th></tr><tr><td>str</td><td>str</td><td>f64</td><td>str</td><td>str</td></tr></thead><tbody><tr><td>&quot;2402:b400:4440:53ef:c822:8bff:…</td><td>&quot;MYS&quot;</td><td>45960.0</td><td>&quot;2402:b400:4440::/46&quot;</td><td>&quot;YTLCOMMS-AS-AP YTL COMMUNICATI…</td></tr><tr><td>&quot;2003:e6:37ff:3ab2:3ea6:2fff:fe…</td><td>&quot;DEU&quot;</td><td>3320.0</td><td>&quot;2003::/19&quot;</td><td>&quot;DTAG Internet service provider…</td></tr><tr><td>&quot;2405:8d40:4081:579:1807:c46a:e…</td><td>&quot;PHL&quot;</td><td>139831.0</td><td>&quot;2405:8d40:4080::/42&quot;</td><td>&quot;DTC-AS-AP DITO TELECOMMUNITY C…</td></tr><tr><td>&quot;240e:358:9c0a:13ec:ae64:62ff:f…</td><td>&quot;CHN&quot;</td><td>4134.0</td><td>&quot;240e:358::/29&quot;</td><td>&quot;CHINANET-BACKBONE No.31,Jin-ro…</td></tr><tr><td>&quot;2408:8441:5808:10fa:1807:f6b5:…</td><td>&quot;CHN&quot;</td><td>4837.0</td><td>&quot;2408:8441::/32&quot;</td><td>&quot;CHINA169-BACKBONE CHINA UNICOM…</td></tr></tbody></table></div>"
      ],
      "text/plain": [
       "shape: (5, 5)\n",
       "┌────────────────────────────────┬─────┬───────────┬─────────────────────┬─────────────────────────┐\n",
       "│ ip-addr                        ┆ Geo ┆ AS-Number ┆ BGP-Prefix          ┆ Org                     │\n",
       "│ ---                            ┆ --- ┆ ---       ┆ ---                 ┆ ---                     │\n",
       "│ str                            ┆ str ┆ f64       ┆ str                 ┆ str                     │\n",
       "╞════════════════════════════════╪═════╪═══════════╪═════════════════════╪═════════════════════════╡\n",
       "│ 2402:b400:4440:53ef:c822:8bff: ┆ MYS ┆ 45960.0   ┆ 2402:b400:4440::/46 ┆ YTLCOMMS-AS-AP YTL      │\n",
       "│ …                              ┆     ┆           ┆                     ┆ COMMUNICATI…            │\n",
       "│ 2003:e6:37ff:3ab2:3ea6:2fff:fe ┆ DEU ┆ 3320.0    ┆ 2003::/19           ┆ DTAG Internet service   │\n",
       "│ …                              ┆     ┆           ┆                     ┆ provider…               │\n",
       "│ 2405:8d40:4081:579:1807:c46a:e ┆ PHL ┆ 139831.0  ┆ 2405:8d40:4080::/42 ┆ DTC-AS-AP DITO          │\n",
       "│ …                              ┆     ┆           ┆                     ┆ TELECOMMUNITY C…        │\n",
       "│ 240e:358:9c0a:13ec:ae64:62ff:f ┆ CHN ┆ 4134.0    ┆ 240e:358::/29       ┆ CHINANET-BACKBONE       │\n",
       "│ …                              ┆     ┆           ┆                     ┆ No.31,Jin-ro…           │\n",
       "│ 2408:8441:5808:10fa:1807:f6b5: ┆ CHN ┆ 4837.0    ┆ 2408:8441::/32      ┆ CHINA169-BACKBONE CHINA │\n",
       "│ …                              ┆     ┆           ┆                     ┆ UNICOM…                 │\n",
       "└────────────────────────────────┴─────┴───────────┴─────────────────────┴─────────────────────────┘"
      ]
     },
     "execution_count": 7,
     "metadata": {},
     "output_type": "execute_result"
    }
   ],
   "source": [
    "df_router_ips.head()"
   ]
  },
  {
   "cell_type": "code",
   "execution_count": 8,
   "id": "c5e645f6-5214-415d-acaa-4124fdfa74fc",
   "metadata": {},
   "outputs": [
    {
     "data": {
      "text/html": [
       "<div><style>\n",
       ".dataframe > thead > tr,\n",
       ".dataframe > tbody > tr {\n",
       "  text-align: right;\n",
       "  white-space: pre-wrap;\n",
       "}\n",
       "</style>\n",
       "<small>shape: (80_573_375, 5)</small><table border=\"1\" class=\"dataframe\"><thead><tr><th>initial-ip</th><th>Geo</th><th>AS-Number</th><th>BGP-Prefix</th><th>Org</th></tr><tr><td>str</td><td>str</td><td>f64</td><td>str</td><td>str</td></tr></thead><tbody><tr><td>&quot;240e:358:e00:6b54::&quot;</td><td>&quot;CHN&quot;</td><td>4134.0</td><td>&quot;240e:358::/29&quot;</td><td>&quot;CHINANET-BACKBONE No.31,Jin-ro…</td></tr><tr><td>&quot;2409:40e4:8:7db2::&quot;</td><td>&quot;IND&quot;</td><td>55836.0</td><td>&quot;2409:40e4::/36&quot;</td><td>&quot;RELIANCEJIO-IN Reliance Jio In…</td></tr><tr><td>&quot;2001:1670:10:6362::&quot;</td><td>&quot;OMN&quot;</td><td>28885.0</td><td>&quot;2001:1670:10::/45&quot;</td><td>&quot;OMANTEL-NAP-AS OmanTel NAP&quot;</td></tr><tr><td>&quot;2003:e3:3719:2e00::&quot;</td><td>&quot;DEU&quot;</td><td>3320.0</td><td>&quot;2003::/19&quot;</td><td>&quot;DTAG Internet service provider…</td></tr><tr><td>&quot;2400:2412:4761:b600::&quot;</td><td>&quot;JPN&quot;</td><td>17676.0</td><td>&quot;2400:2000::/20&quot;</td><td>&quot;GIGAINFRA SoftBank Corp.&quot;</td></tr><tr><td>&hellip;</td><td>&hellip;</td><td>&hellip;</td><td>&hellip;</td><td>&hellip;</td></tr><tr><td>&quot;2003:c2:47ff:2156::&quot;</td><td>&quot;DEU&quot;</td><td>3320.0</td><td>&quot;2003::/19&quot;</td><td>&quot;DTAG Internet service provider…</td></tr><tr><td>&quot;2804:1e68:c201:23d0::&quot;</td><td>&quot;BRA&quot;</td><td>53006.0</td><td>&quot;2804:1e68::/32&quot;</td><td>&quot;ALGAR TELECOM SA&quot;</td></tr><tr><td>&quot;2a01:e0a:31:eec0::&quot;</td><td>&quot;FRA&quot;</td><td>12322.0</td><td>&quot;2a01:e0a::/39&quot;</td><td>&quot;PROXAD&quot;</td></tr><tr><td>&quot;2409:40d6:31:fbe6::&quot;</td><td>&quot;IND&quot;</td><td>55836.0</td><td>&quot;2409:40d6::/36&quot;</td><td>&quot;RELIANCEJIO-IN Reliance Jio In…</td></tr><tr><td>&quot;2a02:27b0:5503:a1f1::&quot;</td><td>&quot;BIH&quot;</td><td>9146.0</td><td>&quot;2a02:27b0:5500::/40&quot;</td><td>&quot;BIHNET BIHNET Autonomus System&quot;</td></tr></tbody></table></div>"
      ],
      "text/plain": [
       "shape: (80_573_375, 5)\n",
       "┌───────────────────────┬─────┬───────────┬─────────────────────┬─────────────────────────────────┐\n",
       "│ initial-ip            ┆ Geo ┆ AS-Number ┆ BGP-Prefix          ┆ Org                             │\n",
       "│ ---                   ┆ --- ┆ ---       ┆ ---                 ┆ ---                             │\n",
       "│ str                   ┆ str ┆ f64       ┆ str                 ┆ str                             │\n",
       "╞═══════════════════════╪═════╪═══════════╪═════════════════════╪═════════════════════════════════╡\n",
       "│ 240e:358:e00:6b54::   ┆ CHN ┆ 4134.0    ┆ 240e:358::/29       ┆ CHINANET-BACKBONE No.31,Jin-ro… │\n",
       "│ 2409:40e4:8:7db2::    ┆ IND ┆ 55836.0   ┆ 2409:40e4::/36      ┆ RELIANCEJIO-IN Reliance Jio In… │\n",
       "│ 2001:1670:10:6362::   ┆ OMN ┆ 28885.0   ┆ 2001:1670:10::/45   ┆ OMANTEL-NAP-AS OmanTel NAP      │\n",
       "│ 2003:e3:3719:2e00::   ┆ DEU ┆ 3320.0    ┆ 2003::/19           ┆ DTAG Internet service provider… │\n",
       "│ 2400:2412:4761:b600:: ┆ JPN ┆ 17676.0   ┆ 2400:2000::/20      ┆ GIGAINFRA SoftBank Corp.        │\n",
       "│ …                     ┆ …   ┆ …         ┆ …                   ┆ …                               │\n",
       "│ 2003:c2:47ff:2156::   ┆ DEU ┆ 3320.0    ┆ 2003::/19           ┆ DTAG Internet service provider… │\n",
       "│ 2804:1e68:c201:23d0:: ┆ BRA ┆ 53006.0   ┆ 2804:1e68::/32      ┆ ALGAR TELECOM SA                │\n",
       "│ 2a01:e0a:31:eec0::    ┆ FRA ┆ 12322.0   ┆ 2a01:e0a::/39       ┆ PROXAD                          │\n",
       "│ 2409:40d6:31:fbe6::   ┆ IND ┆ 55836.0   ┆ 2409:40d6::/36      ┆ RELIANCEJIO-IN Reliance Jio In… │\n",
       "│ 2a02:27b0:5503:a1f1:: ┆ BIH ┆ 9146.0    ┆ 2a02:27b0:5500::/40 ┆ BIHNET BIHNET Autonomus System  │\n",
       "└───────────────────────┴─────┴───────────┴─────────────────────┴─────────────────────────────────┘"
      ]
     },
     "execution_count": 8,
     "metadata": {},
     "output_type": "execute_result"
    }
   ],
   "source": [
    "df_tum_sra_as"
   ]
  },
  {
   "cell_type": "code",
   "execution_count": 5,
   "id": "83d27d81-a8aa-4819-809a-14b41e8155d3",
   "metadata": {},
   "outputs": [
    {
     "data": {
      "text/html": [
       "<div><style>\n",
       ".dataframe > thead > tr,\n",
       ".dataframe > tbody > tr {\n",
       "  text-align: right;\n",
       "  white-space: pre-wrap;\n",
       "}\n",
       "</style>\n",
       "<small>shape: (5, 13)</small><table border=\"1\" class=\"dataframe\"><thead><tr><th>initial-ip</th><th>saddr</th><th>classification</th><th>saddr_s1</th><th>classification_s1</th><th>saddr_s2</th><th>classification_s2</th><th>saddr_s3</th><th>classification_s3</th><th>saddr_s4</th><th>classification_s4</th><th>saddr_s5</th><th>classification_s5</th></tr><tr><td>str</td><td>str</td><td>str</td><td>str</td><td>str</td><td>str</td><td>str</td><td>str</td><td>str</td><td>str</td><td>str</td><td>str</td><td>str</td></tr></thead><tbody><tr><td>&quot;240e:358:e00:6b54::&quot;</td><td>&quot;240e:358:e00:6b54:7869:e171:7f…</td><td>&quot;echoreply&quot;</td><td>&quot;240e:358:e00:6b54:7869:e171:7f…</td><td>&quot;echoreply&quot;</td><td>&quot;240e:358:e00:6b54:7869:e171:7f…</td><td>&quot;echoreply&quot;</td><td>null</td><td>null</td><td>null</td><td>null</td><td>null</td><td>null</td></tr><tr><td>&quot;2409:40e4:8:7db2::&quot;</td><td>&quot;2409:40e4:8:7db2:5e2f:65c5:7b5…</td><td>&quot;unreach_noroute&quot;</td><td>&quot;2409:40e4:8:7db2:5e2f:65c5:7b5…</td><td>&quot;unreach_noroute&quot;</td><td>&quot;2409:40e4:8:7db2:5e2f:65c5:7b5…</td><td>&quot;unreach_noroute&quot;</td><td>null</td><td>null</td><td>null</td><td>null</td><td>null</td><td>null</td></tr><tr><td>&quot;2001:1670:10:6362::&quot;</td><td>&quot;2001:1670:10:6362:1008:d0df:88…</td><td>&quot;echoreply&quot;</td><td>&quot;2001:1670:10:6362:1008:d0df:88…</td><td>&quot;echoreply&quot;</td><td>&quot;2001:1670:10:6362:1008:d0df:88…</td><td>&quot;echoreply&quot;</td><td>&quot;2001:1670:14:0:40a4:5e47:67f0:…</td><td>&quot;unreach_addr&quot;</td><td>&quot;2001:1670:10:6362:4dbb:9498:1d…</td><td>&quot;echoreply&quot;</td><td>&quot;2001:1670:10:6362:4dbb:9498:1d…</td><td>&quot;echoreply&quot;</td></tr><tr><td>&quot;2003:e3:3719:2e00::&quot;</td><td>&quot;2003:e3:37ff:19a5:e228:6dff:fe…</td><td>&quot;unreach_admin&quot;</td><td>&quot;2003:e3:37ff:19a5:e228:6dff:fe…</td><td>&quot;unreach_admin&quot;</td><td>&quot;2003:e3:37ff:19a5:e228:6dff:fe…</td><td>&quot;unreach_admin&quot;</td><td>&quot;2003:e3:37ff:19a5:e228:6dff:fe…</td><td>&quot;unreach_admin&quot;</td><td>&quot;2003:e3:37ff:19a5:e228:6dff:fe…</td><td>&quot;unreach_admin&quot;</td><td>&quot;2003:e3:37ff:19a5:e228:6dff:fe…</td><td>&quot;unreach_admin&quot;</td></tr><tr><td>&quot;2400:2412:4761:b600::&quot;</td><td>&quot;2400:2412:4761:b601:3ae0:8eff:…</td><td>&quot;echoreply&quot;</td><td>&quot;2400:2412:4761:b601:3ae0:8eff:…</td><td>&quot;echoreply&quot;</td><td>&quot;2400:2412:4761:b601:3ae0:8eff:…</td><td>&quot;echoreply&quot;</td><td>&quot;2400:2412:4761:b601:3ae0:8eff:…</td><td>&quot;echoreply&quot;</td><td>&quot;2400:2412:4761:b601:3ae0:8eff:…</td><td>&quot;echoreply&quot;</td><td>&quot;2400:2412:4761:b601:3ae0:8eff:…</td><td>&quot;echoreply&quot;</td></tr></tbody></table></div>"
      ],
      "text/plain": [
       "shape: (5, 13)\n",
       "┌───────────┬───────────┬───────────┬───────────┬───┬───────────┬───────────┬───────────┬──────────┐\n",
       "│ initial-i ┆ saddr     ┆ classific ┆ saddr_s1  ┆ … ┆ saddr_s4  ┆ classific ┆ saddr_s5  ┆ classifi │\n",
       "│ p         ┆ ---       ┆ ation     ┆ ---       ┆   ┆ ---       ┆ ation_s4  ┆ ---       ┆ cation_s │\n",
       "│ ---       ┆ str       ┆ ---       ┆ str       ┆   ┆ str       ┆ ---       ┆ str       ┆ 5        │\n",
       "│ str       ┆           ┆ str       ┆           ┆   ┆           ┆ str       ┆           ┆ ---      │\n",
       "│           ┆           ┆           ┆           ┆   ┆           ┆           ┆           ┆ str      │\n",
       "╞═══════════╪═══════════╪═══════════╪═══════════╪═══╪═══════════╪═══════════╪═══════════╪══════════╡\n",
       "│ 240e:358: ┆ 240e:358: ┆ echoreply ┆ 240e:358: ┆ … ┆ null      ┆ null      ┆ null      ┆ null     │\n",
       "│ e00:6b54: ┆ e00:6b54: ┆           ┆ e00:6b54: ┆   ┆           ┆           ┆           ┆          │\n",
       "│ :         ┆ 7869:e171 ┆           ┆ 7869:e171 ┆   ┆           ┆           ┆           ┆          │\n",
       "│           ┆ :7f…      ┆           ┆ :7f…      ┆   ┆           ┆           ┆           ┆          │\n",
       "│ 2409:40e4 ┆ 2409:40e4 ┆ unreach_n ┆ 2409:40e4 ┆ … ┆ null      ┆ null      ┆ null      ┆ null     │\n",
       "│ :8:7db2:: ┆ :8:7db2:5 ┆ oroute    ┆ :8:7db2:5 ┆   ┆           ┆           ┆           ┆          │\n",
       "│           ┆ e2f:65c5: ┆           ┆ e2f:65c5: ┆   ┆           ┆           ┆           ┆          │\n",
       "│           ┆ 7b5…      ┆           ┆ 7b5…      ┆   ┆           ┆           ┆           ┆          │\n",
       "│ 2001:1670 ┆ 2001:1670 ┆ echoreply ┆ 2001:1670 ┆ … ┆ 2001:1670 ┆ echoreply ┆ 2001:1670 ┆ echorepl │\n",
       "│ :10:6362: ┆ :10:6362: ┆           ┆ :10:6362: ┆   ┆ :10:6362: ┆           ┆ :10:6362: ┆ y        │\n",
       "│ :         ┆ 1008:d0df ┆           ┆ 1008:d0df ┆   ┆ 4dbb:9498 ┆           ┆ 4dbb:9498 ┆          │\n",
       "│           ┆ :88…      ┆           ┆ :88…      ┆   ┆ :1d…      ┆           ┆ :1d…      ┆          │\n",
       "│ 2003:e3:3 ┆ 2003:e3:3 ┆ unreach_a ┆ 2003:e3:3 ┆ … ┆ 2003:e3:3 ┆ unreach_a ┆ 2003:e3:3 ┆ unreach_ │\n",
       "│ 719:2e00: ┆ 7ff:19a5: ┆ dmin      ┆ 7ff:19a5: ┆   ┆ 7ff:19a5: ┆ dmin      ┆ 7ff:19a5: ┆ admin    │\n",
       "│ :         ┆ e228:6dff ┆           ┆ e228:6dff ┆   ┆ e228:6dff ┆           ┆ e228:6dff ┆          │\n",
       "│           ┆ :fe…      ┆           ┆ :fe…      ┆   ┆ :fe…      ┆           ┆ :fe…      ┆          │\n",
       "│ 2400:2412 ┆ 2400:2412 ┆ echoreply ┆ 2400:2412 ┆ … ┆ 2400:2412 ┆ echoreply ┆ 2400:2412 ┆ echorepl │\n",
       "│ :4761:b60 ┆ :4761:b60 ┆           ┆ :4761:b60 ┆   ┆ :4761:b60 ┆           ┆ :4761:b60 ┆ y        │\n",
       "│ 0::       ┆ 1:3ae0:8e ┆           ┆ 1:3ae0:8e ┆   ┆ 1:3ae0:8e ┆           ┆ 1:3ae0:8e ┆          │\n",
       "│           ┆ ff:…      ┆           ┆ ff:…      ┆   ┆ ff:…      ┆           ┆ ff:…      ┆          │\n",
       "└───────────┴───────────┴───────────┴───────────┴───┴───────────┴───────────┴───────────┴──────────┘"
      ]
     },
     "execution_count": 5,
     "metadata": {},
     "output_type": "execute_result"
    }
   ],
   "source": [
    "df_tum_reply_as.head()"
   ]
  },
  {
   "cell_type": "code",
   "execution_count": 10,
   "id": "800cd8f4-d8e0-4ec2-b1dd-596f902eb3cc",
   "metadata": {},
   "outputs": [],
   "source": [
    "tmp = df_tum_sra_as.join(df_tum_reply_as.select(['initial-ip','saddr']),how='left',on='initial-ip')"
   ]
  },
  {
   "cell_type": "code",
   "execution_count": 11,
   "id": "cbd87e78-e8a4-4546-bc78-a484601fcddb",
   "metadata": {},
   "outputs": [
    {
     "data": {
      "text/html": [
       "<div><style>\n",
       ".dataframe > thead > tr,\n",
       ".dataframe > tbody > tr {\n",
       "  text-align: right;\n",
       "  white-space: pre-wrap;\n",
       "}\n",
       "</style>\n",
       "<small>shape: (80_573_375, 6)</small><table border=\"1\" class=\"dataframe\"><thead><tr><th>initial-ip</th><th>Geo</th><th>AS-Number</th><th>BGP-Prefix</th><th>Org</th><th>saddr</th></tr><tr><td>str</td><td>str</td><td>f64</td><td>str</td><td>str</td><td>str</td></tr></thead><tbody><tr><td>&quot;240e:358:e00:6b54::&quot;</td><td>&quot;CHN&quot;</td><td>4134.0</td><td>&quot;240e:358::/29&quot;</td><td>&quot;CHINANET-BACKBONE No.31,Jin-ro…</td><td>&quot;240e:358:e00:6b54:7869:e171:7f…</td></tr><tr><td>&quot;2409:40e4:8:7db2::&quot;</td><td>&quot;IND&quot;</td><td>55836.0</td><td>&quot;2409:40e4::/36&quot;</td><td>&quot;RELIANCEJIO-IN Reliance Jio In…</td><td>&quot;2409:40e4:8:7db2:5e2f:65c5:7b5…</td></tr><tr><td>&quot;2001:1670:10:6362::&quot;</td><td>&quot;OMN&quot;</td><td>28885.0</td><td>&quot;2001:1670:10::/45&quot;</td><td>&quot;OMANTEL-NAP-AS OmanTel NAP&quot;</td><td>&quot;2001:1670:10:6362:1008:d0df:88…</td></tr><tr><td>&quot;2003:e3:3719:2e00::&quot;</td><td>&quot;DEU&quot;</td><td>3320.0</td><td>&quot;2003::/19&quot;</td><td>&quot;DTAG Internet service provider…</td><td>&quot;2003:e3:37ff:19a5:e228:6dff:fe…</td></tr><tr><td>&quot;2400:2412:4761:b600::&quot;</td><td>&quot;JPN&quot;</td><td>17676.0</td><td>&quot;2400:2000::/20&quot;</td><td>&quot;GIGAINFRA SoftBank Corp.&quot;</td><td>&quot;2400:2412:4761:b601:3ae0:8eff:…</td></tr><tr><td>&hellip;</td><td>&hellip;</td><td>&hellip;</td><td>&hellip;</td><td>&hellip;</td><td>&hellip;</td></tr><tr><td>&quot;2003:c2:47ff:2156::&quot;</td><td>&quot;DEU&quot;</td><td>3320.0</td><td>&quot;2003::/19&quot;</td><td>&quot;DTAG Internet service provider…</td><td>&quot;2003:c2:47ff:2156:ca0e:14ff:fe…</td></tr><tr><td>&quot;2804:1e68:c201:23d0::&quot;</td><td>&quot;BRA&quot;</td><td>53006.0</td><td>&quot;2804:1e68::/32&quot;</td><td>&quot;ALGAR TELECOM SA&quot;</td><td>&quot;2804:1e68:c200:968:e549:1ba1:d…</td></tr><tr><td>&quot;2a01:e0a:31:eec0::&quot;</td><td>&quot;FRA&quot;</td><td>12322.0</td><td>&quot;2a01:e0a::/39&quot;</td><td>&quot;PROXAD&quot;</td><td>&quot;2a01:e0a:31:eec0::1&quot;</td></tr><tr><td>&quot;2409:40d6:31:fbe6::&quot;</td><td>&quot;IND&quot;</td><td>55836.0</td><td>&quot;2409:40d6::/36&quot;</td><td>&quot;RELIANCEJIO-IN Reliance Jio In…</td><td>&quot;2409:40d6:31:fbe6:8c6c:b0ff:fe…</td></tr><tr><td>&quot;2a02:27b0:5503:a1f1::&quot;</td><td>&quot;BIH&quot;</td><td>9146.0</td><td>&quot;2a02:27b0:5500::/40&quot;</td><td>&quot;BIHNET BIHNET Autonomus System&quot;</td><td>&quot;2a02:27b0:40f0:6531:ca5a:9fff:…</td></tr></tbody></table></div>"
      ],
      "text/plain": [
       "shape: (80_573_375, 6)\n",
       "┌────────────────────┬─────┬───────────┬───────────────────┬───────────────────┬───────────────────┐\n",
       "│ initial-ip         ┆ Geo ┆ AS-Number ┆ BGP-Prefix        ┆ Org               ┆ saddr             │\n",
       "│ ---                ┆ --- ┆ ---       ┆ ---               ┆ ---               ┆ ---               │\n",
       "│ str                ┆ str ┆ f64       ┆ str               ┆ str               ┆ str               │\n",
       "╞════════════════════╪═════╪═══════════╪═══════════════════╪═══════════════════╪═══════════════════╡\n",
       "│ 240e:358:e00:6b54: ┆ CHN ┆ 4134.0    ┆ 240e:358::/29     ┆ CHINANET-BACKBONE ┆ 240e:358:e00:6b54 │\n",
       "│ :                  ┆     ┆           ┆                   ┆ No.31,Jin-ro…     ┆ :7869:e171:7f…    │\n",
       "│ 2409:40e4:8:7db2:: ┆ IND ┆ 55836.0   ┆ 2409:40e4::/36    ┆ RELIANCEJIO-IN    ┆ 2409:40e4:8:7db2: │\n",
       "│                    ┆     ┆           ┆                   ┆ Reliance Jio In…  ┆ 5e2f:65c5:7b5…    │\n",
       "│ 2001:1670:10:6362: ┆ OMN ┆ 28885.0   ┆ 2001:1670:10::/45 ┆ OMANTEL-NAP-AS    ┆ 2001:1670:10:6362 │\n",
       "│ :                  ┆     ┆           ┆                   ┆ OmanTel NAP       ┆ :1008:d0df:88…    │\n",
       "│ 2003:e3:3719:2e00: ┆ DEU ┆ 3320.0    ┆ 2003::/19         ┆ DTAG Internet     ┆ 2003:e3:37ff:19a5 │\n",
       "│ :                  ┆     ┆           ┆                   ┆ service provider… ┆ :e228:6dff:fe…    │\n",
       "│ 2400:2412:4761:b60 ┆ JPN ┆ 17676.0   ┆ 2400:2000::/20    ┆ GIGAINFRA         ┆ 2400:2412:4761:b6 │\n",
       "│ 0::                ┆     ┆           ┆                   ┆ SoftBank Corp.    ┆ 01:3ae0:8eff:…    │\n",
       "│ …                  ┆ …   ┆ …         ┆ …                 ┆ …                 ┆ …                 │\n",
       "│ 2003:c2:47ff:2156: ┆ DEU ┆ 3320.0    ┆ 2003::/19         ┆ DTAG Internet     ┆ 2003:c2:47ff:2156 │\n",
       "│ :                  ┆     ┆           ┆                   ┆ service provider… ┆ :ca0e:14ff:fe…    │\n",
       "│ 2804:1e68:c201:23d ┆ BRA ┆ 53006.0   ┆ 2804:1e68::/32    ┆ ALGAR TELECOM SA  ┆ 2804:1e68:c200:96 │\n",
       "│ 0::                ┆     ┆           ┆                   ┆                   ┆ 8:e549:1ba1:d…    │\n",
       "│ 2a01:e0a:31:eec0:: ┆ FRA ┆ 12322.0   ┆ 2a01:e0a::/39     ┆ PROXAD            ┆ 2a01:e0a:31:eec0: │\n",
       "│                    ┆     ┆           ┆                   ┆                   ┆ :1                │\n",
       "│ 2409:40d6:31:fbe6: ┆ IND ┆ 55836.0   ┆ 2409:40d6::/36    ┆ RELIANCEJIO-IN    ┆ 2409:40d6:31:fbe6 │\n",
       "│ :                  ┆     ┆           ┆                   ┆ Reliance Jio In…  ┆ :8c6c:b0ff:fe…    │\n",
       "│ 2a02:27b0:5503:a1f ┆ BIH ┆ 9146.0    ┆ 2a02:27b0:5500::/ ┆ BIHNET BIHNET     ┆ 2a02:27b0:40f0:65 │\n",
       "│ 1::                ┆     ┆           ┆ 40                ┆ Autonomus System  ┆ 31:ca5a:9fff:…    │\n",
       "└────────────────────┴─────┴───────────┴───────────────────┴───────────────────┴───────────────────┘"
      ]
     },
     "execution_count": 11,
     "metadata": {},
     "output_type": "execute_result"
    }
   ],
   "source": [
    "tmp"
   ]
  },
  {
   "cell_type": "code",
   "execution_count": 12,
   "id": "6367e064-2c9c-45a4-b948-8e8bdaba6b29",
   "metadata": {},
   "outputs": [],
   "source": [
    "tmp = tmp.join(df_router_ips,how='left',left_on='saddr',right_on='ip-addr',suffix='_saddr')"
   ]
  },
  {
   "cell_type": "code",
   "execution_count": 13,
   "id": "fa894bac-59b9-44f0-bc09-c728102d2d43",
   "metadata": {},
   "outputs": [
    {
     "data": {
      "text/html": [
       "<div><style>\n",
       ".dataframe > thead > tr,\n",
       ".dataframe > tbody > tr {\n",
       "  text-align: right;\n",
       "  white-space: pre-wrap;\n",
       "}\n",
       "</style>\n",
       "<small>shape: (80_573_375, 10)</small><table border=\"1\" class=\"dataframe\"><thead><tr><th>initial-ip</th><th>Geo</th><th>AS-Number</th><th>BGP-Prefix</th><th>Org</th><th>saddr</th><th>Geo_saddr</th><th>AS-Number_saddr</th><th>BGP-Prefix_saddr</th><th>Org_saddr</th></tr><tr><td>str</td><td>str</td><td>f64</td><td>str</td><td>str</td><td>str</td><td>str</td><td>f64</td><td>str</td><td>str</td></tr></thead><tbody><tr><td>&quot;240e:358:e00:6b54::&quot;</td><td>&quot;CHN&quot;</td><td>4134.0</td><td>&quot;240e:358::/29&quot;</td><td>&quot;CHINANET-BACKBONE No.31,Jin-ro…</td><td>&quot;240e:358:e00:6b54:7869:e171:7f…</td><td>&quot;CHN&quot;</td><td>4134.0</td><td>&quot;240e:358::/29&quot;</td><td>&quot;CHINANET-BACKBONE No.31,Jin-ro…</td></tr><tr><td>&quot;2409:40e4:8:7db2::&quot;</td><td>&quot;IND&quot;</td><td>55836.0</td><td>&quot;2409:40e4::/36&quot;</td><td>&quot;RELIANCEJIO-IN Reliance Jio In…</td><td>&quot;2409:40e4:8:7db2:5e2f:65c5:7b5…</td><td>&quot;IND&quot;</td><td>55836.0</td><td>&quot;2409:40e4::/36&quot;</td><td>&quot;RELIANCEJIO-IN Reliance Jio In…</td></tr><tr><td>&quot;2001:1670:10:6362::&quot;</td><td>&quot;OMN&quot;</td><td>28885.0</td><td>&quot;2001:1670:10::/45&quot;</td><td>&quot;OMANTEL-NAP-AS OmanTel NAP&quot;</td><td>&quot;2001:1670:10:6362:1008:d0df:88…</td><td>&quot;OMN&quot;</td><td>28885.0</td><td>&quot;2001:1670:10::/45&quot;</td><td>&quot;OMANTEL-NAP-AS OmanTel NAP&quot;</td></tr><tr><td>&quot;2003:e3:3719:2e00::&quot;</td><td>&quot;DEU&quot;</td><td>3320.0</td><td>&quot;2003::/19&quot;</td><td>&quot;DTAG Internet service provider…</td><td>&quot;2003:e3:37ff:19a5:e228:6dff:fe…</td><td>&quot;DEU&quot;</td><td>3320.0</td><td>&quot;2003::/19&quot;</td><td>&quot;DTAG Internet service provider…</td></tr><tr><td>&quot;2400:2412:4761:b600::&quot;</td><td>&quot;JPN&quot;</td><td>17676.0</td><td>&quot;2400:2000::/20&quot;</td><td>&quot;GIGAINFRA SoftBank Corp.&quot;</td><td>&quot;2400:2412:4761:b601:3ae0:8eff:…</td><td>&quot;JPN&quot;</td><td>17676.0</td><td>&quot;2400:2000::/20&quot;</td><td>&quot;GIGAINFRA SoftBank Corp.&quot;</td></tr><tr><td>&hellip;</td><td>&hellip;</td><td>&hellip;</td><td>&hellip;</td><td>&hellip;</td><td>&hellip;</td><td>&hellip;</td><td>&hellip;</td><td>&hellip;</td><td>&hellip;</td></tr><tr><td>&quot;2003:c2:47ff:2156::&quot;</td><td>&quot;DEU&quot;</td><td>3320.0</td><td>&quot;2003::/19&quot;</td><td>&quot;DTAG Internet service provider…</td><td>&quot;2003:c2:47ff:2156:ca0e:14ff:fe…</td><td>&quot;DEU&quot;</td><td>3320.0</td><td>&quot;2003::/19&quot;</td><td>&quot;DTAG Internet service provider…</td></tr><tr><td>&quot;2804:1e68:c201:23d0::&quot;</td><td>&quot;BRA&quot;</td><td>53006.0</td><td>&quot;2804:1e68::/32&quot;</td><td>&quot;ALGAR TELECOM SA&quot;</td><td>&quot;2804:1e68:c200:968:e549:1ba1:d…</td><td>&quot;BRA&quot;</td><td>53006.0</td><td>&quot;2804:1e68::/32&quot;</td><td>&quot;ALGAR TELECOM SA&quot;</td></tr><tr><td>&quot;2a01:e0a:31:eec0::&quot;</td><td>&quot;FRA&quot;</td><td>12322.0</td><td>&quot;2a01:e0a::/39&quot;</td><td>&quot;PROXAD&quot;</td><td>&quot;2a01:e0a:31:eec0::1&quot;</td><td>&quot;FRA&quot;</td><td>12322.0</td><td>&quot;2a01:e0a::/39&quot;</td><td>&quot;PROXAD&quot;</td></tr><tr><td>&quot;2409:40d6:31:fbe6::&quot;</td><td>&quot;IND&quot;</td><td>55836.0</td><td>&quot;2409:40d6::/36&quot;</td><td>&quot;RELIANCEJIO-IN Reliance Jio In…</td><td>&quot;2409:40d6:31:fbe6:8c6c:b0ff:fe…</td><td>&quot;IND&quot;</td><td>55836.0</td><td>&quot;2409:40d6::/36&quot;</td><td>&quot;RELIANCEJIO-IN Reliance Jio In…</td></tr><tr><td>&quot;2a02:27b0:5503:a1f1::&quot;</td><td>&quot;BIH&quot;</td><td>9146.0</td><td>&quot;2a02:27b0:5500::/40&quot;</td><td>&quot;BIHNET BIHNET Autonomus System&quot;</td><td>&quot;2a02:27b0:40f0:6531:ca5a:9fff:…</td><td>&quot;BIH&quot;</td><td>9146.0</td><td>&quot;2a02:27b0::/32&quot;</td><td>&quot;BIHNET BIHNET Autonomus System&quot;</td></tr></tbody></table></div>"
      ],
      "text/plain": [
       "shape: (80_573_375, 10)\n",
       "┌────────────┬─────┬───────────┬────────────┬───┬───────────┬────────────┬────────────┬────────────┐\n",
       "│ initial-ip ┆ Geo ┆ AS-Number ┆ BGP-Prefix ┆ … ┆ Geo_saddr ┆ AS-Number_ ┆ BGP-Prefix ┆ Org_saddr  │\n",
       "│ ---        ┆ --- ┆ ---       ┆ ---        ┆   ┆ ---       ┆ saddr      ┆ _saddr     ┆ ---        │\n",
       "│ str        ┆ str ┆ f64       ┆ str        ┆   ┆ str       ┆ ---        ┆ ---        ┆ str        │\n",
       "│            ┆     ┆           ┆            ┆   ┆           ┆ f64        ┆ str        ┆            │\n",
       "╞════════════╪═════╪═══════════╪════════════╪═══╪═══════════╪════════════╪════════════╪════════════╡\n",
       "│ 240e:358:e ┆ CHN ┆ 4134.0    ┆ 240e:358:: ┆ … ┆ CHN       ┆ 4134.0     ┆ 240e:358:: ┆ CHINANET-B │\n",
       "│ 00:6b54::  ┆     ┆           ┆ /29        ┆   ┆           ┆            ┆ /29        ┆ ACKBONE    │\n",
       "│            ┆     ┆           ┆            ┆   ┆           ┆            ┆            ┆ No.31,Jin- │\n",
       "│            ┆     ┆           ┆            ┆   ┆           ┆            ┆            ┆ ro…        │\n",
       "│ 2409:40e4: ┆ IND ┆ 55836.0   ┆ 2409:40e4: ┆ … ┆ IND       ┆ 55836.0    ┆ 2409:40e4: ┆ RELIANCEJI │\n",
       "│ 8:7db2::   ┆     ┆           ┆ :/36       ┆   ┆           ┆            ┆ :/36       ┆ O-IN       │\n",
       "│            ┆     ┆           ┆            ┆   ┆           ┆            ┆            ┆ Reliance   │\n",
       "│            ┆     ┆           ┆            ┆   ┆           ┆            ┆            ┆ Jio In…    │\n",
       "│ 2001:1670: ┆ OMN ┆ 28885.0   ┆ 2001:1670: ┆ … ┆ OMN       ┆ 28885.0    ┆ 2001:1670: ┆ OMANTEL-NA │\n",
       "│ 10:6362::  ┆     ┆           ┆ 10::/45    ┆   ┆           ┆            ┆ 10::/45    ┆ P-AS       │\n",
       "│            ┆     ┆           ┆            ┆   ┆           ┆            ┆            ┆ OmanTel    │\n",
       "│            ┆     ┆           ┆            ┆   ┆           ┆            ┆            ┆ NAP        │\n",
       "│ 2003:e3:37 ┆ DEU ┆ 3320.0    ┆ 2003::/19  ┆ … ┆ DEU       ┆ 3320.0     ┆ 2003::/19  ┆ DTAG       │\n",
       "│ 19:2e00::  ┆     ┆           ┆            ┆   ┆           ┆            ┆            ┆ Internet   │\n",
       "│            ┆     ┆           ┆            ┆   ┆           ┆            ┆            ┆ service    │\n",
       "│            ┆     ┆           ┆            ┆   ┆           ┆            ┆            ┆ provider…  │\n",
       "│ 2400:2412: ┆ JPN ┆ 17676.0   ┆ 2400:2000: ┆ … ┆ JPN       ┆ 17676.0    ┆ 2400:2000: ┆ GIGAINFRA  │\n",
       "│ 4761:b600: ┆     ┆           ┆ :/20       ┆   ┆           ┆            ┆ :/20       ┆ SoftBank   │\n",
       "│ :          ┆     ┆           ┆            ┆   ┆           ┆            ┆            ┆ Corp.      │\n",
       "│ …          ┆ …   ┆ …         ┆ …          ┆ … ┆ …         ┆ …          ┆ …          ┆ …          │\n",
       "│ 2003:c2:47 ┆ DEU ┆ 3320.0    ┆ 2003::/19  ┆ … ┆ DEU       ┆ 3320.0     ┆ 2003::/19  ┆ DTAG       │\n",
       "│ ff:2156::  ┆     ┆           ┆            ┆   ┆           ┆            ┆            ┆ Internet   │\n",
       "│            ┆     ┆           ┆            ┆   ┆           ┆            ┆            ┆ service    │\n",
       "│            ┆     ┆           ┆            ┆   ┆           ┆            ┆            ┆ provider…  │\n",
       "│ 2804:1e68: ┆ BRA ┆ 53006.0   ┆ 2804:1e68: ┆ … ┆ BRA       ┆ 53006.0    ┆ 2804:1e68: ┆ ALGAR      │\n",
       "│ c201:23d0: ┆     ┆           ┆ :/32       ┆   ┆           ┆            ┆ :/32       ┆ TELECOM SA │\n",
       "│ :          ┆     ┆           ┆            ┆   ┆           ┆            ┆            ┆            │\n",
       "│ 2a01:e0a:3 ┆ FRA ┆ 12322.0   ┆ 2a01:e0a:: ┆ … ┆ FRA       ┆ 12322.0    ┆ 2a01:e0a:: ┆ PROXAD     │\n",
       "│ 1:eec0::   ┆     ┆           ┆ /39        ┆   ┆           ┆            ┆ /39        ┆            │\n",
       "│ 2409:40d6: ┆ IND ┆ 55836.0   ┆ 2409:40d6: ┆ … ┆ IND       ┆ 55836.0    ┆ 2409:40d6: ┆ RELIANCEJI │\n",
       "│ 31:fbe6::  ┆     ┆           ┆ :/36       ┆   ┆           ┆            ┆ :/36       ┆ O-IN       │\n",
       "│            ┆     ┆           ┆            ┆   ┆           ┆            ┆            ┆ Reliance   │\n",
       "│            ┆     ┆           ┆            ┆   ┆           ┆            ┆            ┆ Jio In…    │\n",
       "│ 2a02:27b0: ┆ BIH ┆ 9146.0    ┆ 2a02:27b0: ┆ … ┆ BIH       ┆ 9146.0     ┆ 2a02:27b0: ┆ BIHNET     │\n",
       "│ 5503:a1f1: ┆     ┆           ┆ 5500::/40  ┆   ┆           ┆            ┆ :/32       ┆ BIHNET     │\n",
       "│ :          ┆     ┆           ┆            ┆   ┆           ┆            ┆            ┆ Autonomus  │\n",
       "│            ┆     ┆           ┆            ┆   ┆           ┆            ┆            ┆ System     │\n",
       "└────────────┴─────┴───────────┴────────────┴───┴───────────┴────────────┴────────────┴────────────┘"
      ]
     },
     "execution_count": 13,
     "metadata": {},
     "output_type": "execute_result"
    }
   ],
   "source": [
    "tmp"
   ]
  },
  {
   "cell_type": "code",
   "execution_count": 15,
   "id": "311d7fa4-b4f9-4ff3-9499-cd09ebeb88cf",
   "metadata": {},
   "outputs": [
    {
     "data": {
      "text/plain": [
       "18008"
      ]
     },
     "execution_count": 15,
     "metadata": {},
     "output_type": "execute_result"
    }
   ],
   "source": [
    "tmp.select('AS-Number').n_unique()"
   ]
  },
  {
   "cell_type": "code",
   "execution_count": 16,
   "id": "ba0a004a-19b3-4d76-a336-032b870f8aee",
   "metadata": {},
   "outputs": [
    {
     "data": {
      "text/plain": [
       "13994"
      ]
     },
     "execution_count": 16,
     "metadata": {},
     "output_type": "execute_result"
    }
   ],
   "source": [
    "tmp.select('AS-Number_saddr').n_unique()"
   ]
  },
  {
   "cell_type": "code",
   "execution_count": 17,
   "id": "16cd4e28-59e1-4455-9f9f-24b530e7849b",
   "metadata": {},
   "outputs": [
    {
     "data": {
      "text/html": [
       "<div><style>\n",
       ".dataframe > thead > tr,\n",
       ".dataframe > tbody > tr {\n",
       "  text-align: right;\n",
       "  white-space: pre-wrap;\n",
       "}\n",
       "</style>\n",
       "<small>shape: (1_088_192, 10)</small><table border=\"1\" class=\"dataframe\"><thead><tr><th>initial-ip</th><th>Geo</th><th>AS-Number</th><th>BGP-Prefix</th><th>Org</th><th>saddr</th><th>Geo_saddr</th><th>AS-Number_saddr</th><th>BGP-Prefix_saddr</th><th>Org_saddr</th></tr><tr><td>str</td><td>str</td><td>f64</td><td>str</td><td>str</td><td>str</td><td>str</td><td>f64</td><td>str</td><td>str</td></tr></thead><tbody><tr><td>&quot;2a00:5400:f002:72b1::&quot;</td><td>&quot;SAU&quot;</td><td>35753.0</td><td>&quot;2a00:5400::/32&quot;</td><td>&quot;ITC ITC AS number&quot;</td><td>&quot;2a00:5400:f002:72b1:694:b204:e…</td><td>&quot;SAU&quot;</td><td>43766.0</td><td>&quot;2a00:5400:f002::/48&quot;</td><td>&quot;MTC-KSA-AS&quot;</td></tr><tr><td>&quot;2600:100c:a122:824f::&quot;</td><td>&quot;USA&quot;</td><td>6167.0</td><td>&quot;2600:100c:a122::/48&quot;</td><td>&quot;CELLCO-PART&quot;</td><td>&quot;2600:100c:a122:824f:15be:d6e7:…</td><td>&quot;USA&quot;</td><td>22394.0</td><td>&quot;2600:100c::/32&quot;</td><td>&quot;CELLCO&quot;</td></tr><tr><td>&quot;2800:484:8b74:4300::&quot;</td><td>&quot;COL&quot;</td><td>10620.0</td><td>&quot;2800:484:8b00::/40&quot;</td><td>&quot;Telmex Colombia S.A.&quot;</td><td>&quot;2800:485:0:6d:5559:8e90:4ace:4…</td><td>&quot;COL&quot;</td><td>14080.0</td><td>&quot;2800:485::/32&quot;</td><td>&quot;Telmex Colombia S.A.&quot;</td></tr><tr><td>&quot;2800:484:b16f:9f00::&quot;</td><td>&quot;COL&quot;</td><td>10620.0</td><td>&quot;2800:484:b100::/40&quot;</td><td>&quot;Telmex Colombia S.A.&quot;</td><td>&quot;2800:485:0:b6:e0fc:591c:ef1c:b…</td><td>&quot;COL&quot;</td><td>14080.0</td><td>&quot;2800:485::/32&quot;</td><td>&quot;Telmex Colombia S.A.&quot;</td></tr><tr><td>&quot;2800:484:9085:7900::&quot;</td><td>&quot;COL&quot;</td><td>10620.0</td><td>&quot;2800:484:9000::/40&quot;</td><td>&quot;Telmex Colombia S.A.&quot;</td><td>&quot;2800:485:0:7b:586f:c8ac:e507:6…</td><td>&quot;COL&quot;</td><td>14080.0</td><td>&quot;2800:485::/32&quot;</td><td>&quot;Telmex Colombia S.A.&quot;</td></tr><tr><td>&hellip;</td><td>&hellip;</td><td>&hellip;</td><td>&hellip;</td><td>&hellip;</td><td>&hellip;</td><td>&hellip;</td><td>&hellip;</td><td>&hellip;</td><td>&hellip;</td></tr><tr><td>&quot;2001:1a10:1120:400::&quot;</td><td>&quot;QAT&quot;</td><td>42298.0</td><td>&quot;2001:1a10:1120::/44&quot;</td><td>&quot;GCC-MPLS-PEERING GCC MPLS peer…</td><td>&quot;2001:1a10:a00:2:4cca:5880:1204…</td><td>&quot;QAT&quot;</td><td>8781.0</td><td>&quot;2001:1a10::/32&quot;</td><td>&quot;QA-ISP&quot;</td></tr><tr><td>&quot;2803:9800:a012:8259::&quot;</td><td>&quot;ARG&quot;</td><td>11664.0</td><td>&quot;2803:9800:a012::/48&quot;</td><td>&quot;Techtel LMDS Comunicaciones In…</td><td>&quot;2800:190:4001:11:456c:716c:a22…</td><td>&quot;ARG&quot;</td><td>19037.0</td><td>&quot;2800:190::/32&quot;</td><td>&quot;AMX Argentina S.A.&quot;</td></tr><tr><td>&quot;240e:47e:30f8:3c58::&quot;</td><td>&quot;CHN&quot;</td><td>134774.0</td><td>&quot;240e:47e:30f8::/45&quot;</td><td>&quot;CHINANET-GUANGDONG-SHENZHEN-MA…</td><td>&quot;240e:47e:30f8:3c58:c413:98e0:f…</td><td>&quot;CHN&quot;</td><td>4134.0</td><td>&quot;240e:47c::/30&quot;</td><td>&quot;CHINANET-BACKBONE No.31,Jin-ro…</td></tr><tr><td>&quot;2a02:a314:1f7:d600::&quot;</td><td>&quot;POL&quot;</td><td>9141.0</td><td>&quot;2a02:a314::/30&quot;</td><td>&quot;AS9141 P4 Play UPC PL network&quot;</td><td>&quot;2a02:a304:0:208:7f6d:b28e:a064…</td><td>&quot;POL&quot;</td><td>6830.0</td><td>&quot;2a02:a300::/28&quot;</td><td>&quot;LIBERTYGLOBAL Liberty Global f…</td></tr><tr><td>&quot;2405:19c0:a001:4024::&quot;</td><td>&quot;VNM&quot;</td><td>140810.0</td><td>&quot;2405:19c0::/32&quot;</td><td>&quot;MEGACORE-AS-VN Megacore Techno…</td><td>&quot;2402:5300:405::1&quot;</td><td>&quot;VNM&quot;</td><td>45903.0</td><td>&quot;2402:5300:405::/48&quot;</td><td>&quot;CMCTELECOM-AS-VN CMC Telecom I…</td></tr></tbody></table></div>"
      ],
      "text/plain": [
       "shape: (1_088_192, 10)\n",
       "┌────────────┬─────┬───────────┬────────────┬───┬───────────┬────────────┬────────────┬────────────┐\n",
       "│ initial-ip ┆ Geo ┆ AS-Number ┆ BGP-Prefix ┆ … ┆ Geo_saddr ┆ AS-Number_ ┆ BGP-Prefix ┆ Org_saddr  │\n",
       "│ ---        ┆ --- ┆ ---       ┆ ---        ┆   ┆ ---       ┆ saddr      ┆ _saddr     ┆ ---        │\n",
       "│ str        ┆ str ┆ f64       ┆ str        ┆   ┆ str       ┆ ---        ┆ ---        ┆ str        │\n",
       "│            ┆     ┆           ┆            ┆   ┆           ┆ f64        ┆ str        ┆            │\n",
       "╞════════════╪═════╪═══════════╪════════════╪═══╪═══════════╪════════════╪════════════╪════════════╡\n",
       "│ 2a00:5400: ┆ SAU ┆ 35753.0   ┆ 2a00:5400: ┆ … ┆ SAU       ┆ 43766.0    ┆ 2a00:5400: ┆ MTC-KSA-AS │\n",
       "│ f002:72b1: ┆     ┆           ┆ :/32       ┆   ┆           ┆            ┆ f002::/48  ┆            │\n",
       "│ :          ┆     ┆           ┆            ┆   ┆           ┆            ┆            ┆            │\n",
       "│ 2600:100c: ┆ USA ┆ 6167.0    ┆ 2600:100c: ┆ … ┆ USA       ┆ 22394.0    ┆ 2600:100c: ┆ CELLCO     │\n",
       "│ a122:824f: ┆     ┆           ┆ a122::/48  ┆   ┆           ┆            ┆ :/32       ┆            │\n",
       "│ :          ┆     ┆           ┆            ┆   ┆           ┆            ┆            ┆            │\n",
       "│ 2800:484:8 ┆ COL ┆ 10620.0   ┆ 2800:484:8 ┆ … ┆ COL       ┆ 14080.0    ┆ 2800:485:: ┆ Telmex     │\n",
       "│ b74:4300:: ┆     ┆           ┆ b00::/40   ┆   ┆           ┆            ┆ /32        ┆ Colombia   │\n",
       "│            ┆     ┆           ┆            ┆   ┆           ┆            ┆            ┆ S.A.       │\n",
       "│ 2800:484:b ┆ COL ┆ 10620.0   ┆ 2800:484:b ┆ … ┆ COL       ┆ 14080.0    ┆ 2800:485:: ┆ Telmex     │\n",
       "│ 16f:9f00:: ┆     ┆           ┆ 100::/40   ┆   ┆           ┆            ┆ /32        ┆ Colombia   │\n",
       "│            ┆     ┆           ┆            ┆   ┆           ┆            ┆            ┆ S.A.       │\n",
       "│ 2800:484:9 ┆ COL ┆ 10620.0   ┆ 2800:484:9 ┆ … ┆ COL       ┆ 14080.0    ┆ 2800:485:: ┆ Telmex     │\n",
       "│ 085:7900:: ┆     ┆           ┆ 000::/40   ┆   ┆           ┆            ┆ /32        ┆ Colombia   │\n",
       "│            ┆     ┆           ┆            ┆   ┆           ┆            ┆            ┆ S.A.       │\n",
       "│ …          ┆ …   ┆ …         ┆ …          ┆ … ┆ …         ┆ …          ┆ …          ┆ …          │\n",
       "│ 2001:1a10: ┆ QAT ┆ 42298.0   ┆ 2001:1a10: ┆ … ┆ QAT       ┆ 8781.0     ┆ 2001:1a10: ┆ QA-ISP     │\n",
       "│ 1120:400:: ┆     ┆           ┆ 1120::/44  ┆   ┆           ┆            ┆ :/32       ┆            │\n",
       "│ 2803:9800: ┆ ARG ┆ 11664.0   ┆ 2803:9800: ┆ … ┆ ARG       ┆ 19037.0    ┆ 2800:190:: ┆ AMX        │\n",
       "│ a012:8259: ┆     ┆           ┆ a012::/48  ┆   ┆           ┆            ┆ /32        ┆ Argentina  │\n",
       "│ :          ┆     ┆           ┆            ┆   ┆           ┆            ┆            ┆ S.A.       │\n",
       "│ 240e:47e:3 ┆ CHN ┆ 134774.0  ┆ 240e:47e:3 ┆ … ┆ CHN       ┆ 4134.0     ┆ 240e:47c:: ┆ CHINANET-B │\n",
       "│ 0f8:3c58:: ┆     ┆           ┆ 0f8::/45   ┆   ┆           ┆            ┆ /30        ┆ ACKBONE    │\n",
       "│            ┆     ┆           ┆            ┆   ┆           ┆            ┆            ┆ No.31,Jin- │\n",
       "│            ┆     ┆           ┆            ┆   ┆           ┆            ┆            ┆ ro…        │\n",
       "│ 2a02:a314: ┆ POL ┆ 9141.0    ┆ 2a02:a314: ┆ … ┆ POL       ┆ 6830.0     ┆ 2a02:a300: ┆ LIBERTYGLO │\n",
       "│ 1f7:d600:: ┆     ┆           ┆ :/30       ┆   ┆           ┆            ┆ :/28       ┆ BAL        │\n",
       "│            ┆     ┆           ┆            ┆   ┆           ┆            ┆            ┆ Liberty    │\n",
       "│            ┆     ┆           ┆            ┆   ┆           ┆            ┆            ┆ Global f…  │\n",
       "│ 2405:19c0: ┆ VNM ┆ 140810.0  ┆ 2405:19c0: ┆ … ┆ VNM       ┆ 45903.0    ┆ 2402:5300: ┆ CMCTELECOM │\n",
       "│ a001:4024: ┆     ┆           ┆ :/32       ┆   ┆           ┆            ┆ 405::/48   ┆ -AS-VN CMC │\n",
       "│ :          ┆     ┆           ┆            ┆   ┆           ┆            ┆            ┆ Telecom I… │\n",
       "└────────────┴─────┴───────────┴────────────┴───┴───────────┴────────────┴────────────┴────────────┘"
      ]
     },
     "execution_count": 17,
     "metadata": {},
     "output_type": "execute_result"
    }
   ],
   "source": [
    "tmp.filter(pl.col('AS-Number')!=pl.col('AS-Number_saddr'))"
   ]
  },
  {
   "cell_type": "code",
   "execution_count": 18,
   "id": "e5ce2aba-786f-46f5-bd0a-cc3b4dfa3ed5",
   "metadata": {},
   "outputs": [],
   "source": [
    "tmp.write_parquet(f'{PROCESSED_DATA_DIR}/tum-sra-AS-comparison.parquet')"
   ]
  },
  {
   "cell_type": "code",
   "execution_count": null,
   "id": "8afddd3e-f070-4773-8832-50b43a19113d",
   "metadata": {},
   "outputs": [],
   "source": []
  }
 ],
 "metadata": {
  "kernelspec": {
   "display_name": "Python 3 (ipykernel)",
   "language": "python",
   "name": "python3"
  },
  "language_info": {
   "codemirror_mode": {
    "name": "ipython",
    "version": 3
   },
   "file_extension": ".py",
   "mimetype": "text/x-python",
   "name": "python",
   "nbconvert_exporter": "python",
   "pygments_lexer": "ipython3",
   "version": "3.12.11"
  }
 },
 "nbformat": 4,
 "nbformat_minor": 5
}
