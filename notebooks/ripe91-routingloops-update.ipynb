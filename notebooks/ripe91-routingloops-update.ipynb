{
 "cells": [
  {
   "cell_type": "code",
   "execution_count": 1,
   "id": "47a69522-86bb-43a6-a7a0-a4458d9799f5",
   "metadata": {},
   "outputs": [
    {
     "name": "stderr",
     "output_type": "stream",
     "text": [
      "\u001b[32m2025-10-22 13:25:00.283\u001b[0m | \u001b[1mINFO    \u001b[0m | \u001b[36martifacts_ipv6_sra_scanning.config\u001b[0m:\u001b[36m<module>\u001b[0m:\u001b[36m22\u001b[0m - \u001b[1mPROJ_ROOT path is: /home/service/artifacts-ipv6-sra-scanning\u001b[0m\n"
     ]
    }
   ],
   "source": [
    "from artifacts_ipv6_sra_scanning.config import *\n",
    "import pickle\n",
    "import os\n",
    "import ipaddress\n",
    "import glob\n",
    "from tqdm.auto import tqdm\n",
    "import country_converter as coco\n",
    "from parallel_pandas import ParallelPandas\n",
    "ParallelPandas.initialize(n_cpu=24, split_factor=1, disable_pr_bar=False)"
   ]
  },
  {
   "cell_type": "code",
   "execution_count": 2,
   "id": "c175b4fe-5979-4235-ad6f-f97678b7d8c0",
   "metadata": {},
   "outputs": [],
   "source": [
    "df = pl.read_csv(f'{RAW_DATA_DIR}/zmap_log_2025-10-21T09_18_27+00_00.log.zst')"
   ]
  },
  {
   "cell_type": "code",
   "execution_count": 7,
   "id": "bd708f8a-0629-4dd8-afc7-9a74912fd39d",
   "metadata": {},
   "outputs": [
    {
     "data": {
      "text/html": [
       "<div><style>\n",
       ".dataframe > thead > tr,\n",
       ".dataframe > tbody > tr {\n",
       "  text-align: right;\n",
       "  white-space: pre-wrap;\n",
       "}\n",
       "</style>\n",
       "<small>shape: (5, 11)</small><table border=\"1\" class=\"dataframe\"><thead><tr><th>initial-ip</th><th>saddr</th><th>ttl</th><th>sent_timestamp_ts</th><th>sent_timestamp_us</th><th>timestamp_ts</th><th>timestamp_us</th><th>classification</th><th>type</th><th>code</th><th>icmp-id</th></tr><tr><td>str</td><td>str</td><td>i64</td><td>i64</td><td>i64</td><td>i64</td><td>i64</td><td>str</td><td>i64</td><td>i64</td><td>i64</td></tr></thead><tbody><tr><td>&quot;2000:b70:25::&quot;</td><td>&quot;2a01:6420:8030:1::1&quot;</td><td>63</td><td>96</td><td>1010446336</td><td>1761038310</td><td>536088</td><td>&quot;unreach_noroute&quot;</td><td>1</td><td>0</td><td>0</td></tr><tr><td>&quot;2001:254:86a3::&quot;</td><td>&quot;2a01:6420:8030:1::1&quot;</td><td>63</td><td>96</td><td>1010446336</td><td>1761038310</td><td>547763</td><td>&quot;unreach_noroute&quot;</td><td>1</td><td>0</td><td>0</td></tr><tr><td>&quot;2001:254:2a9d::&quot;</td><td>&quot;2a01:6420:8030:1::1&quot;</td><td>63</td><td>96</td><td>1010446336</td><td>1761038310</td><td>547773</td><td>&quot;unreach_noroute&quot;</td><td>1</td><td>0</td><td>0</td></tr><tr><td>&quot;2001:254:518e::&quot;</td><td>&quot;2a01:6420:8030:1::1&quot;</td><td>63</td><td>96</td><td>1010446336</td><td>1761038310</td><td>548108</td><td>&quot;unreach_noroute&quot;</td><td>1</td><td>0</td><td>0</td></tr><tr><td>&quot;2001:468:7358::&quot;</td><td>&quot;2a01:6420:8030:1::1&quot;</td><td>63</td><td>96</td><td>1010446336</td><td>1761038310</td><td>549072</td><td>&quot;unreach_noroute&quot;</td><td>1</td><td>0</td><td>0</td></tr></tbody></table></div>"
      ],
      "text/plain": [
       "shape: (5, 11)\n",
       "┌────────────────┬───────────────┬─────┬───────────────┬───┬───────────────┬──────┬──────┬─────────┐\n",
       "│ initial-ip     ┆ saddr         ┆ ttl ┆ sent_timestam ┆ … ┆ classificatio ┆ type ┆ code ┆ icmp-id │\n",
       "│ ---            ┆ ---           ┆ --- ┆ p_ts          ┆   ┆ n             ┆ ---  ┆ ---  ┆ ---     │\n",
       "│ str            ┆ str           ┆ i64 ┆ ---           ┆   ┆ ---           ┆ i64  ┆ i64  ┆ i64     │\n",
       "│                ┆               ┆     ┆ i64           ┆   ┆ str           ┆      ┆      ┆         │\n",
       "╞════════════════╪═══════════════╪═════╪═══════════════╪═══╪═══════════════╪══════╪══════╪═════════╡\n",
       "│ 2000:b70:25::  ┆ 2a01:6420:803 ┆ 63  ┆ 96            ┆ … ┆ unreach_norou ┆ 1    ┆ 0    ┆ 0       │\n",
       "│                ┆ 0:1::1        ┆     ┆               ┆   ┆ te            ┆      ┆      ┆         │\n",
       "│ 2001:254:86a3: ┆ 2a01:6420:803 ┆ 63  ┆ 96            ┆ … ┆ unreach_norou ┆ 1    ┆ 0    ┆ 0       │\n",
       "│ :              ┆ 0:1::1        ┆     ┆               ┆   ┆ te            ┆      ┆      ┆         │\n",
       "│ 2001:254:2a9d: ┆ 2a01:6420:803 ┆ 63  ┆ 96            ┆ … ┆ unreach_norou ┆ 1    ┆ 0    ┆ 0       │\n",
       "│ :              ┆ 0:1::1        ┆     ┆               ┆   ┆ te            ┆      ┆      ┆         │\n",
       "│ 2001:254:518e: ┆ 2a01:6420:803 ┆ 63  ┆ 96            ┆ … ┆ unreach_norou ┆ 1    ┆ 0    ┆ 0       │\n",
       "│ :              ┆ 0:1::1        ┆     ┆               ┆   ┆ te            ┆      ┆      ┆         │\n",
       "│ 2001:468:7358: ┆ 2a01:6420:803 ┆ 63  ┆ 96            ┆ … ┆ unreach_norou ┆ 1    ┆ 0    ┆ 0       │\n",
       "│ :              ┆ 0:1::1        ┆     ┆               ┆   ┆ te            ┆      ┆      ┆         │\n",
       "└────────────────┴───────────────┴─────┴───────────────┴───┴───────────────┴──────┴──────┴─────────┘"
      ]
     },
     "execution_count": 7,
     "metadata": {},
     "output_type": "execute_result"
    }
   ],
   "source": [
    "df.head()"
   ]
  },
  {
   "cell_type": "code",
   "execution_count": 6,
   "id": "6420de5b-7bef-477a-86fb-7f6fe94fd4fa",
   "metadata": {},
   "outputs": [
    {
     "data": {
      "text/plain": [
       "146435076"
      ]
     },
     "execution_count": 6,
     "metadata": {},
     "output_type": "execute_result"
    }
   ],
   "source": [
    "df.filter(pl.col('classification')=='timxceed').select(pl.col('initial-ip')).n_unique()"
   ]
  },
  {
   "cell_type": "code",
   "execution_count": 9,
   "id": "f9ef6e1c-e716-4453-b673-ae1767d56125",
   "metadata": {},
   "outputs": [],
   "source": [
    "df_ampl = df.filter(pl.col('classification')=='timxceed').group_by('initial-ip').agg(\n",
    "    pl.len().alias('amplification')\n",
    ")"
   ]
  },
  {
   "cell_type": "code",
   "execution_count": 10,
   "id": "c8cbde52-4fd8-40e5-9533-5df4166ce49c",
   "metadata": {},
   "outputs": [],
   "source": [
    "df_ampl = df_ampl.filter(pl.col('amplification')>1)"
   ]
  },
  {
   "cell_type": "code",
   "execution_count": 11,
   "id": "1015bf54-4b79-43f3-868b-06f01dd312e2",
   "metadata": {},
   "outputs": [
    {
     "data": {
      "text/html": [
       "<div><style>\n",
       ".dataframe > thead > tr,\n",
       ".dataframe > tbody > tr {\n",
       "  text-align: right;\n",
       "  white-space: pre-wrap;\n",
       "}\n",
       "</style>\n",
       "<small>shape: (11_316_307, 2)</small><table border=\"1\" class=\"dataframe\"><thead><tr><th>initial-ip</th><th>amplification</th></tr><tr><td>str</td><td>u32</td></tr></thead><tbody><tr><td>&quot;2a06:a402:459c::&quot;</td><td>2</td></tr><tr><td>&quot;2a01:75c1:7161::&quot;</td><td>2</td></tr><tr><td>&quot;2804:1498:7028::&quot;</td><td>2</td></tr><tr><td>&quot;2804:3624:4f96::&quot;</td><td>2</td></tr><tr><td>&quot;2804:ce4:35bc::&quot;</td><td>2</td></tr><tr><td>&hellip;</td><td>&hellip;</td></tr><tr><td>&quot;2804:585c:667d::&quot;</td><td>3</td></tr><tr><td>&quot;2804:394:8859::&quot;</td><td>2</td></tr><tr><td>&quot;2804:30b0:4c00::&quot;</td><td>2</td></tr><tr><td>&quot;2606:a800:52f8::&quot;</td><td>2</td></tr><tr><td>&quot;2804:52a8:174::&quot;</td><td>2</td></tr></tbody></table></div>"
      ],
      "text/plain": [
       "shape: (11_316_307, 2)\n",
       "┌──────────────────┬───────────────┐\n",
       "│ initial-ip       ┆ amplification │\n",
       "│ ---              ┆ ---           │\n",
       "│ str              ┆ u32           │\n",
       "╞══════════════════╪═══════════════╡\n",
       "│ 2a06:a402:459c:: ┆ 2             │\n",
       "│ 2a01:75c1:7161:: ┆ 2             │\n",
       "│ 2804:1498:7028:: ┆ 2             │\n",
       "│ 2804:3624:4f96:: ┆ 2             │\n",
       "│ 2804:ce4:35bc::  ┆ 2             │\n",
       "│ …                ┆ …             │\n",
       "│ 2804:585c:667d:: ┆ 3             │\n",
       "│ 2804:394:8859::  ┆ 2             │\n",
       "│ 2804:30b0:4c00:: ┆ 2             │\n",
       "│ 2606:a800:52f8:: ┆ 2             │\n",
       "│ 2804:52a8:174::  ┆ 2             │\n",
       "└──────────────────┴───────────────┘"
      ]
     },
     "execution_count": 11,
     "metadata": {},
     "output_type": "execute_result"
    }
   ],
   "source": [
    "df_ampl"
   ]
  },
  {
   "cell_type": "code",
   "execution_count": null,
   "id": "d8167610-6470-4499-94e6-0bce58e6551a",
   "metadata": {},
   "outputs": [],
   "source": []
  }
 ],
 "metadata": {
  "kernelspec": {
   "display_name": "Python 3 (ipykernel)",
   "language": "python",
   "name": "python3"
  },
  "language_info": {
   "codemirror_mode": {
    "name": "ipython",
    "version": 3
   },
   "file_extension": ".py",
   "mimetype": "text/x-python",
   "name": "python",
   "nbconvert_exporter": "python",
   "pygments_lexer": "ipython3",
   "version": "3.12.11"
  }
 },
 "nbformat": 4,
 "nbformat_minor": 5
}
