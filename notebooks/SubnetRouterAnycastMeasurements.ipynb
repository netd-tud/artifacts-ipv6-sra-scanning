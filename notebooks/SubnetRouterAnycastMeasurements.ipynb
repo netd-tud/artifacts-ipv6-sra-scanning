{
 "cells": [
  {
   "cell_type": "code",
   "execution_count": 1,
   "id": "f34db134-7e44-475a-afc0-24e9881863bd",
   "metadata": {},
   "outputs": [
    {
     "name": "stderr",
     "output_type": "stream",
     "text": [
      "\u001b[32m2025-10-07 08:11:59.854\u001b[0m | \u001b[1mINFO    \u001b[0m | \u001b[36martifacts_ipv6_sra_scanning.config\u001b[0m:\u001b[36m<module>\u001b[0m:\u001b[36m22\u001b[0m - \u001b[1mPROJ_ROOT path is: /home/service/artifacts-ipv6-sra-scanning\u001b[0m\n"
     ]
    }
   ],
   "source": [
    "from artifacts_ipv6_sra_scanning.config import *\n",
    "import pickle\n",
    "import os\n",
    "import ipaddress\n",
    "import glob\n",
    "from tqdm.auto import tqdm\n",
    "import country_converter as coco\n",
    "from parallel_pandas import ParallelPandas\n",
    "ParallelPandas.initialize(n_cpu=24, split_factor=1, disable_pr_bar=False)"
   ]
  },
  {
   "cell_type": "code",
   "execution_count": 8,
   "id": "84bab5f0-e3c5-41ef-8425-6a995dcfcb9c",
   "metadata": {},
   "outputs": [],
   "source": [
    "import polars as pl\n",
    "import pandas as pd\n",
    "import glob\n",
    "import sys\n",
    "import ipaddress\n",
    "from tqdm.notebook import tqdm\n",
    "from parallel_pandas import ParallelPandas\n",
    "ParallelPandas.initialize(n_cpu=24, split_factor=1, disable_pr_bar=False)\n",
    "\n",
    "sys.path.append('/home/service/ipinfos')\n",
    "import get_ip_infos as gip"
   ]
  },
  {
   "cell_type": "code",
   "execution_count": 2,
   "id": "1bc71f94-021f-4a93-aa77-6546dbd595f5",
   "metadata": {},
   "outputs": [],
   "source": [
    "import seaborn as sns\n",
    "from matplotlib.colors import LogNorm, Normalize\n",
    "import matplotlib.pyplot as plt"
   ]
  },
  {
   "cell_type": "code",
   "execution_count": 5,
   "id": "cf67bdd6-32a4-49b7-b964-6bacebe8c985",
   "metadata": {},
   "outputs": [],
   "source": [
    "def load_and_join(files):\n",
    "    df = pl.DataFrame()\n",
    "    for i in tqdm(range(len(files))):\n",
    "        if df.is_empty():\n",
    "            df = pl.read_parquet(files[i],columns=['saddr','classification','numsubnets'])\n",
    "            df = df.group_by(\"saddr\").agg(classifications = pl.col(\"classification\").unique(),\n",
    "                                         sumreplies = pl.col('numsubnets').sum())\n",
    "            df = df.with_columns(\n",
    "                pl.when((pl.col(\"classifications\").list.contains(\"echoreply\")) & \n",
    "                        (pl.col(\"classifications\").list.len() == 1))\n",
    "                .then(pl.lit(\"echoreply\"))\n",
    "                .when((pl.col(\"classifications\").list.contains(\"echoreply\")) & \n",
    "                      (pl.col(\"classifications\").list.len() > 1))\n",
    "                .then(pl.lit(\"ambiguous\"))\n",
    "                .otherwise(pl.lit(\"other\"))\n",
    "                .alias(\"code\")\n",
    "            ).drop('classifications')\n",
    "            df = df.with_columns(inscan=True)\n",
    "        else:\n",
    "            tmp = pl.read_parquet(files[i],columns=['saddr','classification','numsubnets'])\n",
    "            tmp = tmp.group_by(\"saddr\").agg(classifications = pl.col(\"classification\").unique(),\n",
    "                                           sumreplies = pl.col('numsubnets').sum())\n",
    "            tmp = tmp.with_columns(\n",
    "                pl.when((pl.col(\"classifications\").list.contains(\"echoreply\")) & \n",
    "                        (pl.col(\"classifications\").list.len() == 1))\n",
    "                .then(pl.lit(\"echoreply\"))\n",
    "                .when((pl.col(\"classifications\").list.contains(\"echoreply\")) & \n",
    "                      (pl.col(\"classifications\").list.len() > 1))\n",
    "                .then(pl.lit(\"ambiguous\"))\n",
    "                .otherwise(pl.lit(\"other\"))\n",
    "                .alias(\"code\")\n",
    "            ).drop('classifications')\n",
    "            tmp = tmp.with_columns(inscan=True)\n",
    "            df = df.join(tmp,on=['saddr'],how='full', suffix=f'_s{i}',coalesce=True)\n",
    "            \n",
    "    return df"
   ]
  },
  {
   "cell_type": "code",
   "execution_count": 3,
   "id": "788fb927-0c91-4e0f-84f9-ea4a0a3e9c85",
   "metadata": {},
   "outputs": [],
   "source": [
    "basedir = '/home/service/ipv6-measurements-mkoch/backup_2024/sra-analysis'\n",
    "\n",
    "files = [f'{basedir}/data/scans/zmap_icmp_bgp_netaddr_1728140292_p0',\n",
    "         f'{basedir}/data/bgp48_sra_checks/zmap_icmp_bgp_48_sra_1728075185_p0',\n",
    "        f'{basedir}/data/bgp48_64s_sra_checks/zmap_icmp_bgp_48only_64s_sra_1730213648_processed',\n",
    "        f'{basedir}/data/scans/zmap_icmp_route6_64_1728147418_p0',\n",
    "        f'{basedir}/data/tuminput_sra_checks/zmap_icmp_tum_64_sra_1731694726_p0',\n",
    "]"
   ]
  },
  {
   "cell_type": "code",
   "execution_count": 6,
   "id": "670bc309-bf5e-4fda-a091-148c41550f2b",
   "metadata": {},
   "outputs": [
    {
     "data": {
      "application/vnd.jupyter.widget-view+json": {
       "model_id": "ef15fcf0de424e2e8fe4bead89c679a8",
       "version_major": 2,
       "version_minor": 0
      },
      "text/plain": [
       "  0%|          | 0/5 [00:00<?, ?it/s]"
      ]
     },
     "metadata": {},
     "output_type": "display_data"
    }
   ],
   "source": [
    "df = load_and_join(files)"
   ]
  },
  {
   "cell_type": "code",
   "execution_count": 7,
   "id": "1494279b-6d61-406e-84e8-3dd46d477f80",
   "metadata": {},
   "outputs": [],
   "source": [
    "icmp_count = pl.concat([df.filter(pl.col('inscan')).group_by('code').agg(count=pl.col('sumreplies').sum()).with_columns(scan=pl.lit('BGP (Plain)')),\n",
    "           df.filter(pl.col('inscan_s1')).group_by('code_s1').agg(count=pl.col('sumreplies_s1').sum()).with_columns(scan=pl.lit('BGP /48')).rename({'code_s1':'code'}),\n",
    "           df.filter(pl.col('inscan_s2')).group_by('code_s2').agg(count=pl.col('sumreplies_s2').sum()).with_columns(scan=pl.lit('BGP /64')).rename({'code_s2':'code'}),\n",
    "           df.filter(pl.col('inscan_s3')).group_by('code_s3').agg(count=pl.col('sumreplies_s3').sum()).with_columns(scan=pl.lit('Route6 /64')).rename({'code_s3':'code'}),\n",
    "           df.filter(pl.col('inscan_s4')).group_by('code_s4').agg(count=pl.col('sumreplies_s4').sum()).with_columns(scan=pl.lit('Hitlist /64')).rename({'code_s4':'code'})\n",
    "          ]).to_pandas()"
   ]
  },
  {
   "cell_type": "code",
   "execution_count": 8,
   "id": "03323141-04a1-48f7-b269-24f218df37bb",
   "metadata": {},
   "outputs": [],
   "source": [
    "icmp_count = icmp_count.set_index(['code', 'scan']).squeeze().unstack('scan')"
   ]
  },
  {
   "cell_type": "code",
   "execution_count": 9,
   "id": "fddb7bf9-4548-4138-b568-1154236ab8e9",
   "metadata": {},
   "outputs": [],
   "source": [
    "icmp_count.index.name = None"
   ]
  },
  {
   "cell_type": "code",
   "execution_count": 10,
   "id": "7c0617d0-97e0-4110-9f5a-18b6c5eb1732",
   "metadata": {},
   "outputs": [],
   "source": [
    "icmp_count = icmp_count.reindex(['echoreply','other','ambiguous'])"
   ]
  },
  {
   "cell_type": "code",
   "execution_count": 11,
   "id": "28a064ea-bb22-45fc-a23f-148b014cb4eb",
   "metadata": {},
   "outputs": [],
   "source": [
    "icmp_count.index = ['Echo Reply','Error Msg.', 'Both']"
   ]
  },
  {
   "cell_type": "code",
   "execution_count": 12,
   "id": "82e3810e-3669-4e12-a3ac-295b1eeba639",
   "metadata": {},
   "outputs": [],
   "source": [
    "icmp_count['BGP (Plain)'] = icmp_count['BGP (Plain)']/icmp_count['BGP (Plain)'].sum()\n",
    "icmp_count['BGP /48'] = icmp_count['BGP /48']/icmp_count['BGP /48'].sum()\n",
    "icmp_count['BGP /64'] = icmp_count['BGP /64']/icmp_count['BGP /64'].sum()\n",
    "icmp_count['Hitlist /64'] = icmp_count['Hitlist /64']/icmp_count['Hitlist /64'].sum()\n",
    "icmp_count['Route6 /64'] = icmp_count['Route6 /64']/icmp_count['Route6 /64'].sum()"
   ]
  },
  {
   "cell_type": "code",
   "execution_count": 32,
   "id": "76575ec7-6e04-42b4-b096-c4d8560c3c68",
   "metadata": {},
   "outputs": [
    {
     "data": {
      "text/html": [
       "<div>\n",
       "<style scoped>\n",
       "    .dataframe tbody tr th:only-of-type {\n",
       "        vertical-align: middle;\n",
       "    }\n",
       "\n",
       "    .dataframe tbody tr th {\n",
       "        vertical-align: top;\n",
       "    }\n",
       "\n",
       "    .dataframe thead th {\n",
       "        text-align: right;\n",
       "    }\n",
       "</style>\n",
       "<table border=\"1\" class=\"dataframe\">\n",
       "  <thead>\n",
       "    <tr style=\"text-align: right;\">\n",
       "      <th>scan</th>\n",
       "      <th>BGP (Plain)</th>\n",
       "      <th>BGP /48</th>\n",
       "      <th>BGP /64</th>\n",
       "      <th>Hitlist /64</th>\n",
       "      <th>Route6 /64</th>\n",
       "    </tr>\n",
       "  </thead>\n",
       "  <tbody>\n",
       "    <tr>\n",
       "      <th>Echo Reply</th>\n",
       "      <td>0.250907</td>\n",
       "      <td>0.024718</td>\n",
       "      <td>0.012974</td>\n",
       "      <td>0.352343</td>\n",
       "      <td>0.020947</td>\n",
       "    </tr>\n",
       "    <tr>\n",
       "      <th>Error Msg.</th>\n",
       "      <td>0.716094</td>\n",
       "      <td>0.874330</td>\n",
       "      <td>0.863407</td>\n",
       "      <td>0.638573</td>\n",
       "      <td>0.923501</td>\n",
       "    </tr>\n",
       "    <tr>\n",
       "      <th>Both</th>\n",
       "      <td>0.032999</td>\n",
       "      <td>0.100952</td>\n",
       "      <td>0.123618</td>\n",
       "      <td>0.009085</td>\n",
       "      <td>0.055553</td>\n",
       "    </tr>\n",
       "  </tbody>\n",
       "</table>\n",
       "</div>"
      ],
      "text/plain": [
       "scan        BGP (Plain)   BGP /48   BGP /64  Hitlist /64  Route6 /64\n",
       "Echo Reply     0.250907  0.024718  0.012974     0.352343    0.020947\n",
       "Error Msg.     0.716094  0.874330  0.863407     0.638573    0.923501\n",
       "Both           0.032999  0.100952  0.123618     0.009085    0.055553"
      ]
     },
     "execution_count": 32,
     "metadata": {},
     "output_type": "execute_result"
    }
   ],
   "source": [
    "icmp_count"
   ]
  },
  {
   "cell_type": "code",
   "execution_count": 33,
   "id": "29e32c2b-eb2e-44d5-a639-dab47352a03b",
   "metadata": {},
   "outputs": [],
   "source": [
    "#icmp_count = icmp_count[['BGP /48','BGP /64','Route(6) /64','Hitlist /64']]"
   ]
  },
  {
   "cell_type": "code",
   "execution_count": 34,
   "id": "6f0c8275-8e33-4c19-9495-3d8d351a0d70",
   "metadata": {},
   "outputs": [],
   "source": [
    "plt.rc(\"font\", size=12)"
   ]
  },
  {
   "cell_type": "code",
   "execution_count": 35,
   "id": "ed964c50-3794-4c3b-b2c4-503bda0af13d",
   "metadata": {},
   "outputs": [
    {
     "data": {
      "image/png": "[encoded data removed]",
      "text/plain": [
       "<Figure size 840x140 with 2 Axes>"
      ]
     },
     "metadata": {},
     "output_type": "display_data"
    }
   ],
   "source": [
    "fig,ax = plt.subplots(figsize=(12*0.7,2*0.7))\n",
    "sns.heatmap(icmp_count,vmin=0,vmax=1,cmap='Blues',center=0.4,annot=True,fmt='.2%',linewidth=.5,ax=ax)\n",
    "cbar = ax.collections[0].colorbar\n",
    "cbar.set_ticks([.2, .4, .6, .8, 1])\n",
    "cbar.set_ticklabels(['20%', '40%', '60%', '80%', '100%'])\n",
    "\n",
    "ax.tick_params(top=True, labeltop=True, bottom=False, labelbottom=False)\n",
    "ax.set_xlabel('')\n",
    "\n",
    "plt.savefig(f'../reports/figures/icmp-replies-allscans.pdf', bbox_inches='tight')"
   ]
  },
  {
   "cell_type": "code",
   "execution_count": null,
   "id": "7788b424-1c70-4485-be92-f0822519520b",
   "metadata": {},
   "outputs": [],
   "source": []
  }
 ],
 "metadata": {
  "kernelspec": {
   "display_name": "Python 3 (ipykernel)",
   "language": "python",
   "name": "python3"
  },
  "language_info": {
   "codemirror_mode": {
    "name": "ipython",
    "version": 3
   },
   "file_extension": ".py",
   "mimetype": "text/x-python",
   "name": "python",
   "nbconvert_exporter": "python",
   "pygments_lexer": "ipython3",
   "version": "3.12.11"
  }
 },
 "nbformat": 4,
 "nbformat_minor": 5
}
