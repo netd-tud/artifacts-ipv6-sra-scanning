{
 "cells": [
  {
   "cell_type": "code",
   "execution_count": 2,
   "id": "39ba195f-8802-4190-8f2f-dbb5782d46de",
   "metadata": {},
   "outputs": [
    {
     "name": "stderr",
     "output_type": "stream",
     "text": [
      "\u001b[32m2025-09-27 07:20:38.690\u001b[0m | \u001b[1mINFO    \u001b[0m | \u001b[36martifacts_ipv6_sra_scanning.config\u001b[0m:\u001b[36m<module>\u001b[0m:\u001b[36m22\u001b[0m - \u001b[1mPROJ_ROOT path is: /home/service/artifacts-ipv6-sra-scanning\u001b[0m\n"
     ]
    }
   ],
   "source": [
    "from artifacts_ipv6_sra_scanning.config import *\n",
    "import pickle\n",
    "import os\n",
    "import ipaddress\n",
    "import geopandas as gpd\n",
    "import glob\n",
    "import pycountry\n",
    "from IPython.display import HTML\n",
    "from mpl_toolkits.axes_grid1 import make_axes_locatable\n",
    "import matplotlib.colors as colors\n",
    "from parallel_pandas import ParallelPandas\n",
    "ParallelPandas.initialize(n_cpu=24, split_factor=1, disable_pr_bar=False)"
   ]
  },
  {
   "cell_type": "code",
   "execution_count": 2,
   "id": "701a8598-294b-4157-bc6c-4da7250f7deb",
   "metadata": {},
   "outputs": [],
   "source": [
    "def churn_percentages(values, stepwise=False):\n",
    "    if not values:\n",
    "        return []\n",
    "    percentages = []\n",
    "    for i, v in enumerate(values):\n",
    "        if i == 0:\n",
    "            percentages.append(100.0)  # baseline always 100%\n",
    "        else:\n",
    "            denom = values[i-1] if stepwise else values[0]\n",
    "            percentages.append(v / denom * 100)\n",
    "    return percentages"
   ]
  },
  {
   "cell_type": "code",
   "execution_count": 3,
   "id": "28ef3fd7-7851-41ec-b2f4-f6c48c11384a",
   "metadata": {},
   "outputs": [],
   "source": [
    "df = pl.read_parquet(f'{PROCESSED_DATA_DIR}/sra_tum_scans_stability.parquet')"
   ]
  },
  {
   "cell_type": "code",
   "execution_count": 4,
   "id": "c4fbb953-02d2-4de2-b321-7f0b662e8e9c",
   "metadata": {},
   "outputs": [],
   "source": [
    "df_rand = pl.read_parquet(f'{PROCESSED_DATA_DIR}/rand_tum_scans_stability.parquet')"
   ]
  },
  {
   "cell_type": "code",
   "execution_count": 5,
   "id": "655bcf39-57cf-49b9-8ae1-c437fc68857a",
   "metadata": {},
   "outputs": [
    {
     "data": {
      "text/html": [
       "<div><style>\n",
       ".dataframe > thead > tr,\n",
       ".dataframe > tbody > tr {\n",
       "  text-align: right;\n",
       "  white-space: pre-wrap;\n",
       "}\n",
       "</style>\n",
       "<small>shape: (5, 13)</small><table border=\"1\" class=\"dataframe\"><thead><tr><th>initial-ip</th><th>saddr</th><th>classification</th><th>saddr_s1</th><th>classification_s1</th><th>saddr_s2</th><th>classification_s2</th><th>saddr_s3</th><th>classification_s3</th><th>saddr_s4</th><th>classification_s4</th><th>saddr_s5</th><th>classification_s5</th></tr><tr><td>str</td><td>str</td><td>str</td><td>str</td><td>str</td><td>str</td><td>str</td><td>str</td><td>str</td><td>str</td><td>str</td><td>str</td><td>str</td></tr></thead><tbody><tr><td>&quot;240e:358:e00:6b54::&quot;</td><td>&quot;240e:358:e00:6b54:7869:e171:7f…</td><td>&quot;echoreply&quot;</td><td>&quot;240e:358:e00:6b54:7869:e171:7f…</td><td>&quot;echoreply&quot;</td><td>&quot;240e:358:e00:6b54:7869:e171:7f…</td><td>&quot;echoreply&quot;</td><td>null</td><td>null</td><td>null</td><td>null</td><td>null</td><td>null</td></tr><tr><td>&quot;2409:40e4:8:7db2::&quot;</td><td>&quot;2409:40e4:8:7db2:5e2f:65c5:7b5…</td><td>&quot;unreach_noroute&quot;</td><td>&quot;2409:40e4:8:7db2:5e2f:65c5:7b5…</td><td>&quot;unreach_noroute&quot;</td><td>&quot;2409:40e4:8:7db2:5e2f:65c5:7b5…</td><td>&quot;unreach_noroute&quot;</td><td>null</td><td>null</td><td>null</td><td>null</td><td>null</td><td>null</td></tr><tr><td>&quot;2001:1670:10:6362::&quot;</td><td>&quot;2001:1670:10:6362:1008:d0df:88…</td><td>&quot;echoreply&quot;</td><td>&quot;2001:1670:10:6362:1008:d0df:88…</td><td>&quot;echoreply&quot;</td><td>&quot;2001:1670:10:6362:1008:d0df:88…</td><td>&quot;echoreply&quot;</td><td>&quot;2001:1670:14:0:40a4:5e47:67f0:…</td><td>&quot;unreach_addr&quot;</td><td>&quot;2001:1670:10:6362:4dbb:9498:1d…</td><td>&quot;echoreply&quot;</td><td>&quot;2001:1670:10:6362:4dbb:9498:1d…</td><td>&quot;echoreply&quot;</td></tr><tr><td>&quot;2003:e3:3719:2e00::&quot;</td><td>&quot;2003:e3:37ff:19a5:e228:6dff:fe…</td><td>&quot;unreach_admin&quot;</td><td>&quot;2003:e3:37ff:19a5:e228:6dff:fe…</td><td>&quot;unreach_admin&quot;</td><td>&quot;2003:e3:37ff:19a5:e228:6dff:fe…</td><td>&quot;unreach_admin&quot;</td><td>&quot;2003:e3:37ff:19a5:e228:6dff:fe…</td><td>&quot;unreach_admin&quot;</td><td>&quot;2003:e3:37ff:19a5:e228:6dff:fe…</td><td>&quot;unreach_admin&quot;</td><td>&quot;2003:e3:37ff:19a5:e228:6dff:fe…</td><td>&quot;unreach_admin&quot;</td></tr><tr><td>&quot;2400:2412:4761:b600::&quot;</td><td>&quot;2400:2412:4761:b601:3ae0:8eff:…</td><td>&quot;echoreply&quot;</td><td>&quot;2400:2412:4761:b601:3ae0:8eff:…</td><td>&quot;echoreply&quot;</td><td>&quot;2400:2412:4761:b601:3ae0:8eff:…</td><td>&quot;echoreply&quot;</td><td>&quot;2400:2412:4761:b601:3ae0:8eff:…</td><td>&quot;echoreply&quot;</td><td>&quot;2400:2412:4761:b601:3ae0:8eff:…</td><td>&quot;echoreply&quot;</td><td>&quot;2400:2412:4761:b601:3ae0:8eff:…</td><td>&quot;echoreply&quot;</td></tr></tbody></table></div>"
      ],
      "text/plain": [
       "shape: (5, 13)\n",
       "┌───────────┬───────────┬───────────┬───────────┬───┬───────────┬───────────┬───────────┬──────────┐\n",
       "│ initial-i ┆ saddr     ┆ classific ┆ saddr_s1  ┆ … ┆ saddr_s4  ┆ classific ┆ saddr_s5  ┆ classifi │\n",
       "│ p         ┆ ---       ┆ ation     ┆ ---       ┆   ┆ ---       ┆ ation_s4  ┆ ---       ┆ cation_s │\n",
       "│ ---       ┆ str       ┆ ---       ┆ str       ┆   ┆ str       ┆ ---       ┆ str       ┆ 5        │\n",
       "│ str       ┆           ┆ str       ┆           ┆   ┆           ┆ str       ┆           ┆ ---      │\n",
       "│           ┆           ┆           ┆           ┆   ┆           ┆           ┆           ┆ str      │\n",
       "╞═══════════╪═══════════╪═══════════╪═══════════╪═══╪═══════════╪═══════════╪═══════════╪══════════╡\n",
       "│ 240e:358: ┆ 240e:358: ┆ echoreply ┆ 240e:358: ┆ … ┆ null      ┆ null      ┆ null      ┆ null     │\n",
       "│ e00:6b54: ┆ e00:6b54: ┆           ┆ e00:6b54: ┆   ┆           ┆           ┆           ┆          │\n",
       "│ :         ┆ 7869:e171 ┆           ┆ 7869:e171 ┆   ┆           ┆           ┆           ┆          │\n",
       "│           ┆ :7f…      ┆           ┆ :7f…      ┆   ┆           ┆           ┆           ┆          │\n",
       "│ 2409:40e4 ┆ 2409:40e4 ┆ unreach_n ┆ 2409:40e4 ┆ … ┆ null      ┆ null      ┆ null      ┆ null     │\n",
       "│ :8:7db2:: ┆ :8:7db2:5 ┆ oroute    ┆ :8:7db2:5 ┆   ┆           ┆           ┆           ┆          │\n",
       "│           ┆ e2f:65c5: ┆           ┆ e2f:65c5: ┆   ┆           ┆           ┆           ┆          │\n",
       "│           ┆ 7b5…      ┆           ┆ 7b5…      ┆   ┆           ┆           ┆           ┆          │\n",
       "│ 2001:1670 ┆ 2001:1670 ┆ echoreply ┆ 2001:1670 ┆ … ┆ 2001:1670 ┆ echoreply ┆ 2001:1670 ┆ echorepl │\n",
       "│ :10:6362: ┆ :10:6362: ┆           ┆ :10:6362: ┆   ┆ :10:6362: ┆           ┆ :10:6362: ┆ y        │\n",
       "│ :         ┆ 1008:d0df ┆           ┆ 1008:d0df ┆   ┆ 4dbb:9498 ┆           ┆ 4dbb:9498 ┆          │\n",
       "│           ┆ :88…      ┆           ┆ :88…      ┆   ┆ :1d…      ┆           ┆ :1d…      ┆          │\n",
       "│ 2003:e3:3 ┆ 2003:e3:3 ┆ unreach_a ┆ 2003:e3:3 ┆ … ┆ 2003:e3:3 ┆ unreach_a ┆ 2003:e3:3 ┆ unreach_ │\n",
       "│ 719:2e00: ┆ 7ff:19a5: ┆ dmin      ┆ 7ff:19a5: ┆   ┆ 7ff:19a5: ┆ dmin      ┆ 7ff:19a5: ┆ admin    │\n",
       "│ :         ┆ e228:6dff ┆           ┆ e228:6dff ┆   ┆ e228:6dff ┆           ┆ e228:6dff ┆          │\n",
       "│           ┆ :fe…      ┆           ┆ :fe…      ┆   ┆ :fe…      ┆           ┆ :fe…      ┆          │\n",
       "│ 2400:2412 ┆ 2400:2412 ┆ echoreply ┆ 2400:2412 ┆ … ┆ 2400:2412 ┆ echoreply ┆ 2400:2412 ┆ echorepl │\n",
       "│ :4761:b60 ┆ :4761:b60 ┆           ┆ :4761:b60 ┆   ┆ :4761:b60 ┆           ┆ :4761:b60 ┆ y        │\n",
       "│ 0::       ┆ 1:3ae0:8e ┆           ┆ 1:3ae0:8e ┆   ┆ 1:3ae0:8e ┆           ┆ 1:3ae0:8e ┆          │\n",
       "│           ┆ ff:…      ┆           ┆ ff:…      ┆   ┆ ff:…      ┆           ┆ ff:…      ┆          │\n",
       "└───────────┴───────────┴───────────┴───────────┴───┴───────────┴───────────┴───────────┴──────────┘"
      ]
     },
     "execution_count": 5,
     "metadata": {},
     "output_type": "execute_result"
    }
   ],
   "source": [
    "df.head()"
   ]
  },
  {
   "cell_type": "code",
   "execution_count": 6,
   "id": "48bf7fd3-c47c-4b69-b389-c10184ccec7e",
   "metadata": {},
   "outputs": [],
   "source": [
    "churn_columns = ['saddr',\n",
    " 'saddr_s1',\n",
    " 'saddr_s2',\n",
    " 'saddr_s3',\n",
    " 'saddr_s4',\n",
    " 'saddr_s5']"
   ]
  },
  {
   "cell_type": "code",
   "execution_count": 7,
   "id": "2912c78e-7c81-4d50-9cba-17e3b7f81da5",
   "metadata": {},
   "outputs": [],
   "source": [
    "churn_values = [df.select(pl.col(column).is_not_null().sum())[column].to_list()[0] for column in churn_columns]"
   ]
  },
  {
   "cell_type": "code",
   "execution_count": 8,
   "id": "769d2956-fac2-40da-8252-8d2b6a5ba16b",
   "metadata": {},
   "outputs": [],
   "source": [
    "churn_values_rand = [df_rand.select(pl.col(column).is_not_null().sum())[column].to_list()[0] for column in churn_columns]"
   ]
  },
  {
   "cell_type": "code",
   "execution_count": 9,
   "id": "7a2079b6-a1ea-4d8c-af81-5eda494e123d",
   "metadata": {},
   "outputs": [],
   "source": [
    "churn_computation = churn_percentages(churn_values)\n",
    "churn_computation_rand = churn_percentages(churn_values_rand)"
   ]
  },
  {
   "cell_type": "code",
   "execution_count": 10,
   "id": "e3a07145-9987-4ef7-8b5b-68ca012d31c2",
   "metadata": {},
   "outputs": [],
   "source": [
    "plt.rc(\"font\", size=12)"
   ]
  },
  {
   "cell_type": "code",
   "execution_count": 11,
   "id": "255f1a89-22a4-45bc-ad53-9e78004155ce",
   "metadata": {},
   "outputs": [
    {
     "data": {
      "image/png": "[encoded data removed]",
      "text/plain": [
       "<Figure size 490x140 with 1 Axes>"
      ]
     },
     "metadata": {},
     "output_type": "display_data"
    },
    {
     "name": "stdout",
     "output_type": "stream",
     "text": [
      "/home/service/artifacts-ipv6-sra-scanning/reports/figures/sra-churn.png\n"
     ]
    }
   ],
   "source": [
    "figsize = (7*0.7,2*0.7)\n",
    "fig,ax = vh.fig_ax(figsize)\n",
    "\n",
    "ax.plot([i for i in range(len(churn_columns))], churn_computation,marker='.')\n",
    "#ax.plot([i for i in range(len(churn_columns))], churn_computation_rand,marker='.')\n",
    "\n",
    "ax.set_xlabel('Scan [ID]')\n",
    "ax.set_ylabel('SRA Address\\nw/o Churn [%]')\n",
    "ax.set_ylim(40,105)\n",
    "\n",
    "plt.show()\n",
    "vh.save_plot(fig,'sra-churn')"
   ]
  },
  {
   "cell_type": "code",
   "execution_count": 12,
   "id": "d5e061a5-f332-40d4-962c-7ab83081c4a7",
   "metadata": {},
   "outputs": [],
   "source": [
    "for i in range(1, 6):\n",
    "    col = f\"saddr_s{i}\"\n",
    "    df = df.with_columns(\n",
    "        pl.when(pl.col(col).is_null())\n",
    "          .then(pl.lit(\"Not seen\"))\n",
    "          .when(pl.col(col) == pl.col(\"saddr\"))\n",
    "          .then(pl.lit(\"Unchanged\"))\n",
    "          .otherwise(pl.lit(\"Changed\"))\n",
    "          .alias(f\"{col}_status\")\n",
    "    )"
   ]
  },
  {
   "cell_type": "code",
   "execution_count": 22,
   "id": "a1b2d405-5450-4583-b3e6-83648b9b3475",
   "metadata": {},
   "outputs": [],
   "source": [
    "status_cols = [f\"saddr_s{i}_status\" for i in range(1, 6)]\n",
    "\n",
    "# Melt the dataframe to long format\n",
    "df_long = df.unpivot(\n",
    "    index=[],           # no id vars needed, just counts\n",
    "    on=status_cols,\n",
    "    variable_name=\"stage\",\n",
    "    value_name=\"status\"\n",
    ")\n",
    "\n",
    "# Group by stage and status to get counts\n",
    "df_plot = df_long.group_by([\"stage\", \"status\"]).agg(\n",
    "    pl.len().alias(\"count\")\n",
    ").sort([\"stage\", \"count\"])"
   ]
  },
  {
   "cell_type": "code",
   "execution_count": 23,
   "id": "9776a371-659d-4a9c-acfe-8c424c1a3477",
   "metadata": {},
   "outputs": [],
   "source": [
    "df_wide = df_plot.to_pandas().pivot(index='stage', columns='status', values='count')\n",
    "\n",
    "df_pct = df_wide.div(df_wide.sum(axis=1), axis=0) * 100\n",
    "df_pct = df_pct[['Unchanged','Not seen','Changed']]"
   ]
  },
  {
   "cell_type": "code",
   "execution_count": 30,
   "id": "1a66dc22-5e51-414d-95f6-3601c88230b2",
   "metadata": {},
   "outputs": [
    {
     "data": {
      "image/png": "[encoded data removed]",
      "text/plain": [
       "<Figure size 560x210 with 1 Axes>"
      ]
     },
     "metadata": {},
     "output_type": "display_data"
    },
    {
     "name": "stdout",
     "output_type": "stream",
     "text": [
      "/home/service/artifacts-ipv6-sra-scanning/reports/figures/sra_stability_addr.png\n"
     ]
    }
   ],
   "source": [
    "figsize = (8*0.7,3*0.7)\n",
    "fig,ax = vh.fig_ax(figsize)\n",
    "\n",
    "df_pct.plot(\n",
    "    kind='bar', \n",
    "    stacked=True,\n",
    "    color=[\"green\",\"gray\",\"orange\"],\n",
    "    ax=ax)\n",
    "ax.set_xlabel('Scan [ID]')\n",
    "ax.set_ylabel('Status of Router IP\\nAddress per Scan [%]')\n",
    "ax.set_xticks([i for i in range(0,5)],[i for i in range(1,6)],rotation=0)\n",
    "ax.set_yticks([0,25,50,75,100])\n",
    "plt.legend(ncols=3,bbox_to_anchor=(-0.08,1.3),loc='upper left')\n",
    "plt.show()\n",
    "vh.save_plot(fig,'sra_stability_addr',autoclose=True)"
   ]
  },
  {
   "cell_type": "code",
   "execution_count": 16,
   "id": "03c14798-0d99-4c28-be2d-dfb0b0fe3ee5",
   "metadata": {
    "scrolled": true
   },
   "outputs": [
    {
     "data": {
      "text/html": [
       "<div>\n",
       "<style scoped>\n",
       "    .dataframe tbody tr th:only-of-type {\n",
       "        vertical-align: middle;\n",
       "    }\n",
       "\n",
       "    .dataframe tbody tr th {\n",
       "        vertical-align: top;\n",
       "    }\n",
       "\n",
       "    .dataframe thead th {\n",
       "        text-align: right;\n",
       "    }\n",
       "</style>\n",
       "<table border=\"1\" class=\"dataframe\">\n",
       "  <thead>\n",
       "    <tr style=\"text-align: right;\">\n",
       "      <th>status</th>\n",
       "      <th>Unchanged</th>\n",
       "      <th>Not seen</th>\n",
       "      <th>Changed</th>\n",
       "    </tr>\n",
       "    <tr>\n",
       "      <th>stage</th>\n",
       "      <th></th>\n",
       "      <th></th>\n",
       "      <th></th>\n",
       "    </tr>\n",
       "  </thead>\n",
       "  <tbody>\n",
       "    <tr>\n",
       "      <th>saddr_s1_status</th>\n",
       "      <td>88.536497</td>\n",
       "      <td>10.079267</td>\n",
       "      <td>1.384235</td>\n",
       "    </tr>\n",
       "    <tr>\n",
       "      <th>saddr_s2_status</th>\n",
       "      <td>83.878596</td>\n",
       "      <td>13.534547</td>\n",
       "      <td>2.586857</td>\n",
       "    </tr>\n",
       "    <tr>\n",
       "      <th>saddr_s3_status</th>\n",
       "      <td>68.145866</td>\n",
       "      <td>25.130499</td>\n",
       "      <td>6.723635</td>\n",
       "    </tr>\n",
       "    <tr>\n",
       "      <th>saddr_s4_status</th>\n",
       "      <td>66.485968</td>\n",
       "      <td>26.447280</td>\n",
       "      <td>7.066753</td>\n",
       "    </tr>\n",
       "    <tr>\n",
       "      <th>saddr_s5_status</th>\n",
       "      <td>65.952234</td>\n",
       "      <td>26.908695</td>\n",
       "      <td>7.139070</td>\n",
       "    </tr>\n",
       "  </tbody>\n",
       "</table>\n",
       "</div>"
      ],
      "text/plain": [
       "status           Unchanged   Not seen   Changed\n",
       "stage                                          \n",
       "saddr_s1_status  88.536497  10.079267  1.384235\n",
       "saddr_s2_status  83.878596  13.534547  2.586857\n",
       "saddr_s3_status  68.145866  25.130499  6.723635\n",
       "saddr_s4_status  66.485968  26.447280  7.066753\n",
       "saddr_s5_status  65.952234  26.908695  7.139070"
      ]
     },
     "execution_count": 16,
     "metadata": {},
     "output_type": "execute_result"
    }
   ],
   "source": [
    "df_pct"
   ]
  },
  {
   "cell_type": "code",
   "execution_count": 17,
   "id": "98beae26-09bf-404a-bc58-a2bba9a2babd",
   "metadata": {},
   "outputs": [],
   "source": [
    "for i in range(1, 6):\n",
    "    col = f\"saddr_s{i}\"\n",
    "    df_rand = df_rand.with_columns(\n",
    "        pl.when(pl.col(col).is_null())\n",
    "          .then(pl.lit(\"Not seen\"))\n",
    "          .when(pl.col(col) == pl.col(\"saddr\"))\n",
    "          .then(pl.lit(\"Unchanged\"))\n",
    "          .otherwise(pl.lit(\"Changed\"))\n",
    "          .alias(f\"{col}_status\")\n",
    "    )"
   ]
  },
  {
   "cell_type": "code",
   "execution_count": 18,
   "id": "4711fca8-8ed2-450f-a70c-85f056894941",
   "metadata": {},
   "outputs": [],
   "source": [
    "status_cols = [f\"saddr_s{i}_status\" for i in range(1, 6)]\n",
    "\n",
    "# Melt the dataframe to long format\n",
    "df_long = df_rand.unpivot(\n",
    "    index=[],           # no id vars needed, just counts\n",
    "    on=status_cols,\n",
    "    variable_name=\"stage\",\n",
    "    value_name=\"status\"\n",
    ")\n",
    "\n",
    "# Group by stage and status to get counts\n",
    "df_plot = df_long.group_by([\"stage\", \"status\"]).agg(\n",
    "    pl.len().alias(\"count\")\n",
    ").sort([\"stage\", \"count\"])"
   ]
  },
  {
   "cell_type": "code",
   "execution_count": 19,
   "id": "807fd378-4797-4fcc-a531-335db955b0ab",
   "metadata": {},
   "outputs": [],
   "source": [
    "df_wide = df_plot.to_pandas().pivot(index='stage', columns='status', values='count')\n",
    "\n",
    "df_pct = df_wide.div(df_wide.sum(axis=1), axis=0) * 100\n",
    "df_pct = df_pct[['Unchanged','Not seen','Changed']]"
   ]
  },
  {
   "cell_type": "code",
   "execution_count": 20,
   "id": "c6b5eff6-229e-41bd-96af-6a1436577cac",
   "metadata": {},
   "outputs": [
    {
     "data": {
      "image/png": "[encoded data removed]",
      "text/plain": [
       "<Figure size 560x210 with 1 Axes>"
      ]
     },
     "metadata": {},
     "output_type": "display_data"
    },
    {
     "name": "stdout",
     "output_type": "stream",
     "text": [
      "/home/service/artifacts-ipv6-sra-scanning/reports/figures/rand_stability_addr.png\n"
     ]
    }
   ],
   "source": [
    "figsize = (8*0.7,3*0.7)\n",
    "fig,ax = vh.fig_ax(figsize)\n",
    "\n",
    "df_pct.plot(\n",
    "    kind='bar', \n",
    "    stacked=True,\n",
    "    color=[\"green\",\"gray\",\"orange\"],\n",
    "    ax=ax)\n",
    "ax.set_xlabel('Scan [ID]')\n",
    "ax.set_ylabel('Status of Router\\nIP Address [%]')\n",
    "ax.set_xticks([i for i in range(0,5)],[i for i in range(2,7)],rotation=0)\n",
    "ax.set_yticks([0,25,50,75,100])\n",
    "plt.legend(ncols=3,bbox_to_anchor=(-0.235,1.3),loc='upper left')\n",
    "plt.show()\n",
    "vh.save_plot(fig,'rand_stability_addr',autoclose=True)"
   ]
  },
  {
   "cell_type": "code",
   "execution_count": 21,
   "id": "bdd4fee1-89b0-4b8d-8e34-b62a65cf806f",
   "metadata": {
    "scrolled": true
   },
   "outputs": [
    {
     "data": {
      "text/html": [
       "<div>\n",
       "<style scoped>\n",
       "    .dataframe tbody tr th:only-of-type {\n",
       "        vertical-align: middle;\n",
       "    }\n",
       "\n",
       "    .dataframe tbody tr th {\n",
       "        vertical-align: top;\n",
       "    }\n",
       "\n",
       "    .dataframe thead th {\n",
       "        text-align: right;\n",
       "    }\n",
       "</style>\n",
       "<table border=\"1\" class=\"dataframe\">\n",
       "  <thead>\n",
       "    <tr style=\"text-align: right;\">\n",
       "      <th>status</th>\n",
       "      <th>Unchanged</th>\n",
       "      <th>Not seen</th>\n",
       "      <th>Changed</th>\n",
       "    </tr>\n",
       "    <tr>\n",
       "      <th>stage</th>\n",
       "      <th></th>\n",
       "      <th></th>\n",
       "      <th></th>\n",
       "    </tr>\n",
       "  </thead>\n",
       "  <tbody>\n",
       "    <tr>\n",
       "      <th>saddr_s1_status</th>\n",
       "      <td>90.189419</td>\n",
       "      <td>8.924219</td>\n",
       "      <td>0.886362</td>\n",
       "    </tr>\n",
       "    <tr>\n",
       "      <th>saddr_s2_status</th>\n",
       "      <td>85.322076</td>\n",
       "      <td>12.807591</td>\n",
       "      <td>1.870334</td>\n",
       "    </tr>\n",
       "    <tr>\n",
       "      <th>saddr_s3_status</th>\n",
       "      <td>68.079757</td>\n",
       "      <td>26.204207</td>\n",
       "      <td>5.716036</td>\n",
       "    </tr>\n",
       "    <tr>\n",
       "      <th>saddr_s4_status</th>\n",
       "      <td>66.237666</td>\n",
       "      <td>27.697163</td>\n",
       "      <td>6.065171</td>\n",
       "    </tr>\n",
       "    <tr>\n",
       "      <th>saddr_s5_status</th>\n",
       "      <td>66.271102</td>\n",
       "      <td>27.674589</td>\n",
       "      <td>6.054308</td>\n",
       "    </tr>\n",
       "  </tbody>\n",
       "</table>\n",
       "</div>"
      ],
      "text/plain": [
       "status           Unchanged   Not seen   Changed\n",
       "stage                                          \n",
       "saddr_s1_status  90.189419   8.924219  0.886362\n",
       "saddr_s2_status  85.322076  12.807591  1.870334\n",
       "saddr_s3_status  68.079757  26.204207  5.716036\n",
       "saddr_s4_status  66.237666  27.697163  6.065171\n",
       "saddr_s5_status  66.271102  27.674589  6.054308"
      ]
     },
     "execution_count": 21,
     "metadata": {},
     "output_type": "execute_result"
    }
   ],
   "source": [
    "df_pct"
   ]
  },
  {
   "cell_type": "code",
   "execution_count": null,
   "id": "d545989f-586a-4145-a9b9-2b53b6bbaac3",
   "metadata": {},
   "outputs": [],
   "source": []
  }
 ],
 "metadata": {
  "kernelspec": {
   "display_name": "Python 3 (ipykernel)",
   "language": "python",
   "name": "python3"
  },
  "language_info": {
   "codemirror_mode": {
    "name": "ipython",
    "version": 3
   },
   "file_extension": ".py",
   "mimetype": "text/x-python",
   "name": "python",
   "nbconvert_exporter": "python",
   "pygments_lexer": "ipython3",
   "version": "3.12.11"
  }
 },
 "nbformat": 4,
 "nbformat_minor": 5
}
