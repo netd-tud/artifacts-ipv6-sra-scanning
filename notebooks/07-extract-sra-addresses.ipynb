{
 "cells": [
  {
   "cell_type": "code",
   "execution_count": 1,
   "id": "722175e0-2a5f-4166-ab34-f345234cb4b4",
   "metadata": {},
   "outputs": [
    {
     "name": "stderr",
     "output_type": "stream",
     "text": [
      "\u001b[32m2025-10-05 19:04:48.469\u001b[0m | \u001b[1mINFO    \u001b[0m | \u001b[36martifacts_ipv6_sra_scanning.config\u001b[0m:\u001b[36m<module>\u001b[0m:\u001b[36m22\u001b[0m - \u001b[1mPROJ_ROOT path is: /home/service/artifacts-ipv6-sra-scanning\u001b[0m\n"
     ]
    }
   ],
   "source": [
    "from artifacts_ipv6_sra_scanning.config import *\n",
    "import pickle\n",
    "import os\n",
    "import ipaddress\n",
    "import glob\n",
    "from tqdm.auto import tqdm\n",
    "import country_converter as coco\n",
    "from parallel_pandas import ParallelPandas\n",
    "ParallelPandas.initialize(n_cpu=24, split_factor=1, disable_pr_bar=False)"
   ]
  },
  {
   "cell_type": "code",
   "execution_count": 2,
   "id": "5c72e194-1031-4c81-b020-2e06788f69aa",
   "metadata": {},
   "outputs": [],
   "source": [
    "df = pl.read_parquet(f'{PROCESSED_DATA_DIR}/sra_tum_scans_stability.parquet')"
   ]
  },
  {
   "cell_type": "code",
   "execution_count": 3,
   "id": "c5e645f6-5214-415d-acaa-4124fdfa74fc",
   "metadata": {},
   "outputs": [
    {
     "data": {
      "text/html": [
       "<div><style>\n",
       ".dataframe > thead > tr,\n",
       ".dataframe > tbody > tr {\n",
       "  text-align: right;\n",
       "  white-space: pre-wrap;\n",
       "}\n",
       "</style>\n",
       "<small>shape: (5, 13)</small><table border=\"1\" class=\"dataframe\"><thead><tr><th>initial-ip</th><th>saddr</th><th>classification</th><th>saddr_s1</th><th>classification_s1</th><th>saddr_s2</th><th>classification_s2</th><th>saddr_s3</th><th>classification_s3</th><th>saddr_s4</th><th>classification_s4</th><th>saddr_s5</th><th>classification_s5</th></tr><tr><td>str</td><td>str</td><td>str</td><td>str</td><td>str</td><td>str</td><td>str</td><td>str</td><td>str</td><td>str</td><td>str</td><td>str</td><td>str</td></tr></thead><tbody><tr><td>&quot;240e:358:e00:6b54::&quot;</td><td>&quot;240e:358:e00:6b54:7869:e171:7f…</td><td>&quot;echoreply&quot;</td><td>&quot;240e:358:e00:6b54:7869:e171:7f…</td><td>&quot;echoreply&quot;</td><td>&quot;240e:358:e00:6b54:7869:e171:7f…</td><td>&quot;echoreply&quot;</td><td>null</td><td>null</td><td>null</td><td>null</td><td>null</td><td>null</td></tr><tr><td>&quot;2409:40e4:8:7db2::&quot;</td><td>&quot;2409:40e4:8:7db2:5e2f:65c5:7b5…</td><td>&quot;unreach_noroute&quot;</td><td>&quot;2409:40e4:8:7db2:5e2f:65c5:7b5…</td><td>&quot;unreach_noroute&quot;</td><td>&quot;2409:40e4:8:7db2:5e2f:65c5:7b5…</td><td>&quot;unreach_noroute&quot;</td><td>null</td><td>null</td><td>null</td><td>null</td><td>null</td><td>null</td></tr><tr><td>&quot;2001:1670:10:6362::&quot;</td><td>&quot;2001:1670:10:6362:1008:d0df:88…</td><td>&quot;echoreply&quot;</td><td>&quot;2001:1670:10:6362:1008:d0df:88…</td><td>&quot;echoreply&quot;</td><td>&quot;2001:1670:10:6362:1008:d0df:88…</td><td>&quot;echoreply&quot;</td><td>&quot;2001:1670:14:0:40a4:5e47:67f0:…</td><td>&quot;unreach_addr&quot;</td><td>&quot;2001:1670:10:6362:4dbb:9498:1d…</td><td>&quot;echoreply&quot;</td><td>&quot;2001:1670:10:6362:4dbb:9498:1d…</td><td>&quot;echoreply&quot;</td></tr><tr><td>&quot;2003:e3:3719:2e00::&quot;</td><td>&quot;2003:e3:37ff:19a5:e228:6dff:fe…</td><td>&quot;unreach_admin&quot;</td><td>&quot;2003:e3:37ff:19a5:e228:6dff:fe…</td><td>&quot;unreach_admin&quot;</td><td>&quot;2003:e3:37ff:19a5:e228:6dff:fe…</td><td>&quot;unreach_admin&quot;</td><td>&quot;2003:e3:37ff:19a5:e228:6dff:fe…</td><td>&quot;unreach_admin&quot;</td><td>&quot;2003:e3:37ff:19a5:e228:6dff:fe…</td><td>&quot;unreach_admin&quot;</td><td>&quot;2003:e3:37ff:19a5:e228:6dff:fe…</td><td>&quot;unreach_admin&quot;</td></tr><tr><td>&quot;2400:2412:4761:b600::&quot;</td><td>&quot;2400:2412:4761:b601:3ae0:8eff:…</td><td>&quot;echoreply&quot;</td><td>&quot;2400:2412:4761:b601:3ae0:8eff:…</td><td>&quot;echoreply&quot;</td><td>&quot;2400:2412:4761:b601:3ae0:8eff:…</td><td>&quot;echoreply&quot;</td><td>&quot;2400:2412:4761:b601:3ae0:8eff:…</td><td>&quot;echoreply&quot;</td><td>&quot;2400:2412:4761:b601:3ae0:8eff:…</td><td>&quot;echoreply&quot;</td><td>&quot;2400:2412:4761:b601:3ae0:8eff:…</td><td>&quot;echoreply&quot;</td></tr></tbody></table></div>"
      ],
      "text/plain": [
       "shape: (5, 13)\n",
       "┌───────────┬───────────┬───────────┬───────────┬───┬───────────┬───────────┬───────────┬──────────┐\n",
       "│ initial-i ┆ saddr     ┆ classific ┆ saddr_s1  ┆ … ┆ saddr_s4  ┆ classific ┆ saddr_s5  ┆ classifi │\n",
       "│ p         ┆ ---       ┆ ation     ┆ ---       ┆   ┆ ---       ┆ ation_s4  ┆ ---       ┆ cation_s │\n",
       "│ ---       ┆ str       ┆ ---       ┆ str       ┆   ┆ str       ┆ ---       ┆ str       ┆ 5        │\n",
       "│ str       ┆           ┆ str       ┆           ┆   ┆           ┆ str       ┆           ┆ ---      │\n",
       "│           ┆           ┆           ┆           ┆   ┆           ┆           ┆           ┆ str      │\n",
       "╞═══════════╪═══════════╪═══════════╪═══════════╪═══╪═══════════╪═══════════╪═══════════╪══════════╡\n",
       "│ 240e:358: ┆ 240e:358: ┆ echoreply ┆ 240e:358: ┆ … ┆ null      ┆ null      ┆ null      ┆ null     │\n",
       "│ e00:6b54: ┆ e00:6b54: ┆           ┆ e00:6b54: ┆   ┆           ┆           ┆           ┆          │\n",
       "│ :         ┆ 7869:e171 ┆           ┆ 7869:e171 ┆   ┆           ┆           ┆           ┆          │\n",
       "│           ┆ :7f…      ┆           ┆ :7f…      ┆   ┆           ┆           ┆           ┆          │\n",
       "│ 2409:40e4 ┆ 2409:40e4 ┆ unreach_n ┆ 2409:40e4 ┆ … ┆ null      ┆ null      ┆ null      ┆ null     │\n",
       "│ :8:7db2:: ┆ :8:7db2:5 ┆ oroute    ┆ :8:7db2:5 ┆   ┆           ┆           ┆           ┆          │\n",
       "│           ┆ e2f:65c5: ┆           ┆ e2f:65c5: ┆   ┆           ┆           ┆           ┆          │\n",
       "│           ┆ 7b5…      ┆           ┆ 7b5…      ┆   ┆           ┆           ┆           ┆          │\n",
       "│ 2001:1670 ┆ 2001:1670 ┆ echoreply ┆ 2001:1670 ┆ … ┆ 2001:1670 ┆ echoreply ┆ 2001:1670 ┆ echorepl │\n",
       "│ :10:6362: ┆ :10:6362: ┆           ┆ :10:6362: ┆   ┆ :10:6362: ┆           ┆ :10:6362: ┆ y        │\n",
       "│ :         ┆ 1008:d0df ┆           ┆ 1008:d0df ┆   ┆ 4dbb:9498 ┆           ┆ 4dbb:9498 ┆          │\n",
       "│           ┆ :88…      ┆           ┆ :88…      ┆   ┆ :1d…      ┆           ┆ :1d…      ┆          │\n",
       "│ 2003:e3:3 ┆ 2003:e3:3 ┆ unreach_a ┆ 2003:e3:3 ┆ … ┆ 2003:e3:3 ┆ unreach_a ┆ 2003:e3:3 ┆ unreach_ │\n",
       "│ 719:2e00: ┆ 7ff:19a5: ┆ dmin      ┆ 7ff:19a5: ┆   ┆ 7ff:19a5: ┆ dmin      ┆ 7ff:19a5: ┆ admin    │\n",
       "│ :         ┆ e228:6dff ┆           ┆ e228:6dff ┆   ┆ e228:6dff ┆           ┆ e228:6dff ┆          │\n",
       "│           ┆ :fe…      ┆           ┆ :fe…      ┆   ┆ :fe…      ┆           ┆ :fe…      ┆          │\n",
       "│ 2400:2412 ┆ 2400:2412 ┆ echoreply ┆ 2400:2412 ┆ … ┆ 2400:2412 ┆ echoreply ┆ 2400:2412 ┆ echorepl │\n",
       "│ :4761:b60 ┆ :4761:b60 ┆           ┆ :4761:b60 ┆   ┆ :4761:b60 ┆           ┆ :4761:b60 ┆ y        │\n",
       "│ 0::       ┆ 1:3ae0:8e ┆           ┆ 1:3ae0:8e ┆   ┆ 1:3ae0:8e ┆           ┆ 1:3ae0:8e ┆          │\n",
       "│           ┆ ff:…      ┆           ┆ ff:…      ┆   ┆ ff:…      ┆           ┆ ff:…      ┆          │\n",
       "└───────────┴───────────┴───────────┴───────────┴───┴───────────┴───────────┴───────────┴──────────┘"
      ]
     },
     "execution_count": 3,
     "metadata": {},
     "output_type": "execute_result"
    }
   ],
   "source": [
    "df.head()"
   ]
  },
  {
   "cell_type": "code",
   "execution_count": 6,
   "id": "abab33d4-17fe-44fd-94d7-c60f14cde8e9",
   "metadata": {},
   "outputs": [],
   "source": [
    "df.select('initial-ip').write_csv(f'{INTERIM_DATA_DIR}/init-ips-sra-tum-scan.csv')"
   ]
  },
  {
   "cell_type": "code",
   "execution_count": 7,
   "id": "95152829-6a66-4965-9fba-5d38504e722b",
   "metadata": {},
   "outputs": [],
   "source": [
    "def load_and_join(files):\n",
    "    df = pl.DataFrame()\n",
    "    for i in tqdm(range(len(files))):\n",
    "        if df.is_empty():\n",
    "            df = pl.read_csv(files[i],columns=['initial-ip','saddr','classification']).unique(subset=['initial-ip'])\n",
    "        else:\n",
    "            tmp = pl.read_csv(files[i],columns=['initial-ip','saddr','classification']).unique(subset=['initial-ip'])\n",
    "            df = df.join(tmp,on='initial-ip',how='left', suffix=f'_s{i}')\n",
    "    return df"
   ]
  },
  {
   "cell_type": "code",
   "execution_count": 8,
   "id": "8cbca227-f7e1-4570-b93d-ccca5135a47d",
   "metadata": {},
   "outputs": [],
   "source": [
    "file1 = '/home/service/ipv6-measurements-mkoch/backup_2024/sra-analysis/data/bgp48_sra_checks/zmap_icmp_bgp_48_sra_1728075185.log.zst'"
   ]
  },
  {
   "cell_type": "code",
   "execution_count": 9,
   "id": "ac976d22-b8e1-40bf-a567-15ac79ae8205",
   "metadata": {},
   "outputs": [
    {
     "data": {
      "application/vnd.jupyter.widget-view+json": {
       "model_id": "b6472da2e4fa49b4b442cc58beddb1e9",
       "version_major": 2,
       "version_minor": 0
      },
      "text/plain": [
       "  0%|          | 0/1 [00:00<?, ?it/s]"
      ]
     },
     "metadata": {},
     "output_type": "display_data"
    }
   ],
   "source": [
    "df = load_and_join([file1])"
   ]
  },
  {
   "cell_type": "code",
   "execution_count": 10,
   "id": "dd5a7426-3518-4871-b8aa-6f237a1faa9b",
   "metadata": {},
   "outputs": [
    {
     "data": {
      "text/html": [
       "<div><style>\n",
       ".dataframe > thead > tr,\n",
       ".dataframe > tbody > tr {\n",
       "  text-align: right;\n",
       "  white-space: pre-wrap;\n",
       "}\n",
       "</style>\n",
       "<small>shape: (5, 3)</small><table border=\"1\" class=\"dataframe\"><thead><tr><th>initial-ip</th><th>saddr</th><th>classification</th></tr><tr><td>str</td><td>str</td><td>str</td></tr></thead><tbody><tr><td>&quot;2a0c:885:7d93::&quot;</td><td>&quot;2001:67c:2070:b901::b&quot;</td><td>&quot;timxceed&quot;</td></tr><tr><td>&quot;2804:7b68:7d35::&quot;</td><td>&quot;2804:c84:10:101::2e&quot;</td><td>&quot;unreach_noroute&quot;</td></tr><tr><td>&quot;2a14:0:469d::&quot;</td><td>&quot;2001:19f0:6c00:18b2:5400:4ff:f…</td><td>&quot;unreach_noroute&quot;</td></tr><tr><td>&quot;2804:6e4:7402::&quot;</td><td>&quot;2804:6e4:1::5&quot;</td><td>&quot;timxceed&quot;</td></tr><tr><td>&quot;2604:14c0:7603::&quot;</td><td>&quot;2607:ffc8:0:6::10&quot;</td><td>&quot;unreach_rejectroute&quot;</td></tr></tbody></table></div>"
      ],
      "text/plain": [
       "shape: (5, 3)\n",
       "┌──────────────────┬─────────────────────────────────┬─────────────────────┐\n",
       "│ initial-ip       ┆ saddr                           ┆ classification      │\n",
       "│ ---              ┆ ---                             ┆ ---                 │\n",
       "│ str              ┆ str                             ┆ str                 │\n",
       "╞══════════════════╪═════════════════════════════════╪═════════════════════╡\n",
       "│ 2a0c:885:7d93::  ┆ 2001:67c:2070:b901::b           ┆ timxceed            │\n",
       "│ 2804:7b68:7d35:: ┆ 2804:c84:10:101::2e             ┆ unreach_noroute     │\n",
       "│ 2a14:0:469d::    ┆ 2001:19f0:6c00:18b2:5400:4ff:f… ┆ unreach_noroute     │\n",
       "│ 2804:6e4:7402::  ┆ 2804:6e4:1::5                   ┆ timxceed            │\n",
       "│ 2604:14c0:7603:: ┆ 2607:ffc8:0:6::10               ┆ unreach_rejectroute │\n",
       "└──────────────────┴─────────────────────────────────┴─────────────────────┘"
      ]
     },
     "execution_count": 10,
     "metadata": {},
     "output_type": "execute_result"
    }
   ],
   "source": [
    "df.head()"
   ]
  },
  {
   "cell_type": "code",
   "execution_count": 11,
   "id": "e25f1ac1-07de-42ad-acfa-0b9b9d400fd7",
   "metadata": {},
   "outputs": [
    {
     "data": {
      "text/plain": [
       "337274845"
      ]
     },
     "execution_count": 11,
     "metadata": {},
     "output_type": "execute_result"
    }
   ],
   "source": [
    "len(df)"
   ]
  },
  {
   "cell_type": "code",
   "execution_count": 12,
   "id": "185ff402-8377-4e93-b17e-d0ed88aa4d56",
   "metadata": {},
   "outputs": [],
   "source": [
    "df.select('initial-ip').write_csv(f'{INTERIM_DATA_DIR}/init-ips-sra-bgp48-scan.csv')"
   ]
  },
  {
   "cell_type": "code",
   "execution_count": null,
   "id": "5fccd280-ea01-4be0-b871-8349a79b8d7f",
   "metadata": {},
   "outputs": [],
   "source": []
  }
 ],
 "metadata": {
  "kernelspec": {
   "display_name": "Python 3 (ipykernel)",
   "language": "python",
   "name": "python3"
  },
  "language_info": {
   "codemirror_mode": {
    "name": "ipython",
    "version": 3
   },
   "file_extension": ".py",
   "mimetype": "text/x-python",
   "name": "python",
   "nbconvert_exporter": "python",
   "pygments_lexer": "ipython3",
   "version": "3.12.11"
  }
 },
 "nbformat": 4,
 "nbformat_minor": 5
}
