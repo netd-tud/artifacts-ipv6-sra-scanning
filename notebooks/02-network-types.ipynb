{
 "cells": [
  {
   "cell_type": "code",
   "execution_count": 1,
   "id": "7e73e847-9966-404f-9cf1-9598ffc19c50",
   "metadata": {},
   "outputs": [
    {
     "name": "stderr",
     "output_type": "stream",
     "text": [
      "\u001b[32m2025-09-29 21:47:15.159\u001b[0m | \u001b[1mINFO    \u001b[0m | \u001b[36martifacts_ipv6_sra_scanning.config\u001b[0m:\u001b[36m<module>\u001b[0m:\u001b[36m22\u001b[0m - \u001b[1mPROJ_ROOT path is: /home/service/artifacts-ipv6-sra-scanning\u001b[0m\n"
     ]
    }
   ],
   "source": [
    "from artifacts_ipv6_sra_scanning.config import *\n",
    "import pickle\n",
    "import os\n",
    "import ipaddress\n",
    "import glob\n",
    "import pycountry_convert as pycc\n",
    "import country_converter as coco\n",
    "from parallel_pandas import ParallelPandas\n",
    "ParallelPandas.initialize(n_cpu=24, split_factor=1, disable_pr_bar=False)"
   ]
  },
  {
   "cell_type": "code",
   "execution_count": 2,
   "id": "563efe8c-eb4c-45c9-be20-90d06e2876c9",
   "metadata": {},
   "outputs": [],
   "source": [
    "files = glob.glob(f'{INTERIM_DATA_DIR}/*.csv')"
   ]
  },
  {
   "cell_type": "code",
   "execution_count": 3,
   "id": "0337aad5-bf86-40c0-bdab-8dc5029c46f0",
   "metadata": {},
   "outputs": [],
   "source": [
    "files = [file for file in files if 'ixp-ips' not in file]"
   ]
  },
  {
   "cell_type": "code",
   "execution_count": 4,
   "id": "c33e848a-0d83-435d-bf91-f5d20c3fb8ee",
   "metadata": {},
   "outputs": [
    {
     "data": {
      "text/plain": [
       "['/home/service/artifacts-ipv6-sra-scanning/data/interim/router-ips.csv',\n",
       " '/home/service/artifacts-ipv6-sra-scanning/data/interim/hitlist-ips.csv',\n",
       " '/home/service/artifacts-ipv6-sra-scanning/data/interim/itdk-ips.csv',\n",
       " '/home/service/artifacts-ipv6-sra-scanning/data/interim/ripe-ips.csv']"
      ]
     },
     "execution_count": 4,
     "metadata": {},
     "output_type": "execute_result"
    }
   ],
   "source": [
    "files"
   ]
  },
  {
   "cell_type": "code",
   "execution_count": 5,
   "id": "4b10d150-38d9-4616-92a4-f24d61958e94",
   "metadata": {},
   "outputs": [],
   "source": [
    "info_columns = ['Geo','AS-Number','BGP-Prefix','Org']"
   ]
  },
  {
   "cell_type": "code",
   "execution_count": 6,
   "id": "8e449022-0b9f-4b86-8dad-fd088dafa3b0",
   "metadata": {
    "scrolled": true
   },
   "outputs": [
    {
     "name": "stdout",
     "output_type": "stream",
     "text": [
      "/home/service/artifacts-ipv6-sra-scanning/data/interim/router-ips.csv\n",
      "shape: (10, 2)\n",
      "┌─────┬──────────┐\n",
      "│ Geo ┆ count    │\n",
      "│ --- ┆ ---      │\n",
      "│ str ┆ u32      │\n",
      "╞═════╪══════════╡\n",
      "│ IND ┆ 35575373 │\n",
      "│ CHN ┆ 25963412 │\n",
      "│ DEU ┆ 9290195  │\n",
      "│ USA ┆ 8761299  │\n",
      "│ VNM ┆ 8114287  │\n",
      "│ BRA ┆ 4881168  │\n",
      "│ THA ┆ 4199434  │\n",
      "│ PER ┆ 3853804  │\n",
      "│ MEX ┆ 3200781  │\n",
      "│ FRA ┆ 3032530  │\n",
      "└─────┴──────────┘\n",
      "/home/service/artifacts-ipv6-sra-scanning/data/interim/hitlist-ips.csv\n",
      "shape: (10, 2)\n",
      "┌─────┬─────────┐\n",
      "│ Geo ┆ count   │\n",
      "│ --- ┆ ---     │\n",
      "│ str ┆ u32     │\n",
      "╞═════╪═════════╡\n",
      "│ USA ┆ 4011320 │\n",
      "│ FRA ┆ 2644505 │\n",
      "│ DEU ┆ 1545119 │\n",
      "│ CHN ┆ 1494445 │\n",
      "│ GBR ┆ 1128185 │\n",
      "│ BRA ┆ 872790  │\n",
      "│ JPN ┆ 870771  │\n",
      "│ IND ┆ 846023  │\n",
      "│ NLD ┆ 639408  │\n",
      "│ BEL ┆ 410658  │\n",
      "└─────┴─────────┘\n",
      "/home/service/artifacts-ipv6-sra-scanning/data/interim/itdk-ips.csv\n",
      "shape: (10, 2)\n",
      "┌─────┬─────────┐\n",
      "│ Geo ┆ count   │\n",
      "│ --- ┆ ---     │\n",
      "│ str ┆ u32     │\n",
      "╞═════╪═════════╡\n",
      "│ USA ┆ 1166352 │\n",
      "│ NLD ┆ 411342  │\n",
      "│ CHN ┆ 192615  │\n",
      "│ IND ┆ 179403  │\n",
      "│ BRA ┆ 141200  │\n",
      "│ RUS ┆ 136361  │\n",
      "│ VNM ┆ 105966  │\n",
      "│ GBR ┆ 100056  │\n",
      "│ JPN ┆ 57776   │\n",
      "│ MEX ┆ 49804   │\n",
      "└─────┴─────────┘\n",
      "/home/service/artifacts-ipv6-sra-scanning/data/interim/ripe-ips.csv\n",
      "shape: (10, 2)\n",
      "┌─────┬───────┐\n",
      "│ Geo ┆ count │\n",
      "│ --- ┆ ---   │\n",
      "│ str ┆ u32   │\n",
      "╞═════╪═══════╡\n",
      "│ USA ┆ 86689 │\n",
      "│ CHN ┆ 45058 │\n",
      "│ BRA ┆ 41605 │\n",
      "│ IND ┆ 18726 │\n",
      "│ DEU ┆ 17020 │\n",
      "│ MEX ┆ 14089 │\n",
      "│ GBR ┆ 11976 │\n",
      "│ NLD ┆ 10018 │\n",
      "│ VNM ┆ 9611  │\n",
      "│ SWE ┆ 7801  │\n",
      "└─────┴───────┘\n",
      "/home/service/artifacts-ipv6-sra-scanning/data/interim/router-ips.csv\n",
      "shape: (10, 2)\n",
      "┌───────────┬──────────┐\n",
      "│ AS-Number ┆ count    │\n",
      "│ ---       ┆ ---      │\n",
      "│ f64       ┆ u32      │\n",
      "╞═══════════╪══════════╡\n",
      "│ 45609.0   ┆ 14777061 │\n",
      "│ 9808.0    ┆ 8049005  │\n",
      "│ 45271.0   ┆ 6140216  │\n",
      "│ 38266.0   ┆ 5655815  │\n",
      "│ 4134.0    ┆ 5462588  │\n",
      "│ 3320.0    ┆ 4886953  │\n",
      "│ 55836.0   ┆ 4388222  │\n",
      "│ 45899.0   ┆ 4188752  │\n",
      "│ 4837.0    ┆ 3783069  │\n",
      "│ 12252.0   ┆ 3737895  │\n",
      "└───────────┴──────────┘\n",
      "/home/service/artifacts-ipv6-sra-scanning/data/interim/hitlist-ips.csv\n",
      "shape: (10, 2)\n",
      "┌───────────┬─────────┐\n",
      "│ AS-Number ┆ count   │\n",
      "│ ---       ┆ ---     │\n",
      "│ f64       ┆ u32     │\n",
      "╞═══════════╪═════════╡\n",
      "│ 13335.0   ┆ 5047644 │\n",
      "│ 12322.0   ┆ 1964550 │\n",
      "│ 5607.0    ┆ 666471  │\n",
      "│ 55836.0   ┆ 629817  │\n",
      "│ 4134.0    ┆ 392480  │\n",
      "│ 17676.0   ┆ 332816  │\n",
      "│ 9808.0    ┆ 269501  │\n",
      "│ 14061.0   ┆ 239394  │\n",
      "│ 6848.0    ┆ 235449  │\n",
      "│ 15557.0   ┆ 233011  │\n",
      "└───────────┴─────────┘\n",
      "/home/service/artifacts-ipv6-sra-scanning/data/interim/itdk-ips.csv\n",
      "shape: (10, 2)\n",
      "┌───────────┬────────┐\n",
      "│ AS-Number ┆ count  │\n",
      "│ ---       ┆ ---    │\n",
      "│ f64       ┆ u32    │\n",
      "╞═══════════╪════════╡\n",
      "│ 36183.0   ┆ 484149 │\n",
      "│ 16509.0   ┆ 349450 │\n",
      "│ null      ┆ 196873 │\n",
      "│ 13335.0   ┆ 188850 │\n",
      "│ 19551.0   ┆ 92472  │\n",
      "│ 45609.0   ┆ 88467  │\n",
      "│ 15169.0   ┆ 67463  │\n",
      "│ 54113.0   ┆ 63727  │\n",
      "│ 210842.0  ┆ 57777  │\n",
      "│ 36492.0   ┆ 51452  │\n",
      "└───────────┴────────┘\n",
      "/home/service/artifacts-ipv6-sra-scanning/data/interim/ripe-ips.csv\n",
      "shape: (10, 2)\n",
      "┌───────────┬───────┐\n",
      "│ AS-Number ┆ count │\n",
      "│ ---       ┆ ---   │\n",
      "│ f64       ┆ u32   │\n",
      "╞═══════════╪═══════╡\n",
      "│ null      ┆ 39541 │\n",
      "│ 16509.0   ┆ 7879  │\n",
      "│ 11172.0   ┆ 7707  │\n",
      "│ 9808.0    ┆ 7241  │\n",
      "│ 174.0     ┆ 6462  │\n",
      "│ 1299.0    ┆ 4983  │\n",
      "│ 20940.0   ┆ 4604  │\n",
      "│ 3356.0    ┆ 4513  │\n",
      "│ 18403.0   ┆ 3923  │\n",
      "│ 7922.0    ┆ 3765  │\n",
      "└───────────┴───────┘\n",
      "/home/service/artifacts-ipv6-sra-scanning/data/interim/router-ips.csv\n",
      "shape: (10, 2)\n",
      "┌─────────────────────┬─────────┐\n",
      "│ BGP-Prefix          ┆ count   │\n",
      "│ ---                 ┆ ---     │\n",
      "│ str                 ┆ u32     │\n",
      "╞═════════════════════╪═════════╡\n",
      "│ 2003::/19           ┆ 4885656 │\n",
      "│ 2409:8a62::/32      ┆ 2872455 │\n",
      "│ null                ┆ 2583333 │\n",
      "│ 2001:fb1::/32       ┆ 2558969 │\n",
      "│ 2a02:a400::/25      ┆ 1315266 │\n",
      "│ 2400:1a00:b000::/36 ┆ 1311638 │\n",
      "│ 2800:190::/32       ┆ 1154345 │\n",
      "│ 240e:398::/29       ┆ 775162  │\n",
      "│ 2001:4dd0::/32      ┆ 763421  │\n",
      "│ 2408:8220::/32      ┆ 721085  │\n",
      "└─────────────────────┴─────────┘\n",
      "/home/service/artifacts-ipv6-sra-scanning/data/interim/hitlist-ips.csv\n",
      "shape: (10, 2)\n",
      "┌────────────────────┬─────────┐\n",
      "│ BGP-Prefix         ┆ count   │\n",
      "│ ---                ┆ ---     │\n",
      "│ str                ┆ u32     │\n",
      "╞════════════════════╪═════════╡\n",
      "│ 2a09:bac2::/32     ┆ 2073260 │\n",
      "│ 2a09:bac3::/32     ┆ 2072635 │\n",
      "│ 2a09:bac5::/32     ┆ 535469  │\n",
      "│ 2a01:e0a::/38      ┆ 449430  │\n",
      "│ 2a01:e00::/26      ┆ 407780  │\n",
      "│ 2a01:e0a::/39      ┆ 380195  │\n",
      "│ 2a02:c7c:8000::/33 ┆ 342823  │\n",
      "│ 2400:2000::/20     ┆ 332629  │\n",
      "│ 2a01:e0a:400::/39  ┆ 326007  │\n",
      "│ 2a09:bac1::/32     ┆ 300846  │\n",
      "└────────────────────┴─────────┘\n",
      "/home/service/artifacts-ipv6-sra-scanning/data/interim/itdk-ips.csv\n",
      "shape: (10, 2)\n",
      "┌──────────────────┬────────┐\n",
      "│ BGP-Prefix       ┆ count  │\n",
      "│ ---              ┆ ---    │\n",
      "│ str              ┆ u32    │\n",
      "╞══════════════════╪════════╡\n",
      "│ null             ┆ 196873 │\n",
      "│ 2605:ef80::/32   ┆ 63142  │\n",
      "│ 2001:268::/32    ┆ 40840  │\n",
      "│ 2a05:dfc7::/32   ┆ 14224  │\n",
      "│ 2a12:6640::/29   ┆ 12186  │\n",
      "│ 240e::/24        ┆ 10100  │\n",
      "│ 2a12:ecc2::/32   ┆ 9827   │\n",
      "│ 2620:0:1c00::/40 ┆ 9715   │\n",
      "│ 2800:190::/32    ┆ 9491   │\n",
      "│ 2001:fb1::/32    ┆ 8547   │\n",
      "└──────────────────┴────────┘\n",
      "/home/service/artifacts-ipv6-sra-scanning/data/interim/ripe-ips.csv\n",
      "shape: (10, 2)\n",
      "┌────────────────┬───────┐\n",
      "│ BGP-Prefix     ┆ count │\n",
      "│ ---            ┆ ---   │\n",
      "│ str            ┆ u32   │\n",
      "╞════════════════╪═══════╡\n",
      "│ null           ┆ 39541 │\n",
      "│ 2001:550::/32  ┆ 4131  │\n",
      "│ 2001:2030::/28 ┆ 4110  │\n",
      "│ 2001:1900::/32 ┆ 3711  │\n",
      "│ 2001:558::/29  ┆ 3482  │\n",
      "│ 240e::/24      ┆ 2295  │\n",
      "│ 2001:668::/32  ┆ 2091  │\n",
      "│ 2001:4860::/32 ┆ 2074  │\n",
      "│ 2001:255::/32  ┆ 2042  │\n",
      "│ 2001:470::/32  ┆ 1820  │\n",
      "└────────────────┴───────┘\n",
      "/home/service/artifacts-ipv6-sra-scanning/data/interim/router-ips.csv\n",
      "shape: (10, 2)\n",
      "┌─────────────────────────────────┬──────────┐\n",
      "│ Org                             ┆ count    │\n",
      "│ ---                             ┆ ---      │\n",
      "│ str                             ┆ u32      │\n",
      "╞═════════════════════════════════╪══════════╡\n",
      "│ BHARTI-MOBILITY-AS-AP Bharti A… ┆ 14777061 │\n",
      "│ CHINAMOBILE-CN China Mobile Co… ┆ 8049005  │\n",
      "│ ICLNET-AS-AP Idea Cellular Lim… ┆ 6140216  │\n",
      "│ VIL-AS-AP Vodafone Idea Ltd     ┆ 5655991  │\n",
      "│ CHINANET-BACKBONE No.31,Jin-ro… ┆ 5462588  │\n",
      "│ DTAG Internet service provider… ┆ 4886953  │\n",
      "│ RELIANCEJIO-IN Reliance Jio In… ┆ 4388222  │\n",
      "│ VNPT-AS-VN VNPT Corp            ┆ 4188752  │\n",
      "│ CHINA169-BACKBONE CHINA UNICOM… ┆ 3783069  │\n",
      "│ America Movil Peru S.A.C.       ┆ 3737895  │\n",
      "└─────────────────────────────────┴──────────┘\n",
      "/home/service/artifacts-ipv6-sra-scanning/data/interim/hitlist-ips.csv\n",
      "shape: (10, 2)\n",
      "┌─────────────────────────────────┬─────────┐\n",
      "│ Org                             ┆ count   │\n",
      "│ ---                             ┆ ---     │\n",
      "│ str                             ┆ u32     │\n",
      "╞═════════════════════════════════╪═════════╡\n",
      "│ CLOUDFLARENET                   ┆ 5047644 │\n",
      "│ PROXAD                          ┆ 1964550 │\n",
      "│ BSKYB-BROADBAND-AS              ┆ 666471  │\n",
      "│ RELIANCEJIO-IN Reliance Jio In… ┆ 629817  │\n",
      "│ CHINANET-BACKBONE No.31,Jin-ro… ┆ 392480  │\n",
      "│ GIGAINFRA SoftBank Corp.        ┆ 332816  │\n",
      "│ CHINAMOBILE-CN China Mobile Co… ┆ 269501  │\n",
      "│ DIGITALOCEAN-ASN                ┆ 239394  │\n",
      "│ TELENET-AS                      ┆ 235464  │\n",
      "│ LDCOMNET --- I3Dnet ---         ┆ 233011  │\n",
      "└─────────────────────────────────┴─────────┘\n",
      "/home/service/artifacts-ipv6-sra-scanning/data/interim/itdk-ips.csv\n",
      "shape: (10, 2)\n",
      "┌─────────────────────────────────┬────────┐\n",
      "│ Org                             ┆ count  │\n",
      "│ ---                             ┆ ---    │\n",
      "│ str                             ┆ u32    │\n",
      "╞═════════════════════════════════╪════════╡\n",
      "│ AKAMAI-AS                       ┆ 484246 │\n",
      "│ AMAZON-02                       ┆ 349450 │\n",
      "│ null                            ┆ 251206 │\n",
      "│ CLOUDFLARENET                   ┆ 188850 │\n",
      "│ INCAPSULA                       ┆ 92472  │\n",
      "│ BHARTI-MOBILITY-AS-AP Bharti A… ┆ 88467  │\n",
      "│ GOOGLE                          ┆ 67463  │\n",
      "│ FASTLY                          ┆ 63727  │\n",
      "│ RKZED-AS                        ┆ 57777  │\n",
      "│ GOOGLEWIFI                      ┆ 51452  │\n",
      "└─────────────────────────────────┴────────┘\n",
      "/home/service/artifacts-ipv6-sra-scanning/data/interim/ripe-ips.csv\n",
      "shape: (10, 2)\n",
      "┌─────────────────────────────────┬───────┐\n",
      "│ Org                             ┆ count │\n",
      "│ ---                             ┆ ---   │\n",
      "│ str                             ┆ u32   │\n",
      "╞═════════════════════════════════╪═══════╡\n",
      "│ null                            ┆ 43611 │\n",
      "│ AMAZON-02                       ┆ 7879  │\n",
      "│ Alestra                         ┆ 7707  │\n",
      "│ CHINAMOBILE-CN China Mobile Co… ┆ 7241  │\n",
      "│ COGENT-174                      ┆ 6462  │\n",
      "│ TWELVE99 Arelion                ┆ 4983  │\n",
      "│ AKAMAI-ASN1                     ┆ 4604  │\n",
      "│ LEVEL3                          ┆ 4513  │\n",
      "│ FPT-AS-AP FPT Telecom Company   ┆ 3923  │\n",
      "│ COMCAST-7922                    ┆ 3765  │\n",
      "└─────────────────────────────────┴───────┘\n"
     ]
    }
   ],
   "source": [
    "for column in info_columns:\n",
    "    for file in files:\n",
    "        tmp = pl.scan_csv(file)\n",
    "        print(file)\n",
    "        print(tmp.group_by(pl.col(column)).agg(pl.len().alias('count')).top_k(10,by='count').collect())"
   ]
  },
  {
   "cell_type": "code",
   "execution_count": 6,
   "id": "13ee950f-3121-400c-9276-f2232c6fd62e",
   "metadata": {},
   "outputs": [],
   "source": [
    "ipinfo_asn = pl.read_parquet('/home/service/ipinfos/ipinfo_asn.parquet')"
   ]
  },
  {
   "cell_type": "code",
   "execution_count": 7,
   "id": "8ca2beb6-a027-484e-8067-4cb66319ee69",
   "metadata": {},
   "outputs": [],
   "source": [
    "ipinfo_asn = ipinfo_asn.with_columns(pl.col('asn').str.replace('AS','').cast(pl.Float64))"
   ]
  },
  {
   "cell_type": "code",
   "execution_count": 8,
   "id": "5348af4c-439b-492d-96fb-05ca686bb9e5",
   "metadata": {},
   "outputs": [
    {
     "data": {
      "text/html": [
       "<div><style>\n",
       ".dataframe > thead > tr,\n",
       ".dataframe > tbody > tr {\n",
       "  text-align: right;\n",
       "  white-space: pre-wrap;\n",
       "}\n",
       "</style>\n",
       "<small>shape: (1_606_555, 6)</small><table border=\"1\" class=\"dataframe\"><thead><tr><th>network</th><th>asn</th><th>domain</th><th>name</th><th>type</th><th>country</th></tr><tr><td>str</td><td>f64</td><td>str</td><td>str</td><td>str</td><td>str</td></tr></thead><tbody><tr><td>&quot;1.0.0.0/24&quot;</td><td>13335.0</td><td>&quot;cloudflare.com&quot;</td><td>&quot;Cloudflare, Inc.&quot;</td><td>&quot;hosting&quot;</td><td>&quot;US&quot;</td></tr><tr><td>&quot;1.0.4.0/24&quot;</td><td>38803.0</td><td>&quot;gtelecom.com.au&quot;</td><td>&quot;Gtelecom Pty Ltd&quot;</td><td>&quot;isp&quot;</td><td>&quot;AU&quot;</td></tr><tr><td>&quot;1.0.5.0/24&quot;</td><td>38803.0</td><td>&quot;gtelecom.com.au&quot;</td><td>&quot;Gtelecom Pty Ltd&quot;</td><td>&quot;isp&quot;</td><td>&quot;AU&quot;</td></tr><tr><td>&quot;1.0.6.0/24&quot;</td><td>38803.0</td><td>&quot;gtelecom.com.au&quot;</td><td>&quot;Gtelecom Pty Ltd&quot;</td><td>&quot;isp&quot;</td><td>&quot;AU&quot;</td></tr><tr><td>&quot;1.0.7.0/24&quot;</td><td>38803.0</td><td>&quot;gtelecom.com.au&quot;</td><td>&quot;Gtelecom Pty Ltd&quot;</td><td>&quot;isp&quot;</td><td>&quot;AU&quot;</td></tr><tr><td>&hellip;</td><td>&hellip;</td><td>&hellip;</td><td>&hellip;</td><td>&hellip;</td><td>&hellip;</td></tr><tr><td>&quot;2c0f:ffa8::/32&quot;</td><td>37057.0</td><td>&quot;vodacom.co.ls&quot;</td><td>&quot;Vodacom Lesotho (Pty) Ltd&quot;</td><td>&quot;isp&quot;</td><td>&quot;LS&quot;</td></tr><tr><td>&quot;2c0f:ffc8::/32&quot;</td><td>22355.0</td><td>&quot;frogfoot.com&quot;</td><td>&quot;Frogfoot Networks&quot;</td><td>&quot;isp&quot;</td><td>&quot;ZA&quot;</td></tr><tr><td>&quot;2c0f:ffd0::/32&quot;</td><td>36968.0</td><td>&quot;ecn.co.za&quot;</td><td>&quot;Electronic Communications Netw…</td><td>&quot;isp&quot;</td><td>&quot;ZA&quot;</td></tr><tr><td>&quot;2c0f:ffd8::/32&quot;</td><td>37105.0</td><td>&quot;rain.co.za&quot;</td><td>&quot;RAIN GROUP HOLDINGS (PTY) LTD&quot;</td><td>&quot;isp&quot;</td><td>&quot;ZA&quot;</td></tr><tr><td>&quot;2c0f:fff0::/32&quot;</td><td>37125.0</td><td>&quot;layer3.ng&quot;</td><td>&quot;Layer3 Limited&quot;</td><td>&quot;hosting&quot;</td><td>&quot;NG&quot;</td></tr></tbody></table></div>"
      ],
      "text/plain": [
       "shape: (1_606_555, 6)\n",
       "┌────────────────┬─────────┬─────────────────┬─────────────────────────────────┬─────────┬─────────┐\n",
       "│ network        ┆ asn     ┆ domain          ┆ name                            ┆ type    ┆ country │\n",
       "│ ---            ┆ ---     ┆ ---             ┆ ---                             ┆ ---     ┆ ---     │\n",
       "│ str            ┆ f64     ┆ str             ┆ str                             ┆ str     ┆ str     │\n",
       "╞════════════════╪═════════╪═════════════════╪═════════════════════════════════╪═════════╪═════════╡\n",
       "│ 1.0.0.0/24     ┆ 13335.0 ┆ cloudflare.com  ┆ Cloudflare, Inc.                ┆ hosting ┆ US      │\n",
       "│ 1.0.4.0/24     ┆ 38803.0 ┆ gtelecom.com.au ┆ Gtelecom Pty Ltd                ┆ isp     ┆ AU      │\n",
       "│ 1.0.5.0/24     ┆ 38803.0 ┆ gtelecom.com.au ┆ Gtelecom Pty Ltd                ┆ isp     ┆ AU      │\n",
       "│ 1.0.6.0/24     ┆ 38803.0 ┆ gtelecom.com.au ┆ Gtelecom Pty Ltd                ┆ isp     ┆ AU      │\n",
       "│ 1.0.7.0/24     ┆ 38803.0 ┆ gtelecom.com.au ┆ Gtelecom Pty Ltd                ┆ isp     ┆ AU      │\n",
       "│ …              ┆ …       ┆ …               ┆ …                               ┆ …       ┆ …       │\n",
       "│ 2c0f:ffa8::/32 ┆ 37057.0 ┆ vodacom.co.ls   ┆ Vodacom Lesotho (Pty) Ltd       ┆ isp     ┆ LS      │\n",
       "│ 2c0f:ffc8::/32 ┆ 22355.0 ┆ frogfoot.com    ┆ Frogfoot Networks               ┆ isp     ┆ ZA      │\n",
       "│ 2c0f:ffd0::/32 ┆ 36968.0 ┆ ecn.co.za       ┆ Electronic Communications Netw… ┆ isp     ┆ ZA      │\n",
       "│ 2c0f:ffd8::/32 ┆ 37105.0 ┆ rain.co.za      ┆ RAIN GROUP HOLDINGS (PTY) LTD   ┆ isp     ┆ ZA      │\n",
       "│ 2c0f:fff0::/32 ┆ 37125.0 ┆ layer3.ng       ┆ Layer3 Limited                  ┆ hosting ┆ NG      │\n",
       "└────────────────┴─────────┴─────────────────┴─────────────────────────────────┴─────────┴─────────┘"
      ]
     },
     "execution_count": 8,
     "metadata": {},
     "output_type": "execute_result"
    }
   ],
   "source": [
    "ipinfo_asn"
   ]
  },
  {
   "cell_type": "code",
   "execution_count": 9,
   "id": "32ed92b4-2bb2-4e21-a3f7-dc5d04c6f95c",
   "metadata": {},
   "outputs": [],
   "source": [
    "router_ips = pl.read_csv(files[0])"
   ]
  },
  {
   "cell_type": "code",
   "execution_count": 10,
   "id": "341d242d-1d7e-49e9-ad25-6ba113bbb937",
   "metadata": {},
   "outputs": [],
   "source": [
    "router_ips = router_ips.filter(pl.col('ip-addr')!='saddr')"
   ]
  },
  {
   "cell_type": "code",
   "execution_count": 13,
   "id": "d1e1b0a1-6156-42bd-92ef-dde733054321",
   "metadata": {},
   "outputs": [
    {
     "data": {
      "text/plain": [
       "218"
      ]
     },
     "execution_count": 13,
     "metadata": {},
     "output_type": "execute_result"
    }
   ],
   "source": [
    "router_ips.select('Geo').n_unique()"
   ]
  },
  {
   "cell_type": "code",
   "execution_count": 20,
   "id": "e6c7493b-7468-4ca1-a5a2-b245ad7cd1ca",
   "metadata": {},
   "outputs": [
    {
     "data": {
      "text/html": [
       "<div><style>\n",
       ".dataframe > thead > tr,\n",
       ".dataframe > tbody > tr {\n",
       "  text-align: right;\n",
       "  white-space: pre-wrap;\n",
       "}\n",
       "</style>\n",
       "<small>shape: (218, 2)</small><table border=\"1\" class=\"dataframe\"><thead><tr><th>Geo</th><th>frequency</th></tr><tr><td>str</td><td>f64</td></tr></thead><tbody><tr><td>&quot;IND&quot;</td><td>26.83</td></tr><tr><td>&quot;CHN&quot;</td><td>19.58</td></tr><tr><td>&quot;DEU&quot;</td><td>7.01</td></tr><tr><td>&quot;USA&quot;</td><td>6.61</td></tr><tr><td>&quot;VNM&quot;</td><td>6.12</td></tr><tr><td>&hellip;</td><td>&hellip;</td></tr><tr><td>&quot;LAO&quot;</td><td>0.0</td></tr><tr><td>&quot;JEY&quot;</td><td>0.0</td></tr><tr><td>&quot;CYP&quot;</td><td>0.0</td></tr><tr><td>&quot;AIA&quot;</td><td>0.0</td></tr><tr><td>&quot;UGA&quot;</td><td>0.0</td></tr></tbody></table></div>"
      ],
      "text/plain": [
       "shape: (218, 2)\n",
       "┌─────┬───────────┐\n",
       "│ Geo ┆ frequency │\n",
       "│ --- ┆ ---       │\n",
       "│ str ┆ f64       │\n",
       "╞═════╪═══════════╡\n",
       "│ IND ┆ 26.83     │\n",
       "│ CHN ┆ 19.58     │\n",
       "│ DEU ┆ 7.01      │\n",
       "│ USA ┆ 6.61      │\n",
       "│ VNM ┆ 6.12      │\n",
       "│ …   ┆ …         │\n",
       "│ LAO ┆ 0.0       │\n",
       "│ JEY ┆ 0.0       │\n",
       "│ CYP ┆ 0.0       │\n",
       "│ AIA ┆ 0.0       │\n",
       "│ UGA ┆ 0.0       │\n",
       "└─────┴───────────┘"
      ]
     },
     "execution_count": 20,
     "metadata": {},
     "output_type": "execute_result"
    }
   ],
   "source": [
    "router_ips.group_by('Geo').agg((pl.len()/len(router_ips)).mul(100).round(2).alias('frequency')).sort('frequency',descending=True)"
   ]
  },
  {
   "cell_type": "code",
   "execution_count": 142,
   "id": "d77ef3bb-7410-4a95-ad4c-cf2bf7747729",
   "metadata": {},
   "outputs": [],
   "source": [
    "router_asn = router_ips.select(['Geo','AS-Number']).unique()"
   ]
  },
  {
   "cell_type": "code",
   "execution_count": 13,
   "id": "5c824f01-4122-415e-aab2-b2afe33b2746",
   "metadata": {},
   "outputs": [],
   "source": [
    "router_asn = router_asn.join(ipinfo_asn.select(['asn','type']).unique(),how='left',left_on='AS-Number',right_on='asn')"
   ]
  },
  {
   "cell_type": "code",
   "execution_count": 14,
   "id": "12e15752-b5f7-45e8-8395-b29cfa324900",
   "metadata": {},
   "outputs": [
    {
     "data": {
      "text/html": [
       "<div><style>\n",
       ".dataframe > thead > tr,\n",
       ".dataframe > tbody > tr {\n",
       "  text-align: right;\n",
       "  white-space: pre-wrap;\n",
       "}\n",
       "</style>\n",
       "<small>shape: (7, 2)</small><table border=\"1\" class=\"dataframe\"><thead><tr><th>type</th><th>proportion</th></tr><tr><td>str</td><td>f64</td></tr></thead><tbody><tr><td>&quot;inactive&quot;</td><td>0.000055</td></tr><tr><td>&quot;government&quot;</td><td>0.006239</td></tr><tr><td>&quot;education&quot;</td><td>0.027937</td></tr><tr><td>null</td><td>0.035722</td></tr><tr><td>&quot;business&quot;</td><td>0.078511</td></tr><tr><td>&quot;hosting&quot;</td><td>0.231338</td></tr><tr><td>&quot;isp&quot;</td><td>0.620197</td></tr></tbody></table></div>"
      ],
      "text/plain": [
       "shape: (7, 2)\n",
       "┌────────────┬────────────┐\n",
       "│ type       ┆ proportion │\n",
       "│ ---        ┆ ---        │\n",
       "│ str        ┆ f64        │\n",
       "╞════════════╪════════════╡\n",
       "│ inactive   ┆ 0.000055   │\n",
       "│ government ┆ 0.006239   │\n",
       "│ education  ┆ 0.027937   │\n",
       "│ null       ┆ 0.035722   │\n",
       "│ business   ┆ 0.078511   │\n",
       "│ hosting    ┆ 0.231338   │\n",
       "│ isp        ┆ 0.620197   │\n",
       "└────────────┴────────────┘"
      ]
     },
     "execution_count": 14,
     "metadata": {},
     "output_type": "execute_result"
    }
   ],
   "source": [
    "router_asn['type'].value_counts(normalize=True).sort('proportion')"
   ]
  },
  {
   "cell_type": "code",
   "execution_count": 34,
   "id": "6754039a-69b8-44e0-9205-c130ea111e77",
   "metadata": {},
   "outputs": [],
   "source": [
    "router_asn = router_asn.group_by(['Geo','type']).agg(pl.len().alias('count')).sort('count',descending=True)"
   ]
  },
  {
   "cell_type": "code",
   "execution_count": 82,
   "id": "7d9a51d4-b4cf-4785-bf52-708d0a5b9fad",
   "metadata": {},
   "outputs": [
    {
     "data": {
      "text/html": [
       "<div><style>\n",
       ".dataframe > thead > tr,\n",
       ".dataframe > tbody > tr {\n",
       "  text-align: right;\n",
       "  white-space: pre-wrap;\n",
       "}\n",
       "</style>\n",
       "<small>shape: (679, 4)</small><table border=\"1\" class=\"dataframe\"><thead><tr><th>Geo</th><th>type</th><th>count</th><th>Continent</th></tr><tr><td>str</td><td>str</td><td>u32</td><td>str</td></tr></thead><tbody><tr><td>&quot;BRA&quot;</td><td>&quot;isp&quot;</td><td>5094</td><td>&quot;SA&quot;</td></tr><tr><td>&quot;USA&quot;</td><td>&quot;isp&quot;</td><td>798</td><td>&quot;NA&quot;</td></tr><tr><td>&quot;USA&quot;</td><td>&quot;hosting&quot;</td><td>728</td><td>&quot;NA&quot;</td></tr><tr><td>&quot;DEU&quot;</td><td>&quot;hosting&quot;</td><td>475</td><td>&quot;EU&quot;</td></tr><tr><td>&quot;IND&quot;</td><td>&quot;isp&quot;</td><td>417</td><td>&quot;AS&quot;</td></tr><tr><td>&hellip;</td><td>&hellip;</td><td>&hellip;</td><td>&hellip;</td></tr><tr><td>&quot;COD&quot;</td><td>null</td><td>1</td><td>&quot;AF&quot;</td></tr><tr><td>&quot;TCA&quot;</td><td>&quot;isp&quot;</td><td>1</td><td>&quot;NA&quot;</td></tr><tr><td>&quot;TZA&quot;</td><td>&quot;government&quot;</td><td>1</td><td>&quot;AF&quot;</td></tr><tr><td>&quot;KGZ&quot;</td><td>&quot;business&quot;</td><td>1</td><td>&quot;AS&quot;</td></tr><tr><td>&quot;GMB&quot;</td><td>&quot;isp&quot;</td><td>1</td><td>&quot;AF&quot;</td></tr></tbody></table></div>"
      ],
      "text/plain": [
       "shape: (679, 4)\n",
       "┌─────┬────────────┬───────┬───────────┐\n",
       "│ Geo ┆ type       ┆ count ┆ Continent │\n",
       "│ --- ┆ ---        ┆ ---   ┆ ---       │\n",
       "│ str ┆ str        ┆ u32   ┆ str       │\n",
       "╞═════╪════════════╪═══════╪═══════════╡\n",
       "│ BRA ┆ isp        ┆ 5094  ┆ SA        │\n",
       "│ USA ┆ isp        ┆ 798   ┆ NA        │\n",
       "│ USA ┆ hosting    ┆ 728   ┆ NA        │\n",
       "│ DEU ┆ hosting    ┆ 475   ┆ EU        │\n",
       "│ IND ┆ isp        ┆ 417   ┆ AS        │\n",
       "│ …   ┆ …          ┆ …     ┆ …         │\n",
       "│ COD ┆ null       ┆ 1     ┆ AF        │\n",
       "│ TCA ┆ isp        ┆ 1     ┆ NA        │\n",
       "│ TZA ┆ government ┆ 1     ┆ AF        │\n",
       "│ KGZ ┆ business   ┆ 1     ┆ AS        │\n",
       "│ GMB ┆ isp        ┆ 1     ┆ AF        │\n",
       "└─────┴────────────┴───────┴───────────┘"
      ]
     },
     "execution_count": 82,
     "metadata": {},
     "output_type": "execute_result"
    }
   ],
   "source": [
    "router_asn"
   ]
  },
  {
   "cell_type": "code",
   "execution_count": 56,
   "id": "cfd3f1bf-7274-45d1-a4d6-1c73833c412d",
   "metadata": {},
   "outputs": [],
   "source": [
    "def map_iso3_to_continent(cc):\n",
    "    if cc=='XK' or cc=='SXM':\n",
    "        # kosovo is EU state, count saint marten as EU state (netherland territory)\n",
    "        return 'EU'\n",
    "    if cc=='UMI':\n",
    "        #count umi states as US territory --> NA\n",
    "        return 'NA'\n",
    "    if cc=='TLS':\n",
    "        # timor leste is asian state\n",
    "        return 'AS'    \n",
    "    alpha2 = pycc.country_alpha3_to_country_alpha2(cc)\n",
    "    return pycc.country_alpha2_to_continent_code(alpha2) "
   ]
  },
  {
   "cell_type": "code",
   "execution_count": 57,
   "id": "93e6be25-1a67-4e00-b698-b34afd6123d8",
   "metadata": {},
   "outputs": [],
   "source": [
    "router_asn = router_asn.with_columns(\n",
    "    pl.col(\"Geo\").map_elements(map_iso3_to_continent, return_dtype=pl.Utf8).alias(\"Continent\")\n",
    ").filter((pl.col('Geo').is_not_null()) & (pl.col('Geo')!='ATA'))\n",
    "#filter antarctica values (ATA) --> only 5, not of interest and not very trustworthy imo"
   ]
  },
  {
   "cell_type": "code",
   "execution_count": 83,
   "id": "aa6565e3-dffd-4459-8741-5be72bce3e4c",
   "metadata": {},
   "outputs": [
    {
     "name": "stderr",
     "output_type": "stream",
     "text": [
      "/tmp/ipykernel_879719/3987231449.py:13: DeprecationWarning: The argument `columns` for `DataFrame.pivot` is deprecated. It has been renamed to `on`.\n",
      "  rel_freq.pivot(\n"
     ]
    }
   ],
   "source": [
    "counts = (\n",
    "    router_asn.group_by([\"Continent\", \"type\"])\n",
    "      .agg(pl.col('count').sum().alias(\"continent_count\"))\n",
    ")\n",
    "\n",
    "rel_freq = (\n",
    "    counts.with_columns(\n",
    "        ((pl.col(\"continent_count\") / pl.col(\"continent_count\").sum()).mul(100).round(2).over(\"Continent\")).alias(\"rel_freq\")\n",
    "    )\n",
    ")\n",
    "\n",
    "table = (\n",
    "    rel_freq.pivot(\n",
    "        values=\"rel_freq\",\n",
    "        index=\"type\",\n",
    "        columns=\"Continent\"\n",
    "    )\n",
    "    .fill_null(0.0)  # if some combos are missing\n",
    ")"
   ]
  },
  {
   "cell_type": "code",
   "execution_count": 85,
   "id": "c92e5034-76b5-4a8c-ba1b-0a97113e16a4",
   "metadata": {},
   "outputs": [
    {
     "data": {
      "text/html": [
       "<div><style>\n",
       ".dataframe > thead > tr,\n",
       ".dataframe > tbody > tr {\n",
       "  text-align: right;\n",
       "  white-space: pre-wrap;\n",
       "}\n",
       "</style>\n",
       "<small>shape: (6, 2)</small><table border=\"1\" class=\"dataframe\"><thead><tr><th>Continent</th><th>continent_count</th></tr><tr><td>str</td><td>u32</td></tr></thead><tbody><tr><td>&quot;SA&quot;</td><td>6169</td></tr><tr><td>&quot;EU&quot;</td><td>5304</td></tr><tr><td>&quot;AS&quot;</td><td>3079</td></tr><tr><td>&quot;NA&quot;</td><td>2779</td></tr><tr><td>&quot;AF&quot;</td><td>404</td></tr><tr><td>&quot;OC&quot;</td><td>351</td></tr></tbody></table></div>"
      ],
      "text/plain": [
       "shape: (6, 2)\n",
       "┌───────────┬─────────────────┐\n",
       "│ Continent ┆ continent_count │\n",
       "│ ---       ┆ ---             │\n",
       "│ str       ┆ u32             │\n",
       "╞═══════════╪═════════════════╡\n",
       "│ SA        ┆ 6169            │\n",
       "│ EU        ┆ 5304            │\n",
       "│ AS        ┆ 3079            │\n",
       "│ NA        ┆ 2779            │\n",
       "│ AF        ┆ 404             │\n",
       "│ OC        ┆ 351             │\n",
       "└───────────┴─────────────────┘"
      ]
     },
     "execution_count": 85,
     "metadata": {},
     "output_type": "execute_result"
    }
   ],
   "source": [
    "counts.group_by('Continent').agg(pl.col('continent_count').sum()).sort('continent_count',descending=True)"
   ]
  },
  {
   "cell_type": "code",
   "execution_count": 94,
   "id": "7903894d-19dc-4cf9-87be-12aa04855138",
   "metadata": {},
   "outputs": [],
   "source": [
    "order = counts.group_by('Continent').agg(pl.col('continent_count').sum()).sort('continent_count',descending=True).select('Continent').to_series().to_list()"
   ]
  },
  {
   "cell_type": "code",
   "execution_count": 98,
   "id": "6930454c-35af-4b4e-88be-2ff2f7fd2401",
   "metadata": {},
   "outputs": [],
   "source": [
    "order_types = [\"ISP\", \"Hosting\", \"Business\", \"Education\", \"Government\", \"Inactive\", \"Unknown\"]"
   ]
  },
  {
   "cell_type": "code",
   "execution_count": 104,
   "id": "4caf540c-f8cd-4aba-854f-f851b3db4eef",
   "metadata": {},
   "outputs": [],
   "source": [
    "table = table.fill_null('Unknown').with_columns(\n",
    "    pl.when(pl.col(\"type\") == \"isp\")\n",
    "      .then(pl.lit(\"ISP\"))  # special case\n",
    "      .otherwise(\n",
    "          pl.col(\"type\").str.slice(0,1).str.to_uppercase() + pl.col(\"type\").str.slice(1).str.to_lowercase()\n",
    "      )\n",
    "      .alias(\"type\")\n",
    ").select(['type']+order).with_columns(\n",
    "    pl.col(\"type\").map_elements(lambda x: order_types.index(x), return_dtype=pl.Int32).alias(\"_sort_key\")\n",
    ").sort('_sort_key').drop('_sort_key').to_pandas().set_index('type')"
   ]
  },
  {
   "cell_type": "code",
   "execution_count": 139,
   "id": "fb691567-e39e-41f1-81d9-3620a24d64d6",
   "metadata": {},
   "outputs": [
    {
     "name": "stdout",
     "output_type": "stream",
     "text": [
      "/home/service/artifacts-ipv6-sra-scanning/reports/figures/heatmap-network-types-sra.png\n"
     ]
    },
    {
     "data": {
      "image/png": "[encoded data removed]",
      "text/plain": [
       "<Figure size 560x315 with 2 Axes>"
      ]
     },
     "metadata": {},
     "output_type": "display_data"
    }
   ],
   "source": [
    "import seaborn as sns\n",
    "import matplotlib.colors as mpc\n",
    "\n",
    "figsize = (8*0.7,4.5*0.7)\n",
    "fig,ax = vh.fig_ax(figsize)\n",
    "\n",
    "annot_labels = table.map(lambda x: f\"{x:.2f}%\")\n",
    "sns.heatmap(table,fmt=\"\",\n",
    "            linecolor='white',\n",
    "            cmap='YlGn',\n",
    "            annot=annot_labels,\n",
    "            vmin=0,\n",
    "            vmax=100,\n",
    "            ax=ax,\n",
    "            cbar_kws={'label': 'Share [%]',\"orientation\": \"vertical\",\"shrink\":1,'location':'right'})\n",
    "ax.xaxis.tick_top()\n",
    "ax.set_ylabel('Network Type')\n",
    "ax.set_xlabel('Continent')\n",
    "\n",
    "vh.save_plot(fig,'heatmap-network-types-sra')"
   ]
  },
  {
   "cell_type": "code",
   "execution_count": 136,
   "id": "e9a4a08e-e31b-4fd7-830c-de57913ac8a8",
   "metadata": {},
   "outputs": [
    {
     "name": "stdout",
     "output_type": "stream",
     "text": [
      "\\begin{tabular}{lrrrrrr}\n",
      "\\toprule\n",
      " & SA & EU & AS & NA & AF & OC \\\\\n",
      "type &  &  &  &  &  &  \\\\\n",
      "\\midrule\n",
      "ISP & 91.20 & 40.65 & 55.63 & 46.35 & 64.85 & 48.15 \\\\\n",
      "Hosting & 3.78 & 41.10 & 21.76 & 32.13 & 20.54 & 35.90 \\\\\n",
      "Business & 2.11 & 12.82 & 8.54 & 10.44 & 6.68 & 9.12 \\\\\n",
      "Education & 0.58 & 2.39 & 3.83 & 7.20 & 3.22 & 3.42 \\\\\n",
      "Government & 0.45 & 0.17 & 1.10 & 1.44 & 0.25 & 0.28 \\\\\n",
      "Inactive & 0.00 & 0.00 & 0.00 & 0.00 & 0.25 & 0.00 \\\\\n",
      "Unknown & 1.88 & 2.87 & 9.13 & 2.45 & 4.21 & 3.13 \\\\\n",
      "\\bottomrule\n",
      "\\end{tabular}\n",
      "\n"
     ]
    }
   ],
   "source": [
    "print(table.to_latex(float_format=\"{:.2f}\".format))"
   ]
  },
  {
   "cell_type": "code",
   "execution_count": 144,
   "id": "22d14a4a-ff9f-4381-ace4-5687740fbd23",
   "metadata": {},
   "outputs": [
    {
     "data": {
      "text/plain": [
       "218"
      ]
     },
     "execution_count": 144,
     "metadata": {},
     "output_type": "execute_result"
    }
   ],
   "source": [
    "router_asn.select('Geo').n_unique()"
   ]
  },
  {
   "cell_type": "code",
   "execution_count": 145,
   "id": "c58db0f4-56a5-4cd0-822a-e64aff004e28",
   "metadata": {},
   "outputs": [
    {
     "data": {
      "text/html": [
       "<div><style>\n",
       ".dataframe > thead > tr,\n",
       ".dataframe > tbody > tr {\n",
       "  text-align: right;\n",
       "  white-space: pre-wrap;\n",
       "}\n",
       "</style>\n",
       "<small>shape: (18_112, 2)</small><table border=\"1\" class=\"dataframe\"><thead><tr><th>Geo</th><th>AS-Number</th></tr><tr><td>str</td><td>f64</td></tr></thead><tbody><tr><td>&quot;ESP&quot;</td><td>202829.0</td></tr><tr><td>&quot;SGP&quot;</td><td>63949.0</td></tr><tr><td>&quot;USA&quot;</td><td>297.0</td></tr><tr><td>&quot;BRA&quot;</td><td>264915.0</td></tr><tr><td>&quot;BRA&quot;</td><td>52888.0</td></tr><tr><td>&hellip;</td><td>&hellip;</td></tr><tr><td>&quot;USA&quot;</td><td>10835.0</td></tr><tr><td>&quot;USA&quot;</td><td>215019.0</td></tr><tr><td>&quot;USA&quot;</td><td>14777.0</td></tr><tr><td>&quot;BRA&quot;</td><td>264262.0</td></tr><tr><td>&quot;USA&quot;</td><td>395748.0</td></tr></tbody></table></div>"
      ],
      "text/plain": [
       "shape: (18_112, 2)\n",
       "┌─────┬───────────┐\n",
       "│ Geo ┆ AS-Number │\n",
       "│ --- ┆ ---       │\n",
       "│ str ┆ f64       │\n",
       "╞═════╪═══════════╡\n",
       "│ ESP ┆ 202829.0  │\n",
       "│ SGP ┆ 63949.0   │\n",
       "│ USA ┆ 297.0     │\n",
       "│ BRA ┆ 264915.0  │\n",
       "│ BRA ┆ 52888.0   │\n",
       "│ …   ┆ …         │\n",
       "│ USA ┆ 10835.0   │\n",
       "│ USA ┆ 215019.0  │\n",
       "│ USA ┆ 14777.0   │\n",
       "│ BRA ┆ 264262.0  │\n",
       "│ USA ┆ 395748.0  │\n",
       "└─────┴───────────┘"
      ]
     },
     "execution_count": 145,
     "metadata": {},
     "output_type": "execute_result"
    }
   ],
   "source": [
    "router_asn"
   ]
  },
  {
   "cell_type": "code",
   "execution_count": null,
   "id": "7db98a21-e3ac-445e-be0d-41e917f02501",
   "metadata": {},
   "outputs": [],
   "source": []
  }
 ],
 "metadata": {
  "kernelspec": {
   "display_name": "Python 3 (ipykernel)",
   "language": "python",
   "name": "python3"
  },
  "language_info": {
   "codemirror_mode": {
    "name": "ipython",
    "version": 3
   },
   "file_extension": ".py",
   "mimetype": "text/x-python",
   "name": "python",
   "nbconvert_exporter": "python",
   "pygments_lexer": "ipython3",
   "version": "3.12.11"
  }
 },
 "nbformat": 4,
 "nbformat_minor": 5
}
