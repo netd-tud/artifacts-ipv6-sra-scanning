{
 "cells": [
  {
   "cell_type": "code",
   "execution_count": 7,
   "id": "88767f98-7e64-4aa5-88e8-12437fe442a6",
   "metadata": {},
   "outputs": [],
   "source": [
    "from artifacts_ipv6_sra_scanning.config import *\n",
    "import pickle\n",
    "import os\n",
    "import ipaddress\n",
    "import glob\n",
    "from tqdm.auto import tqdm\n",
    "import country_converter as coco\n",
    "from parallel_pandas import ParallelPandas\n",
    "ParallelPandas.initialize(n_cpu=24, split_factor=1, disable_pr_bar=False)"
   ]
  },
  {
   "cell_type": "code",
   "execution_count": 8,
   "id": "95152829-6a66-4965-9fba-5d38504e722b",
   "metadata": {},
   "outputs": [],
   "source": [
    "def load_and_join(files):\n",
    "    df = pl.DataFrame()\n",
    "    for i in tqdm(range(len(files))):\n",
    "        if df.is_empty():\n",
    "            df = pl.read_csv(files[i],columns=['initial-ip','saddr','classification']).unique(subset=['initial-ip'])\n",
    "        else:\n",
    "            tmp = pl.read_csv(files[i],columns=['initial-ip','saddr','classification']).unique(subset=['initial-ip'])\n",
    "            df = df.join(tmp,on='initial-ip',how='left', suffix=f'_s{i}')\n",
    "    return df"
   ]
  },
  {
   "cell_type": "code",
   "execution_count": 9,
   "id": "8cbca227-f7e1-4570-b93d-ccca5135a47d",
   "metadata": {},
   "outputs": [],
   "source": [
    "file1 = '/home/service/ipv6-measurements-mkoch/backup_2024/sra-analysis/data/bgp48_sra_checks/zmap_icmp_bgp_48_sra_1728075185.log.zst'"
   ]
  },
  {
   "cell_type": "code",
   "execution_count": 10,
   "id": "02ebce63-aec5-4b26-9638-10272c9e4e2f",
   "metadata": {},
   "outputs": [],
   "source": [
    "file2 = '/home/service/ipv6-measurements-mkoch/backup_2024/sra-analysis/data/ripe90-rescan/zmap_icmp_bgp_48_sra_1740416512.log.zst'"
   ]
  },
  {
   "cell_type": "code",
   "execution_count": 11,
   "id": "0561fc6c-9ae6-44be-be9a-196c6c5d9564",
   "metadata": {},
   "outputs": [],
   "source": [
    "files = [file1,file2]"
   ]
  },
  {
   "cell_type": "code",
   "execution_count": 12,
   "id": "ac976d22-b8e1-40bf-a567-15ac79ae8205",
   "metadata": {},
   "outputs": [
    {
     "data": {
      "application/vnd.jupyter.widget-view+json": {
       "model_id": "6736bdd6423a452daf488d0de241ebec",
       "version_major": 2,
       "version_minor": 0
      },
      "text/plain": [
       "  0%|          | 0/2 [00:00<?, ?it/s]"
      ]
     },
     "metadata": {},
     "output_type": "display_data"
    }
   ],
   "source": [
    "df = load_and_join(files)"
   ]
  },
  {
   "cell_type": "code",
   "execution_count": 13,
   "id": "a1cac664-756c-43a0-93f3-24c80e72100a",
   "metadata": {},
   "outputs": [
    {
     "data": {
      "text/html": [
       "<div><style>\n",
       ".dataframe > thead > tr,\n",
       ".dataframe > tbody > tr {\n",
       "  text-align: right;\n",
       "  white-space: pre-wrap;\n",
       "}\n",
       "</style>\n",
       "<small>shape: (337_274_845, 5)</small><table border=\"1\" class=\"dataframe\"><thead><tr><th>initial-ip</th><th>saddr</th><th>classification</th><th>saddr_s1</th><th>classification_s1</th></tr><tr><td>str</td><td>str</td><td>str</td><td>str</td><td>str</td></tr></thead><tbody><tr><td>&quot;2a0d:1a43:f4d4::&quot;</td><td>&quot;2001:504:91::94&quot;</td><td>&quot;unreach_addr&quot;</td><td>null</td><td>null</td></tr><tr><td>&quot;2804:5a4:147c::&quot;</td><td>&quot;2804:5a4:bac::cccc:6&quot;</td><td>&quot;timxceed&quot;</td><td>&quot;2804:5a4:bac::cccc:2&quot;</td><td>&quot;timxceed&quot;</td></tr><tr><td>&quot;2001:640:97fa::&quot;</td><td>&quot;2a02:290:2::3f:2&quot;</td><td>&quot;unreach_rejectroute&quot;</td><td>null</td><td>null</td></tr><tr><td>&quot;2a0a:89c7:b48e::&quot;</td><td>&quot;2001:1a98:6677::9d9d:5445&quot;</td><td>&quot;unreach_rejectroute&quot;</td><td>null</td><td>null</td></tr><tr><td>&quot;2a07:46:4bea::&quot;</td><td>&quot;2001:7f8:12:1::1:6186&quot;</td><td>&quot;unreach_noroute&quot;</td><td>&quot;2001:7f8:12:1::1:6186&quot;</td><td>&quot;unreach_noroute&quot;</td></tr><tr><td>&hellip;</td><td>&hellip;</td><td>&hellip;</td><td>&hellip;</td><td>&hellip;</td></tr><tr><td>&quot;2803:d460:b698::&quot;</td><td>&quot;2001:13b1:6000:39::1&quot;</td><td>&quot;unreach_addr&quot;</td><td>null</td><td>null</td></tr><tr><td>&quot;2a13:ccc0:8ac8::&quot;</td><td>&quot;2a13:ccc0:ff01:1::1&quot;</td><td>&quot;unreach_noroute&quot;</td><td>null</td><td>null</td></tr><tr><td>&quot;2a0e:840:7ef0::&quot;</td><td>&quot;2a02:1f0:1:2::2&quot;</td><td>&quot;unreach_rejectroute&quot;</td><td>null</td><td>null</td></tr><tr><td>&quot;2a05:8206:62ca::&quot;</td><td>&quot;2001:67c:29f0::3:4170:1&quot;</td><td>&quot;unreach_addr&quot;</td><td>null</td><td>null</td></tr><tr><td>&quot;2001:c98:3487::&quot;</td><td>&quot;2001:290:600::45:22&quot;</td><td>&quot;unreach_addr&quot;</td><td>null</td><td>null</td></tr></tbody></table></div>"
      ],
      "text/plain": [
       "shape: (337_274_845, 5)\n",
       "┌──────────────────┬───────────────────┬───────────────────┬───────────────────┬───────────────────┐\n",
       "│ initial-ip       ┆ saddr             ┆ classification    ┆ saddr_s1          ┆ classification_s1 │\n",
       "│ ---              ┆ ---               ┆ ---               ┆ ---               ┆ ---               │\n",
       "│ str              ┆ str               ┆ str               ┆ str               ┆ str               │\n",
       "╞══════════════════╪═══════════════════╪═══════════════════╪═══════════════════╪═══════════════════╡\n",
       "│ 2a0d:1a43:f4d4:: ┆ 2001:504:91::94   ┆ unreach_addr      ┆ null              ┆ null              │\n",
       "│ 2804:5a4:147c::  ┆ 2804:5a4:bac::ccc ┆ timxceed          ┆ 2804:5a4:bac::ccc ┆ timxceed          │\n",
       "│                  ┆ c:6               ┆                   ┆ c:2               ┆                   │\n",
       "│ 2001:640:97fa::  ┆ 2a02:290:2::3f:2  ┆ unreach_rejectrou ┆ null              ┆ null              │\n",
       "│                  ┆                   ┆ te                ┆                   ┆                   │\n",
       "│ 2a0a:89c7:b48e:: ┆ 2001:1a98:6677::9 ┆ unreach_rejectrou ┆ null              ┆ null              │\n",
       "│                  ┆ d9d:5445          ┆ te                ┆                   ┆                   │\n",
       "│ 2a07:46:4bea::   ┆ 2001:7f8:12:1::1: ┆ unreach_noroute   ┆ 2001:7f8:12:1::1: ┆ unreach_noroute   │\n",
       "│                  ┆ 6186              ┆                   ┆ 6186              ┆                   │\n",
       "│ …                ┆ …                 ┆ …                 ┆ …                 ┆ …                 │\n",
       "│ 2803:d460:b698:: ┆ 2001:13b1:6000:39 ┆ unreach_addr      ┆ null              ┆ null              │\n",
       "│                  ┆ ::1               ┆                   ┆                   ┆                   │\n",
       "│ 2a13:ccc0:8ac8:: ┆ 2a13:ccc0:ff01:1: ┆ unreach_noroute   ┆ null              ┆ null              │\n",
       "│                  ┆ :1                ┆                   ┆                   ┆                   │\n",
       "│ 2a0e:840:7ef0::  ┆ 2a02:1f0:1:2::2   ┆ unreach_rejectrou ┆ null              ┆ null              │\n",
       "│                  ┆                   ┆ te                ┆                   ┆                   │\n",
       "│ 2a05:8206:62ca:: ┆ 2001:67c:29f0::3: ┆ unreach_addr      ┆ null              ┆ null              │\n",
       "│                  ┆ 4170:1            ┆                   ┆                   ┆                   │\n",
       "│ 2001:c98:3487::  ┆ 2001:290:600::45: ┆ unreach_addr      ┆ null              ┆ null              │\n",
       "│                  ┆ 22                ┆                   ┆                   ┆                   │\n",
       "└──────────────────┴───────────────────┴───────────────────┴───────────────────┴───────────────────┘"
      ]
     },
     "execution_count": 13,
     "metadata": {},
     "output_type": "execute_result"
    }
   ],
   "source": [
    "df"
   ]
  },
  {
   "cell_type": "code",
   "execution_count": 14,
   "id": "9ac2f426-8339-4afa-973d-dca46eb3ac4c",
   "metadata": {},
   "outputs": [],
   "source": [
    "col = f\"saddr_s1\"\n",
    "df = df.with_columns(\n",
    "    pl.when(pl.col(col).is_null())\n",
    "      .then(pl.lit(\"Not seen\"))\n",
    "      .when(pl.col(col) == pl.col(\"saddr\"))\n",
    "      .then(pl.lit(\"Unchanged\"))\n",
    "      .otherwise(pl.lit(\"Changed\"))\n",
    "      .alias(f\"{col}_status\")\n",
    ")"
   ]
  },
  {
   "cell_type": "code",
   "execution_count": 15,
   "id": "cf36cac8-dd3d-4024-a821-9dbb03dbf3cd",
   "metadata": {},
   "outputs": [],
   "source": [
    "df_long = df.unpivot(\n",
    "    index=[],           # no id vars needed, just counts\n",
    "    on='saddr_s1_status',\n",
    "    variable_name=\"stage\",\n",
    "    value_name=\"status\"\n",
    ")\n",
    "\n",
    "# Group by stage and status to get counts\n",
    "df_plot = df_long.group_by([\"stage\", \"status\"]).agg(\n",
    "    pl.len().alias(\"count\")\n",
    ").sort([\"stage\", \"count\"])"
   ]
  },
  {
   "cell_type": "code",
   "execution_count": 16,
   "id": "0a28ffd5-d311-4834-bed5-20233cf1cb65",
   "metadata": {},
   "outputs": [],
   "source": [
    "df_wide = df_plot.to_pandas().pivot(index='stage', columns='status', values='count')\n",
    "\n",
    "df_pct = df_wide.div(df_wide.sum(axis=1), axis=0) * 100\n",
    "df_pct = df_pct[['Unchanged','Not seen','Changed']]"
   ]
  },
  {
   "cell_type": "code",
   "execution_count": 17,
   "id": "ffc5ae61-a495-4978-971a-f215e182d9a8",
   "metadata": {},
   "outputs": [
    {
     "data": {
      "image/png": "[encoded data removed]",
      "text/plain": [
       "<Figure size 560x210 with 1 Axes>"
      ]
     },
     "metadata": {},
     "output_type": "display_data"
    },
    {
     "name": "stdout",
     "output_type": "stream",
     "text": [
      "/home/service/artifacts-ipv6-sra-scanning/reports/figures/sra_stability_7month_apart_bgp48.png\n"
     ]
    }
   ],
   "source": [
    "figsize = (8*0.7,3*0.7)\n",
    "fig,ax = vh.fig_ax(figsize)\n",
    "\n",
    "df_pct.plot(\n",
    "    kind='bar', \n",
    "    stacked=True,\n",
    "    color=[\"green\",\"gray\",\"orange\"],\n",
    "    ax=ax)\n",
    "ax.set_xlabel('Scan [ID]')\n",
    "ax.set_ylabel('Status of Router IP\\nAddress per Scan [%]')\n",
    "ax.set_xticks([i for i in range(0,5)],[i for i in range(1,6)],rotation=0)\n",
    "ax.set_yticks([0,25,50,75,100])\n",
    "plt.legend(ncols=3,bbox_to_anchor=(-0.08,1.3),loc='upper left')\n",
    "plt.show()\n",
    "vh.save_plot(fig,'sra_stability_7month_apart_bgp48',autoclose=True)"
   ]
  },
  {
   "cell_type": "code",
   "execution_count": 18,
   "id": "23637452-139e-4a80-98d0-afa649777802",
   "metadata": {},
   "outputs": [
    {
     "data": {
      "text/html": [
       "<div>\n",
       "<style scoped>\n",
       "    .dataframe tbody tr th:only-of-type {\n",
       "        vertical-align: middle;\n",
       "    }\n",
       "\n",
       "    .dataframe tbody tr th {\n",
       "        vertical-align: top;\n",
       "    }\n",
       "\n",
       "    .dataframe thead th {\n",
       "        text-align: right;\n",
       "    }\n",
       "</style>\n",
       "<table border=\"1\" class=\"dataframe\">\n",
       "  <thead>\n",
       "    <tr style=\"text-align: right;\">\n",
       "      <th>status</th>\n",
       "      <th>Unchanged</th>\n",
       "      <th>Not seen</th>\n",
       "      <th>Changed</th>\n",
       "    </tr>\n",
       "    <tr>\n",
       "      <th>stage</th>\n",
       "      <th></th>\n",
       "      <th></th>\n",
       "      <th></th>\n",
       "    </tr>\n",
       "  </thead>\n",
       "  <tbody>\n",
       "    <tr>\n",
       "      <th>saddr_s1_status</th>\n",
       "      <td>38.638666</td>\n",
       "      <td>43.429128</td>\n",
       "      <td>17.932205</td>\n",
       "    </tr>\n",
       "  </tbody>\n",
       "</table>\n",
       "</div>"
      ],
      "text/plain": [
       "status           Unchanged   Not seen    Changed\n",
       "stage                                           \n",
       "saddr_s1_status  38.638666  43.429128  17.932205"
      ]
     },
     "execution_count": 18,
     "metadata": {},
     "output_type": "execute_result"
    }
   ],
   "source": [
    "df_pct"
   ]
  },
  {
   "cell_type": "code",
   "execution_count": 19,
   "id": "7fc29186-97b2-4ff7-ad6d-741b0b67c70f",
   "metadata": {},
   "outputs": [
    {
     "data": {
      "text/html": [
       "<div>\n",
       "<style scoped>\n",
       "    .dataframe tbody tr th:only-of-type {\n",
       "        vertical-align: middle;\n",
       "    }\n",
       "\n",
       "    .dataframe tbody tr th {\n",
       "        vertical-align: top;\n",
       "    }\n",
       "\n",
       "    .dataframe thead th {\n",
       "        text-align: right;\n",
       "    }\n",
       "</style>\n",
       "<table border=\"1\" class=\"dataframe\">\n",
       "  <thead>\n",
       "    <tr style=\"text-align: right;\">\n",
       "      <th>status</th>\n",
       "      <th>Changed</th>\n",
       "      <th>Not seen</th>\n",
       "      <th>Unchanged</th>\n",
       "    </tr>\n",
       "    <tr>\n",
       "      <th>stage</th>\n",
       "      <th></th>\n",
       "      <th></th>\n",
       "      <th></th>\n",
       "    </tr>\n",
       "  </thead>\n",
       "  <tbody>\n",
       "    <tr>\n",
       "      <th>saddr_s1_status</th>\n",
       "      <td>60480818</td>\n",
       "      <td>146475525</td>\n",
       "      <td>130318502</td>\n",
       "    </tr>\n",
       "  </tbody>\n",
       "</table>\n",
       "</div>"
      ],
      "text/plain": [
       "status            Changed   Not seen  Unchanged\n",
       "stage                                          \n",
       "saddr_s1_status  60480818  146475525  130318502"
      ]
     },
     "execution_count": 19,
     "metadata": {},
     "output_type": "execute_result"
    }
   ],
   "source": [
    "df_wide"
   ]
  }
 ],
 "metadata": {
  "kernelspec": {
   "display_name": "Python 3 (ipykernel)",
   "language": "python",
   "name": "python3"
  },
  "language_info": {
   "codemirror_mode": {
    "name": "ipython",
    "version": 3
   },
   "file_extension": ".py",
   "mimetype": "text/x-python",
   "name": "python",
   "nbconvert_exporter": "python",
   "pygments_lexer": "ipython3",
   "version": "3.12.11"
  }
 },
 "nbformat": 4,
 "nbformat_minor": 5
}
