{
 "cells": [
  {
   "cell_type": "code",
   "execution_count": 1,
   "id": "7e73e847-9966-404f-9cf1-9598ffc19c50",
   "metadata": {},
   "outputs": [
    {
     "name": "stderr",
     "output_type": "stream",
     "text": [
      "\u001b[32m2025-09-29 14:23:57.042\u001b[0m | \u001b[1mINFO    \u001b[0m | \u001b[36martifacts_ipv6_sra_scanning.config\u001b[0m:\u001b[36m<module>\u001b[0m:\u001b[36m22\u001b[0m - \u001b[1mPROJ_ROOT path is: /home/service/artifacts-ipv6-sra-scanning\u001b[0m\n"
     ]
    }
   ],
   "source": [
    "from artifacts_ipv6_sra_scanning.config import *\n",
    "import pickle\n",
    "import os\n",
    "import ipaddress\n",
    "import glob\n",
    "from tqdm.auto import tqdm\n",
    "import country_converter as coco\n",
    "from parallel_pandas import ParallelPandas\n",
    "ParallelPandas.initialize(n_cpu=24, split_factor=1, disable_pr_bar=False)"
   ]
  },
  {
   "cell_type": "code",
   "execution_count": 2,
   "id": "563efe8c-eb4c-45c9-be20-90d06e2876c9",
   "metadata": {},
   "outputs": [],
   "source": [
    "files = glob.glob(f'{INTERIM_DATA_DIR}/*.csv')\n",
    "files = glob.glob(f'{INTERIM_DATA_DIR}/*.csv')[:-1]"
   ]
  },
  {
   "cell_type": "code",
   "execution_count": 3,
   "id": "c33e848a-0d83-435d-bf91-f5d20c3fb8ee",
   "metadata": {},
   "outputs": [
    {
     "data": {
      "text/plain": [
       "['/home/service/artifacts-ipv6-sra-scanning/data/interim/router-ips.csv',\n",
       " '/home/service/artifacts-ipv6-sra-scanning/data/interim/hitlist-ips.csv',\n",
       " '/home/service/artifacts-ipv6-sra-scanning/data/interim/itdk-ips.csv',\n",
       " '/home/service/artifacts-ipv6-sra-scanning/data/interim/ripe-ips.csv']"
      ]
     },
     "execution_count": 3,
     "metadata": {},
     "output_type": "execute_result"
    }
   ],
   "source": [
    "files"
   ]
  },
  {
   "cell_type": "code",
   "execution_count": 4,
   "id": "4b10d150-38d9-4616-92a4-f24d61958e94",
   "metadata": {},
   "outputs": [],
   "source": [
    "info_columns = ['Geo','AS-Number','BGP-Prefix','Org']"
   ]
  },
  {
   "cell_type": "code",
   "execution_count": 5,
   "id": "0047c374-6643-4c52-8dc7-fff339b2d537",
   "metadata": {},
   "outputs": [
    {
     "data": {
      "application/vnd.jupyter.widget-view+json": {
       "model_id": "1092265ca2bd4d2886d9c87f492f5ae4",
       "version_major": 2,
       "version_minor": 0
      },
      "text/plain": [
       "  0%|          | 0/4 [00:00<?, ?it/s]"
      ]
     },
     "metadata": {},
     "output_type": "display_data"
    }
   ],
   "source": [
    "dfs = [pl.scan_csv(file) for file in tqdm(files)]"
   ]
  },
  {
   "cell_type": "code",
   "execution_count": 6,
   "id": "9c12766b-6447-4b56-ae2c-7491a50e2f2c",
   "metadata": {},
   "outputs": [],
   "source": [
    "def concat_frames(dfs, labels, column,columns):\n",
    "    if len(dfs) != len(labels):\n",
    "        raise ValueError(\"The number of DataFrames must match the number of labels.\")\n",
    "\n",
    "    enriched_dfs = [\n",
    "        df.select(columns).unique().with_columns(pl.lit(label).alias(column))\n",
    "        for df, label in tqdm(zip(dfs, labels))\n",
    "    ]\n",
    "\n",
    "    return pl.concat(enriched_dfs, how=\"vertical\")"
   ]
  },
  {
   "cell_type": "code",
   "execution_count": 7,
   "id": "023209b1-2ecd-4cae-bb1b-8628f66221fa",
   "metadata": {},
   "outputs": [],
   "source": [
    "labels=['SRA','Hitlist','ITDK','RIPE-Atlas','IXP']\n",
    "labels=['SRA','Hitlist','ITDK','RIPE-Atlas']"
   ]
  },
  {
   "cell_type": "code",
   "execution_count": 8,
   "id": "5ba1307c-d37c-4a02-807b-79817e9349ef",
   "metadata": {},
   "outputs": [],
   "source": [
    "column = 'AS-Number'\n",
    "label='ASN'"
   ]
  },
  {
   "cell_type": "code",
   "execution_count": 9,
   "id": "1d2dccb0-fd74-4217-af9d-3ee03a484641",
   "metadata": {},
   "outputs": [
    {
     "data": {
      "application/vnd.jupyter.widget-view+json": {
       "model_id": "572f48e41e3046bb931dda13126d3b7f",
       "version_major": 2,
       "version_minor": 0
      },
      "text/plain": [
       "0it [00:00, ?it/s]"
      ]
     },
     "metadata": {},
     "output_type": "display_data"
    }
   ],
   "source": [
    "tmp = concat_frames(dfs,labels,'source',column).collect().to_pandas()"
   ]
  },
  {
   "cell_type": "code",
   "execution_count": 17,
   "id": "7f3eadc9-dc2c-4462-80cc-69b6cdb4b4eb",
   "metadata": {},
   "outputs": [
    {
     "data": {
      "application/vnd.jupyter.widget-view+json": {
       "model_id": "d45321e2c7ae4ed1a6bf5d64f6a62583",
       "version_major": 2,
       "version_minor": 0
      },
      "text/plain": [
       "  0%|          | 0/10 [00:00<?, ?it/s]"
      ]
     },
     "metadata": {},
     "output_type": "display_data"
    },
    {
     "name": "stdout",
     "output_type": "stream",
     "text": [
      "/home/service/artifacts-ipv6-sra-scanning/reports/figures/upsetplot_sra_AS-Number.png\n"
     ]
    }
   ],
   "source": [
    "vh.plot_upsetplot(tmp,column,'source',labels,f'upsetplot_sra_{column}',\n",
    "                   label,title = '',bbox=(0.9,1),pickle_file=f'{INTERIM_DATA_DIR}/upsetplot_sra_{column}.pkl',minsubsetsize=0, colors=[\"#375E97\", \"#FB6542\", \"#c1195c\", \"#37975e\",'#cc9900'],\n",
    "                fontsize=10)"
   ]
  },
  {
   "cell_type": "code",
   "execution_count": null,
   "id": "f8abd1c2-eaca-4fe0-bce1-40ee82d289d5",
   "metadata": {},
   "outputs": [],
   "source": []
  }
 ],
 "metadata": {
  "kernelspec": {
   "display_name": "Python 3 (ipykernel)",
   "language": "python",
   "name": "python3"
  },
  "language_info": {
   "codemirror_mode": {
    "name": "ipython",
    "version": 3
   },
   "file_extension": ".py",
   "mimetype": "text/x-python",
   "name": "python",
   "nbconvert_exporter": "python",
   "pygments_lexer": "ipython3",
   "version": "3.12.11"
  }
 },
 "nbformat": 4,
 "nbformat_minor": 5
}
