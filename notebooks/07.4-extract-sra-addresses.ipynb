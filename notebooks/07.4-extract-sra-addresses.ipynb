{
 "cells": [
  {
   "cell_type": "code",
   "execution_count": 3,
   "id": "722175e0-2a5f-4166-ab34-f345234cb4b4",
   "metadata": {},
   "outputs": [
    {
     "name": "stderr",
     "output_type": "stream",
     "text": [
      "\u001b[32m2025-10-06 15:34:27.548\u001b[0m | \u001b[1mINFO    \u001b[0m | \u001b[36martifacts_ipv6_sra_scanning.config\u001b[0m:\u001b[36m<module>\u001b[0m:\u001b[36m22\u001b[0m - \u001b[1mPROJ_ROOT path is: /home/service/artifacts-ipv6-sra-scanning\u001b[0m\n"
     ]
    }
   ],
   "source": [
    "from artifacts_ipv6_sra_scanning.config import *\n",
    "import pickle\n",
    "import os\n",
    "import ipaddress\n",
    "import glob\n",
    "from tqdm.auto import tqdm\n",
    "import country_converter as coco\n",
    "from parallel_pandas import ParallelPandas\n",
    "ParallelPandas.initialize(n_cpu=24, split_factor=1, disable_pr_bar=False)"
   ]
  },
  {
   "cell_type": "code",
   "execution_count": 4,
   "id": "a4c5ecce-91eb-4411-a1f8-a83c48280aa0",
   "metadata": {},
   "outputs": [],
   "source": [
    "file = '/home/service/ipv6-measurements-mkoch/backup_2024/sra-analysis/data/bgp48_64s_sra_checks/zmap_icmp_bgp_48only_64s_sra_1730213648.log.zst'"
   ]
  },
  {
   "cell_type": "code",
   "execution_count": null,
   "id": "1457c156-e035-45ed-8f6c-b1d28005c782",
   "metadata": {},
   "outputs": [],
   "source": [
    "df = pl.read_csv(file,columns=['initial-ip','saddr']).unique(subset=['initial-ip'])"
   ]
  },
  {
   "cell_type": "code",
   "execution_count": null,
   "id": "ca885345-4761-411c-b9cd-f4d59d8c0c51",
   "metadata": {},
   "outputs": [],
   "source": []
  }
 ],
 "metadata": {
  "kernelspec": {
   "display_name": "Python 3 (ipykernel)",
   "language": "python",
   "name": "python3"
  },
  "language_info": {
   "codemirror_mode": {
    "name": "ipython",
    "version": 3
   },
   "file_extension": ".py",
   "mimetype": "text/x-python",
   "name": "python",
   "nbconvert_exporter": "python",
   "pygments_lexer": "ipython3",
   "version": "3.12.11"
  }
 },
 "nbformat": 4,
 "nbformat_minor": 5
}
