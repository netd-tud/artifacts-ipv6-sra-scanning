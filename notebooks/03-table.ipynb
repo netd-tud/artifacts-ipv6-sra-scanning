{
 "cells": [
  {
   "cell_type": "code",
   "execution_count": 1,
   "id": "0bf846c5-c5e5-4d2e-8f94-f014342423f4",
   "metadata": {},
   "outputs": [
    {
     "name": "stderr",
     "output_type": "stream",
     "text": [
      "\u001b[32m2025-10-28 22:59:21.527\u001b[0m | \u001b[1mINFO    \u001b[0m | \u001b[36martifacts_ipv6_sra_scanning.config\u001b[0m:\u001b[36m<module>\u001b[0m:\u001b[36m22\u001b[0m - \u001b[1mPROJ_ROOT path is: /home/service/artifacts-ipv6-sra-scanning\u001b[0m\n"
     ]
    }
   ],
   "source": [
    "from artifacts_ipv6_sra_scanning.config import *"
   ]
  },
  {
   "cell_type": "code",
   "execution_count": 2,
   "id": "ee165c33-f0e1-4c17-bc6c-af24dcafadfa",
   "metadata": {},
   "outputs": [],
   "source": [
    "itdk = pl.read_csv(f'{PROCESSED_DATA_DIR}/sources/03-itdk-ips.csv')\n",
    "sra = pl.read_csv(f'{PROCESSED_DATA_DIR}/sources/01-router-ips.csv')\n",
    "hitlist = pl.read_csv(f'{PROCESSED_DATA_DIR}/sources/02-hitlist-ips.csv')\n",
    "ripe = pl.read_csv(f'{PROCESSED_DATA_DIR}/sources/04-ripe-ips.csv')\n",
    "ixp = pl.read_csv(f'{PROCESSED_DATA_DIR}/sources/05-ixp-ips.csv')"
   ]
  },
  {
   "cell_type": "code",
   "execution_count": 3,
   "id": "ad4b487c-b15a-425d-a122-e6bb85752b8c",
   "metadata": {},
   "outputs": [],
   "source": [
    "tmp = pl.concat([sra.filter(pl.col('AS-Number').is_not_null()).group_by('AS-Number').agg(pl.len().alias('#'),(pl.len()/len(sra)*100).round(2).alias('%')).top_k(5,by='#').rename(lambda column_name: column_name+'_sra'),\n",
    "                 ixp.filter(pl.col('AS-Number').is_not_null()).group_by('AS-Number').agg(pl.len().alias('#'),(pl.len()/len(ixp)*100).round(2).alias('%')).top_k(5,by='#').rename(lambda column_name: column_name+'_ixp'),\n",
    "                 itdk.filter(pl.col('AS-Number').is_not_null()).group_by('AS-Number').agg(pl.len().alias('#'),(pl.len()/len(itdk)*100).round(2).alias('%')).top_k(5,by='#').rename(lambda column_name: column_name+'_itdk'),\n",
    "                 ripe.filter(pl.col('AS-Number').is_not_null()).group_by('AS-Number').agg(pl.len().alias('#'),(pl.len()/len(ripe)*100).round(2).alias('%')).top_k(5,by='#').rename(lambda column_name: column_name+'_ripe'),\n",
    "                 hitlist.filter(pl.col('AS-Number').is_not_null()).group_by('AS-Number').agg(pl.len().alias('#'),(pl.len()/len(hitlist)*100).round(2).alias('%')).top_k(5,by='#').rename(lambda column_name: column_name+'_hitlist')],\n",
    "                how='horizontal')"
   ]
  },
  {
   "cell_type": "code",
   "execution_count": 4,
   "id": "83b6d172-c082-4168-a1e3-21339ea5947c",
   "metadata": {},
   "outputs": [
    {
     "data": {
      "text/html": [
       "<div><style>\n",
       ".dataframe > thead > tr,\n",
       ".dataframe > tbody > tr {\n",
       "  text-align: right;\n",
       "  white-space: pre-wrap;\n",
       "}\n",
       "</style>\n",
       "<small>shape: (5, 15)</small><table border=\"1\" class=\"dataframe\"><thead><tr><th>AS-Number_sra</th><th>#_sra</th><th>%_sra</th><th>AS-Number_ixp</th><th>#_ixp</th><th>%_ixp</th><th>AS-Number_itdk</th><th>#_itdk</th><th>%_itdk</th><th>AS-Number_ripe</th><th>#_ripe</th><th>%_ripe</th><th>AS-Number_hitlist</th><th>#_hitlist</th><th>%_hitlist</th></tr><tr><td>f64</td><td>u32</td><td>f64</td><td>f64</td><td>u32</td><td>f64</td><td>f64</td><td>u32</td><td>f64</td><td>f64</td><td>u32</td><td>f64</td><td>f64</td><td>u32</td><td>f64</td></tr></thead><tbody><tr><td>45609.0</td><td>14777061</td><td>11.15</td><td>6805.0</td><td>85081018</td><td>43.06</td><td>36183.0</td><td>484149</td><td>15.49</td><td>16509.0</td><td>7879</td><td>1.93</td><td>13335.0</td><td>5047644</td><td>25.62</td></tr><tr><td>9808.0</td><td>8049005</td><td>6.07</td><td>3209.0</td><td>42575681</td><td>21.55</td><td>16509.0</td><td>349450</td><td>11.18</td><td>11172.0</td><td>7707</td><td>1.89</td><td>12322.0</td><td>1964550</td><td>9.97</td></tr><tr><td>45271.0</td><td>6140216</td><td>4.63</td><td>8881.0</td><td>16797136</td><td>8.5</td><td>13335.0</td><td>188850</td><td>6.04</td><td>9808.0</td><td>7241</td><td>1.78</td><td>5607.0</td><td>666471</td><td>3.38</td></tr><tr><td>38266.0</td><td>5655815</td><td>4.27</td><td>16202.0</td><td>11977492</td><td>6.06</td><td>19551.0</td><td>92472</td><td>2.96</td><td>174.0</td><td>6462</td><td>1.58</td><td>55836.0</td><td>629817</td><td>3.2</td></tr><tr><td>4134.0</td><td>5462588</td><td>4.12</td><td>20880.0</td><td>8354147</td><td>4.23</td><td>45609.0</td><td>88467</td><td>2.83</td><td>1299.0</td><td>4983</td><td>1.22</td><td>4134.0</td><td>392480</td><td>1.99</td></tr></tbody></table></div>"
      ],
      "text/plain": [
       "shape: (5, 15)\n",
       "┌──────────────┬──────────┬───────┬─────────────┬───┬────────┬─────────────┬───────────┬───────────┐\n",
       "│ AS-Number_sr ┆ #_sra    ┆ %_sra ┆ AS-Number_i ┆ … ┆ %_ripe ┆ AS-Number_h ┆ #_hitlist ┆ %_hitlist │\n",
       "│ a            ┆ ---      ┆ ---   ┆ xp          ┆   ┆ ---    ┆ itlist      ┆ ---       ┆ ---       │\n",
       "│ ---          ┆ u32      ┆ f64   ┆ ---         ┆   ┆ f64    ┆ ---         ┆ u32       ┆ f64       │\n",
       "│ f64          ┆          ┆       ┆ f64         ┆   ┆        ┆ f64         ┆           ┆           │\n",
       "╞══════════════╪══════════╪═══════╪═════════════╪═══╪════════╪═════════════╪═══════════╪═══════════╡\n",
       "│ 45609.0      ┆ 14777061 ┆ 11.15 ┆ 6805.0      ┆ … ┆ 1.93   ┆ 13335.0     ┆ 5047644   ┆ 25.62     │\n",
       "│ 9808.0       ┆ 8049005  ┆ 6.07  ┆ 3209.0      ┆ … ┆ 1.89   ┆ 12322.0     ┆ 1964550   ┆ 9.97      │\n",
       "│ 45271.0      ┆ 6140216  ┆ 4.63  ┆ 8881.0      ┆ … ┆ 1.78   ┆ 5607.0      ┆ 666471    ┆ 3.38      │\n",
       "│ 38266.0      ┆ 5655815  ┆ 4.27  ┆ 16202.0     ┆ … ┆ 1.58   ┆ 55836.0     ┆ 629817    ┆ 3.2       │\n",
       "│ 4134.0       ┆ 5462588  ┆ 4.12  ┆ 20880.0     ┆ … ┆ 1.22   ┆ 4134.0      ┆ 392480    ┆ 1.99      │\n",
       "└──────────────┴──────────┴───────┴─────────────┴───┴────────┴─────────────┴───────────┴───────────┘"
      ]
     },
     "execution_count": 4,
     "metadata": {},
     "output_type": "execute_result"
    }
   ],
   "source": [
    "tmp"
   ]
  },
  {
   "cell_type": "code",
   "execution_count": 5,
   "id": "e7131f69-f6b6-41b0-b625-db4578f0c214",
   "metadata": {},
   "outputs": [],
   "source": [
    "tmp = pl.concat([sra.filter(pl.col('AS-Number').is_not_null()).group_by('AS-Number').agg(pl.len().alias('#'),(pl.len()/len(sra)*100).round(2).alias('%')).top_k(5,by='#').select(['AS-Number','%']).rename(lambda column_name: column_name+'_sra'),\n",
    "                 ixp.filter(pl.col('AS-Number').is_not_null()).group_by('AS-Number').agg(pl.len().alias('#'),(pl.len()/len(ixp)*100).round(2).alias('%')).top_k(5,by='#').select(['AS-Number','%']).rename(lambda column_name: column_name+'_ixp'),\n",
    "                 itdk.filter(pl.col('AS-Number').is_not_null()).group_by('AS-Number').agg(pl.len().alias('#'),(pl.len()/len(itdk)*100).round(2).alias('%')).top_k(5,by='#').select(['AS-Number','%']).rename(lambda column_name: column_name+'_itdk'),\n",
    "                 ripe.filter(pl.col('AS-Number').is_not_null()).group_by('AS-Number').agg(pl.len().alias('#'),(pl.len()/len(ripe)*100).round(2).alias('%')).top_k(5,by='#').select(['AS-Number','%']).rename(lambda column_name: column_name+'_ripe'),\n",
    "                 hitlist.filter(pl.col('AS-Number').is_not_null()).group_by('AS-Number').agg(pl.len().alias('#'),(pl.len()/len(hitlist)*100).round(2).alias('%')).top_k(5,by='#').select(['AS-Number','%']).rename(lambda column_name: column_name+'_hitlist')],\n",
    "                how='horizontal')"
   ]
  },
  {
   "cell_type": "markdown",
   "id": "986f5a7a-6081-4606-9aaa-81fefa809bb3",
   "metadata": {},
   "source": [
    "# Table 03"
   ]
  },
  {
   "cell_type": "code",
   "execution_count": 6,
   "id": "0b5188f2-b97d-47fb-b768-11e4a98f7494",
   "metadata": {},
   "outputs": [
    {
     "data": {
      "text/html": [
       "<div>\n",
       "<style scoped>\n",
       "    .dataframe tbody tr th:only-of-type {\n",
       "        vertical-align: middle;\n",
       "    }\n",
       "\n",
       "    .dataframe tbody tr th {\n",
       "        vertical-align: top;\n",
       "    }\n",
       "\n",
       "    .dataframe thead th {\n",
       "        text-align: right;\n",
       "    }\n",
       "</style>\n",
       "<table border=\"1\" class=\"dataframe\">\n",
       "  <thead>\n",
       "    <tr style=\"text-align: right;\">\n",
       "      <th></th>\n",
       "      <th>AS-Number_sra</th>\n",
       "      <th>%_sra</th>\n",
       "      <th>AS-Number_ixp</th>\n",
       "      <th>%_ixp</th>\n",
       "      <th>AS-Number_itdk</th>\n",
       "      <th>%_itdk</th>\n",
       "      <th>AS-Number_ripe</th>\n",
       "      <th>%_ripe</th>\n",
       "      <th>AS-Number_hitlist</th>\n",
       "      <th>%_hitlist</th>\n",
       "    </tr>\n",
       "  </thead>\n",
       "  <tbody>\n",
       "    <tr>\n",
       "      <th>0</th>\n",
       "      <td>45609.0</td>\n",
       "      <td>11.15</td>\n",
       "      <td>6805.0</td>\n",
       "      <td>43.06</td>\n",
       "      <td>36183.0</td>\n",
       "      <td>15.49</td>\n",
       "      <td>16509.0</td>\n",
       "      <td>1.93</td>\n",
       "      <td>13335.0</td>\n",
       "      <td>25.62</td>\n",
       "    </tr>\n",
       "    <tr>\n",
       "      <th>1</th>\n",
       "      <td>9808.0</td>\n",
       "      <td>6.07</td>\n",
       "      <td>3209.0</td>\n",
       "      <td>21.55</td>\n",
       "      <td>16509.0</td>\n",
       "      <td>11.18</td>\n",
       "      <td>11172.0</td>\n",
       "      <td>1.89</td>\n",
       "      <td>12322.0</td>\n",
       "      <td>9.97</td>\n",
       "    </tr>\n",
       "    <tr>\n",
       "      <th>2</th>\n",
       "      <td>45271.0</td>\n",
       "      <td>4.63</td>\n",
       "      <td>8881.0</td>\n",
       "      <td>8.50</td>\n",
       "      <td>13335.0</td>\n",
       "      <td>6.04</td>\n",
       "      <td>9808.0</td>\n",
       "      <td>1.78</td>\n",
       "      <td>5607.0</td>\n",
       "      <td>3.38</td>\n",
       "    </tr>\n",
       "    <tr>\n",
       "      <th>3</th>\n",
       "      <td>38266.0</td>\n",
       "      <td>4.27</td>\n",
       "      <td>16202.0</td>\n",
       "      <td>6.06</td>\n",
       "      <td>19551.0</td>\n",
       "      <td>2.96</td>\n",
       "      <td>174.0</td>\n",
       "      <td>1.58</td>\n",
       "      <td>55836.0</td>\n",
       "      <td>3.20</td>\n",
       "    </tr>\n",
       "    <tr>\n",
       "      <th>4</th>\n",
       "      <td>4134.0</td>\n",
       "      <td>4.12</td>\n",
       "      <td>20880.0</td>\n",
       "      <td>4.23</td>\n",
       "      <td>45609.0</td>\n",
       "      <td>2.83</td>\n",
       "      <td>1299.0</td>\n",
       "      <td>1.22</td>\n",
       "      <td>4134.0</td>\n",
       "      <td>1.99</td>\n",
       "    </tr>\n",
       "  </tbody>\n",
       "</table>\n",
       "</div>"
      ],
      "text/plain": [
       "   AS-Number_sra  %_sra  AS-Number_ixp  %_ixp  AS-Number_itdk  %_itdk  \\\n",
       "0        45609.0  11.15         6805.0  43.06         36183.0   15.49   \n",
       "1         9808.0   6.07         3209.0  21.55         16509.0   11.18   \n",
       "2        45271.0   4.63         8881.0   8.50         13335.0    6.04   \n",
       "3        38266.0   4.27        16202.0   6.06         19551.0    2.96   \n",
       "4         4134.0   4.12        20880.0   4.23         45609.0    2.83   \n",
       "\n",
       "   AS-Number_ripe  %_ripe  AS-Number_hitlist  %_hitlist  \n",
       "0         16509.0    1.93            13335.0      25.62  \n",
       "1         11172.0    1.89            12322.0       9.97  \n",
       "2          9808.0    1.78             5607.0       3.38  \n",
       "3           174.0    1.58            55836.0       3.20  \n",
       "4          1299.0    1.22             4134.0       1.99  "
      ]
     },
     "execution_count": 6,
     "metadata": {},
     "output_type": "execute_result"
    }
   ],
   "source": [
    "tmp.to_pandas()"
   ]
  },
  {
   "cell_type": "code",
   "execution_count": 7,
   "id": "ddc80afb-28e9-48a8-bccb-ce22bc764efa",
   "metadata": {},
   "outputs": [
    {
     "name": "stdout",
     "output_type": "stream",
     "text": [
      "\\begin{tabular}{lrrrrrrrrrr}\n",
      "\\toprule\n",
      " & AS-Number_sra & %_sra & AS-Number_ixp & %_ixp & AS-Number_itdk & %_itdk & AS-Number_ripe & %_ripe & AS-Number_hitlist & %_hitlist \\\\\n",
      "\\midrule\n",
      "0 & 45609.00 & 11.15 & 6805.00 & 43.06 & 36183.00 & 15.49 & 16509.00 & 1.93 & 13335.00 & 25.62 \\\\\n",
      "1 & 9808.00 & 6.07 & 3209.00 & 21.55 & 16509.00 & 11.18 & 11172.00 & 1.89 & 12322.00 & 9.97 \\\\\n",
      "2 & 45271.00 & 4.63 & 8881.00 & 8.50 & 13335.00 & 6.04 & 9808.00 & 1.78 & 5607.00 & 3.38 \\\\\n",
      "3 & 38266.00 & 4.27 & 16202.00 & 6.06 & 19551.00 & 2.96 & 174.00 & 1.58 & 55836.00 & 3.20 \\\\\n",
      "4 & 4134.00 & 4.12 & 20880.00 & 4.23 & 45609.00 & 2.83 & 1299.00 & 1.22 & 4134.00 & 1.99 \\\\\n",
      "\\bottomrule\n",
      "\\end{tabular}\n",
      "\n"
     ]
    }
   ],
   "source": [
    "print(tmp.to_pandas().to_latex(float_format=\"{:.2f}\".format))"
   ]
  },
  {
   "cell_type": "code",
   "execution_count": null,
   "id": "7aa749ed-00a3-43e1-954a-d11a6811e4e2",
   "metadata": {},
   "outputs": [],
   "source": []
  }
 ],
 "metadata": {
  "kernelspec": {
   "display_name": "Python 3 (ipykernel)",
   "language": "python",
   "name": "python3"
  },
  "language_info": {
   "codemirror_mode": {
    "name": "ipython",
    "version": 3
   },
   "file_extension": ".py",
   "mimetype": "text/x-python",
   "name": "python",
   "nbconvert_exporter": "python",
   "pygments_lexer": "ipython3",
   "version": "3.12.11"
  }
 },
 "nbformat": 4,
 "nbformat_minor": 5
}
