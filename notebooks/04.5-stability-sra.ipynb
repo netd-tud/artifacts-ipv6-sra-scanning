{
 "cells": [
  {
   "cell_type": "code",
   "execution_count": 1,
   "id": "39ba195f-8802-4190-8f2f-dbb5782d46de",
   "metadata": {},
   "outputs": [
    {
     "name": "stderr",
     "output_type": "stream",
     "text": [
      "\u001b[32m2025-09-27 20:59:46.182\u001b[0m | \u001b[1mINFO    \u001b[0m | \u001b[36martifacts_ipv6_sra_scanning.config\u001b[0m:\u001b[36m<module>\u001b[0m:\u001b[36m22\u001b[0m - \u001b[1mPROJ_ROOT path is: /home/service/artifacts-ipv6-sra-scanning\u001b[0m\n"
     ]
    }
   ],
   "source": [
    "from artifacts_ipv6_sra_scanning.config import *\n",
    "import pickle\n",
    "import os\n",
    "import ipaddress\n",
    "import geopandas as gpd\n",
    "import seaborn as sns\n",
    "import glob\n",
    "import pycountry\n",
    "from IPython.display import HTML\n",
    "from mpl_toolkits.axes_grid1 import make_axes_locatable\n",
    "import matplotlib.colors as colors\n",
    "from parallel_pandas import ParallelPandas\n",
    "ParallelPandas.initialize(n_cpu=24, split_factor=1, disable_pr_bar=False)"
   ]
  },
  {
   "cell_type": "code",
   "execution_count": 2,
   "id": "a5428f47-5c93-4d88-99e4-6e82de6db7a1",
   "metadata": {},
   "outputs": [],
   "source": [
    "def load_and_join(files,column):\n",
    "    df_metadata = pl.read_csv(f'{INTERIM_DATA_DIR}/router-ips.csv')\n",
    "    df = pl.DataFrame()\n",
    "    for i in tqdm(range(len(files))):\n",
    "        if df.is_empty():\n",
    "            df = pl.read_csv(files[i],columns=['initial-ip','saddr']).unique(subset=['initial-ip'])\n",
    "            df = df.join(df_metadata.select(['ip-addr',column]),how='left',left_on='saddr',right_on='ip-addr')\n",
    "            df = df.select(column).unique()\n",
    "            df = df.with_columns(inscan=True)\n",
    "        else:\n",
    "            tmp = pl.read_csv(files[i],columns=['initial-ip','saddr']).unique(subset=['initial-ip'])\n",
    "            tmp = tmp.join(df_metadata.select(['ip-addr',column]),how='left',left_on='saddr',right_on='ip-addr')\n",
    "            tmp = tmp.select(column).unique()\n",
    "            tmp = tmp.with_columns(inscan=True)\n",
    "            df = df.join(tmp,on=column,how='full', suffix=f'_s{i}',coalesce=True)\n",
    "    return df"
   ]
  },
  {
   "cell_type": "code",
   "execution_count": 3,
   "id": "577b71bd-7728-47b9-bc83-01e3d7e4b548",
   "metadata": {},
   "outputs": [],
   "source": [
    "datadir = '/home/service/ipv6-measurements-mkoch/backup_2024/sra-analysis/data/tuminput_sra_checks'"
   ]
  },
  {
   "cell_type": "code",
   "execution_count": 4,
   "id": "819490aa-570f-4652-8b17-a7e834a09a7b",
   "metadata": {},
   "outputs": [],
   "source": [
    "files = glob.glob(f'{datadir}/zmap_icmp_tum_64_sra_*.log.zst')"
   ]
  },
  {
   "cell_type": "code",
   "execution_count": 5,
   "id": "f583ff6e-64a0-4d72-8b34-ad2bca3a7268",
   "metadata": {},
   "outputs": [
    {
     "data": {
      "text/plain": [
       "['/home/service/ipv6-measurements-mkoch/backup_2024/sra-analysis/data/tuminput_sra_checks/zmap_icmp_tum_64_sra_1731694726.log.zst',\n",
       " '/home/service/ipv6-measurements-mkoch/backup_2024/sra-analysis/data/tuminput_sra_checks/zmap_icmp_tum_64_sra_1731701324.log.zst',\n",
       " '/home/service/ipv6-measurements-mkoch/backup_2024/sra-analysis/data/tuminput_sra_checks/zmap_icmp_tum_64_sra_1731710705.log.zst',\n",
       " '/home/service/ipv6-measurements-mkoch/backup_2024/sra-analysis/data/tuminput_sra_checks/zmap_icmp_tum_64_sra_1731755399.log.zst',\n",
       " '/home/service/ipv6-measurements-mkoch/backup_2024/sra-analysis/data/tuminput_sra_checks/zmap_icmp_tum_64_sra_1731762017.log.zst',\n",
       " '/home/service/ipv6-measurements-mkoch/backup_2024/sra-analysis/data/tuminput_sra_checks/zmap_icmp_tum_64_sra_1731765056.log.zst']"
      ]
     },
     "execution_count": 5,
     "metadata": {},
     "output_type": "execute_result"
    }
   ],
   "source": [
    "files"
   ]
  },
  {
   "cell_type": "code",
   "execution_count": 6,
   "id": "daf5d944-7852-45e2-9acb-9ddc2227c194",
   "metadata": {},
   "outputs": [
    {
     "name": "stderr",
     "output_type": "stream",
     "text": [
      "100%|███████████████████████████████████████████████████████████████████████████████████████████████████████████████████████████████████████████████████████████████████████████████████████████████████████████████████████████| 6/6 [05:16<00:00, 52.68s/it]\n"
     ]
    }
   ],
   "source": [
    "df = load_and_join(files,'BGP-Prefix')"
   ]
  },
  {
   "cell_type": "code",
   "execution_count": 7,
   "id": "655bcf39-57cf-49b9-8ae1-c437fc68857a",
   "metadata": {},
   "outputs": [
    {
     "data": {
      "text/html": [
       "<div><style>\n",
       ".dataframe > thead > tr,\n",
       ".dataframe > tbody > tr {\n",
       "  text-align: right;\n",
       "  white-space: pre-wrap;\n",
       "}\n",
       "</style>\n",
       "<small>shape: (49_723, 7)</small><table border=\"1\" class=\"dataframe\"><thead><tr><th>BGP-Prefix</th><th>inscan</th><th>inscan_s1</th><th>inscan_s2</th><th>inscan_s3</th><th>inscan_s4</th><th>inscan_s5</th></tr><tr><td>str</td><td>bool</td><td>bool</td><td>bool</td><td>bool</td><td>bool</td><td>bool</td></tr></thead><tbody><tr><td>&quot;2804:34cc::/32&quot;</td><td>true</td><td>true</td><td>true</td><td>true</td><td>true</td><td>true</td></tr><tr><td>&quot;2804:3184:100::/40&quot;</td><td>true</td><td>true</td><td>true</td><td>true</td><td>true</td><td>true</td></tr><tr><td>&quot;2409:8754:6c00::/40&quot;</td><td>true</td><td>true</td><td>true</td><td>true</td><td>true</td><td>true</td></tr><tr><td>&quot;2408:8459:e270::/44&quot;</td><td>true</td><td>true</td><td>true</td><td>true</td><td>true</td><td>true</td></tr><tr><td>&quot;2405:4802:c0b0::/44&quot;</td><td>true</td><td>true</td><td>null</td><td>null</td><td>null</td><td>null</td></tr><tr><td>&hellip;</td><td>&hellip;</td><td>&hellip;</td><td>&hellip;</td><td>&hellip;</td><td>&hellip;</td><td>&hellip;</td></tr><tr><td>&quot;2602:fed2:730c::/48&quot;</td><td>null</td><td>null</td><td>null</td><td>null</td><td>null</td><td>true</td></tr><tr><td>&quot;2806:230:4026::/48&quot;</td><td>null</td><td>null</td><td>null</td><td>null</td><td>null</td><td>true</td></tr><tr><td>&quot;2c0f:fc88:3e::/48&quot;</td><td>null</td><td>null</td><td>null</td><td>null</td><td>null</td><td>true</td></tr><tr><td>&quot;2c0f:fb50:4002::/48&quot;</td><td>null</td><td>null</td><td>null</td><td>null</td><td>null</td><td>true</td></tr><tr><td>&quot;2c0f:fef8::/32&quot;</td><td>null</td><td>null</td><td>null</td><td>null</td><td>null</td><td>true</td></tr></tbody></table></div>"
      ],
      "text/plain": [
       "shape: (49_723, 7)\n",
       "┌─────────────────────┬────────┬───────────┬───────────┬───────────┬───────────┬───────────┐\n",
       "│ BGP-Prefix          ┆ inscan ┆ inscan_s1 ┆ inscan_s2 ┆ inscan_s3 ┆ inscan_s4 ┆ inscan_s5 │\n",
       "│ ---                 ┆ ---    ┆ ---       ┆ ---       ┆ ---       ┆ ---       ┆ ---       │\n",
       "│ str                 ┆ bool   ┆ bool      ┆ bool      ┆ bool      ┆ bool      ┆ bool      │\n",
       "╞═════════════════════╪════════╪═══════════╪═══════════╪═══════════╪═══════════╪═══════════╡\n",
       "│ 2804:34cc::/32      ┆ true   ┆ true      ┆ true      ┆ true      ┆ true      ┆ true      │\n",
       "│ 2804:3184:100::/40  ┆ true   ┆ true      ┆ true      ┆ true      ┆ true      ┆ true      │\n",
       "│ 2409:8754:6c00::/40 ┆ true   ┆ true      ┆ true      ┆ true      ┆ true      ┆ true      │\n",
       "│ 2408:8459:e270::/44 ┆ true   ┆ true      ┆ true      ┆ true      ┆ true      ┆ true      │\n",
       "│ 2405:4802:c0b0::/44 ┆ true   ┆ true      ┆ null      ┆ null      ┆ null      ┆ null      │\n",
       "│ …                   ┆ …      ┆ …         ┆ …         ┆ …         ┆ …         ┆ …         │\n",
       "│ 2602:fed2:730c::/48 ┆ null   ┆ null      ┆ null      ┆ null      ┆ null      ┆ true      │\n",
       "│ 2806:230:4026::/48  ┆ null   ┆ null      ┆ null      ┆ null      ┆ null      ┆ true      │\n",
       "│ 2c0f:fc88:3e::/48   ┆ null   ┆ null      ┆ null      ┆ null      ┆ null      ┆ true      │\n",
       "│ 2c0f:fb50:4002::/48 ┆ null   ┆ null      ┆ null      ┆ null      ┆ null      ┆ true      │\n",
       "│ 2c0f:fef8::/32      ┆ null   ┆ null      ┆ null      ┆ null      ┆ null      ┆ true      │\n",
       "└─────────────────────┴────────┴───────────┴───────────┴───────────┴───────────┴───────────┘"
      ]
     },
     "execution_count": 7,
     "metadata": {},
     "output_type": "execute_result"
    }
   ],
   "source": [
    "df"
   ]
  },
  {
   "cell_type": "code",
   "execution_count": 8,
   "id": "b7bddda6-2fe7-42b3-86a6-e0b7861d5a82",
   "metadata": {},
   "outputs": [],
   "source": [
    "df = df.with_columns(\n",
    "    df.select(pl.exclude(\"BGP-Prefix\"))\n",
    "      .cast(pl.Int8)  # convert True->1, null->0\n",
    "      .sum_horizontal()\n",
    "      .alias(\"seen_count\")\n",
    ")"
   ]
  },
  {
   "cell_type": "code",
   "execution_count": 9,
   "id": "63b29d7d-cd41-4138-a7ef-7c57ab60ad62",
   "metadata": {},
   "outputs": [],
   "source": [
    "n_scans = df.select(pl.exclude([\"BGP-Prefix\",\"seen_count\"])).width\n",
    "df = df.with_columns(\n",
    "    (pl.col(\"seen_count\") / n_scans).alias(\"seen_ratio\")\n",
    ")"
   ]
  },
  {
   "cell_type": "code",
   "execution_count": 10,
   "id": "33276176-7cf8-4dfa-b44d-b5d7d02b264b",
   "metadata": {},
   "outputs": [
    {
     "name": "stderr",
     "output_type": "stream",
     "text": [
      "/tmp/ipykernel_862967/3869511051.py:5: MapWithoutReturnDtypeWarning: Calling `map_elements` without specifying `return_dtype` can lead to unpredictable results. Specify `return_dtype` to silence this warning.\n",
      "  df = df.with_columns(\n"
     ]
    }
   ],
   "source": [
    "def count_flips(series: pl.Series) -> int:\n",
    "    vals = [bool(v) for v in series if v is not None]\n",
    "    return sum(1 for a, b in zip(vals, vals[1:]) if a != b)\n",
    "\n",
    "df = df.with_columns(\n",
    "    pl.struct(pl.exclude([\"BGP-Prefix\",'seen_count','seen_ratio']))\n",
    "      .map_elements(lambda s: count_flips(list(s.values())))\n",
    "      .alias(\"flip_count\")\n",
    ")"
   ]
  },
  {
   "cell_type": "code",
   "execution_count": 11,
   "id": "eeff8bb0-e05b-487a-99f4-d6281e1caf25",
   "metadata": {},
   "outputs": [
    {
     "data": {
      "text/html": [
       "<div><style>\n",
       ".dataframe > thead > tr,\n",
       ".dataframe > tbody > tr {\n",
       "  text-align: right;\n",
       "  white-space: pre-wrap;\n",
       "}\n",
       "</style>\n",
       "<small>shape: (49_723, 10)</small><table border=\"1\" class=\"dataframe\"><thead><tr><th>BGP-Prefix</th><th>inscan</th><th>inscan_s1</th><th>inscan_s2</th><th>inscan_s3</th><th>inscan_s4</th><th>inscan_s5</th><th>seen_count</th><th>seen_ratio</th><th>flip_count</th></tr><tr><td>str</td><td>bool</td><td>bool</td><td>bool</td><td>bool</td><td>bool</td><td>bool</td><td>i8</td><td>f64</td><td>i64</td></tr></thead><tbody><tr><td>&quot;2804:34cc::/32&quot;</td><td>true</td><td>true</td><td>true</td><td>true</td><td>true</td><td>true</td><td>6</td><td>1.0</td><td>0</td></tr><tr><td>&quot;2804:3184:100::/40&quot;</td><td>true</td><td>true</td><td>true</td><td>true</td><td>true</td><td>true</td><td>6</td><td>1.0</td><td>0</td></tr><tr><td>&quot;2409:8754:6c00::/40&quot;</td><td>true</td><td>true</td><td>true</td><td>true</td><td>true</td><td>true</td><td>6</td><td>1.0</td><td>0</td></tr><tr><td>&quot;2408:8459:e270::/44&quot;</td><td>true</td><td>true</td><td>true</td><td>true</td><td>true</td><td>true</td><td>6</td><td>1.0</td><td>0</td></tr><tr><td>&quot;2405:4802:c0b0::/44&quot;</td><td>true</td><td>true</td><td>null</td><td>null</td><td>null</td><td>null</td><td>2</td><td>0.333333</td><td>0</td></tr><tr><td>&hellip;</td><td>&hellip;</td><td>&hellip;</td><td>&hellip;</td><td>&hellip;</td><td>&hellip;</td><td>&hellip;</td><td>&hellip;</td><td>&hellip;</td><td>&hellip;</td></tr><tr><td>&quot;2602:fed2:730c::/48&quot;</td><td>null</td><td>null</td><td>null</td><td>null</td><td>null</td><td>true</td><td>1</td><td>0.166667</td><td>0</td></tr><tr><td>&quot;2806:230:4026::/48&quot;</td><td>null</td><td>null</td><td>null</td><td>null</td><td>null</td><td>true</td><td>1</td><td>0.166667</td><td>0</td></tr><tr><td>&quot;2c0f:fc88:3e::/48&quot;</td><td>null</td><td>null</td><td>null</td><td>null</td><td>null</td><td>true</td><td>1</td><td>0.166667</td><td>0</td></tr><tr><td>&quot;2c0f:fb50:4002::/48&quot;</td><td>null</td><td>null</td><td>null</td><td>null</td><td>null</td><td>true</td><td>1</td><td>0.166667</td><td>0</td></tr><tr><td>&quot;2c0f:fef8::/32&quot;</td><td>null</td><td>null</td><td>null</td><td>null</td><td>null</td><td>true</td><td>1</td><td>0.166667</td><td>0</td></tr></tbody></table></div>"
      ],
      "text/plain": [
       "shape: (49_723, 10)\n",
       "┌────────────┬────────┬───────────┬───────────┬───┬───────────┬────────────┬───────────┬───────────┐\n",
       "│ BGP-Prefix ┆ inscan ┆ inscan_s1 ┆ inscan_s2 ┆ … ┆ inscan_s5 ┆ seen_count ┆ seen_rati ┆ flip_coun │\n",
       "│ ---        ┆ ---    ┆ ---       ┆ ---       ┆   ┆ ---       ┆ ---        ┆ o         ┆ t         │\n",
       "│ str        ┆ bool   ┆ bool      ┆ bool      ┆   ┆ bool      ┆ i8         ┆ ---       ┆ ---       │\n",
       "│            ┆        ┆           ┆           ┆   ┆           ┆            ┆ f64       ┆ i64       │\n",
       "╞════════════╪════════╪═══════════╪═══════════╪═══╪═══════════╪════════════╪═══════════╪═══════════╡\n",
       "│ 2804:34cc: ┆ true   ┆ true      ┆ true      ┆ … ┆ true      ┆ 6          ┆ 1.0       ┆ 0         │\n",
       "│ :/32       ┆        ┆           ┆           ┆   ┆           ┆            ┆           ┆           │\n",
       "│ 2804:3184: ┆ true   ┆ true      ┆ true      ┆ … ┆ true      ┆ 6          ┆ 1.0       ┆ 0         │\n",
       "│ 100::/40   ┆        ┆           ┆           ┆   ┆           ┆            ┆           ┆           │\n",
       "│ 2409:8754: ┆ true   ┆ true      ┆ true      ┆ … ┆ true      ┆ 6          ┆ 1.0       ┆ 0         │\n",
       "│ 6c00::/40  ┆        ┆           ┆           ┆   ┆           ┆            ┆           ┆           │\n",
       "│ 2408:8459: ┆ true   ┆ true      ┆ true      ┆ … ┆ true      ┆ 6          ┆ 1.0       ┆ 0         │\n",
       "│ e270::/44  ┆        ┆           ┆           ┆   ┆           ┆            ┆           ┆           │\n",
       "│ 2405:4802: ┆ true   ┆ true      ┆ null      ┆ … ┆ null      ┆ 2          ┆ 0.333333  ┆ 0         │\n",
       "│ c0b0::/44  ┆        ┆           ┆           ┆   ┆           ┆            ┆           ┆           │\n",
       "│ …          ┆ …      ┆ …         ┆ …         ┆ … ┆ …         ┆ …          ┆ …         ┆ …         │\n",
       "│ 2602:fed2: ┆ null   ┆ null      ┆ null      ┆ … ┆ true      ┆ 1          ┆ 0.166667  ┆ 0         │\n",
       "│ 730c::/48  ┆        ┆           ┆           ┆   ┆           ┆            ┆           ┆           │\n",
       "│ 2806:230:4 ┆ null   ┆ null      ┆ null      ┆ … ┆ true      ┆ 1          ┆ 0.166667  ┆ 0         │\n",
       "│ 026::/48   ┆        ┆           ┆           ┆   ┆           ┆            ┆           ┆           │\n",
       "│ 2c0f:fc88: ┆ null   ┆ null      ┆ null      ┆ … ┆ true      ┆ 1          ┆ 0.166667  ┆ 0         │\n",
       "│ 3e::/48    ┆        ┆           ┆           ┆   ┆           ┆            ┆           ┆           │\n",
       "│ 2c0f:fb50: ┆ null   ┆ null      ┆ null      ┆ … ┆ true      ┆ 1          ┆ 0.166667  ┆ 0         │\n",
       "│ 4002::/48  ┆        ┆           ┆           ┆   ┆           ┆            ┆           ┆           │\n",
       "│ 2c0f:fef8: ┆ null   ┆ null      ┆ null      ┆ … ┆ true      ┆ 1          ┆ 0.166667  ┆ 0         │\n",
       "│ :/32       ┆        ┆           ┆           ┆   ┆           ┆            ┆           ┆           │\n",
       "└────────────┴────────┴───────────┴───────────┴───┴───────────┴────────────┴───────────┴───────────┘"
      ]
     },
     "execution_count": 11,
     "metadata": {},
     "output_type": "execute_result"
    }
   ],
   "source": [
    "df"
   ]
  },
  {
   "cell_type": "code",
   "execution_count": 12,
   "id": "0b538df1-78ca-4805-b308-3803fca5f95b",
   "metadata": {},
   "outputs": [],
   "source": [
    "total = len(df)\n",
    "seen_ratio = df.group_by(\"seen_count\").agg(\n",
    "    pl.len().alias('count'),\n",
    "    (pl.len()/total).mul(100).alias('relative')\n",
    ").sort('seen_count')"
   ]
  },
  {
   "cell_type": "code",
   "execution_count": 13,
   "id": "527efd99-46ec-43ce-9cd8-b33230390a7b",
   "metadata": {},
   "outputs": [
    {
     "data": {
      "text/html": [
       "<div><style>\n",
       ".dataframe > thead > tr,\n",
       ".dataframe > tbody > tr {\n",
       "  text-align: right;\n",
       "  white-space: pre-wrap;\n",
       "}\n",
       "</style>\n",
       "<small>shape: (6, 3)</small><table border=\"1\" class=\"dataframe\"><thead><tr><th>seen_count</th><th>count</th><th>relative</th></tr><tr><td>i8</td><td>u32</td><td>f64</td></tr></thead><tbody><tr><td>1</td><td>1088</td><td>2.188122</td></tr><tr><td>2</td><td>1488</td><td>2.992579</td></tr><tr><td>3</td><td>1712</td><td>3.443075</td></tr><tr><td>4</td><td>787</td><td>1.582769</td></tr><tr><td>5</td><td>1285</td><td>2.584317</td></tr><tr><td>6</td><td>43363</td><td>87.209139</td></tr></tbody></table></div>"
      ],
      "text/plain": [
       "shape: (6, 3)\n",
       "┌────────────┬───────┬───────────┐\n",
       "│ seen_count ┆ count ┆ relative  │\n",
       "│ ---        ┆ ---   ┆ ---       │\n",
       "│ i8         ┆ u32   ┆ f64       │\n",
       "╞════════════╪═══════╪═══════════╡\n",
       "│ 1          ┆ 1088  ┆ 2.188122  │\n",
       "│ 2          ┆ 1488  ┆ 2.992579  │\n",
       "│ 3          ┆ 1712  ┆ 3.443075  │\n",
       "│ 4          ┆ 787   ┆ 1.582769  │\n",
       "│ 5          ┆ 1285  ┆ 2.584317  │\n",
       "│ 6          ┆ 43363 ┆ 87.209139 │\n",
       "└────────────┴───────┴───────────┘"
      ]
     },
     "execution_count": 13,
     "metadata": {},
     "output_type": "execute_result"
    }
   ],
   "source": [
    "seen_ratio"
   ]
  },
  {
   "cell_type": "code",
   "execution_count": 14,
   "id": "c6159098-a829-4aa5-8271-686ad3f784ac",
   "metadata": {},
   "outputs": [],
   "source": [
    "heatmap_data = seen_ratio.select(['seen_count','relative']).to_pandas().set_index('seen_count').T#.transpose(column_names='seen_count')"
   ]
  },
  {
   "cell_type": "code",
   "execution_count": 15,
   "id": "e3a07145-9987-4ef7-8b5b-68ca012d31c2",
   "metadata": {},
   "outputs": [],
   "source": [
    "plt.rc(\"font\", size=12)"
   ]
  },
  {
   "cell_type": "code",
   "execution_count": 19,
   "id": "f1b24489-c2be-4391-a903-18158d2635f9",
   "metadata": {},
   "outputs": [
    {
     "name": "stdout",
     "output_type": "stream",
     "text": [
      "/home/service/artifacts-ipv6-sra-scanning/reports/figures/sra-prefix-stability.png\n"
     ]
    },
    {
     "data": {
      "image/png": "[encoded data removed]",
      "text/plain": [
       "<Figure size 630x105 with 2 Axes>"
      ]
     },
     "metadata": {},
     "output_type": "display_data"
    }
   ],
   "source": [
    "figsize = (9*0.7,1.5*0.7)\n",
    "fig,ax = vh.fig_ax(figsize)\n",
    "\n",
    "annot_labels = heatmap_data.map(lambda x: f\"{x:.2f}%\")\n",
    "\n",
    "sns.heatmap(heatmap_data,\n",
    "            ax=ax,\n",
    "            fmt=\"\",\n",
    "            linecolor='white',\n",
    "            cmap=\"YlGn\",\n",
    "            annot=annot_labels,\n",
    "            cbar_kws={'label': 'Share[%]',\"orientation\": \"vertical\",\"shrink\":1,'location':'right'})\n",
    "\n",
    "ax.set_xlabel('Prefix Recurrence [#]')\n",
    "ax.set_yticks([])\n",
    "\n",
    "vh.save_plot(fig,'sra-prefix-stability')"
   ]
  },
  {
   "cell_type": "code",
   "execution_count": null,
   "id": "ecf1efd5-3a16-4952-a342-084edeb3bb92",
   "metadata": {},
   "outputs": [],
   "source": []
  }
 ],
 "metadata": {
  "kernelspec": {
   "display_name": "Python 3 (ipykernel)",
   "language": "python",
   "name": "python3"
  },
  "language_info": {
   "codemirror_mode": {
    "name": "ipython",
    "version": 3
   },
   "file_extension": ".py",
   "mimetype": "text/x-python",
   "name": "python",
   "nbconvert_exporter": "python",
   "pygments_lexer": "ipython3",
   "version": "3.12.11"
  }
 },
 "nbformat": 4,
 "nbformat_minor": 5
}
