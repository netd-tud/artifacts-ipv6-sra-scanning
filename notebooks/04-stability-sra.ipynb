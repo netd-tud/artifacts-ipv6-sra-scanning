{
 "cells": [
  {
   "cell_type": "code",
   "execution_count": 1,
   "id": "4f1c8c0d-7f3f-4cc7-a55f-e9d9f94441a7",
   "metadata": {},
   "outputs": [
    {
     "name": "stderr",
     "output_type": "stream",
     "text": [
      "\u001b[32m2025-09-26 18:59:31.190\u001b[0m | \u001b[1mINFO    \u001b[0m | \u001b[36martifacts_ipv6_sra_scanning.config\u001b[0m:\u001b[36m<module>\u001b[0m:\u001b[36m22\u001b[0m - \u001b[1mPROJ_ROOT path is: /home/service/artifacts-ipv6-sra-scanning\u001b[0m\n"
     ]
    }
   ],
   "source": [
    "from artifacts_ipv6_sra_scanning.config import *\n",
    "import pickle\n",
    "import os\n",
    "import ipaddress\n",
    "import geopandas as gpd\n",
    "import glob\n",
    "import pycountry\n",
    "from IPython.display import HTML\n",
    "from mpl_toolkits.axes_grid1 import make_axes_locatable\n",
    "import matplotlib.colors as colors\n",
    "from parallel_pandas import ParallelPandas\n",
    "ParallelPandas.initialize(n_cpu=24, split_factor=1, disable_pr_bar=False)"
   ]
  },
  {
   "cell_type": "code",
   "execution_count": 2,
   "id": "95152829-6a66-4965-9fba-5d38504e722b",
   "metadata": {},
   "outputs": [],
   "source": [
    "def load_and_join(files):\n",
    "    df = pl.DataFrame()\n",
    "    for i in tqdm(range(len(files))):\n",
    "        if df.is_empty():\n",
    "            df = pl.read_csv(files[i],columns=['initial-ip','saddr','classification']).unique(subset=['initial-ip'])\n",
    "        else:\n",
    "            tmp = pl.read_csv(files[i],columns=['initial-ip','saddr','classification']).unique(subset=['initial-ip'])\n",
    "            df = df.join(tmp,on='initial-ip',how='left', suffix=f'_s{i}')\n",
    "    return df"
   ]
  },
  {
   "cell_type": "code",
   "execution_count": 3,
   "id": "73e9f4ed-c1d6-49e7-af81-0629705c9338",
   "metadata": {},
   "outputs": [],
   "source": [
    "datadir = '/home/service/ipv6-measurements-mkoch/backup_2024/sra-analysis/data/tuminput_sra_checks'"
   ]
  },
  {
   "cell_type": "code",
   "execution_count": 4,
   "id": "00e78f6b-ff15-429c-ba53-d5395d5708d2",
   "metadata": {},
   "outputs": [],
   "source": [
    "files = glob.glob(f'{datadir}/zmap_icmp_tum_64_sra_*.log.zst')"
   ]
  },
  {
   "cell_type": "code",
   "execution_count": 5,
   "id": "9062304a-c3cb-4d98-adfe-1e0527b0015d",
   "metadata": {},
   "outputs": [
    {
     "data": {
      "text/plain": [
       "['/home/service/ipv6-measurements-mkoch/backup_2024/sra-analysis/data/tuminput_sra_checks/zmap_icmp_tum_64_sra_1731694726.log.zst',\n",
       " '/home/service/ipv6-measurements-mkoch/backup_2024/sra-analysis/data/tuminput_sra_checks/zmap_icmp_tum_64_sra_1731701324.log.zst',\n",
       " '/home/service/ipv6-measurements-mkoch/backup_2024/sra-analysis/data/tuminput_sra_checks/zmap_icmp_tum_64_sra_1731710705.log.zst',\n",
       " '/home/service/ipv6-measurements-mkoch/backup_2024/sra-analysis/data/tuminput_sra_checks/zmap_icmp_tum_64_sra_1731755399.log.zst',\n",
       " '/home/service/ipv6-measurements-mkoch/backup_2024/sra-analysis/data/tuminput_sra_checks/zmap_icmp_tum_64_sra_1731762017.log.zst',\n",
       " '/home/service/ipv6-measurements-mkoch/backup_2024/sra-analysis/data/tuminput_sra_checks/zmap_icmp_tum_64_sra_1731765056.log.zst']"
      ]
     },
     "execution_count": 5,
     "metadata": {},
     "output_type": "execute_result"
    }
   ],
   "source": [
    "files"
   ]
  },
  {
   "cell_type": "code",
   "execution_count": 6,
   "id": "a130ed03-f8d9-4d93-83e8-3dde0835c487",
   "metadata": {},
   "outputs": [
    {
     "name": "stderr",
     "output_type": "stream",
     "text": [
      "100%|███████████████████████████████████████████████████████████████████████████████████████████████████████████████████████████████████████████████████████████████████████████████████████████████████████████████████████████| 6/6 [05:09<00:00, 51.66s/it]\n"
     ]
    }
   ],
   "source": [
    "df = load_and_join(files)"
   ]
  },
  {
   "cell_type": "code",
   "execution_count": 7,
   "id": "28ef3fd7-7851-41ec-b2f4-f6c48c11384a",
   "metadata": {},
   "outputs": [],
   "source": [
    "df.write_parquet(f'{PROCESSED_DATA_DIR}/sra_tum_scans_stability.parquet')"
   ]
  },
  {
   "cell_type": "code",
   "execution_count": 8,
   "id": "ab8b7302-3bdc-4171-9317-793f91b23c45",
   "metadata": {},
   "outputs": [],
   "source": [
    "files = glob.glob(f'{datadir}/zmap_icmp_tum_64_rand_*.log.zst')"
   ]
  },
  {
   "cell_type": "code",
   "execution_count": 9,
   "id": "e485b57b-23b9-478c-ae39-39f802ab4d0e",
   "metadata": {},
   "outputs": [
    {
     "data": {
      "text/plain": [
       "['/home/service/ipv6-measurements-mkoch/backup_2024/sra-analysis/data/tuminput_sra_checks/zmap_icmp_tum_64_rand_1731697959.log.zst',\n",
       " '/home/service/ipv6-measurements-mkoch/backup_2024/sra-analysis/data/tuminput_sra_checks/zmap_icmp_tum_64_rand_1731704447.log.zst',\n",
       " '/home/service/ipv6-measurements-mkoch/backup_2024/sra-analysis/data/tuminput_sra_checks/zmap_icmp_tum_64_rand_1731713777.log.zst',\n",
       " '/home/service/ipv6-measurements-mkoch/backup_2024/sra-analysis/data/tuminput_sra_checks/zmap_icmp_tum_64_rand_1731758491.log.zst',\n",
       " '/home/service/ipv6-measurements-mkoch/backup_2024/sra-analysis/data/tuminput_sra_checks/zmap_icmp_tum_64_rand_1731768180.log.zst',\n",
       " '/home/service/ipv6-measurements-mkoch/backup_2024/sra-analysis/data/tuminput_sra_checks/zmap_icmp_tum_64_rand_1731771420.log.zst']"
      ]
     },
     "execution_count": 9,
     "metadata": {},
     "output_type": "execute_result"
    }
   ],
   "source": [
    "files"
   ]
  },
  {
   "cell_type": "code",
   "execution_count": 10,
   "id": "8efce78b-ffcc-4b93-a727-88074839cd7d",
   "metadata": {},
   "outputs": [
    {
     "name": "stderr",
     "output_type": "stream",
     "text": [
      "100%|███████████████████████████████████████████████████████████████████████████████████████████████████████████████████████████████████████████████████████████████████████████████████████████████████████████████████████████| 6/6 [07:49<00:00, 78.17s/it]\n"
     ]
    }
   ],
   "source": [
    "df = load_and_join(files)"
   ]
  },
  {
   "cell_type": "code",
   "execution_count": 11,
   "id": "c937b075-e156-4683-a373-9c6a0b0885fe",
   "metadata": {},
   "outputs": [],
   "source": [
    "df.write_parquet(f'{PROCESSED_DATA_DIR}/rand_tum_scans_stability.parquet')"
   ]
  },
  {
   "cell_type": "code",
   "execution_count": null,
   "id": "0a3735ca-0eb8-4ec4-963a-9145b1b3db1b",
   "metadata": {},
   "outputs": [],
   "source": []
  }
 ],
 "metadata": {
  "kernelspec": {
   "display_name": "Python 3 (ipykernel)",
   "language": "python",
   "name": "python3"
  },
  "language_info": {
   "codemirror_mode": {
    "name": "ipython",
    "version": 3
   },
   "file_extension": ".py",
   "mimetype": "text/x-python",
   "name": "python",
   "nbconvert_exporter": "python",
   "pygments_lexer": "ipython3",
   "version": "3.12.11"
  }
 },
 "nbformat": 4,
 "nbformat_minor": 5
}
